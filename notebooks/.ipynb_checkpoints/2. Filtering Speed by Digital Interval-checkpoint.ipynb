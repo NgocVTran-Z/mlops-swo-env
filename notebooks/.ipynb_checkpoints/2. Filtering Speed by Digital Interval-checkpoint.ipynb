{
 "cells": [
  {
   "cell_type": "code",
   "execution_count": 22,
   "id": "299936f0-831c-413a-ab1d-90fee8a24222",
   "metadata": {},
   "outputs": [],
   "source": [
    "import pandas as pd\n",
    "import sys\n",
    "import gc\n",
    "\n",
    "import os\n",
    "sys.path.append(os.path.abspath(\"..\"))"
   ]
  },
  {
   "cell_type": "code",
   "execution_count": 23,
   "id": "5b9dc912-86ee-40ad-a143-5314c674980e",
   "metadata": {},
   "outputs": [],
   "source": [
    "import s3fs\n",
    "from typing import List\n",
    "\n",
    "from utils.common import *\n",
    "from config.params import *\n",
    "from preprocessing.transform import transform, tracking_transforming_input, filtering_speed_by_digital\n",
    "from preprocessing.intervals import get_interval_from_transformed, filter_by_intervals"
   ]
  },
  {
   "cell_type": "code",
   "execution_count": 24,
   "id": "398bdee4-3cbc-4f57-8f54-a3a1b71d8925",
   "metadata": {},
   "outputs": [],
   "source": [
    "from pyarrow.dataset import field"
   ]
  },
  {
   "cell_type": "code",
   "execution_count": 25,
   "id": "8a8ca723-2a3f-4767-acfa-82e3a51188a6",
   "metadata": {},
   "outputs": [],
   "source": [
    "import sagemaker\n",
    "from sagemaker import get_execution_role"
   ]
  },
  {
   "cell_type": "code",
   "execution_count": 26,
   "id": "2f72ddce-419c-4ba8-a024-0939e88312c8",
   "metadata": {},
   "outputs": [],
   "source": [
    "import mlflow"
   ]
  },
  {
   "cell_type": "code",
   "execution_count": 27,
   "id": "d7ca4c97-dea1-41b3-a122-a21c4d0f28b2",
   "metadata": {},
   "outputs": [],
   "source": [
    "import matplotlib.pyplot as plt\n",
    "import seaborn as sns"
   ]
  },
  {
   "cell_type": "code",
   "execution_count": 28,
   "id": "8c878276-f2bf-4634-bed6-d37ba83e89dd",
   "metadata": {},
   "outputs": [],
   "source": [
    "# Define session, role, and region so we can\n",
    "# perform any SageMaker tasks we need\n",
    "sagemaker_session = sagemaker.Session()\n",
    "role = get_execution_role()\n",
    "region = sagemaker_session.boto_region_name"
   ]
  },
  {
   "cell_type": "code",
   "execution_count": 29,
   "id": "5716dc67-c7da-410a-b8b7-c1ca5cb502cc",
   "metadata": {},
   "outputs": [],
   "source": [
    "# Provide the ARN of the tracking server that you want to track your training job with\n",
    "tracking_server_arn = 'arn:aws:sagemaker:ap-southeast-1:771463264346:mlflow-tracking-server/mlflow-RCF-server'"
   ]
  },
  {
   "cell_type": "code",
   "execution_count": 30,
   "id": "9ab6c2aa-c244-473c-9052-b1f655b4f358",
   "metadata": {},
   "outputs": [],
   "source": [
    "mlflow.set_tracking_uri(tracking_server_arn)"
   ]
  },
  {
   "cell_type": "code",
   "execution_count": null,
   "id": "2b8acf38-7fcb-4943-b794-77dabd584aca",
   "metadata": {},
   "outputs": [],
   "source": []
  },
  {
   "cell_type": "code",
   "execution_count": 31,
   "id": "604849c6-aa3e-401f-9aa0-dcbe4b8dae75",
   "metadata": {},
   "outputs": [
    {
     "data": {
      "text/plain": [
       "['DWA', 'DWB', 'DWC']"
      ]
     },
     "execution_count": 31,
     "metadata": {},
     "output_type": "execute_result"
    }
   ],
   "source": [
    "motors = [\n",
    "    \"DWA\",\n",
    "    \"DWB\",\n",
    "    \"DWC\",\n",
    "    # \"TD\"\n",
    "]    \n",
    "motors"
   ]
  },
  {
   "cell_type": "code",
   "execution_count": 32,
   "id": "fba5c7f2-6956-4c27-9d86-ee3cbd581c06",
   "metadata": {
    "scrolled": true
   },
   "outputs": [
    {
     "data": {
      "text/plain": [
       "['2024-04',\n",
       " '2024-05',\n",
       " '2024-06',\n",
       " '2024-07',\n",
       " '2024-08',\n",
       " '2024-09',\n",
       " '2024-10',\n",
       " '2024-11',\n",
       " '2024-12',\n",
       " '2025-01',\n",
       " '2025-02',\n",
       " '2025-03']"
      ]
     },
     "execution_count": 32,
     "metadata": {},
     "output_type": "execute_result"
    }
   ],
   "source": [
    "date_folders"
   ]
  },
  {
   "cell_type": "code",
   "execution_count": 33,
   "id": "9fd74007-327c-4d09-822d-3a176771eb9b",
   "metadata": {},
   "outputs": [],
   "source": [
    "date_folders = [\n",
    "    \"2024-04\",\n",
    "    \"2024-05\",\n",
    "    \"2024-06\",\n",
    "    \"2024-07\",\n",
    "    \"2024-08\",\n",
    "    \"2024-09\",\n",
    "    \"2024-10\",\n",
    "    \"2024-11\",\n",
    "    \"2024-12\",\n",
    "    \"2025-01\",\n",
    "    \"2025-02\",\n",
    "    \"2025-03\"\n",
    "]"
   ]
  },
  {
   "cell_type": "code",
   "execution_count": null,
   "id": "03612b87-50b0-4805-a070-15104d9a5d62",
   "metadata": {},
   "outputs": [],
   "source": []
  },
  {
   "cell_type": "code",
   "execution_count": 34,
   "id": "eb7fb4bd-8515-47b7-9aad-77f6a8ead536",
   "metadata": {
    "scrolled": true
   },
   "outputs": [
    {
     "name": "stdout",
     "output_type": "stream",
     "text": [
      "DWA\n",
      "2024-04\n",
      "This-> s3://s3-assetcare-bucket/features_store/transformed/2025-03/DWA_ACTUAL_MOTOR_SPEED_20250503_163629.parquet\n",
      "(80749, 4)\n",
      "✅ Saved to s3://s3-assetcare-bucket/features_store/filtered/2024-04/DWA_ACTUAL_MOTOR_SPEED_20250506_024709.parquet\n",
      "✅ Phase 2 tracking complete for DWA_ACTUAL_MOTOR_SPEED\n",
      "🏃 View run Filtering_DWA_ACTUAL_MOTOR_SPEED_by_DWA_INVERTER_RUNNING_2024-04 at: https://ap-southeast-1.experiments.sagemaker.aws/#/experiments/18/runs/9e14d300d9c340eea13d20f41437da90\n",
      "🧪 View experiment at: https://ap-southeast-1.experiments.sagemaker.aws/#/experiments/18\n",
      "2024-05\n",
      "This-> s3://s3-assetcare-bucket/features_store/transformed/2025-03/DWA_ACTUAL_MOTOR_SPEED_20250503_163629.parquet\n",
      "(80749, 4)\n",
      "✅ Saved to s3://s3-assetcare-bucket/features_store/filtered/2024-05/DWA_ACTUAL_MOTOR_SPEED_20250506_024713.parquet\n",
      "✅ Phase 2 tracking complete for DWA_ACTUAL_MOTOR_SPEED\n",
      "🏃 View run Filtering_DWA_ACTUAL_MOTOR_SPEED_by_DWA_INVERTER_RUNNING_2024-05 at: https://ap-southeast-1.experiments.sagemaker.aws/#/experiments/18/runs/e34c3477027241be84ae38770b32501d\n",
      "🧪 View experiment at: https://ap-southeast-1.experiments.sagemaker.aws/#/experiments/18\n",
      "2024-06\n",
      "This-> s3://s3-assetcare-bucket/features_store/transformed/2025-03/DWA_ACTUAL_MOTOR_SPEED_20250503_163629.parquet\n",
      "(80749, 4)\n",
      "✅ Saved to s3://s3-assetcare-bucket/features_store/filtered/2024-06/DWA_ACTUAL_MOTOR_SPEED_20250506_024717.parquet\n",
      "✅ Phase 2 tracking complete for DWA_ACTUAL_MOTOR_SPEED\n",
      "🏃 View run Filtering_DWA_ACTUAL_MOTOR_SPEED_by_DWA_INVERTER_RUNNING_2024-06 at: https://ap-southeast-1.experiments.sagemaker.aws/#/experiments/18/runs/99589e43532546d6aa11e4c2bca05052\n",
      "🧪 View experiment at: https://ap-southeast-1.experiments.sagemaker.aws/#/experiments/18\n",
      "2024-07\n",
      "This-> s3://s3-assetcare-bucket/features_store/transformed/2025-03/DWA_ACTUAL_MOTOR_SPEED_20250503_163629.parquet\n",
      "(80749, 4)\n",
      "✅ Saved to s3://s3-assetcare-bucket/features_store/filtered/2024-07/DWA_ACTUAL_MOTOR_SPEED_20250506_024722.parquet\n",
      "✅ Phase 2 tracking complete for DWA_ACTUAL_MOTOR_SPEED\n",
      "🏃 View run Filtering_DWA_ACTUAL_MOTOR_SPEED_by_DWA_INVERTER_RUNNING_2024-07 at: https://ap-southeast-1.experiments.sagemaker.aws/#/experiments/18/runs/1004c28b33294e729177b0ea7ce5597c\n",
      "🧪 View experiment at: https://ap-southeast-1.experiments.sagemaker.aws/#/experiments/18\n",
      "2024-08\n",
      "This-> s3://s3-assetcare-bucket/features_store/transformed/2025-03/DWA_ACTUAL_MOTOR_SPEED_20250503_163629.parquet\n",
      "(80749, 4)\n",
      "✅ Saved to s3://s3-assetcare-bucket/features_store/filtered/2024-08/DWA_ACTUAL_MOTOR_SPEED_20250506_024726.parquet\n",
      "✅ Phase 2 tracking complete for DWA_ACTUAL_MOTOR_SPEED\n",
      "🏃 View run Filtering_DWA_ACTUAL_MOTOR_SPEED_by_DWA_INVERTER_RUNNING_2024-08 at: https://ap-southeast-1.experiments.sagemaker.aws/#/experiments/18/runs/4d254c2d3ad244f89e458467206c74b3\n",
      "🧪 View experiment at: https://ap-southeast-1.experiments.sagemaker.aws/#/experiments/18\n",
      "2024-09\n",
      "This-> s3://s3-assetcare-bucket/features_store/transformed/2025-03/DWA_ACTUAL_MOTOR_SPEED_20250503_163629.parquet\n",
      "(80749, 4)\n",
      "✅ Saved to s3://s3-assetcare-bucket/features_store/filtered/2024-09/DWA_ACTUAL_MOTOR_SPEED_20250506_024730.parquet\n",
      "✅ Phase 2 tracking complete for DWA_ACTUAL_MOTOR_SPEED\n",
      "🏃 View run Filtering_DWA_ACTUAL_MOTOR_SPEED_by_DWA_INVERTER_RUNNING_2024-09 at: https://ap-southeast-1.experiments.sagemaker.aws/#/experiments/18/runs/e3ff266386d74abca9b0dfad1ae0d706\n",
      "🧪 View experiment at: https://ap-southeast-1.experiments.sagemaker.aws/#/experiments/18\n",
      "2024-10\n",
      "This-> s3://s3-assetcare-bucket/features_store/transformed/2025-03/DWA_ACTUAL_MOTOR_SPEED_20250503_163629.parquet\n",
      "(80749, 4)\n",
      "✅ Saved to s3://s3-assetcare-bucket/features_store/filtered/2024-10/DWA_ACTUAL_MOTOR_SPEED_20250506_024734.parquet\n",
      "✅ Phase 2 tracking complete for DWA_ACTUAL_MOTOR_SPEED\n",
      "🏃 View run Filtering_DWA_ACTUAL_MOTOR_SPEED_by_DWA_INVERTER_RUNNING_2024-10 at: https://ap-southeast-1.experiments.sagemaker.aws/#/experiments/18/runs/3823b0e5918a49a382007f8c7419e235\n",
      "🧪 View experiment at: https://ap-southeast-1.experiments.sagemaker.aws/#/experiments/18\n",
      "2024-11\n",
      "This-> s3://s3-assetcare-bucket/features_store/transformed/2025-03/DWA_ACTUAL_MOTOR_SPEED_20250503_163629.parquet\n",
      "(80749, 4)\n",
      "✅ Saved to s3://s3-assetcare-bucket/features_store/filtered/2024-11/DWA_ACTUAL_MOTOR_SPEED_20250506_024738.parquet\n",
      "✅ Phase 2 tracking complete for DWA_ACTUAL_MOTOR_SPEED\n",
      "🏃 View run Filtering_DWA_ACTUAL_MOTOR_SPEED_by_DWA_INVERTER_RUNNING_2024-11 at: https://ap-southeast-1.experiments.sagemaker.aws/#/experiments/18/runs/592f777251634d2fb29be21bcd568ddc\n",
      "🧪 View experiment at: https://ap-southeast-1.experiments.sagemaker.aws/#/experiments/18\n",
      "2024-12\n",
      "This-> s3://s3-assetcare-bucket/features_store/transformed/2025-03/DWA_ACTUAL_MOTOR_SPEED_20250503_163629.parquet\n",
      "(80749, 4)\n",
      "✅ Saved to s3://s3-assetcare-bucket/features_store/filtered/2024-12/DWA_ACTUAL_MOTOR_SPEED_20250506_024742.parquet\n",
      "✅ Phase 2 tracking complete for DWA_ACTUAL_MOTOR_SPEED\n",
      "🏃 View run Filtering_DWA_ACTUAL_MOTOR_SPEED_by_DWA_INVERTER_RUNNING_2024-12 at: https://ap-southeast-1.experiments.sagemaker.aws/#/experiments/18/runs/bca07f1666ba4052acc73d5bea828b8e\n",
      "🧪 View experiment at: https://ap-southeast-1.experiments.sagemaker.aws/#/experiments/18\n",
      "2025-01\n",
      "This-> s3://s3-assetcare-bucket/features_store/transformed/2025-03/DWA_ACTUAL_MOTOR_SPEED_20250503_163629.parquet\n",
      "(80749, 4)\n",
      "✅ Saved to s3://s3-assetcare-bucket/features_store/filtered/2025-01/DWA_ACTUAL_MOTOR_SPEED_20250506_024746.parquet\n",
      "✅ Phase 2 tracking complete for DWA_ACTUAL_MOTOR_SPEED\n",
      "🏃 View run Filtering_DWA_ACTUAL_MOTOR_SPEED_by_DWA_INVERTER_RUNNING_2025-01 at: https://ap-southeast-1.experiments.sagemaker.aws/#/experiments/18/runs/fdd964daf2874f34aff80b21e30857fe\n",
      "🧪 View experiment at: https://ap-southeast-1.experiments.sagemaker.aws/#/experiments/18\n",
      "2025-02\n",
      "This-> s3://s3-assetcare-bucket/features_store/transformed/2025-03/DWA_ACTUAL_MOTOR_SPEED_20250503_163629.parquet\n",
      "(80749, 4)\n",
      "✅ Saved to s3://s3-assetcare-bucket/features_store/filtered/2025-02/DWA_ACTUAL_MOTOR_SPEED_20250506_024750.parquet\n",
      "✅ Phase 2 tracking complete for DWA_ACTUAL_MOTOR_SPEED\n",
      "🏃 View run Filtering_DWA_ACTUAL_MOTOR_SPEED_by_DWA_INVERTER_RUNNING_2025-02 at: https://ap-southeast-1.experiments.sagemaker.aws/#/experiments/18/runs/3430c118821c4bc2b9038131a67cc189\n",
      "🧪 View experiment at: https://ap-southeast-1.experiments.sagemaker.aws/#/experiments/18\n",
      "2025-03\n",
      "This-> s3://s3-assetcare-bucket/features_store/transformed/2025-03/DWA_ACTUAL_MOTOR_SPEED_20250503_163629.parquet\n",
      "(80749, 4)\n",
      "✅ Saved to s3://s3-assetcare-bucket/features_store/filtered/2025-03/DWA_ACTUAL_MOTOR_SPEED_20250506_024755.parquet\n",
      "✅ Phase 2 tracking complete for DWA_ACTUAL_MOTOR_SPEED\n",
      "🏃 View run Filtering_DWA_ACTUAL_MOTOR_SPEED_by_DWA_INVERTER_RUNNING_2025-03 at: https://ap-southeast-1.experiments.sagemaker.aws/#/experiments/18/runs/7accfcba090d4a5298fe24f251727cc2\n",
      "🧪 View experiment at: https://ap-southeast-1.experiments.sagemaker.aws/#/experiments/18\n",
      "DWB\n",
      "2024-04\n",
      "This-> s3://s3-assetcare-bucket/features_store/transformed/2025-03/DWB_ACTUAL_MOTOR_SPEED_20250503_163848.parquet\n",
      "(235395, 4)\n",
      "✅ Saved to s3://s3-assetcare-bucket/features_store/filtered/2024-04/DWB_ACTUAL_MOTOR_SPEED_20250506_024759.parquet\n",
      "✅ Phase 2 tracking complete for DWB_ACTUAL_MOTOR_SPEED\n",
      "🏃 View run Filtering_DWB_ACTUAL_MOTOR_SPEED_by_DWB_INVERTER_RUNNING_2024-04 at: https://ap-southeast-1.experiments.sagemaker.aws/#/experiments/18/runs/7e4b82d048124339bc7d79160addc122\n",
      "🧪 View experiment at: https://ap-southeast-1.experiments.sagemaker.aws/#/experiments/18\n",
      "2024-05\n",
      "This-> s3://s3-assetcare-bucket/features_store/transformed/2025-03/DWB_ACTUAL_MOTOR_SPEED_20250503_163848.parquet\n",
      "(235395, 4)\n",
      "✅ Saved to s3://s3-assetcare-bucket/features_store/filtered/2024-05/DWB_ACTUAL_MOTOR_SPEED_20250506_024804.parquet\n",
      "✅ Phase 2 tracking complete for DWB_ACTUAL_MOTOR_SPEED\n",
      "🏃 View run Filtering_DWB_ACTUAL_MOTOR_SPEED_by_DWB_INVERTER_RUNNING_2024-05 at: https://ap-southeast-1.experiments.sagemaker.aws/#/experiments/18/runs/d80b184a73f141a29d22347d27bcf84d\n",
      "🧪 View experiment at: https://ap-southeast-1.experiments.sagemaker.aws/#/experiments/18\n",
      "2024-06\n",
      "This-> s3://s3-assetcare-bucket/features_store/transformed/2025-03/DWB_ACTUAL_MOTOR_SPEED_20250503_163848.parquet\n",
      "(235395, 4)\n",
      "✅ Saved to s3://s3-assetcare-bucket/features_store/filtered/2024-06/DWB_ACTUAL_MOTOR_SPEED_20250506_024809.parquet\n",
      "✅ Phase 2 tracking complete for DWB_ACTUAL_MOTOR_SPEED\n",
      "🏃 View run Filtering_DWB_ACTUAL_MOTOR_SPEED_by_DWB_INVERTER_RUNNING_2024-06 at: https://ap-southeast-1.experiments.sagemaker.aws/#/experiments/18/runs/2b94768be37a4199ba08f21e5f678ede\n",
      "🧪 View experiment at: https://ap-southeast-1.experiments.sagemaker.aws/#/experiments/18\n",
      "2024-07\n",
      "This-> s3://s3-assetcare-bucket/features_store/transformed/2025-03/DWB_ACTUAL_MOTOR_SPEED_20250503_163848.parquet\n",
      "(235395, 4)\n",
      "✅ Saved to s3://s3-assetcare-bucket/features_store/filtered/2024-07/DWB_ACTUAL_MOTOR_SPEED_20250506_024815.parquet\n",
      "✅ Phase 2 tracking complete for DWB_ACTUAL_MOTOR_SPEED\n",
      "🏃 View run Filtering_DWB_ACTUAL_MOTOR_SPEED_by_DWB_INVERTER_RUNNING_2024-07 at: https://ap-southeast-1.experiments.sagemaker.aws/#/experiments/18/runs/968ad600d966435095a357b6f6c6b226\n",
      "🧪 View experiment at: https://ap-southeast-1.experiments.sagemaker.aws/#/experiments/18\n",
      "2024-08\n",
      "This-> s3://s3-assetcare-bucket/features_store/transformed/2025-03/DWB_ACTUAL_MOTOR_SPEED_20250503_163848.parquet\n",
      "(235395, 4)\n",
      "✅ Saved to s3://s3-assetcare-bucket/features_store/filtered/2024-08/DWB_ACTUAL_MOTOR_SPEED_20250506_024820.parquet\n",
      "✅ Phase 2 tracking complete for DWB_ACTUAL_MOTOR_SPEED\n",
      "🏃 View run Filtering_DWB_ACTUAL_MOTOR_SPEED_by_DWB_INVERTER_RUNNING_2024-08 at: https://ap-southeast-1.experiments.sagemaker.aws/#/experiments/18/runs/1d4c341eccda4a9ebfb919788e6074ec\n",
      "🧪 View experiment at: https://ap-southeast-1.experiments.sagemaker.aws/#/experiments/18\n",
      "2024-09\n",
      "This-> s3://s3-assetcare-bucket/features_store/transformed/2025-03/DWB_ACTUAL_MOTOR_SPEED_20250503_163848.parquet\n",
      "(235395, 4)\n",
      "✅ Saved to s3://s3-assetcare-bucket/features_store/filtered/2024-09/DWB_ACTUAL_MOTOR_SPEED_20250506_024825.parquet\n",
      "✅ Phase 2 tracking complete for DWB_ACTUAL_MOTOR_SPEED\n",
      "🏃 View run Filtering_DWB_ACTUAL_MOTOR_SPEED_by_DWB_INVERTER_RUNNING_2024-09 at: https://ap-southeast-1.experiments.sagemaker.aws/#/experiments/18/runs/699225011f724e19b8af91b71ba67a6e\n",
      "🧪 View experiment at: https://ap-southeast-1.experiments.sagemaker.aws/#/experiments/18\n",
      "2024-10\n",
      "This-> s3://s3-assetcare-bucket/features_store/transformed/2025-03/DWB_ACTUAL_MOTOR_SPEED_20250503_163848.parquet\n",
      "(235395, 4)\n",
      "✅ Saved to s3://s3-assetcare-bucket/features_store/filtered/2024-10/DWB_ACTUAL_MOTOR_SPEED_20250506_024830.parquet\n",
      "✅ Phase 2 tracking complete for DWB_ACTUAL_MOTOR_SPEED\n",
      "🏃 View run Filtering_DWB_ACTUAL_MOTOR_SPEED_by_DWB_INVERTER_RUNNING_2024-10 at: https://ap-southeast-1.experiments.sagemaker.aws/#/experiments/18/runs/8adb2048170d4aa28cb6351c42becf09\n",
      "🧪 View experiment at: https://ap-southeast-1.experiments.sagemaker.aws/#/experiments/18\n",
      "2024-11\n",
      "This-> s3://s3-assetcare-bucket/features_store/transformed/2025-03/DWB_ACTUAL_MOTOR_SPEED_20250503_163848.parquet\n",
      "(235395, 4)\n",
      "✅ Saved to s3://s3-assetcare-bucket/features_store/filtered/2024-11/DWB_ACTUAL_MOTOR_SPEED_20250506_024835.parquet\n",
      "✅ Phase 2 tracking complete for DWB_ACTUAL_MOTOR_SPEED\n",
      "🏃 View run Filtering_DWB_ACTUAL_MOTOR_SPEED_by_DWB_INVERTER_RUNNING_2024-11 at: https://ap-southeast-1.experiments.sagemaker.aws/#/experiments/18/runs/35dcdaa3a41f484b9a54f5e55da19502\n",
      "🧪 View experiment at: https://ap-southeast-1.experiments.sagemaker.aws/#/experiments/18\n",
      "2024-12\n",
      "This-> s3://s3-assetcare-bucket/features_store/transformed/2025-03/DWB_ACTUAL_MOTOR_SPEED_20250503_163848.parquet\n",
      "(235395, 4)\n",
      "✅ Saved to s3://s3-assetcare-bucket/features_store/filtered/2024-12/DWB_ACTUAL_MOTOR_SPEED_20250506_024840.parquet\n",
      "✅ Phase 2 tracking complete for DWB_ACTUAL_MOTOR_SPEED\n",
      "🏃 View run Filtering_DWB_ACTUAL_MOTOR_SPEED_by_DWB_INVERTER_RUNNING_2024-12 at: https://ap-southeast-1.experiments.sagemaker.aws/#/experiments/18/runs/051460d965c346b0952fe79871b8fa24\n",
      "🧪 View experiment at: https://ap-southeast-1.experiments.sagemaker.aws/#/experiments/18\n",
      "2025-01\n",
      "This-> s3://s3-assetcare-bucket/features_store/transformed/2025-03/DWB_ACTUAL_MOTOR_SPEED_20250503_163848.parquet\n",
      "(235395, 4)\n",
      "✅ Saved to s3://s3-assetcare-bucket/features_store/filtered/2025-01/DWB_ACTUAL_MOTOR_SPEED_20250506_024845.parquet\n",
      "✅ Phase 2 tracking complete for DWB_ACTUAL_MOTOR_SPEED\n",
      "🏃 View run Filtering_DWB_ACTUAL_MOTOR_SPEED_by_DWB_INVERTER_RUNNING_2025-01 at: https://ap-southeast-1.experiments.sagemaker.aws/#/experiments/18/runs/c952750f0ca547ae91f8d60abc708c9c\n",
      "🧪 View experiment at: https://ap-southeast-1.experiments.sagemaker.aws/#/experiments/18\n",
      "2025-02\n",
      "This-> s3://s3-assetcare-bucket/features_store/transformed/2025-03/DWB_ACTUAL_MOTOR_SPEED_20250503_163848.parquet\n",
      "(235395, 4)\n",
      "✅ Saved to s3://s3-assetcare-bucket/features_store/filtered/2025-02/DWB_ACTUAL_MOTOR_SPEED_20250506_024850.parquet\n",
      "✅ Phase 2 tracking complete for DWB_ACTUAL_MOTOR_SPEED\n",
      "🏃 View run Filtering_DWB_ACTUAL_MOTOR_SPEED_by_DWB_INVERTER_RUNNING_2025-02 at: https://ap-southeast-1.experiments.sagemaker.aws/#/experiments/18/runs/214a9d2e0e5f420f86348f72f1f646f2\n",
      "🧪 View experiment at: https://ap-southeast-1.experiments.sagemaker.aws/#/experiments/18\n",
      "2025-03\n",
      "This-> s3://s3-assetcare-bucket/features_store/transformed/2025-03/DWB_ACTUAL_MOTOR_SPEED_20250503_163848.parquet\n",
      "(235395, 4)\n",
      "✅ Saved to s3://s3-assetcare-bucket/features_store/filtered/2025-03/DWB_ACTUAL_MOTOR_SPEED_20250506_024855.parquet\n",
      "✅ Phase 2 tracking complete for DWB_ACTUAL_MOTOR_SPEED\n",
      "🏃 View run Filtering_DWB_ACTUAL_MOTOR_SPEED_by_DWB_INVERTER_RUNNING_2025-03 at: https://ap-southeast-1.experiments.sagemaker.aws/#/experiments/18/runs/4e9fccda288244d2a4d792188d011caf\n",
      "🧪 View experiment at: https://ap-southeast-1.experiments.sagemaker.aws/#/experiments/18\n",
      "DWC\n",
      "2024-04\n",
      "This-> s3://s3-assetcare-bucket/features_store/transformed/2025-03/DWC_ACTUAL_MOTOR_SPEED_20250503_164106.parquet\n",
      "(232225, 4)\n",
      "✅ Saved to s3://s3-assetcare-bucket/features_store/filtered/2024-04/DWC_ACTUAL_MOTOR_SPEED_20250506_024900.parquet\n",
      "✅ Phase 2 tracking complete for DWC_ACTUAL_MOTOR_SPEED\n",
      "🏃 View run Filtering_DWC_ACTUAL_MOTOR_SPEED_by_DWC_INVERTER_RUNNING_2024-04 at: https://ap-southeast-1.experiments.sagemaker.aws/#/experiments/18/runs/074ff45c2cb6455199d5907f21a07e26\n",
      "🧪 View experiment at: https://ap-southeast-1.experiments.sagemaker.aws/#/experiments/18\n",
      "2024-05\n",
      "This-> s3://s3-assetcare-bucket/features_store/transformed/2025-03/DWC_ACTUAL_MOTOR_SPEED_20250503_164106.parquet\n",
      "(232225, 4)\n",
      "✅ Saved to s3://s3-assetcare-bucket/features_store/filtered/2024-05/DWC_ACTUAL_MOTOR_SPEED_20250506_024906.parquet\n",
      "✅ Phase 2 tracking complete for DWC_ACTUAL_MOTOR_SPEED\n",
      "🏃 View run Filtering_DWC_ACTUAL_MOTOR_SPEED_by_DWC_INVERTER_RUNNING_2024-05 at: https://ap-southeast-1.experiments.sagemaker.aws/#/experiments/18/runs/8a43ed9e6e0d459fae7ee55e8840bd21\n",
      "🧪 View experiment at: https://ap-southeast-1.experiments.sagemaker.aws/#/experiments/18\n",
      "2024-06\n",
      "This-> s3://s3-assetcare-bucket/features_store/transformed/2025-03/DWC_ACTUAL_MOTOR_SPEED_20250503_164106.parquet\n",
      "(232225, 4)\n",
      "✅ Saved to s3://s3-assetcare-bucket/features_store/filtered/2024-06/DWC_ACTUAL_MOTOR_SPEED_20250506_024911.parquet\n",
      "✅ Phase 2 tracking complete for DWC_ACTUAL_MOTOR_SPEED\n",
      "🏃 View run Filtering_DWC_ACTUAL_MOTOR_SPEED_by_DWC_INVERTER_RUNNING_2024-06 at: https://ap-southeast-1.experiments.sagemaker.aws/#/experiments/18/runs/697462e1d22247338524e516dcfc673d\n",
      "🧪 View experiment at: https://ap-southeast-1.experiments.sagemaker.aws/#/experiments/18\n",
      "2024-07\n",
      "This-> s3://s3-assetcare-bucket/features_store/transformed/2025-03/DWC_ACTUAL_MOTOR_SPEED_20250503_164106.parquet\n",
      "(232225, 4)\n",
      "✅ Saved to s3://s3-assetcare-bucket/features_store/filtered/2024-07/DWC_ACTUAL_MOTOR_SPEED_20250506_024916.parquet\n",
      "✅ Phase 2 tracking complete for DWC_ACTUAL_MOTOR_SPEED\n",
      "🏃 View run Filtering_DWC_ACTUAL_MOTOR_SPEED_by_DWC_INVERTER_RUNNING_2024-07 at: https://ap-southeast-1.experiments.sagemaker.aws/#/experiments/18/runs/3e7eabf0bbbe4df99a9ff9972812615d\n",
      "🧪 View experiment at: https://ap-southeast-1.experiments.sagemaker.aws/#/experiments/18\n",
      "2024-08\n",
      "This-> s3://s3-assetcare-bucket/features_store/transformed/2025-03/DWC_ACTUAL_MOTOR_SPEED_20250503_164106.parquet\n",
      "(232225, 4)\n",
      "✅ Saved to s3://s3-assetcare-bucket/features_store/filtered/2024-08/DWC_ACTUAL_MOTOR_SPEED_20250506_024921.parquet\n",
      "✅ Phase 2 tracking complete for DWC_ACTUAL_MOTOR_SPEED\n",
      "🏃 View run Filtering_DWC_ACTUAL_MOTOR_SPEED_by_DWC_INVERTER_RUNNING_2024-08 at: https://ap-southeast-1.experiments.sagemaker.aws/#/experiments/18/runs/034ce1d418894e1fb3817aaad62e1016\n",
      "🧪 View experiment at: https://ap-southeast-1.experiments.sagemaker.aws/#/experiments/18\n",
      "2024-09\n",
      "This-> s3://s3-assetcare-bucket/features_store/transformed/2025-03/DWC_ACTUAL_MOTOR_SPEED_20250503_164106.parquet\n",
      "(232225, 4)\n",
      "✅ Saved to s3://s3-assetcare-bucket/features_store/filtered/2024-09/DWC_ACTUAL_MOTOR_SPEED_20250506_024926.parquet\n",
      "✅ Phase 2 tracking complete for DWC_ACTUAL_MOTOR_SPEED\n",
      "🏃 View run Filtering_DWC_ACTUAL_MOTOR_SPEED_by_DWC_INVERTER_RUNNING_2024-09 at: https://ap-southeast-1.experiments.sagemaker.aws/#/experiments/18/runs/56523d528e064c8799c3b56426f56a3b\n",
      "🧪 View experiment at: https://ap-southeast-1.experiments.sagemaker.aws/#/experiments/18\n",
      "2024-10\n",
      "This-> s3://s3-assetcare-bucket/features_store/transformed/2025-03/DWC_ACTUAL_MOTOR_SPEED_20250503_164106.parquet\n",
      "(232225, 4)\n",
      "✅ Saved to s3://s3-assetcare-bucket/features_store/filtered/2024-10/DWC_ACTUAL_MOTOR_SPEED_20250506_024931.parquet\n",
      "✅ Phase 2 tracking complete for DWC_ACTUAL_MOTOR_SPEED\n",
      "🏃 View run Filtering_DWC_ACTUAL_MOTOR_SPEED_by_DWC_INVERTER_RUNNING_2024-10 at: https://ap-southeast-1.experiments.sagemaker.aws/#/experiments/18/runs/e7c9133cc3594482b55feace0b34d1c7\n",
      "🧪 View experiment at: https://ap-southeast-1.experiments.sagemaker.aws/#/experiments/18\n",
      "2024-11\n",
      "This-> s3://s3-assetcare-bucket/features_store/transformed/2025-03/DWC_ACTUAL_MOTOR_SPEED_20250503_164106.parquet\n",
      "(232225, 4)\n",
      "✅ Saved to s3://s3-assetcare-bucket/features_store/filtered/2024-11/DWC_ACTUAL_MOTOR_SPEED_20250506_024936.parquet\n",
      "✅ Phase 2 tracking complete for DWC_ACTUAL_MOTOR_SPEED\n",
      "🏃 View run Filtering_DWC_ACTUAL_MOTOR_SPEED_by_DWC_INVERTER_RUNNING_2024-11 at: https://ap-southeast-1.experiments.sagemaker.aws/#/experiments/18/runs/8a34e50594944bbdbc0bf760a30a8492\n",
      "🧪 View experiment at: https://ap-southeast-1.experiments.sagemaker.aws/#/experiments/18\n",
      "2024-12\n",
      "This-> s3://s3-assetcare-bucket/features_store/transformed/2025-03/DWC_ACTUAL_MOTOR_SPEED_20250503_164106.parquet\n",
      "(232225, 4)\n",
      "✅ Saved to s3://s3-assetcare-bucket/features_store/filtered/2024-12/DWC_ACTUAL_MOTOR_SPEED_20250506_024941.parquet\n",
      "✅ Phase 2 tracking complete for DWC_ACTUAL_MOTOR_SPEED\n",
      "🏃 View run Filtering_DWC_ACTUAL_MOTOR_SPEED_by_DWC_INVERTER_RUNNING_2024-12 at: https://ap-southeast-1.experiments.sagemaker.aws/#/experiments/18/runs/6be0db13d6214bccaed336000a3883a4\n",
      "🧪 View experiment at: https://ap-southeast-1.experiments.sagemaker.aws/#/experiments/18\n",
      "2025-01\n",
      "This-> s3://s3-assetcare-bucket/features_store/transformed/2025-03/DWC_ACTUAL_MOTOR_SPEED_20250503_164106.parquet\n",
      "(232225, 4)\n",
      "✅ Saved to s3://s3-assetcare-bucket/features_store/filtered/2025-01/DWC_ACTUAL_MOTOR_SPEED_20250506_024946.parquet\n",
      "✅ Phase 2 tracking complete for DWC_ACTUAL_MOTOR_SPEED\n",
      "🏃 View run Filtering_DWC_ACTUAL_MOTOR_SPEED_by_DWC_INVERTER_RUNNING_2025-01 at: https://ap-southeast-1.experiments.sagemaker.aws/#/experiments/18/runs/4aeb32d9627c4a47aa33bf0d27e256a6\n",
      "🧪 View experiment at: https://ap-southeast-1.experiments.sagemaker.aws/#/experiments/18\n",
      "2025-02\n",
      "This-> s3://s3-assetcare-bucket/features_store/transformed/2025-03/DWC_ACTUAL_MOTOR_SPEED_20250503_164106.parquet\n",
      "(232225, 4)\n",
      "✅ Saved to s3://s3-assetcare-bucket/features_store/filtered/2025-02/DWC_ACTUAL_MOTOR_SPEED_20250506_024951.parquet\n",
      "✅ Phase 2 tracking complete for DWC_ACTUAL_MOTOR_SPEED\n",
      "🏃 View run Filtering_DWC_ACTUAL_MOTOR_SPEED_by_DWC_INVERTER_RUNNING_2025-02 at: https://ap-southeast-1.experiments.sagemaker.aws/#/experiments/18/runs/326a85b89d7446679a7a3841d0780003\n",
      "🧪 View experiment at: https://ap-southeast-1.experiments.sagemaker.aws/#/experiments/18\n",
      "2025-03\n",
      "This-> s3://s3-assetcare-bucket/features_store/transformed/2025-03/DWC_ACTUAL_MOTOR_SPEED_20250503_164106.parquet\n",
      "(232225, 4)\n",
      "✅ Saved to s3://s3-assetcare-bucket/features_store/filtered/2025-03/DWC_ACTUAL_MOTOR_SPEED_20250506_024956.parquet\n",
      "✅ Phase 2 tracking complete for DWC_ACTUAL_MOTOR_SPEED\n",
      "🏃 View run Filtering_DWC_ACTUAL_MOTOR_SPEED_by_DWC_INVERTER_RUNNING_2025-03 at: https://ap-southeast-1.experiments.sagemaker.aws/#/experiments/18/runs/f02a122aef2243c993dbc37e0e37c6cf\n",
      "🧪 View experiment at: https://ap-southeast-1.experiments.sagemaker.aws/#/experiments/18\n"
     ]
    }
   ],
   "source": [
    "for motor in motors:\n",
    "    print(motor)\n",
    "\n",
    "    for date_folder in date_folders:\n",
    "        print(date_folder)\n",
    "        current_time = get_current_timestamp_string()\n",
    "\n",
    "        filtering_speed_by_digital(\n",
    "            motor=motor,\n",
    "            date_folder=date_folder,\n",
    "            current_time=current_time\n",
    "        )\n",
    "        gc.collect()"
   ]
  },
  {
   "cell_type": "code",
   "execution_count": null,
   "id": "00e6e297-3919-4837-babb-43df806cb873",
   "metadata": {},
   "outputs": [],
   "source": []
  },
  {
   "cell_type": "code",
   "execution_count": null,
   "id": "277cfabd-bc2a-4d7b-a490-e56a2c450c5b",
   "metadata": {},
   "outputs": [],
   "source": []
  },
  {
   "cell_type": "code",
   "execution_count": null,
   "id": "758e667d-afbe-4994-9a08-3bb83b3f508e",
   "metadata": {},
   "outputs": [],
   "source": []
  },
  {
   "cell_type": "code",
   "execution_count": null,
   "id": "ec5258fd-b5cf-4253-bb56-1f5f9b1c8a05",
   "metadata": {},
   "outputs": [],
   "source": []
  },
  {
   "cell_type": "code",
   "execution_count": 35,
   "id": "41c3e6d0-8b93-4374-a926-8d6b6c51c4a0",
   "metadata": {},
   "outputs": [],
   "source": [
    "def get_child_run_param_by_name(\n",
    "    experiment_name: str,\n",
    "    parent_run_name: str,\n",
    "    child_keyword: str,\n",
    "    param_key: str\n",
    "):\n",
    "    try:\n",
    "        client = MlflowClient()\n",
    "\n",
    "        # Get experiment ID\n",
    "        experiment = client.get_experiment_by_name(experiment_name)\n",
    "        if experiment is None:\n",
    "            print(f\"Experiment '{experiment_name}' not found.\")\n",
    "            return None\n",
    "        experiment_id = experiment.experiment_id\n",
    "        \n",
    "        # Find parent run by name\n",
    "        parent_runs = client.search_runs(\n",
    "            experiment_ids=[experiment_id],\n",
    "            filter_string=f'tags.mlflow.runName = \"{parent_run_name}\"',\n",
    "            order_by=[\"start_time DESC\"],\n",
    "            max_results=1\n",
    "        )\n",
    "\n",
    "        if not parent_runs:\n",
    "            print(f\"No parent run with name '{parent_run_name}' found.\")\n",
    "            return None\n",
    "\n",
    "        parent_run = parent_runs[0]\n",
    "        parent_run_id = parent_run.info.run_id\n",
    "\n",
    "        # Find child runs of this parent\n",
    "        child_runs = client.search_runs(\n",
    "            experiment_ids=[experiment_id],\n",
    "            filter_string=f'tags.mlflow.parentRunId = \"{parent_run_id}\"',\n",
    "            order_by=[\"start_time DESC\"],\n",
    "        )\n",
    "        # print(child_runs)\n",
    "\n",
    "        # Search for a child run that contains the keyword in the name\n",
    "        for run in child_runs:\n",
    "            run_name = run.data.tags.get(\"mlflow.runName\", \"\")\n",
    "            if child_keyword in run_name:\n",
    "                return run.data.params.get(param_key, f\"Param '{param_key}' not found.\")\n",
    "\n",
    "        print(f\"No child run matching keyword '{child_keyword}' found.\")\n",
    "        return None\n",
    "\n",
    "    except Exception as e:\n",
    "        print(\"Error:\", e)\n",
    "        return None"
   ]
  },
  {
   "cell_type": "code",
   "execution_count": 36,
   "id": "20a3501d-b20b-424e-9a76-3c99ffaf547c",
   "metadata": {},
   "outputs": [],
   "source": [
    "motor = \"DWA\"\n",
    "# tag_name_interval = f\"{motor}_INVERTER_RUNNING\"\n",
    "# tag_name_interval = f\"Transforming_DWC_INVERTER_RUNNING_2024-04\"\n",
    "\n",
    "# \"Transforming_DWA_INVERTER_RUNNING_2024-05\"\n",
    "tag_name_speed = f\"Transforming_{motor}_ACTUAL_MOTOR_SPEED_2024-05\""
   ]
  },
  {
   "cell_type": "code",
   "execution_count": 37,
   "id": "8483e48d-3d2f-48bf-a225-a358dff48628",
   "metadata": {
    "scrolled": true
   },
   "outputs": [
    {
     "name": "stdout",
     "output_type": "stream",
     "text": [
      "No child run matching keyword 'Transforming_DWA_ACTUAL_MOTOR_SPEED_2024-05' found.\n"
     ]
    }
   ],
   "source": [
    "get_child_run_param_by_name(\n",
    "    experiment_name=experiment_name_RegularInterval,\n",
    "    parent_run_name=experiment_name_RegularInterval_DigitalInput,\n",
    "    child_keyword=tag_name_speed,\n",
    "    param_key=\"destination_parquet_file\"\n",
    ")\n",
    "\n",
    "\n",
    "# key_val = get_child_run_param_by_name(\n",
    "#     experiment_name=\"1. Regular Interval\",\n",
    "#     parent_run_name=\"1.1 Digital Input\",\n",
    "#     child_run_name=\"Transforming_DWA_INVERTER_RUNNING_2024-05\",\n",
    "#     key_param=\"destination_parquet_file\"\n",
    "# )\n"
   ]
  },
  {
   "cell_type": "code",
   "execution_count": null,
   "id": "323f75aa-56c2-4ef4-86d0-7d1ec7a61719",
   "metadata": {},
   "outputs": [],
   "source": []
  },
  {
   "cell_type": "code",
   "execution_count": 38,
   "id": "2f048b00-ec84-4ebf-ad21-1ea68e8794da",
   "metadata": {},
   "outputs": [
    {
     "data": {
      "text/plain": [
       "'1. Regular Interval'"
      ]
     },
     "execution_count": 38,
     "metadata": {},
     "output_type": "execute_result"
    }
   ],
   "source": [
    "experiment_name_RegularInterval"
   ]
  },
  {
   "cell_type": "code",
   "execution_count": 39,
   "id": "07cbd9e9-0f1b-4039-a4d7-a56c9d62ea21",
   "metadata": {},
   "outputs": [
    {
     "data": {
      "text/plain": [
       "'1.1 Digital Input'"
      ]
     },
     "execution_count": 39,
     "metadata": {},
     "output_type": "execute_result"
    }
   ],
   "source": [
    "experiment_name_RegularInterval_DigitalInput"
   ]
  },
  {
   "cell_type": "code",
   "execution_count": null,
   "id": "b4fa1af0-7bb6-4fa6-a415-c6ae59d2fdf1",
   "metadata": {},
   "outputs": [],
   "source": []
  },
  {
   "cell_type": "code",
   "execution_count": null,
   "id": "ed0220b8-fdd1-443d-aeab-a280bbeced78",
   "metadata": {},
   "outputs": [],
   "source": []
  },
  {
   "cell_type": "code",
   "execution_count": null,
   "id": "0692d486-bcbb-42b0-87f6-abca91d0013f",
   "metadata": {},
   "outputs": [],
   "source": []
  },
  {
   "cell_type": "code",
   "execution_count": 40,
   "id": "f18e911f-39c9-4519-8aa9-7728ba03c06c",
   "metadata": {},
   "outputs": [],
   "source": [
    "from mlflow.tracking import MlflowClient\n",
    "\n",
    "def get_child_run_param_by_name(\n",
    "    experiment_name: str,\n",
    "    parent_run_name: str,\n",
    "    child_run_name: str,\n",
    "    key_param: str\n",
    "):\n",
    "    client = MlflowClient()\n",
    "\n",
    "    # B1: Lấy ID của experiment\n",
    "    experiment = client.get_experiment_by_name(experiment_name)\n",
    "    if experiment is None:\n",
    "        print(f\"[!] Experiment '{experiment_name}' not found.\")\n",
    "        return None\n",
    "    experiment_id = experiment.experiment_id\n",
    "\n",
    "    # B2: Lấy parent run ID theo run name\n",
    "    parent_runs = client.search_runs(\n",
    "        experiment_ids=[experiment_id],\n",
    "        filter_string=f'tags.mlflow.runName = \"{parent_run_name}\"',\n",
    "        order_by=[\"start_time DESC\"],\n",
    "        max_results=1\n",
    "    )\n",
    "    if not parent_runs:\n",
    "        print(f\"[!] Parent run '{parent_run_name}' not found.\")\n",
    "        return None\n",
    "    parent_run_id = parent_runs[0].info.run_id\n",
    "\n",
    "    # B3: Tìm các run con của parent_run\n",
    "    child_runs = client.search_runs(\n",
    "        experiment_ids=[experiment_id],\n",
    "        filter_string=f'tags.mlflow.parentRunId = \"{parent_run_id}\"'\n",
    "    )\n",
    "\n",
    "    # B4: Lọc run con theo tên, rồi lấy param theo key\n",
    "    for run in child_runs:\n",
    "        run_name = run.data.tags.get(\"mlflow.runName\")\n",
    "        if run_name == child_run_name:\n",
    "            param_value = run.data.params.get(key_param)\n",
    "            if param_value is not None:\n",
    "                return param_value\n",
    "            else:\n",
    "                print(f\"[!] Param '{key_param}' not found in child run '{child_run_name}'.\")\n",
    "                return None\n",
    "\n",
    "    print(f\"[!] Child run '{child_run_name}' not found under parent '{parent_run_name}'\")\n",
    "    return None\n"
   ]
  },
  {
   "cell_type": "code",
   "execution_count": 41,
   "id": "50496066-a4fb-4a4f-9209-9eb9b66982ec",
   "metadata": {},
   "outputs": [],
   "source": [
    "key_val = get_child_run_param_by_name(\n",
    "    experiment_name=\"1. Regular Interval\",\n",
    "    parent_run_name=\"1.1 Digital Input\",\n",
    "    child_run_name=\"Transforming_DWA_INVERTER_RUNNING_2024-05\",\n",
    "    key_param=\"destination_parquet_file\"\n",
    ")\n"
   ]
  },
  {
   "cell_type": "code",
   "execution_count": 42,
   "id": "ac4f975b-b8ce-4ca8-a907-fb082b3dbd05",
   "metadata": {},
   "outputs": [
    {
     "data": {
      "text/plain": [
       "'s3://s3-assetcare-bucket/features_store/transformed/2024-05/DWA_INVERTER_RUNNING_20250502_054728.parquet'"
      ]
     },
     "execution_count": 42,
     "metadata": {},
     "output_type": "execute_result"
    }
   ],
   "source": [
    "key_val"
   ]
  },
  {
   "cell_type": "code",
   "execution_count": null,
   "id": "500df8eb-4f36-4486-8a53-7fe085350248",
   "metadata": {},
   "outputs": [],
   "source": []
  },
  {
   "cell_type": "code",
   "execution_count": null,
   "id": "6668674b-ff79-4c63-9000-2df0c0422d5c",
   "metadata": {},
   "outputs": [],
   "source": []
  },
  {
   "cell_type": "code",
   "execution_count": null,
   "id": "ca757b47-48c3-4491-b15d-6a195e148b71",
   "metadata": {},
   "outputs": [],
   "source": []
  },
  {
   "cell_type": "code",
   "execution_count": null,
   "id": "500caa6d-3670-4945-902d-490e317de9b1",
   "metadata": {},
   "outputs": [],
   "source": []
  },
  {
   "cell_type": "code",
   "execution_count": null,
   "id": "be72f165-89d0-45de-9afa-f4934482b8e0",
   "metadata": {},
   "outputs": [],
   "source": []
  },
  {
   "cell_type": "code",
   "execution_count": null,
   "id": "17b249c1-855b-436d-bd7c-1aa006618ee9",
   "metadata": {},
   "outputs": [],
   "source": []
  }
 ],
 "metadata": {
  "kernelspec": {
   "display_name": "Python 3 (ipykernel)",
   "language": "python",
   "name": "python3"
  },
  "language_info": {
   "codemirror_mode": {
    "name": "ipython",
    "version": 3
   },
   "file_extension": ".py",
   "mimetype": "text/x-python",
   "name": "python",
   "nbconvert_exporter": "python",
   "pygments_lexer": "ipython3",
   "version": "3.12.9"
  }
 },
 "nbformat": 4,
 "nbformat_minor": 5
}
