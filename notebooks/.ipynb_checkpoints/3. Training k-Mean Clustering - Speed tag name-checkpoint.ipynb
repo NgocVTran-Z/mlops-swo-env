{
 "cells": [
  {
   "cell_type": "code",
   "execution_count": 1,
   "id": "8ae30255-fa8a-40ac-8f06-2da0bf4955b0",
   "metadata": {},
   "outputs": [],
   "source": [
    "import pandas as pd\n",
    "import numpy as np\n",
    "import sys\n",
    "import gc\n",
    "\n",
    "import os\n",
    "sys.path.append(os.path.abspath(\"..\"))"
   ]
  },
  {
   "cell_type": "code",
   "execution_count": 2,
   "id": "4425e53e-e115-4aa9-b778-f8c4f9fd6cae",
   "metadata": {},
   "outputs": [],
   "source": [
    "import s3fs\n",
    "from typing import List\n",
    "\n",
    "from utils.common import *\n",
    "from config.params import *\n",
    "from preprocessing.transform import transform, tracking_transforming_input\n",
    "from preprocessing.intervals import get_interval_from_transformed"
   ]
  },
  {
   "cell_type": "code",
   "execution_count": 3,
   "id": "8a66d042-4f44-49e5-8556-7e5a7c36a204",
   "metadata": {},
   "outputs": [
    {
     "name": "stdout",
     "output_type": "stream",
     "text": [
      "sagemaker.config INFO - Not applying SDK defaults from location: /etc/xdg/sagemaker/config.yaml\n",
      "sagemaker.config INFO - Not applying SDK defaults from location: /home/sagemaker-user/.config/sagemaker/config.yaml\n"
     ]
    }
   ],
   "source": [
    "from preprocessing.prepare_clustering_data import *"
   ]
  },
  {
   "cell_type": "code",
   "execution_count": 4,
   "id": "8bc7af98-641a-4784-bbea-4179bf6eb72e",
   "metadata": {},
   "outputs": [],
   "source": [
    "from training.models import *\n",
    "from training.visualize import *"
   ]
  },
  {
   "cell_type": "code",
   "execution_count": 5,
   "id": "d7b2cb91-4190-4989-805f-18e2f5d383ea",
   "metadata": {},
   "outputs": [],
   "source": [
    "from pyarrow.dataset import field"
   ]
  },
  {
   "cell_type": "code",
   "execution_count": 6,
   "id": "0b2c7a8b-4ea6-41ef-b9b3-5a374553b792",
   "metadata": {},
   "outputs": [],
   "source": [
    "import sagemaker\n",
    "from sagemaker import get_execution_role"
   ]
  },
  {
   "cell_type": "code",
   "execution_count": 7,
   "id": "38bc16ae-583e-4746-9c6e-3c2b01b3fc2c",
   "metadata": {},
   "outputs": [],
   "source": [
    "import matplotlib.pyplot as plt\n",
    "import seaborn as sns"
   ]
  },
  {
   "cell_type": "code",
   "execution_count": 8,
   "id": "16103c78-f122-4b3c-bb0f-7c7cc55eb071",
   "metadata": {},
   "outputs": [],
   "source": [
    "# get the lastest saved data from mlflow run\n",
    "import mlflow\n",
    "from mlflow.tracking import MlflowClient"
   ]
  },
  {
   "cell_type": "code",
   "execution_count": 9,
   "id": "e2a813c3-84f7-4dcb-bd8c-c89aa19235b1",
   "metadata": {},
   "outputs": [],
   "source": [
    "from sklearn.cluster import KMeans\n",
    "from datetime import datetime\n",
    "from pathlib import Path"
   ]
  },
  {
   "cell_type": "code",
   "execution_count": null,
   "id": "1dc4df58-3640-4744-9a10-ccf150b3ca89",
   "metadata": {},
   "outputs": [],
   "source": []
  },
  {
   "cell_type": "code",
   "execution_count": 10,
   "id": "abbbe45f-24fe-415d-986e-80c4a04a18f0",
   "metadata": {},
   "outputs": [],
   "source": [
    "client = MlflowClient()"
   ]
  },
  {
   "cell_type": "code",
   "execution_count": 11,
   "id": "e15d9b7f-eed8-4a5c-b65e-bfae3601bf69",
   "metadata": {},
   "outputs": [],
   "source": [
    "# Define session, role, and region so we can\n",
    "# perform any SageMaker tasks we need\n",
    "sagemaker_session = sagemaker.Session()\n",
    "role = get_execution_role()\n",
    "region = sagemaker_session.boto_region_name"
   ]
  },
  {
   "cell_type": "code",
   "execution_count": 12,
   "id": "f324eea3-c726-4080-aaea-dc4c03d72857",
   "metadata": {},
   "outputs": [],
   "source": [
    "# Provide the ARN of the tracking server that you want to track your training job with\n",
    "tracking_server_arn = 'arn:aws:sagemaker:ap-southeast-1:771463264346:mlflow-tracking-server/mlflow-RCF-server'"
   ]
  },
  {
   "cell_type": "code",
   "execution_count": 13,
   "id": "67fb5174-9720-4f10-bfce-518a0493f579",
   "metadata": {},
   "outputs": [],
   "source": [
    "mlflow.set_tracking_uri(tracking_server_arn)"
   ]
  },
  {
   "cell_type": "code",
   "execution_count": null,
   "id": "31a0ba0e-a5d6-4d46-aa99-2bd603cffdf0",
   "metadata": {},
   "outputs": [],
   "source": []
  },
  {
   "cell_type": "code",
   "execution_count": 14,
   "id": "eb3a6db5-e593-4c46-811f-2cce52ffa01b",
   "metadata": {},
   "outputs": [
    {
     "data": {
      "text/plain": [
       "['DWA', 'DWB', 'DWC']"
      ]
     },
     "execution_count": 14,
     "metadata": {},
     "output_type": "execute_result"
    }
   ],
   "source": [
    "# motor = \"DWA\"\n",
    "# motor = \"DWB\"\n",
    "# motor = \"DWC\"\n",
    "motors"
   ]
  },
  {
   "cell_type": "code",
   "execution_count": 15,
   "id": "20d1c27a-0e6b-41e1-b54c-3a5d102054e8",
   "metadata": {},
   "outputs": [],
   "source": [
    "date_folders = [\n",
    "    \"2024-04\",\n",
    "    \"2024-05\",\n",
    "    \"2024-06\",\n",
    "    \"2024-07\",\n",
    "    \"2024-08\",\n",
    "    \"2024-09\",\n",
    "    \"2024-10\",\n",
    "    \"2024-11\",\n",
    "    \"2024-12\",\n",
    "    # \"2025-01\",\n",
    "    # \"2025-02\",\n",
    "    # \"2025-03\"\n",
    "]"
   ]
  },
  {
   "cell_type": "code",
   "execution_count": 16,
   "id": "548936e5-0e0d-489e-9f7d-ce9d6a31fe62",
   "metadata": {},
   "outputs": [],
   "source": [
    "# tag_name = f\"{motor}_ACTUAL_MOTOR_SPEED\"\n",
    "# tag_name_digital = f\"{motor}_INVERTER_RUNNING\""
   ]
  },
  {
   "cell_type": "code",
   "execution_count": 17,
   "id": "170d42bf-a01b-4568-9ac9-0a4d45be4668",
   "metadata": {
    "scrolled": true
   },
   "outputs": [
    {
     "name": "stdout",
     "output_type": "stream",
     "text": [
      "DWA\n",
      "✅ Saved to s3://s3-assetcare-bucket/features_store/cluster_datasets/DWA_ACTUAL_MOTOR_SPEED_20250506_030243.parquet\n",
      "✅ Saved to s3://s3-assetcare-bucket/features_store/cluster_datasets/DWA_ACTUAL_MOTOR_SPEED_20250506_030257.parquet\n",
      "✅ KMeans clustering + MLflow logging complete for DWA_ACTUAL_MOTOR_SPEED\n",
      "🏃 View run DWA_ACTUAL_MOTOR_SPEED_5-cluster at: https://ap-southeast-1.experiments.sagemaker.aws/#/experiments/19/runs/783994e1b9304cf8b9eaaf1e6a16e8c9\n",
      "🧪 View experiment at: https://ap-southeast-1.experiments.sagemaker.aws/#/experiments/19\n",
      "========================\n",
      "DWB\n",
      "✅ Saved to s3://s3-assetcare-bucket/features_store/cluster_datasets/DWB_ACTUAL_MOTOR_SPEED_20250506_030300.parquet\n",
      "✅ Saved to s3://s3-assetcare-bucket/features_store/cluster_datasets/DWB_ACTUAL_MOTOR_SPEED_20250506_030327.parquet\n",
      "✅ KMeans clustering + MLflow logging complete for DWB_ACTUAL_MOTOR_SPEED\n",
      "🏃 View run DWB_ACTUAL_MOTOR_SPEED_5-cluster at: https://ap-southeast-1.experiments.sagemaker.aws/#/experiments/19/runs/997aac8f6ea5461f9dc836e1a7987976\n",
      "🧪 View experiment at: https://ap-southeast-1.experiments.sagemaker.aws/#/experiments/19\n",
      "========================\n",
      "DWC\n",
      "✅ Saved to s3://s3-assetcare-bucket/features_store/cluster_datasets/DWC_ACTUAL_MOTOR_SPEED_20250506_030331.parquet\n",
      "✅ Saved to s3://s3-assetcare-bucket/features_store/cluster_datasets/DWC_ACTUAL_MOTOR_SPEED_20250506_030357.parquet\n",
      "✅ KMeans clustering + MLflow logging complete for DWC_ACTUAL_MOTOR_SPEED\n",
      "🏃 View run DWC_ACTUAL_MOTOR_SPEED_5-cluster at: https://ap-southeast-1.experiments.sagemaker.aws/#/experiments/19/runs/d3586df2258b430998ec7f0d88822418\n",
      "🧪 View experiment at: https://ap-southeast-1.experiments.sagemaker.aws/#/experiments/19\n",
      "========================\n"
     ]
    }
   ],
   "source": [
    "for motor in motors:\n",
    "    print(motor)\n",
    "    tag_name = f\"{motor}_ACTUAL_MOTOR_SPEED\"\n",
    "    tag_name_digital = f\"{motor}_INVERTER_RUNNING\"\n",
    "\n",
    "    combined_df, lst_training_paths, destination_parquet_folder, filename = prepare_training_data_clustering(motor=motor, date_folders=date_folders, tag_name=tag_name, tag_name_digital=tag_name_digital)\n",
    "\n",
    "    \n",
    "    clustered_speed = training_kmean(\n",
    "        filtered_speed=combined_df,\n",
    "        tag_name=tag_name,\n",
    "        motor=motor,\n",
    "    \n",
    "        # params to log\n",
    "        lst_training_paths=lst_training_paths, \n",
    "        destination_parquet_folder=destination_parquet_folder, \n",
    "        filename=filename,\n",
    "        \n",
    "        # model params\n",
    "        experiment_name = experiment_name_TrainingKMeanClustering\n",
    "    )\n",
    "    print(\"========================\")"
   ]
  },
  {
   "cell_type": "code",
   "execution_count": null,
   "id": "90e64692-84cd-485c-b1e3-a1a290ac4dd5",
   "metadata": {},
   "outputs": [],
   "source": []
  },
  {
   "cell_type": "code",
   "execution_count": null,
   "id": "681c1d50-fb35-469e-8cc1-1348ad332c6f",
   "metadata": {},
   "outputs": [],
   "source": []
  },
  {
   "cell_type": "code",
   "execution_count": null,
   "id": "cf14f3c5-8eaa-4464-8131-4e9b9331e52f",
   "metadata": {},
   "outputs": [],
   "source": []
  },
  {
   "cell_type": "code",
   "execution_count": null,
   "id": "480570ed-1b7a-4c34-8aee-488b760b1d0f",
   "metadata": {},
   "outputs": [],
   "source": []
  },
  {
   "cell_type": "code",
   "execution_count": null,
   "id": "d5dbcdf5-a43c-4bb8-8b68-c6c6cb70a984",
   "metadata": {},
   "outputs": [],
   "source": []
  },
  {
   "cell_type": "code",
   "execution_count": null,
   "id": "062f1607-10fb-4a33-be58-3d652ac233f9",
   "metadata": {},
   "outputs": [],
   "source": []
  },
  {
   "cell_type": "code",
   "execution_count": null,
   "id": "0fd33a2b-c009-4d96-9289-0837bb41ae9d",
   "metadata": {},
   "outputs": [],
   "source": []
  },
  {
   "cell_type": "code",
   "execution_count": null,
   "id": "399ce2e9-0487-48e5-8bb2-a28bdef59cc3",
   "metadata": {},
   "outputs": [],
   "source": []
  },
  {
   "cell_type": "code",
   "execution_count": null,
   "id": "906b46fd-851f-4e03-83e1-046d03b6adce",
   "metadata": {},
   "outputs": [],
   "source": []
  },
  {
   "cell_type": "code",
   "execution_count": null,
   "id": "31fc3793-0c7d-4155-af8d-47394bc9f6e7",
   "metadata": {},
   "outputs": [],
   "source": []
  },
  {
   "cell_type": "code",
   "execution_count": null,
   "id": "48079fb7-e386-4949-875e-415d2c5ab2e9",
   "metadata": {},
   "outputs": [],
   "source": []
  },
  {
   "cell_type": "code",
   "execution_count": null,
   "id": "cfc52f97-e881-45ec-a89e-a465c1b73cce",
   "metadata": {},
   "outputs": [],
   "source": []
  },
  {
   "cell_type": "code",
   "execution_count": null,
   "id": "343347a9-9470-4c34-8500-8aebcb823d55",
   "metadata": {},
   "outputs": [],
   "source": []
  },
  {
   "cell_type": "code",
   "execution_count": null,
   "id": "14752ab5-3b3b-4edd-8e52-bec85a9fdc1e",
   "metadata": {},
   "outputs": [],
   "source": []
  },
  {
   "cell_type": "code",
   "execution_count": null,
   "id": "1a2329ef-af90-460e-a17a-dd8e54938ce2",
   "metadata": {},
   "outputs": [],
   "source": []
  },
  {
   "cell_type": "code",
   "execution_count": null,
   "id": "f5e19104-554c-4028-9cdc-9540b5b0fc76",
   "metadata": {},
   "outputs": [],
   "source": []
  },
  {
   "cell_type": "code",
   "execution_count": null,
   "id": "67cba35f-6155-40d1-b5f4-66c9e56b1a23",
   "metadata": {},
   "outputs": [],
   "source": []
  },
  {
   "cell_type": "code",
   "execution_count": null,
   "id": "8294724b-51d3-4e88-8be9-c7f66ff31c73",
   "metadata": {},
   "outputs": [],
   "source": []
  },
  {
   "cell_type": "code",
   "execution_count": null,
   "id": "e2190d02-84f7-448a-9087-c15e6e1b0913",
   "metadata": {},
   "outputs": [],
   "source": []
  },
  {
   "cell_type": "code",
   "execution_count": null,
   "id": "5b4a1f44-c15a-41a4-af95-3550171be957",
   "metadata": {},
   "outputs": [],
   "source": []
  },
  {
   "cell_type": "code",
   "execution_count": null,
   "id": "225dba2b-2ac9-4ff8-a569-6e84f6a27fd6",
   "metadata": {},
   "outputs": [],
   "source": []
  },
  {
   "cell_type": "code",
   "execution_count": null,
   "id": "04e49f3d-de82-4a04-98de-c530678f1982",
   "metadata": {},
   "outputs": [],
   "source": []
  },
  {
   "cell_type": "code",
   "execution_count": null,
   "id": "195b02c5-3877-41b8-971e-8abea83b1bcd",
   "metadata": {},
   "outputs": [],
   "source": []
  }
 ],
 "metadata": {
  "kernelspec": {
   "display_name": "Python 3 (ipykernel)",
   "language": "python",
   "name": "python3"
  },
  "language_info": {
   "codemirror_mode": {
    "name": "ipython",
    "version": 3
   },
   "file_extension": ".py",
   "mimetype": "text/x-python",
   "name": "python",
   "nbconvert_exporter": "python",
   "pygments_lexer": "ipython3",
   "version": "3.11.11"
  }
 },
 "nbformat": 4,
 "nbformat_minor": 5
}
