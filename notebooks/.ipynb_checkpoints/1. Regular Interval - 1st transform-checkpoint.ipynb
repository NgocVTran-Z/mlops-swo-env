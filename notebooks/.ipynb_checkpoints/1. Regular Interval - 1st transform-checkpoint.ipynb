{
 "cells": [
  {
   "cell_type": "code",
   "execution_count": 18,
   "id": "5ae12255-dd8b-4ebd-9efe-c6afce64f1aa",
   "metadata": {},
   "outputs": [],
   "source": [
    "import pandas as pd\n",
    "import sys\n",
    "\n",
    "import os\n",
    "sys.path.append(os.path.abspath(\"..\"))"
   ]
  },
  {
   "cell_type": "code",
   "execution_count": 19,
   "id": "c3bd9079-996b-4f3b-a53a-e9df4cb19e4e",
   "metadata": {},
   "outputs": [],
   "source": [
    "import s3fs\n",
    "from typing import List\n",
    "# import gc\n",
    "from utils.common import *\n",
    "from config.params import *"
   ]
  },
  {
   "cell_type": "code",
   "execution_count": 20,
   "id": "651c86b2-ec5a-4ee1-a6b9-926a773dbbd5",
   "metadata": {},
   "outputs": [],
   "source": [
    "from preprocessing.intervals import get_interval_from_transformed\n",
    "from preprocessing.transform import transform, tracking_transforming_input2"
   ]
  },
  {
   "cell_type": "code",
   "execution_count": 21,
   "id": "f52a6b4c-41c6-4190-b7f2-91027cb7a014",
   "metadata": {},
   "outputs": [],
   "source": [
    "from pyarrow.dataset import field"
   ]
  },
  {
   "cell_type": "code",
   "execution_count": 22,
   "id": "849eab3a-1bf6-4a6c-8810-b5e649b427d6",
   "metadata": {},
   "outputs": [],
   "source": [
    "import sagemaker\n",
    "from sagemaker import get_execution_role"
   ]
  },
  {
   "cell_type": "code",
   "execution_count": 23,
   "id": "f0198ea1-4e1b-4cc4-80b2-d39687c53852",
   "metadata": {},
   "outputs": [],
   "source": [
    "import mlflow"
   ]
  },
  {
   "cell_type": "code",
   "execution_count": 24,
   "id": "b173b8fd-39f1-40e1-aa3b-610eb6db9be2",
   "metadata": {},
   "outputs": [],
   "source": [
    "# Define session, role, and region so we can\n",
    "# perform any SageMaker tasks we need\n",
    "sagemaker_session = sagemaker.Session()\n",
    "role = get_execution_role()\n",
    "region = sagemaker_session.boto_region_name"
   ]
  },
  {
   "cell_type": "code",
   "execution_count": 25,
   "id": "a3d2a9d8-c6d4-40bb-89f9-adb5ad05a803",
   "metadata": {},
   "outputs": [],
   "source": [
    "# Provide the ARN of the tracking server that you want to track your training job with\n",
    "tracking_server_arn = 'arn:aws:sagemaker:ap-southeast-1:771463264346:mlflow-tracking-server/mlflow-RCF-server'"
   ]
  },
  {
   "cell_type": "code",
   "execution_count": 26,
   "id": "fc15910f-3223-4d4e-84be-af09fec93a03",
   "metadata": {},
   "outputs": [],
   "source": [
    "mlflow.set_tracking_uri(tracking_server_arn)"
   ]
  },
  {
   "cell_type": "code",
   "execution_count": null,
   "id": "b4ad9ed9-3540-4b7b-b345-0ec70cf33568",
   "metadata": {},
   "outputs": [],
   "source": []
  },
  {
   "cell_type": "markdown",
   "id": "1ec8e153-5bd0-4143-a938-e13a7721ebf9",
   "metadata": {},
   "source": [
    "### Run tracking for each first transformation\n",
    "\n",
    "1. Experiment name: Regular Interval\n",
    "   - 1.1 Digital Input: DWA_INVERTER\n",
    "   - 1.2 Analog Input: other tag names\n",
    "   - 1.3 Speed Tag Names: DWA_ACTUAL_MOTOR_SPEED"
   ]
  },
  {
   "cell_type": "code",
   "execution_count": 27,
   "id": "24d4c347-ee55-49cc-bdfd-a49408dfe02a",
   "metadata": {},
   "outputs": [
    {
     "data": {
      "text/plain": [
       "['2024-04',\n",
       " '2024-05',\n",
       " '2024-06',\n",
       " '2024-07',\n",
       " '2024-08',\n",
       " '2024-09',\n",
       " '2024-10',\n",
       " '2024-11',\n",
       " '2024-12',\n",
       " '2025-01',\n",
       " '2025-02',\n",
       " '2025-03']"
      ]
     },
     "execution_count": 27,
     "metadata": {},
     "output_type": "execute_result"
    }
   ],
   "source": [
    "# date_folders = [\"2024-04\"]\n",
    "# date_folders = [\"2024-05\"]\n",
    "# date_folders = [\"2024-06\"]\n",
    "# date_folders = [\"2024-07\"]\n",
    "# date_folders = [\"2024-08\"]\n",
    "# date_folders = [\"2024-09\"]\n",
    "# date_folders = [\"2024-10\"]\n",
    "# date_folders = [\"2024-11\"]\n",
    "# date_folders = [\"2024-12\"]\n",
    "# date_folders = [\"2025-01\"]\n",
    "# date_folders = [\"2025-02\"]\n",
    "# date_folders = [\n",
    "#     # \"2025-01\",\n",
    "#     # \"2025-02\",\n",
    "#     \"2025-03\",\n",
    "# ]\n",
    "\n",
    "date_folders = [\n",
    "    \"2025/01/01/01\"\n",
    "    # \"2024-04\",\n",
    "    # \"2024-05\",\n",
    "    # \"2024-06\",\n",
    "    # \"2024-07\",\n",
    "    # \"2024-08\",\n",
    "    # \"2024-09\",\n",
    "    # \"2024-10\",\n",
    "    # \"2024-11\",\n",
    "    # \"2024-12\",\n",
    "    # \"2025-01\",\n",
    "    # \"2025-02\",\n",
    "    # \"2025-03\"\n",
    "]\n",
    "\n",
    "date_folders"
   ]
  },
  {
   "cell_type": "code",
   "execution_count": null,
   "id": "742ba653-6809-415e-b397-d22c4ba75e3c",
   "metadata": {},
   "outputs": [],
   "source": []
  },
  {
   "cell_type": "markdown",
   "id": "613afd95-c156-45c3-8cbd-ce387ccb2b23",
   "metadata": {},
   "source": [
    "### 1.1 Digital Input"
   ]
  },
  {
   "cell_type": "code",
   "execution_count": 28,
   "id": "7e69186b-c9d2-43e2-866f-6f2cc0cc9108",
   "metadata": {},
   "outputs": [
    {
     "data": {
      "text/plain": [
       "['DWA_INVERTER_RUNNING', 'DWB_INVERTER_RUNNING', 'DWC_INVERTER_RUNNING']"
      ]
     },
     "execution_count": 28,
     "metadata": {},
     "output_type": "execute_result"
    }
   ],
   "source": [
    "tag_name_digital"
   ]
  },
  {
   "cell_type": "code",
   "execution_count": null,
   "id": "2e387a53-c426-4291-80b2-2b797bca572c",
   "metadata": {
    "scrolled": true
   },
   "outputs": [
    {
     "name": "stdout",
     "output_type": "stream",
     "text": [
      "2024-04\n",
      "s3://s3-assetcare-bucket/features_store/transformed/2024-04/\n",
      "DWA_INVERTER_RUNNING\n",
      "✅ Saved to s3://s3-assetcare-bucket/features_store/transformed/2024-04/DWA_INVERTER_RUNNING_20250502_054721.parquet\n",
      "✅ Saved to s3://s3-assetcare-bucket/features_store/digital_intervals/2024-04/DWA_INVERTER_RUNNING_20250502_054721.parquet\n",
      "✅ Logged digital tag: DWA_INVERTER_RUNNING\n",
      "*********\n",
      "🏃 View run Transforming_DWA_INVERTER_RUNNING_2024-04 at: https://ap-southeast-1.experiments.sagemaker.aws/#/experiments/15/runs/c207b2e408f1449bbad4fd6cf6547806\n",
      "🧪 View experiment at: https://ap-southeast-1.experiments.sagemaker.aws/#/experiments/15\n",
      "🏃 View run 1.1 Digital Input at: https://ap-southeast-1.experiments.sagemaker.aws/#/experiments/15/runs/a5aa7bac83c54d9590e0fce6392af647\n",
      "🧪 View experiment at: https://ap-southeast-1.experiments.sagemaker.aws/#/experiments/15\n",
      "=========================\n",
      "DWB_INVERTER_RUNNING\n",
      "Processing row 0\n"
     ]
    },
    {
     "name": "stderr",
     "output_type": "stream",
     "text": [
      "/home/sagemaker-user/preprocessing/transform.py:39: FutureWarning: 'S' is deprecated and will be removed in a future version, please use 's' instead.\n",
      "  time_range = pd.date_range(start=start_time, end=end_time, freq='S')\n"
     ]
    },
    {
     "name": "stdout",
     "output_type": "stream",
     "text": [
      "✅ Saved to s3://s3-assetcare-bucket/features_store/transformed/2024-04/DWB_INVERTER_RUNNING_20250502_054723.parquet\n",
      "✅ Saved to s3://s3-assetcare-bucket/features_store/digital_intervals/2024-04/DWB_INVERTER_RUNNING_20250502_054723.parquet\n",
      "✅ Logged digital tag: DWB_INVERTER_RUNNING\n",
      "*********\n",
      "🏃 View run Transforming_DWB_INVERTER_RUNNING_2024-04 at: https://ap-southeast-1.experiments.sagemaker.aws/#/experiments/15/runs/58709e0b449445138a2fdc7923a8930c\n",
      "🧪 View experiment at: https://ap-southeast-1.experiments.sagemaker.aws/#/experiments/15\n",
      "🏃 View run 1.1 Digital Input at: https://ap-southeast-1.experiments.sagemaker.aws/#/experiments/15/runs/a5aa7bac83c54d9590e0fce6392af647\n",
      "🧪 View experiment at: https://ap-southeast-1.experiments.sagemaker.aws/#/experiments/15\n",
      "=========================\n",
      "DWC_INVERTER_RUNNING\n",
      "Processing row 0\n"
     ]
    },
    {
     "name": "stderr",
     "output_type": "stream",
     "text": [
      "/home/sagemaker-user/preprocessing/transform.py:39: FutureWarning: 'S' is deprecated and will be removed in a future version, please use 's' instead.\n",
      "  time_range = pd.date_range(start=start_time, end=end_time, freq='S')\n"
     ]
    },
    {
     "name": "stdout",
     "output_type": "stream",
     "text": [
      "✅ Saved to s3://s3-assetcare-bucket/features_store/transformed/2024-04/DWC_INVERTER_RUNNING_20250502_054726.parquet\n",
      "✅ Saved to s3://s3-assetcare-bucket/features_store/digital_intervals/2024-04/DWC_INVERTER_RUNNING_20250502_054726.parquet\n",
      "✅ Logged digital tag: DWC_INVERTER_RUNNING\n",
      "*********\n",
      "🏃 View run Transforming_DWC_INVERTER_RUNNING_2024-04 at: https://ap-southeast-1.experiments.sagemaker.aws/#/experiments/15/runs/19c882cf09b24bcc886c37e4890d66e5\n",
      "🧪 View experiment at: https://ap-southeast-1.experiments.sagemaker.aws/#/experiments/15\n",
      "🏃 View run 1.1 Digital Input at: https://ap-southeast-1.experiments.sagemaker.aws/#/experiments/15/runs/a5aa7bac83c54d9590e0fce6392af647\n",
      "🧪 View experiment at: https://ap-southeast-1.experiments.sagemaker.aws/#/experiments/15\n",
      "=========================\n",
      "2024-05\n",
      "s3://s3-assetcare-bucket/features_store/transformed/2024-05/\n",
      "DWA_INVERTER_RUNNING\n",
      "Processing row 0\n"
     ]
    },
    {
     "name": "stderr",
     "output_type": "stream",
     "text": [
      "/home/sagemaker-user/preprocessing/transform.py:39: FutureWarning: 'S' is deprecated and will be removed in a future version, please use 's' instead.\n",
      "  time_range = pd.date_range(start=start_time, end=end_time, freq='S')\n"
     ]
    },
    {
     "name": "stdout",
     "output_type": "stream",
     "text": [
      "✅ Saved to s3://s3-assetcare-bucket/features_store/transformed/2024-05/DWA_INVERTER_RUNNING_20250502_054728.parquet\n",
      "✅ Saved to s3://s3-assetcare-bucket/features_store/digital_intervals/2024-05/DWA_INVERTER_RUNNING_20250502_054728.parquet\n",
      "✅ Logged digital tag: DWA_INVERTER_RUNNING\n",
      "*********\n",
      "🏃 View run Transforming_DWA_INVERTER_RUNNING_2024-05 at: https://ap-southeast-1.experiments.sagemaker.aws/#/experiments/15/runs/95b2a6ff7c794cd29618f1dc17cdaa1d\n",
      "🧪 View experiment at: https://ap-southeast-1.experiments.sagemaker.aws/#/experiments/15\n",
      "🏃 View run 1.1 Digital Input at: https://ap-southeast-1.experiments.sagemaker.aws/#/experiments/15/runs/a5aa7bac83c54d9590e0fce6392af647\n",
      "🧪 View experiment at: https://ap-southeast-1.experiments.sagemaker.aws/#/experiments/15\n",
      "=========================\n",
      "DWB_INVERTER_RUNNING\n",
      "Processing row 0\n"
     ]
    },
    {
     "name": "stderr",
     "output_type": "stream",
     "text": [
      "/home/sagemaker-user/preprocessing/transform.py:39: FutureWarning: 'S' is deprecated and will be removed in a future version, please use 's' instead.\n",
      "  time_range = pd.date_range(start=start_time, end=end_time, freq='S')\n"
     ]
    },
    {
     "name": "stdout",
     "output_type": "stream",
     "text": [
      "✅ Saved to s3://s3-assetcare-bucket/features_store/transformed/2024-05/DWB_INVERTER_RUNNING_20250502_055017.parquet\n",
      "✅ Saved to s3://s3-assetcare-bucket/features_store/digital_intervals/2024-05/DWB_INVERTER_RUNNING_20250502_055017.parquet\n",
      "✅ Logged digital tag: DWB_INVERTER_RUNNING\n",
      "*********\n",
      "🏃 View run Transforming_DWB_INVERTER_RUNNING_2024-05 at: https://ap-southeast-1.experiments.sagemaker.aws/#/experiments/15/runs/f5bd00458359406db76e162f1a76a6b9\n",
      "🧪 View experiment at: https://ap-southeast-1.experiments.sagemaker.aws/#/experiments/15\n",
      "🏃 View run 1.1 Digital Input at: https://ap-southeast-1.experiments.sagemaker.aws/#/experiments/15/runs/a5aa7bac83c54d9590e0fce6392af647\n",
      "🧪 View experiment at: https://ap-southeast-1.experiments.sagemaker.aws/#/experiments/15\n",
      "=========================\n",
      "DWC_INVERTER_RUNNING\n",
      "Processing row 0\n"
     ]
    },
    {
     "name": "stderr",
     "output_type": "stream",
     "text": [
      "/home/sagemaker-user/preprocessing/transform.py:39: FutureWarning: 'S' is deprecated and will be removed in a future version, please use 's' instead.\n",
      "  time_range = pd.date_range(start=start_time, end=end_time, freq='S')\n"
     ]
    },
    {
     "name": "stdout",
     "output_type": "stream",
     "text": [
      "✅ Saved to s3://s3-assetcare-bucket/features_store/transformed/2024-05/DWC_INVERTER_RUNNING_20250502_055307.parquet\n",
      "start time has some values\n",
      "✅ Saved to s3://s3-assetcare-bucket/features_store/digital_intervals/2024-06/DWB_INVERTER_RUNNING_20250502_055850.parquet\n",
      "✅ Logged digital tag: DWB_INVERTER_RUNNING\n",
      "*********\n",
      "🏃 View run Transforming_DWB_INVERTER_RUNNING_2024-06 at: https://ap-southeast-1.experiments.sagemaker.aws/#/experiments/15/runs/6312232a15f84f92a64aa289e686c38f\n",
      "🧪 View experiment at: https://ap-southeast-1.experiments.sagemaker.aws/#/experiments/15\n",
      "🏃 View run 1.1 Digital Input at: https://ap-southeast-1.experiments.sagemaker.aws/#/experiments/15/runs/a5aa7bac83c54d9590e0fce6392af647\n",
      "🧪 View experiment at: https://ap-southeast-1.experiments.sagemaker.aws/#/experiments/15\n",
      "=========================\n",
      "DWC_INVERTER_RUNNING\n",
      "Processing row 0\n"
     ]
    },
    {
     "name": "stderr",
     "output_type": "stream",
     "text": [
      "/home/sagemaker-user/preprocessing/transform.py:39: FutureWarning: 'S' is deprecated and will be removed in a future version, please use 's' instead.\n",
      "  time_range = pd.date_range(start=start_time, end=end_time, freq='S')\n"
     ]
    },
    {
     "name": "stdout",
     "output_type": "stream",
     "text": [
      "✅ Saved to s3://s3-assetcare-bucket/features_store/transformed/2024-06/DWC_INVERTER_RUNNING_20250502_060141.parquet\n",
      "start time has some values\n",
      "✅ Saved to s3://s3-assetcare-bucket/features_store/digital_intervals/2024-06/DWC_INVERTER_RUNNING_20250502_060141.parquet\n",
      "✅ Logged digital tag: DWC_INVERTER_RUNNING\n",
      "*********\n",
      "🏃 View run Transforming_DWC_INVERTER_RUNNING_2024-06 at: https://ap-southeast-1.experiments.sagemaker.aws/#/experiments/15/runs/53335c63e4904b77aae833edeaec8ad4\n",
      "🧪 View experiment at: https://ap-southeast-1.experiments.sagemaker.aws/#/experiments/15\n",
      "🏃 View run 1.1 Digital Input at: https://ap-southeast-1.experiments.sagemaker.aws/#/experiments/15/runs/a5aa7bac83c54d9590e0fce6392af647\n",
      "🧪 View experiment at: https://ap-southeast-1.experiments.sagemaker.aws/#/experiments/15\n",
      "=========================\n",
      "2024-07\n",
      "s3://s3-assetcare-bucket/features_store/transformed/2024-07/\n",
      "DWA_INVERTER_RUNNING\n",
      "Processing row 0\n"
     ]
    },
    {
     "name": "stderr",
     "output_type": "stream",
     "text": [
      "/home/sagemaker-user/preprocessing/transform.py:39: FutureWarning: 'S' is deprecated and will be removed in a future version, please use 's' instead.\n",
      "  time_range = pd.date_range(start=start_time, end=end_time, freq='S')\n"
     ]
    },
    {
     "name": "stdout",
     "output_type": "stream",
     "text": [
      "✅ Saved to s3://s3-assetcare-bucket/features_store/transformed/2024-07/DWA_INVERTER_RUNNING_20250502_060435.parquet\n",
      "✅ Saved to s3://s3-assetcare-bucket/features_store/digital_intervals/2024-07/DWA_INVERTER_RUNNING_20250502_060435.parquet\n",
      "✅ Logged digital tag: DWA_INVERTER_RUNNING\n",
      "*********\n",
      "🏃 View run Transforming_DWA_INVERTER_RUNNING_2024-07 at: https://ap-southeast-1.experiments.sagemaker.aws/#/experiments/15/runs/6d44bb6344e5484785d2045e35ad4fe3\n",
      "🧪 View experiment at: https://ap-southeast-1.experiments.sagemaker.aws/#/experiments/15\n",
      "🏃 View run 1.1 Digital Input at: https://ap-southeast-1.experiments.sagemaker.aws/#/experiments/15/runs/a5aa7bac83c54d9590e0fce6392af647\n",
      "🧪 View experiment at: https://ap-southeast-1.experiments.sagemaker.aws/#/experiments/15\n",
      "=========================\n",
      "DWB_INVERTER_RUNNING\n",
      "Processing row 0\n"
     ]
    },
    {
     "name": "stderr",
     "output_type": "stream",
     "text": [
      "/home/sagemaker-user/preprocessing/transform.py:39: FutureWarning: 'S' is deprecated and will be removed in a future version, please use 's' instead.\n",
      "  time_range = pd.date_range(start=start_time, end=end_time, freq='S')\n"
     ]
    },
    {
     "name": "stdout",
     "output_type": "stream",
     "text": [
      "✅ Saved to s3://s3-assetcare-bucket/features_store/transformed/2024-07/DWB_INVERTER_RUNNING_20250502_060722.parquet\n",
      "start time has some values\n",
      "✅ Saved to s3://s3-assetcare-bucket/features_store/digital_intervals/2024-07/DWB_INVERTER_RUNNING_20250502_060722.parquet\n",
      "✅ Logged digital tag: DWB_INVERTER_RUNNING\n",
      "*********\n",
      "🏃 View run Transforming_DWB_INVERTER_RUNNING_2024-07 at: https://ap-southeast-1.experiments.sagemaker.aws/#/experiments/15/runs/222810466fa3460d867c7efe719ce754\n",
      "🧪 View experiment at: https://ap-southeast-1.experiments.sagemaker.aws/#/experiments/15\n",
      "🏃 View run 1.1 Digital Input at: https://ap-southeast-1.experiments.sagemaker.aws/#/experiments/15/runs/a5aa7bac83c54d9590e0fce6392af647\n",
      "🧪 View experiment at: https://ap-southeast-1.experiments.sagemaker.aws/#/experiments/15\n",
      "=========================\n",
      "DWC_INVERTER_RUNNING\n",
      "Processing row 0\n"
     ]
    },
    {
     "name": "stderr",
     "output_type": "stream",
     "text": [
      "/home/sagemaker-user/preprocessing/transform.py:39: FutureWarning: 'S' is deprecated and will be removed in a future version, please use 's' instead.\n",
      "  time_range = pd.date_range(start=start_time, end=end_time, freq='S')\n"
     ]
    },
    {
     "name": "stdout",
     "output_type": "stream",
     "text": [
      "✅ Saved to s3://s3-assetcare-bucket/features_store/transformed/2024-07/DWC_INVERTER_RUNNING_20250502_061022.parquet\n",
      "start time has some values\n",
      "✅ Saved to s3://s3-assetcare-bucket/features_store/digital_intervals/2024-07/DWC_INVERTER_RUNNING_20250502_061022.parquet\n",
      "✅ Logged digital tag: DWC_INVERTER_RUNNING\n",
      "*********\n",
      "🏃 View run Transforming_DWC_INVERTER_RUNNING_2024-07 at: https://ap-southeast-1.experiments.sagemaker.aws/#/experiments/15/runs/c81915b5b5b545dd86ff1e52be8c1422\n",
      "🧪 View experiment at: https://ap-southeast-1.experiments.sagemaker.aws/#/experiments/15\n",
      "🏃 View run 1.1 Digital Input at: https://ap-southeast-1.experiments.sagemaker.aws/#/experiments/15/runs/a5aa7bac83c54d9590e0fce6392af647\n",
      "🧪 View experiment at: https://ap-southeast-1.experiments.sagemaker.aws/#/experiments/15\n",
      "=========================\n",
      "2024-08\n",
      "s3://s3-assetcare-bucket/features_store/transformed/2024-08/\n",
      "DWA_INVERTER_RUNNING\n",
      "Processing row 0\n"
     ]
    },
    {
     "name": "stderr",
     "output_type": "stream",
     "text": [
      "/home/sagemaker-user/preprocessing/transform.py:39: FutureWarning: 'S' is deprecated and will be removed in a future version, please use 's' instead.\n",
      "  time_range = pd.date_range(start=start_time, end=end_time, freq='S')\n"
     ]
    },
    {
     "name": "stdout",
     "output_type": "stream",
     "text": [
      "✅ Saved to s3://s3-assetcare-bucket/features_store/transformed/2024-08/DWA_INVERTER_RUNNING_20250502_061323.parquet\n",
      "✅ Saved to s3://s3-assetcare-bucket/features_store/digital_intervals/2024-08/DWA_INVERTER_RUNNING_20250502_061323.parquet\n",
      "✅ Logged digital tag: DWA_INVERTER_RUNNING\n",
      "*********\n",
      "🏃 View run Transforming_DWA_INVERTER_RUNNING_2024-08 at: https://ap-southeast-1.experiments.sagemaker.aws/#/experiments/15/runs/0c4170205077428b8d8961653f788a60\n",
      "🧪 View experiment at: https://ap-southeast-1.experiments.sagemaker.aws/#/experiments/15\n",
      "🏃 View run 1.1 Digital Input at: https://ap-southeast-1.experiments.sagemaker.aws/#/experiments/15/runs/a5aa7bac83c54d9590e0fce6392af647\n",
      "🧪 View experiment at: https://ap-southeast-1.experiments.sagemaker.aws/#/experiments/15\n",
      "=========================\n",
      "DWB_INVERTER_RUNNING\n",
      "Processing row 0\n"
     ]
    },
    {
     "name": "stderr",
     "output_type": "stream",
     "text": [
      "/home/sagemaker-user/preprocessing/transform.py:39: FutureWarning: 'S' is deprecated and will be removed in a future version, please use 's' instead.\n",
      "  time_range = pd.date_range(start=start_time, end=end_time, freq='S')\n"
     ]
    },
    {
     "name": "stdout",
     "output_type": "stream",
     "text": [
      "✅ Saved to s3://s3-assetcare-bucket/features_store/transformed/2024-08/DWB_INVERTER_RUNNING_20250502_061609.parquet\n",
      "✅ Saved to s3://s3-assetcare-bucket/features_store/digital_intervals/2024-08/DWB_INVERTER_RUNNING_20250502_061609.parquet\n",
      "✅ Logged digital tag: DWB_INVERTER_RUNNING\n",
      "*********\n",
      "🏃 View run Transforming_DWB_INVERTER_RUNNING_2024-08 at: https://ap-southeast-1.experiments.sagemaker.aws/#/experiments/15/runs/40f7a07d05184e63a1825e5410dc1764\n",
      "🧪 View experiment at: https://ap-southeast-1.experiments.sagemaker.aws/#/experiments/15\n",
      "🏃 View run 1.1 Digital Input at: https://ap-southeast-1.experiments.sagemaker.aws/#/experiments/15/runs/a5aa7bac83c54d9590e0fce6392af647\n",
      "🧪 View experiment at: https://ap-southeast-1.experiments.sagemaker.aws/#/experiments/15\n",
      "=========================\n",
      "DWC_INVERTER_RUNNING\n",
      "Processing row 0\n"
     ]
    },
    {
     "name": "stderr",
     "output_type": "stream",
     "text": [
      "/home/sagemaker-user/preprocessing/transform.py:39: FutureWarning: 'S' is deprecated and will be removed in a future version, please use 's' instead.\n",
      "  time_range = pd.date_range(start=start_time, end=end_time, freq='S')\n"
     ]
    },
    {
     "name": "stdout",
     "output_type": "stream",
     "text": [
      "✅ Saved to s3://s3-assetcare-bucket/features_store/transformed/2024-08/DWC_INVERTER_RUNNING_20250502_061902.parquet\n",
      "✅ Saved to s3://s3-assetcare-bucket/features_store/digital_intervals/2024-08/DWC_INVERTER_RUNNING_20250502_061902.parquet\n",
      "✅ Logged digital tag: DWC_INVERTER_RUNNING\n",
      "*********\n",
      "🏃 View run Transforming_DWC_INVERTER_RUNNING_2024-08 at: https://ap-southeast-1.experiments.sagemaker.aws/#/experiments/15/runs/e66bd4f2c8af46528bf436d728372004\n",
      "🧪 View experiment at: https://ap-southeast-1.experiments.sagemaker.aws/#/experiments/15\n",
      "🏃 View run 1.1 Digital Input at: https://ap-southeast-1.experiments.sagemaker.aws/#/experiments/15/runs/a5aa7bac83c54d9590e0fce6392af647\n",
      "🧪 View experiment at: https://ap-southeast-1.experiments.sagemaker.aws/#/experiments/15\n",
      "=========================\n",
      "2024-09\n",
      "s3://s3-assetcare-bucket/features_store/transformed/2024-09/\n",
      "DWA_INVERTER_RUNNING\n",
      "Processing row 0\n"
     ]
    },
    {
     "name": "stderr",
     "output_type": "stream",
     "text": [
      "/home/sagemaker-user/preprocessing/transform.py:39: FutureWarning: 'S' is deprecated and will be removed in a future version, please use 's' instead.\n",
      "  time_range = pd.date_range(start=start_time, end=end_time, freq='S')\n"
     ]
    },
    {
     "name": "stdout",
     "output_type": "stream",
     "text": [
      "✅ Saved to s3://s3-assetcare-bucket/features_store/transformed/2024-09/DWA_INVERTER_RUNNING_20250502_062149.parquet\n",
      "✅ Saved to s3://s3-assetcare-bucket/features_store/digital_intervals/2024-09/DWA_INVERTER_RUNNING_20250502_062149.parquet\n",
      "✅ Logged digital tag: DWA_INVERTER_RUNNING\n",
      "*********\n",
      "🏃 View run Transforming_DWA_INVERTER_RUNNING_2024-09 at: https://ap-southeast-1.experiments.sagemaker.aws/#/experiments/15/runs/9478b7bed23645d4bdd9371aa5f3ed26\n",
      "🧪 View experiment at: https://ap-southeast-1.experiments.sagemaker.aws/#/experiments/15\n",
      "🏃 View run 1.1 Digital Input at: https://ap-southeast-1.experiments.sagemaker.aws/#/experiments/15/runs/a5aa7bac83c54d9590e0fce6392af647\n",
      "🧪 View experiment at: https://ap-southeast-1.experiments.sagemaker.aws/#/experiments/15\n",
      "=========================\n",
      "DWB_INVERTER_RUNNING\n",
      "Processing row 0\n"
     ]
    },
    {
     "name": "stderr",
     "output_type": "stream",
     "text": [
      "/home/sagemaker-user/preprocessing/transform.py:39: FutureWarning: 'S' is deprecated and will be removed in a future version, please use 's' instead.\n",
      "  time_range = pd.date_range(start=start_time, end=end_time, freq='S')\n"
     ]
    },
    {
     "name": "stdout",
     "output_type": "stream",
     "text": [
      "✅ Saved to s3://s3-assetcare-bucket/features_store/transformed/2024-09/DWB_INVERTER_RUNNING_20250502_062324.parquet\n",
      "✅ Saved to s3://s3-assetcare-bucket/features_store/digital_intervals/2024-09/DWB_INVERTER_RUNNING_20250502_062324.parquet\n",
      "✅ Logged digital tag: DWB_INVERTER_RUNNING\n",
      "*********\n",
      "🏃 View run Transforming_DWB_INVERTER_RUNNING_2024-09 at: https://ap-southeast-1.experiments.sagemaker.aws/#/experiments/15/runs/0336187007be4a1399fb63873a53811d\n",
      "🧪 View experiment at: https://ap-southeast-1.experiments.sagemaker.aws/#/experiments/15\n",
      "🏃 View run 1.1 Digital Input at: https://ap-southeast-1.experiments.sagemaker.aws/#/experiments/15/runs/a5aa7bac83c54d9590e0fce6392af647\n",
      "🧪 View experiment at: https://ap-southeast-1.experiments.sagemaker.aws/#/experiments/15\n",
      "=========================\n",
      "DWC_INVERTER_RUNNING\n",
      "Processing row 0\n"
     ]
    },
    {
     "name": "stderr",
     "output_type": "stream",
     "text": [
      "/home/sagemaker-user/preprocessing/transform.py:39: FutureWarning: 'S' is deprecated and will be removed in a future version, please use 's' instead.\n",
      "  time_range = pd.date_range(start=start_time, end=end_time, freq='S')\n"
     ]
    },
    {
     "name": "stdout",
     "output_type": "stream",
     "text": [
      "✅ Saved to s3://s3-assetcare-bucket/features_store/transformed/2024-09/DWC_INVERTER_RUNNING_20250502_062457.parquet\n",
      "✅ Saved to s3://s3-assetcare-bucket/features_store/digital_intervals/2024-09/DWC_INVERTER_RUNNING_20250502_062457.parquet\n",
      "✅ Logged digital tag: DWC_INVERTER_RUNNING\n",
      "*********\n",
      "🏃 View run Transforming_DWC_INVERTER_RUNNING_2024-09 at: https://ap-southeast-1.experiments.sagemaker.aws/#/experiments/15/runs/35b5a26b2d094d5fb85ce5da85764646\n",
      "🧪 View experiment at: https://ap-southeast-1.experiments.sagemaker.aws/#/experiments/15\n",
      "🏃 View run 1.1 Digital Input at: https://ap-southeast-1.experiments.sagemaker.aws/#/experiments/15/runs/a5aa7bac83c54d9590e0fce6392af647\n",
      "🧪 View experiment at: https://ap-southeast-1.experiments.sagemaker.aws/#/experiments/15\n",
      "=========================\n",
      "2024-10\n",
      "s3://s3-assetcare-bucket/features_store/transformed/2024-10/\n",
      "DWA_INVERTER_RUNNING\n",
      "Processing row 0\n"
     ]
    },
    {
     "name": "stderr",
     "output_type": "stream",
     "text": [
      "/home/sagemaker-user/preprocessing/transform.py:39: FutureWarning: 'S' is deprecated and will be removed in a future version, please use 's' instead.\n",
      "  time_range = pd.date_range(start=start_time, end=end_time, freq='S')\n"
     ]
    },
    {
     "name": "stdout",
     "output_type": "stream",
     "text": [
      "✅ Saved to s3://s3-assetcare-bucket/features_store/transformed/2024-10/DWA_INVERTER_RUNNING_20250502_062631.parquet\n",
      "✅ Saved to s3://s3-assetcare-bucket/features_store/digital_intervals/2024-10/DWA_INVERTER_RUNNING_20250502_062631.parquet\n",
      "✅ Logged digital tag: DWA_INVERTER_RUNNING\n",
      "*********\n",
      "🏃 View run Transforming_DWA_INVERTER_RUNNING_2024-10 at: https://ap-southeast-1.experiments.sagemaker.aws/#/experiments/15/runs/3eea84eb998b43d0a871be78d856cc38\n",
      "🧪 View experiment at: https://ap-southeast-1.experiments.sagemaker.aws/#/experiments/15\n",
      "🏃 View run 1.1 Digital Input at: https://ap-southeast-1.experiments.sagemaker.aws/#/experiments/15/runs/a5aa7bac83c54d9590e0fce6392af647\n",
      "🧪 View experiment at: https://ap-southeast-1.experiments.sagemaker.aws/#/experiments/15\n",
      "=========================\n",
      "DWB_INVERTER_RUNNING\n",
      "Processing row 0\n"
     ]
    },
    {
     "name": "stderr",
     "output_type": "stream",
     "text": [
      "/home/sagemaker-user/preprocessing/transform.py:39: FutureWarning: 'S' is deprecated and will be removed in a future version, please use 's' instead.\n",
      "  time_range = pd.date_range(start=start_time, end=end_time, freq='S')\n"
     ]
    },
    {
     "name": "stdout",
     "output_type": "stream",
     "text": [
      "✅ Saved to s3://s3-assetcare-bucket/features_store/transformed/2024-10/DWB_INVERTER_RUNNING_20250502_062924.parquet\n",
      "✅ Saved to s3://s3-assetcare-bucket/features_store/digital_intervals/2024-10/DWB_INVERTER_RUNNING_20250502_062924.parquet\n",
      "✅ Logged digital tag: DWB_INVERTER_RUNNING\n",
      "*********\n",
      "🏃 View run Transforming_DWB_INVERTER_RUNNING_2024-10 at: https://ap-southeast-1.experiments.sagemaker.aws/#/experiments/15/runs/d2d2a9d99da94b4f8b723c77491f70a8\n",
      "🧪 View experiment at: https://ap-southeast-1.experiments.sagemaker.aws/#/experiments/15\n",
      "🏃 View run 1.1 Digital Input at: https://ap-southeast-1.experiments.sagemaker.aws/#/experiments/15/runs/a5aa7bac83c54d9590e0fce6392af647\n",
      "🧪 View experiment at: https://ap-southeast-1.experiments.sagemaker.aws/#/experiments/15\n",
      "=========================\n",
      "DWC_INVERTER_RUNNING\n",
      "Processing row 0\n"
     ]
    },
    {
     "name": "stderr",
     "output_type": "stream",
     "text": [
      "/home/sagemaker-user/preprocessing/transform.py:39: FutureWarning: 'S' is deprecated and will be removed in a future version, please use 's' instead.\n",
      "  time_range = pd.date_range(start=start_time, end=end_time, freq='S')\n"
     ]
    },
    {
     "name": "stdout",
     "output_type": "stream",
     "text": [
      "✅ Saved to s3://s3-assetcare-bucket/features_store/transformed/2024-10/DWC_INVERTER_RUNNING_20250502_063213.parquet\n",
      "✅ Saved to s3://s3-assetcare-bucket/features_store/digital_intervals/2024-10/DWC_INVERTER_RUNNING_20250502_063213.parquet\n",
      "✅ Logged digital tag: DWC_INVERTER_RUNNING\n",
      "*********\n",
      "🏃 View run Transforming_DWC_INVERTER_RUNNING_2024-10 at: https://ap-southeast-1.experiments.sagemaker.aws/#/experiments/15/runs/f059bc04a3a142d6b511dfbdd5c088c4\n",
      "🧪 View experiment at: https://ap-southeast-1.experiments.sagemaker.aws/#/experiments/15\n",
      "🏃 View run 1.1 Digital Input at: https://ap-southeast-1.experiments.sagemaker.aws/#/experiments/15/runs/a5aa7bac83c54d9590e0fce6392af647\n",
      "🧪 View experiment at: https://ap-southeast-1.experiments.sagemaker.aws/#/experiments/15\n",
      "=========================\n",
      "2024-11\n",
      "s3://s3-assetcare-bucket/features_store/transformed/2024-11/\n",
      "DWA_INVERTER_RUNNING\n",
      "Processing row 0\n"
     ]
    },
    {
     "name": "stderr",
     "output_type": "stream",
     "text": [
      "/home/sagemaker-user/preprocessing/transform.py:39: FutureWarning: 'S' is deprecated and will be removed in a future version, please use 's' instead.\n",
      "  time_range = pd.date_range(start=start_time, end=end_time, freq='S')\n"
     ]
    },
    {
     "name": "stdout",
     "output_type": "stream",
     "text": [
      "✅ Saved to s3://s3-assetcare-bucket/features_store/transformed/2024-11/DWA_INVERTER_RUNNING_20250502_063509.parquet\n",
      "✅ Saved to s3://s3-assetcare-bucket/features_store/digital_intervals/2024-11/DWA_INVERTER_RUNNING_20250502_063509.parquet\n",
      "✅ Logged digital tag: DWA_INVERTER_RUNNING\n",
      "*********\n",
      "🏃 View run Transforming_DWA_INVERTER_RUNNING_2024-11 at: https://ap-southeast-1.experiments.sagemaker.aws/#/experiments/15/runs/8981ebdd1eb847639fc2faadb62d1dc0\n",
      "🧪 View experiment at: https://ap-southeast-1.experiments.sagemaker.aws/#/experiments/15\n",
      "🏃 View run 1.1 Digital Input at: https://ap-southeast-1.experiments.sagemaker.aws/#/experiments/15/runs/a5aa7bac83c54d9590e0fce6392af647\n",
      "🧪 View experiment at: https://ap-southeast-1.experiments.sagemaker.aws/#/experiments/15\n",
      "=========================\n",
      "DWB_INVERTER_RUNNING\n",
      "Processing row 0\n"
     ]
    },
    {
     "name": "stderr",
     "output_type": "stream",
     "text": [
      "/home/sagemaker-user/preprocessing/transform.py:39: FutureWarning: 'S' is deprecated and will be removed in a future version, please use 's' instead.\n",
      "  time_range = pd.date_range(start=start_time, end=end_time, freq='S')\n"
     ]
    },
    {
     "name": "stdout",
     "output_type": "stream",
     "text": [
      "✅ Saved to s3://s3-assetcare-bucket/features_store/transformed/2024-11/DWB_INVERTER_RUNNING_20250502_063754.parquet\n",
      "start time has some values\n",
      "✅ Saved to s3://s3-assetcare-bucket/features_store/digital_intervals/2024-11/DWB_INVERTER_RUNNING_20250502_063754.parquet\n",
      "✅ Logged digital tag: DWB_INVERTER_RUNNING\n",
      "*********\n",
      "🏃 View run Transforming_DWB_INVERTER_RUNNING_2024-11 at: https://ap-southeast-1.experiments.sagemaker.aws/#/experiments/15/runs/02c40fd4d60d4b69a64b5e54d1fa1e69\n",
      "🧪 View experiment at: https://ap-southeast-1.experiments.sagemaker.aws/#/experiments/15\n",
      "🏃 View run 1.1 Digital Input at: https://ap-southeast-1.experiments.sagemaker.aws/#/experiments/15/runs/a5aa7bac83c54d9590e0fce6392af647\n",
      "🧪 View experiment at: https://ap-southeast-1.experiments.sagemaker.aws/#/experiments/15\n",
      "=========================\n",
      "DWC_INVERTER_RUNNING\n",
      "Processing row 0\n"
     ]
    },
    {
     "name": "stderr",
     "output_type": "stream",
     "text": [
      "/home/sagemaker-user/preprocessing/transform.py:39: FutureWarning: 'S' is deprecated and will be removed in a future version, please use 's' instead.\n",
      "  time_range = pd.date_range(start=start_time, end=end_time, freq='S')\n"
     ]
    },
    {
     "name": "stdout",
     "output_type": "stream",
     "text": [
      "✅ Saved to s3://s3-assetcare-bucket/features_store/transformed/2024-11/DWC_INVERTER_RUNNING_20250502_064050.parquet\n",
      "start time has some values\n",
      "✅ Saved to s3://s3-assetcare-bucket/features_store/digital_intervals/2024-11/DWC_INVERTER_RUNNING_20250502_064050.parquet\n",
      "✅ Logged digital tag: DWC_INVERTER_RUNNING\n",
      "*********\n",
      "🏃 View run Transforming_DWC_INVERTER_RUNNING_2024-11 at: https://ap-southeast-1.experiments.sagemaker.aws/#/experiments/15/runs/2e2448901cc24eb2b27226c7286941b7\n",
      "🧪 View experiment at: https://ap-southeast-1.experiments.sagemaker.aws/#/experiments/15\n",
      "🏃 View run 1.1 Digital Input at: https://ap-southeast-1.experiments.sagemaker.aws/#/experiments/15/runs/a5aa7bac83c54d9590e0fce6392af647\n",
      "🧪 View experiment at: https://ap-southeast-1.experiments.sagemaker.aws/#/experiments/15\n",
      "=========================\n",
      "2024-12\n",
      "s3://s3-assetcare-bucket/features_store/transformed/2024-12/\n",
      "DWA_INVERTER_RUNNING\n",
      "Processing row 0\n"
     ]
    },
    {
     "name": "stderr",
     "output_type": "stream",
     "text": [
      "/home/sagemaker-user/preprocessing/transform.py:39: FutureWarning: 'S' is deprecated and will be removed in a future version, please use 's' instead.\n",
      "  time_range = pd.date_range(start=start_time, end=end_time, freq='S')\n"
     ]
    },
    {
     "name": "stdout",
     "output_type": "stream",
     "text": [
      "✅ Saved to s3://s3-assetcare-bucket/features_store/transformed/2024-12/DWA_INVERTER_RUNNING_20250502_064344.parquet\n",
      "✅ Saved to s3://s3-assetcare-bucket/features_store/digital_intervals/2024-12/DWA_INVERTER_RUNNING_20250502_064344.parquet\n",
      "✅ Logged digital tag: DWA_INVERTER_RUNNING\n",
      "*********\n",
      "🏃 View run Transforming_DWA_INVERTER_RUNNING_2024-12 at: https://ap-southeast-1.experiments.sagemaker.aws/#/experiments/15/runs/86ec3f9b93cf49da98969e815b0c7bfb\n",
      "🧪 View experiment at: https://ap-southeast-1.experiments.sagemaker.aws/#/experiments/15\n",
      "🏃 View run 1.1 Digital Input at: https://ap-southeast-1.experiments.sagemaker.aws/#/experiments/15/runs/a5aa7bac83c54d9590e0fce6392af647\n",
      "🧪 View experiment at: https://ap-southeast-1.experiments.sagemaker.aws/#/experiments/15\n",
      "=========================\n",
      "DWB_INVERTER_RUNNING\n",
      "Processing row 0\n"
     ]
    },
    {
     "name": "stderr",
     "output_type": "stream",
     "text": [
      "/home/sagemaker-user/preprocessing/transform.py:39: FutureWarning: 'S' is deprecated and will be removed in a future version, please use 's' instead.\n",
      "  time_range = pd.date_range(start=start_time, end=end_time, freq='S')\n"
     ]
    },
    {
     "name": "stdout",
     "output_type": "stream",
     "text": [
      "✅ Saved to s3://s3-assetcare-bucket/features_store/transformed/2024-12/DWB_INVERTER_RUNNING_20250502_064641.parquet\n",
      "✅ Saved to s3://s3-assetcare-bucket/features_store/digital_intervals/2024-12/DWB_INVERTER_RUNNING_20250502_064641.parquet\n",
      "✅ Logged digital tag: DWB_INVERTER_RUNNING\n",
      "*********\n",
      "🏃 View run Transforming_DWB_INVERTER_RUNNING_2024-12 at: https://ap-southeast-1.experiments.sagemaker.aws/#/experiments/15/runs/1b05ac917ecf4cf0bf1886e04aa1e85e\n",
      "🧪 View experiment at: https://ap-southeast-1.experiments.sagemaker.aws/#/experiments/15\n",
      "🏃 View run 1.1 Digital Input at: https://ap-southeast-1.experiments.sagemaker.aws/#/experiments/15/runs/a5aa7bac83c54d9590e0fce6392af647\n",
      "🧪 View experiment at: https://ap-southeast-1.experiments.sagemaker.aws/#/experiments/15\n",
      "=========================\n",
      "DWC_INVERTER_RUNNING\n",
      "Processing row 0\n"
     ]
    },
    {
     "name": "stderr",
     "output_type": "stream",
     "text": [
      "/home/sagemaker-user/preprocessing/transform.py:39: FutureWarning: 'S' is deprecated and will be removed in a future version, please use 's' instead.\n",
      "  time_range = pd.date_range(start=start_time, end=end_time, freq='S')\n"
     ]
    },
    {
     "name": "stdout",
     "output_type": "stream",
     "text": [
      "✅ Saved to s3://s3-assetcare-bucket/features_store/transformed/2024-12/DWC_INVERTER_RUNNING_20250502_064946.parquet\n",
      "✅ Saved to s3://s3-assetcare-bucket/features_store/digital_intervals/2024-12/DWC_INVERTER_RUNNING_20250502_064946.parquet\n",
      "✅ Logged digital tag: DWC_INVERTER_RUNNING\n",
      "*********\n",
      "🏃 View run Transforming_DWC_INVERTER_RUNNING_2024-12 at: https://ap-southeast-1.experiments.sagemaker.aws/#/experiments/15/runs/3af425f963ad4ef78eea50028a33a1f6\n",
      "🧪 View experiment at: https://ap-southeast-1.experiments.sagemaker.aws/#/experiments/15\n",
      "🏃 View run 1.1 Digital Input at: https://ap-southeast-1.experiments.sagemaker.aws/#/experiments/15/runs/a5aa7bac83c54d9590e0fce6392af647\n",
      "🧪 View experiment at: https://ap-southeast-1.experiments.sagemaker.aws/#/experiments/15\n",
      "=========================\n",
      "2025-01\n",
      "s3://s3-assetcare-bucket/features_store/transformed/2025-01/\n",
      "DWA_INVERTER_RUNNING\n",
      "Processing row 0\n"
     ]
    },
    {
     "name": "stderr",
     "output_type": "stream",
     "text": [
      "/home/sagemaker-user/preprocessing/transform.py:39: FutureWarning: 'S' is deprecated and will be removed in a future version, please use 's' instead.\n",
      "  time_range = pd.date_range(start=start_time, end=end_time, freq='S')\n"
     ]
    },
    {
     "name": "stdout",
     "output_type": "stream",
     "text": [
      "✅ Saved to s3://s3-assetcare-bucket/features_store/transformed/2025-01/DWA_INVERTER_RUNNING_20250502_065250.parquet\n",
      "✅ Saved to s3://s3-assetcare-bucket/features_store/digital_intervals/2025-01/DWA_INVERTER_RUNNING_20250502_065250.parquet\n",
      "✅ Logged digital tag: DWA_INVERTER_RUNNING\n",
      "*********\n",
      "🏃 View run Transforming_DWA_INVERTER_RUNNING_2025-01 at: https://ap-southeast-1.experiments.sagemaker.aws/#/experiments/15/runs/ddd2cf0529fc41ef9c31f392b924384e\n",
      "🧪 View experiment at: https://ap-southeast-1.experiments.sagemaker.aws/#/experiments/15\n",
      "🏃 View run 1.1 Digital Input at: https://ap-southeast-1.experiments.sagemaker.aws/#/experiments/15/runs/a5aa7bac83c54d9590e0fce6392af647\n",
      "🧪 View experiment at: https://ap-southeast-1.experiments.sagemaker.aws/#/experiments/15\n",
      "=========================\n",
      "DWB_INVERTER_RUNNING\n",
      "Processing row 0\n"
     ]
    },
    {
     "name": "stderr",
     "output_type": "stream",
     "text": [
      "/home/sagemaker-user/preprocessing/transform.py:39: FutureWarning: 'S' is deprecated and will be removed in a future version, please use 's' instead.\n",
      "  time_range = pd.date_range(start=start_time, end=end_time, freq='S')\n"
     ]
    },
    {
     "name": "stdout",
     "output_type": "stream",
     "text": [
      "✅ Saved to s3://s3-assetcare-bucket/features_store/transformed/2025-01/DWB_INVERTER_RUNNING_20250502_065548.parquet\n",
      "✅ Saved to s3://s3-assetcare-bucket/features_store/digital_intervals/2025-01/DWB_INVERTER_RUNNING_20250502_065548.parquet\n",
      "✅ Logged digital tag: DWB_INVERTER_RUNNING\n",
      "*********\n",
      "🏃 View run Transforming_DWB_INVERTER_RUNNING_2025-01 at: https://ap-southeast-1.experiments.sagemaker.aws/#/experiments/15/runs/dff577a4f19d481596a3dfa61c477360\n",
      "🧪 View experiment at: https://ap-southeast-1.experiments.sagemaker.aws/#/experiments/15\n",
      "🏃 View run 1.1 Digital Input at: https://ap-southeast-1.experiments.sagemaker.aws/#/experiments/15/runs/a5aa7bac83c54d9590e0fce6392af647\n",
      "🧪 View experiment at: https://ap-southeast-1.experiments.sagemaker.aws/#/experiments/15\n",
      "=========================\n",
      "DWC_INVERTER_RUNNING\n",
      "Processing row 0\n"
     ]
    },
    {
     "name": "stderr",
     "output_type": "stream",
     "text": [
      "/home/sagemaker-user/preprocessing/transform.py:39: FutureWarning: 'S' is deprecated and will be removed in a future version, please use 's' instead.\n",
      "  time_range = pd.date_range(start=start_time, end=end_time, freq='S')\n"
     ]
    },
    {
     "name": "stdout",
     "output_type": "stream",
     "text": [
      "✅ Saved to s3://s3-assetcare-bucket/features_store/transformed/2025-01/DWC_INVERTER_RUNNING_20250502_065851.parquet\n",
      "✅ Saved to s3://s3-assetcare-bucket/features_store/digital_intervals/2025-01/DWC_INVERTER_RUNNING_20250502_065851.parquet\n",
      "✅ Logged digital tag: DWC_INVERTER_RUNNING\n",
      "*********\n",
      "🏃 View run Transforming_DWC_INVERTER_RUNNING_2025-01 at: https://ap-southeast-1.experiments.sagemaker.aws/#/experiments/15/runs/759aa221085648d7a6b7c96bddb38bda\n",
      "🧪 View experiment at: https://ap-southeast-1.experiments.sagemaker.aws/#/experiments/15\n",
      "🏃 View run 1.1 Digital Input at: https://ap-southeast-1.experiments.sagemaker.aws/#/experiments/15/runs/a5aa7bac83c54d9590e0fce6392af647\n",
      "🧪 View experiment at: https://ap-southeast-1.experiments.sagemaker.aws/#/experiments/15\n",
      "=========================\n",
      "2025-02\n",
      "s3://s3-assetcare-bucket/features_store/transformed/2025-02/\n",
      "DWA_INVERTER_RUNNING\n",
      "Processing row 0\n"
     ]
    },
    {
     "name": "stderr",
     "output_type": "stream",
     "text": [
      "/home/sagemaker-user/preprocessing/transform.py:39: FutureWarning: 'S' is deprecated and will be removed in a future version, please use 's' instead.\n",
      "  time_range = pd.date_range(start=start_time, end=end_time, freq='S')\n"
     ]
    },
    {
     "name": "stdout",
     "output_type": "stream",
     "text": [
      "✅ Saved to s3://s3-assetcare-bucket/features_store/transformed/2025-02/DWA_INVERTER_RUNNING_20250502_070203.parquet\n",
      "✅ Saved to s3://s3-assetcare-bucket/features_store/digital_intervals/2025-02/DWA_INVERTER_RUNNING_20250502_070203.parquet\n",
      "✅ Logged digital tag: DWA_INVERTER_RUNNING\n",
      "*********\n",
      "🏃 View run Transforming_DWA_INVERTER_RUNNING_2025-02 at: https://ap-southeast-1.experiments.sagemaker.aws/#/experiments/15/runs/497fdd30555846ff94f96c10e6e6a46d\n",
      "🧪 View experiment at: https://ap-southeast-1.experiments.sagemaker.aws/#/experiments/15\n",
      "🏃 View run 1.1 Digital Input at: https://ap-southeast-1.experiments.sagemaker.aws/#/experiments/15/runs/a5aa7bac83c54d9590e0fce6392af647\n",
      "🧪 View experiment at: https://ap-southeast-1.experiments.sagemaker.aws/#/experiments/15\n",
      "=========================\n",
      "DWB_INVERTER_RUNNING\n",
      "Processing row 0\n"
     ]
    },
    {
     "name": "stderr",
     "output_type": "stream",
     "text": [
      "/home/sagemaker-user/preprocessing/transform.py:39: FutureWarning: 'S' is deprecated and will be removed in a future version, please use 's' instead.\n",
      "  time_range = pd.date_range(start=start_time, end=end_time, freq='S')\n"
     ]
    },
    {
     "name": "stdout",
     "output_type": "stream",
     "text": [
      "✅ Saved to s3://s3-assetcare-bucket/features_store/transformed/2025-02/DWB_INVERTER_RUNNING_20250502_070407.parquet\n",
      "start time has some values\n",
      "✅ Saved to s3://s3-assetcare-bucket/features_store/digital_intervals/2025-02/DWB_INVERTER_RUNNING_20250502_070407.parquet\n",
      "✅ Logged digital tag: DWB_INVERTER_RUNNING\n",
      "*********\n",
      "🏃 View run Transforming_DWB_INVERTER_RUNNING_2025-02 at: https://ap-southeast-1.experiments.sagemaker.aws/#/experiments/15/runs/32f22ee49fc9471c9d8e0429bcfb3a51\n",
      "🧪 View experiment at: https://ap-southeast-1.experiments.sagemaker.aws/#/experiments/15\n",
      "🏃 View run 1.1 Digital Input at: https://ap-southeast-1.experiments.sagemaker.aws/#/experiments/15/runs/a5aa7bac83c54d9590e0fce6392af647\n",
      "🧪 View experiment at: https://ap-southeast-1.experiments.sagemaker.aws/#/experiments/15\n",
      "=========================\n",
      "DWC_INVERTER_RUNNING\n",
      "Processing row 0\n"
     ]
    },
    {
     "name": "stderr",
     "output_type": "stream",
     "text": [
      "/home/sagemaker-user/preprocessing/transform.py:39: FutureWarning: 'S' is deprecated and will be removed in a future version, please use 's' instead.\n",
      "  time_range = pd.date_range(start=start_time, end=end_time, freq='S')\n"
     ]
    },
    {
     "name": "stdout",
     "output_type": "stream",
     "text": [
      "✅ Saved to s3://s3-assetcare-bucket/features_store/transformed/2025-02/DWC_INVERTER_RUNNING_20250502_070654.parquet\n",
      "start time has some values\n",
      "✅ Saved to s3://s3-assetcare-bucket/features_store/digital_intervals/2025-02/DWC_INVERTER_RUNNING_20250502_070654.parquet\n",
      "✅ Logged digital tag: DWC_INVERTER_RUNNING\n",
      "*********\n",
      "🏃 View run Transforming_DWC_INVERTER_RUNNING_2025-02 at: https://ap-southeast-1.experiments.sagemaker.aws/#/experiments/15/runs/d8184d173bc249d1a7447b9ef5c3af90\n",
      "🧪 View experiment at: https://ap-southeast-1.experiments.sagemaker.aws/#/experiments/15\n",
      "🏃 View run 1.1 Digital Input at: https://ap-southeast-1.experiments.sagemaker.aws/#/experiments/15/runs/a5aa7bac83c54d9590e0fce6392af647\n",
      "🧪 View experiment at: https://ap-southeast-1.experiments.sagemaker.aws/#/experiments/15\n",
      "=========================\n",
      "2025-03\n",
      "s3://s3-assetcare-bucket/features_store/transformed/2025-03/\n",
      "DWA_INVERTER_RUNNING\n",
      "Processing row 0\n"
     ]
    },
    {
     "name": "stderr",
     "output_type": "stream",
     "text": [
      "/home/sagemaker-user/preprocessing/transform.py:39: FutureWarning: 'S' is deprecated and will be removed in a future version, please use 's' instead.\n",
      "  time_range = pd.date_range(start=start_time, end=end_time, freq='S')\n"
     ]
    },
    {
     "name": "stdout",
     "output_type": "stream",
     "text": [
      "✅ Saved to s3://s3-assetcare-bucket/features_store/transformed/2025-03/DWA_INVERTER_RUNNING_20250502_070939.parquet\n",
      "✅ Saved to s3://s3-assetcare-bucket/features_store/digital_intervals/2025-03/DWA_INVERTER_RUNNING_20250502_070939.parquet\n",
      "✅ Logged digital tag: DWA_INVERTER_RUNNING\n",
      "*********\n",
      "🏃 View run Transforming_DWA_INVERTER_RUNNING_2025-03 at: https://ap-southeast-1.experiments.sagemaker.aws/#/experiments/15/runs/4577b1f06c674e99bb60907ba45d9185\n",
      "🧪 View experiment at: https://ap-southeast-1.experiments.sagemaker.aws/#/experiments/15\n",
      "🏃 View run 1.1 Digital Input at: https://ap-southeast-1.experiments.sagemaker.aws/#/experiments/15/runs/a5aa7bac83c54d9590e0fce6392af647\n",
      "🧪 View experiment at: https://ap-southeast-1.experiments.sagemaker.aws/#/experiments/15\n",
      "=========================\n",
      "DWB_INVERTER_RUNNING\n",
      "Processing row 0\n"
     ]
    },
    {
     "name": "stderr",
     "output_type": "stream",
     "text": [
      "/home/sagemaker-user/preprocessing/transform.py:39: FutureWarning: 'S' is deprecated and will be removed in a future version, please use 's' instead.\n",
      "  time_range = pd.date_range(start=start_time, end=end_time, freq='S')\n"
     ]
    },
    {
     "name": "stdout",
     "output_type": "stream",
     "text": [
      "✅ Saved to s3://s3-assetcare-bucket/features_store/transformed/2025-03/DWB_INVERTER_RUNNING_20250502_071152.parquet\n",
      "✅ Saved to s3://s3-assetcare-bucket/features_store/digital_intervals/2025-03/DWB_INVERTER_RUNNING_20250502_071152.parquet\n",
      "✅ Logged digital tag: DWB_INVERTER_RUNNING\n",
      "*********\n",
      "🏃 View run Transforming_DWB_INVERTER_RUNNING_2025-03 at: https://ap-southeast-1.experiments.sagemaker.aws/#/experiments/15/runs/6c8bf2549c8e44f7ad4e815ceb5c0ae1\n",
      "🧪 View experiment at: https://ap-southeast-1.experiments.sagemaker.aws/#/experiments/15\n",
      "🏃 View run 1.1 Digital Input at: https://ap-southeast-1.experiments.sagemaker.aws/#/experiments/15/runs/a5aa7bac83c54d9590e0fce6392af647\n",
      "🧪 View experiment at: https://ap-southeast-1.experiments.sagemaker.aws/#/experiments/15\n",
      "=========================\n",
      "DWC_INVERTER_RUNNING\n",
      "Processing row 0\n"
     ]
    },
    {
     "name": "stderr",
     "output_type": "stream",
     "text": [
      "/home/sagemaker-user/preprocessing/transform.py:39: FutureWarning: 'S' is deprecated and will be removed in a future version, please use 's' instead.\n",
      "  time_range = pd.date_range(start=start_time, end=end_time, freq='S')\n"
     ]
    },
    {
     "name": "stdout",
     "output_type": "stream",
     "text": [
      "✅ Saved to s3://s3-assetcare-bucket/features_store/transformed/2025-03/DWC_INVERTER_RUNNING_20250502_071414.parquet\n",
      "✅ Saved to s3://s3-assetcare-bucket/features_store/digital_intervals/2025-03/DWC_INVERTER_RUNNING_20250502_071414.parquet\n",
      "✅ Logged digital tag: DWC_INVERTER_RUNNING\n",
      "*********\n",
      "🏃 View run Transforming_DWC_INVERTER_RUNNING_2025-03 at: https://ap-southeast-1.experiments.sagemaker.aws/#/experiments/15/runs/0a8603616d6948e5907180f824145c89\n",
      "🧪 View experiment at: https://ap-southeast-1.experiments.sagemaker.aws/#/experiments/15\n",
      "🏃 View run 1.1 Digital Input at: https://ap-southeast-1.experiments.sagemaker.aws/#/experiments/15/runs/a5aa7bac83c54d9590e0fce6392af647\n",
      "🧪 View experiment at: https://ap-southeast-1.experiments.sagemaker.aws/#/experiments/15\n",
      "=========================\n"
     ]
    }
   ],
   "source": [
    "for date_folder in date_folders:\n",
    "    print(date_folder)\n",
    "    source_parquet_folder = f\"s3://s3-assetcare-bucket/features_store/raw_merge_excel_to_parquet/{date_folder}/\"\n",
    "    destination_parquet_folder = f\"s3://s3-assetcare-bucket/features_store/transformed/{date_folder}/\"\n",
    "    \n",
    "    print(destination_parquet_folder)\n",
    "    for tag_name in tag_name_digital:\n",
    "        print(tag_name)\n",
    "        current_time = get_current_timestamp_string()\n",
    "        intervals_folder = f\"s3://s3-assetcare-bucket/features_store/digital_intervals/{date_folder}/\"\n",
    "        \n",
    "        tracking_transforming_input2(\n",
    "            source_parquet_folder=source_parquet_folder,\n",
    "            tag_name=tag_name,\n",
    "            destination_parquet_folder=destination_parquet_folder,\n",
    "            intervals_folder=intervals_folder,\n",
    "            date_folder=date_folder,\n",
    "            current_time=current_time,\n",
    "            experiment_name=experiment_name_RegularInterval,\n",
    "            parent_run_id=runID_RegularInterval_DigitalInput\n",
    "        )\n",
    "\n",
    "        print(\"=========================\")"
   ]
  },
  {
   "cell_type": "code",
   "execution_count": null,
   "id": "0ef9bd29-947f-4003-827a-277f16d8529c",
   "metadata": {},
   "outputs": [],
   "source": []
  },
  {
   "cell_type": "markdown",
   "id": "562256a9-f483-4fb8-a7aa-c3daa7524e13",
   "metadata": {},
   "source": [
    "### 1.2 Analog Input"
   ]
  },
  {
   "cell_type": "code",
   "execution_count": null,
   "id": "e777cd73-436b-4ad4-8f50-e430fb9a6f2d",
   "metadata": {
    "scrolled": true
   },
   "outputs": [
    {
     "data": {
      "text/plain": [
       "['DWA_DSU_DC_VOLTAGE',\n",
       " 'DWB_ACTUAL_POWER',\n",
       " 'DWC_ACTUAL_POWER',\n",
       " 'DWC_DSU_ACTUAL_POWER',\n",
       " 'DWC_DSU_MAIN_AC_VOLTAGE',\n",
       " 'AUXILIARY_HPU_AI_PRESSURE_VALUE',\n",
       " 'AUXILIARY_RIGAIR_AI_AIRPRESSURE_VALUE',\n",
       " 'DRAWWORKS_ADSBRAKE_BRKCTRL_BRK1_IO_SRVBRKPRESSPV_VALUE',\n",
       " 'DRAWWORKS_ADSBRAKE_BRKCTRL_BRK2_IO_SRVBRKPRESSPV_VALUE',\n",
       " 'TOP_DRIVE_CONVERTERS_IN_ED_DELTAP_IO_FEEDBACK_VALUE',\n",
       " 'TD_ACTUAL_MOTOR_TEMP',\n",
       " 'TD_ACTUAL_MOTOR_TORQUE',\n",
       " 'TD_ACTUAL_POWER',\n",
       " 'TD_DSU_ACTUAL_POWER',\n",
       " 'TOP_DRIVE_CONVERTERS_IN_ED_ROP_IO_FEEDBACK_VALUE',\n",
       " 'DWA_ACTUAL_MOTOR_TEMP',\n",
       " 'DWB_ACTUAL_MOTOR_TEMP',\n",
       " 'DRILL_SPEED',\n",
       " 'DW_AMBIENT_TEMP',\n",
       " 'DW_GEARBOX1_LO_PRESS',\n",
       " 'DW_GEARBOX2_LO_PRESS',\n",
       " 'DWA_RTD1_TEMP',\n",
       " 'DWA_RTD3_TEMP',\n",
       " 'DWB_RTD3_TEMP',\n",
       " 'DWC_RTD2_TEMP',\n",
       " 'DWC_RTD3_TEMP',\n",
       " 'TD_RTD1_TEMP',\n",
       " 'TD_RTD2_TEMP',\n",
       " 'TD_RTD3_TEMP',\n",
       " 'DWA_DSU_MAIN_AC_VOLTAGE',\n",
       " 'DWB_ACTUAL_MOTOR_TORQUE',\n",
       " 'DWB_DSU_ACTUAL_POWER',\n",
       " 'DWB_DSU_DC_VOLTAGE',\n",
       " 'DWB_DSU_MAIN_AC_VOLTAGE',\n",
       " 'DWC_ACTUAL_MOTOR_TORQUE',\n",
       " 'DWC_DSU_DC_VOLTAGE',\n",
       " 'TD_DSU_DC_VOLTAGE',\n",
       " 'TD_DSU_MAIN_AC_VOLTAGE',\n",
       " 'DRAWWORKS_ADSBRAKE_BRKCTRL_BRK1_IO_PRKBRKPRESSPV_VALUE',\n",
       " 'DRAWWORKS_ADSHOOKLOAD_MEM_ACTIVEHOOKLOADPV',\n",
       " 'TOP_DRIVE_CONVERTERS_IN_ED_WOB_IO_FEEDBACK_VALUE',\n",
       " 'DRAWWORKS_ADSBRAKE_BRKCTRL_BRK2_IO_PRKBRKPRESSPV_VALUE',\n",
       " 'DRAWWORKS_HMI_IO_SHOWDRUMRPM',\n",
       " 'DWA_ACTUAL_MOTOR_TORQUE',\n",
       " 'DWA_ACTUAL_POWER',\n",
       " 'DWA_DSU_ACTUAL_POWER',\n",
       " 'TD_ACTUAL_MOTOR_SPEED',\n",
       " 'TOP_DRIVE_OPENSTATION_TDS_RI_MAKEUPTORQUE_VALUE',\n",
       " 'TOP_DRIVE_OPENSTATION_TDS_RI_THROTTLE_VALUE',\n",
       " 'BIT_POSITION_VALUE',\n",
       " 'DWC_ACTUAL_MOTOR_TEMP',\n",
       " 'DW_GEARBOX1_LO_TEMP',\n",
       " 'DW_GEARBOX2_LO_TEMP',\n",
       " 'DWA_EXHAUST_TEMP',\n",
       " 'DWA_RTD2_TEMP',\n",
       " 'DWB_EXHAUST_TEMP',\n",
       " 'DWB_RTD1_TEMP',\n",
       " 'DWB_RTD2_TEMP',\n",
       " 'DWC_EXHAUST_TEMP',\n",
       " 'DWC_RTD1_TEMP']"
      ]
     },
     "execution_count": 30,
     "metadata": {},
     "output_type": "execute_result"
    }
   ],
   "source": [
    "tag_name_analog"
   ]
  },
  {
   "cell_type": "code",
   "execution_count": null,
   "id": "18bb3d40-035f-459a-ad77-ad93c8bc4102",
   "metadata": {},
   "outputs": [
    {
     "data": {
      "text/plain": [
       "['2024-04',\n",
       " '2024-05',\n",
       " '2024-06',\n",
       " '2024-07',\n",
       " '2024-08',\n",
       " '2024-09',\n",
       " '2024-10',\n",
       " '2024-11',\n",
       " '2024-12',\n",
       " '2025-01',\n",
       " '2025-02',\n",
       " '2025-03']"
      ]
     },
     "execution_count": 31,
     "metadata": {},
     "output_type": "execute_result"
    }
   ],
   "source": [
    "date_folders"
   ]
  },
  {
   "cell_type": "code",
   "execution_count": null,
   "id": "57377de4-c0d8-4c66-b0aa-c64a4c3e6be9",
   "metadata": {
    "scrolled": true
   },
   "outputs": [
    {
     "name": "stdout",
     "output_type": "stream",
     "text": [
      "2024-04\n",
      "s3://s3-assetcare-bucket/features_store/transformed/2024-04/\n",
      "DWA_DSU_DC_VOLTAGE\n",
      "Processing row 0\n"
     ]
    },
    {
     "name": "stderr",
     "output_type": "stream",
     "text": [
      "/home/sagemaker-user/preprocessing/transform.py:39: FutureWarning: 'S' is deprecated and will be removed in a future version, please use 's' instead.\n",
      "  time_range = pd.date_range(start=start_time, end=end_time, freq='S')\n"
     ]
    },
    {
     "name": "stdout",
     "output_type": "stream",
     "text": [
      "✅ Saved to s3://s3-assetcare-bucket/features_store/transformed/2024-04/DWA_DSU_DC_VOLTAGE_20250502_071635.parquet\n",
      "start time has some values\n",
      "✅ Saved to s3://s3-assetcare-bucket/features_store/digital_intervals/2024-04/DWA_DSU_DC_VOLTAGE_20250502_071635.parquet\n",
      "✅ Logged digital tag: DWA_DSU_DC_VOLTAGE\n",
      "*********\n",
      "🏃 View run Transforming_DWA_DSU_DC_VOLTAGE_2024-04 at: https://ap-southeast-1.experiments.sagemaker.aws/#/experiments/15/runs/c410e9365ff64b0db805a32718eccfce\n",
      "🧪 View experiment at: https://ap-southeast-1.experiments.sagemaker.aws/#/experiments/15\n",
      "🏃 View run 1.2 Analog Input at: https://ap-southeast-1.experiments.sagemaker.aws/#/experiments/15/runs/1f1f4191b21349f68cb206076be84c66\n",
      "🧪 View experiment at: https://ap-southeast-1.experiments.sagemaker.aws/#/experiments/15\n",
      "=========================\n",
      "DWB_ACTUAL_POWER\n",
      "Processing row 0\n"
     ]
    },
    {
     "name": "stderr",
     "output_type": "stream",
     "text": [
      "/home/sagemaker-user/preprocessing/transform.py:39: FutureWarning: 'S' is deprecated and will be removed in a future version, please use 's' instead.\n",
      "  time_range = pd.date_range(start=start_time, end=end_time, freq='S')\n"
     ]
    },
    {
     "name": "stdout",
     "output_type": "stream",
     "text": [
      "✅ Saved to s3://s3-assetcare-bucket/features_store/transformed/2024-04/DWB_ACTUAL_POWER_20250502_071645.parquet\n",
      "✅ Saved to s3://s3-assetcare-bucket/features_store/digital_intervals/2024-04/DWB_ACTUAL_POWER_20250502_071645.parquet\n",
      "✅ Logged digital tag: DWB_ACTUAL_POWER\n",
      "*********\n",
      "🏃 View run Transforming_DWB_ACTUAL_POWER_2024-04 at: https://ap-southeast-1.experiments.sagemaker.aws/#/experiments/15/runs/5f937393d16b476aae95732569685172\n",
      "🧪 View experiment at: https://ap-southeast-1.experiments.sagemaker.aws/#/experiments/15\n",
      "🏃 View run 1.2 Analog Input at: https://ap-southeast-1.experiments.sagemaker.aws/#/experiments/15/runs/1f1f4191b21349f68cb206076be84c66\n",
      "🧪 View experiment at: https://ap-southeast-1.experiments.sagemaker.aws/#/experiments/15\n",
      "=========================\n",
      "DWC_ACTUAL_POWER\n",
      "Processing row 0\n"
     ]
    },
    {
     "name": "stderr",
     "output_type": "stream",
     "text": [
      "/home/sagemaker-user/preprocessing/transform.py:39: FutureWarning: 'S' is deprecated and will be removed in a future version, please use 's' instead.\n",
      "  time_range = pd.date_range(start=start_time, end=end_time, freq='S')\n"
     ]
    },
    {
     "name": "stdout",
     "output_type": "stream",
     "text": [
      "✅ Saved to s3://s3-assetcare-bucket/features_store/transformed/2024-04/DWC_ACTUAL_POWER_20250502_071648.parquet\n",
      "✅ Saved to s3://s3-assetcare-bucket/features_store/digital_intervals/2024-04/DWC_ACTUAL_POWER_20250502_071648.parquet\n",
      "✅ Logged digital tag: DWC_ACTUAL_POWER\n",
      "*********\n",
      "🏃 View run Transforming_DWC_ACTUAL_POWER_2024-04 at: https://ap-southeast-1.experiments.sagemaker.aws/#/experiments/15/runs/33aebf70bfd3435fa69f1f768a546131\n",
      "🧪 View experiment at: https://ap-southeast-1.experiments.sagemaker.aws/#/experiments/15\n",
      "🏃 View run 1.2 Analog Input at: https://ap-southeast-1.experiments.sagemaker.aws/#/experiments/15/runs/1f1f4191b21349f68cb206076be84c66\n",
      "🧪 View experiment at: https://ap-southeast-1.experiments.sagemaker.aws/#/experiments/15\n",
      "=========================\n",
      "DWC_DSU_ACTUAL_POWER\n",
      "Processing row 0\n"
     ]
    },
    {
     "name": "stderr",
     "output_type": "stream",
     "text": [
      "/home/sagemaker-user/preprocessing/transform.py:39: FutureWarning: 'S' is deprecated and will be removed in a future version, please use 's' instead.\n",
      "  time_range = pd.date_range(start=start_time, end=end_time, freq='S')\n"
     ]
    },
    {
     "name": "stdout",
     "output_type": "stream",
     "text": [
      "✅ Saved to s3://s3-assetcare-bucket/features_store/transformed/2024-04/DWC_DSU_ACTUAL_POWER_20250502_071651.parquet\n",
      "start time has some values\n",
      "✅ Saved to s3://s3-assetcare-bucket/features_store/digital_intervals/2024-04/DWC_DSU_ACTUAL_POWER_20250502_071651.parquet\n",
      "✅ Logged digital tag: DWC_DSU_ACTUAL_POWER\n",
      "*********\n",
      "🏃 View run Transforming_DWC_DSU_ACTUAL_POWER_2024-04 at: https://ap-southeast-1.experiments.sagemaker.aws/#/experiments/15/runs/f98938c39c7a448e9512b1c61c649feb\n",
      "🧪 View experiment at: https://ap-southeast-1.experiments.sagemaker.aws/#/experiments/15\n",
      "🏃 View run 1.2 Analog Input at: https://ap-southeast-1.experiments.sagemaker.aws/#/experiments/15/runs/1f1f4191b21349f68cb206076be84c66\n",
      "🧪 View experiment at: https://ap-southeast-1.experiments.sagemaker.aws/#/experiments/15\n",
      "=========================\n",
      "DWC_DSU_MAIN_AC_VOLTAGE\n",
      "Processing row 0\n"
     ]
    },
    {
     "name": "stderr",
     "output_type": "stream",
     "text": [
      "/home/sagemaker-user/preprocessing/transform.py:39: FutureWarning: 'S' is deprecated and will be removed in a future version, please use 's' instead.\n",
      "  time_range = pd.date_range(start=start_time, end=end_time, freq='S')\n"
     ]
    },
    {
     "name": "stdout",
     "output_type": "stream",
     "text": [
      "✅ Saved to s3://s3-assetcare-bucket/features_store/transformed/2024-04/DWC_DSU_MAIN_AC_VOLTAGE_20250502_071653.parquet\n",
      "start time has some values\n",
      "✅ Saved to s3://s3-assetcare-bucket/features_store/digital_intervals/2024-04/DWC_DSU_MAIN_AC_VOLTAGE_20250502_071653.parquet\n",
      "✅ Logged digital tag: DWC_DSU_MAIN_AC_VOLTAGE\n",
      "*********\n",
      "🏃 View run Transforming_DWC_DSU_MAIN_AC_VOLTAGE_2024-04 at: https://ap-southeast-1.experiments.sagemaker.aws/#/experiments/15/runs/ff94d3dfbc4a448a976dfecd645ef54c\n",
      "🧪 View experiment at: https://ap-southeast-1.experiments.sagemaker.aws/#/experiments/15\n",
      "🏃 View run 1.2 Analog Input at: https://ap-southeast-1.experiments.sagemaker.aws/#/experiments/15/runs/1f1f4191b21349f68cb206076be84c66\n",
      "🧪 View experiment at: https://ap-southeast-1.experiments.sagemaker.aws/#/experiments/15\n",
      "=========================\n",
      "AUXILIARY_HPU_AI_PRESSURE_VALUE\n",
      "⚠️ DataFrame is empty. Skipping transform.\n",
      "✅ Saved to s3://s3-assetcare-bucket/features_store/transformed/2024-04/AUXILIARY_HPU_AI_PRESSURE_VALUE_20250502_071704.parquet\n",
      "✅ Saved to s3://s3-assetcare-bucket/features_store/digital_intervals/2024-04/AUXILIARY_HPU_AI_PRESSURE_VALUE_20250502_071704.parquet\n",
      "✅ Logged digital tag: AUXILIARY_HPU_AI_PRESSURE_VALUE\n",
      "*********\n",
      "🏃 View run Transforming_AUXILIARY_HPU_AI_PRESSURE_VALUE_2024-04 at: https://ap-southeast-1.experiments.sagemaker.aws/#/experiments/15/runs/30bc5ee944d84e658866c8c3bf45a7a3\n",
      "🧪 View experiment at: https://ap-southeast-1.experiments.sagemaker.aws/#/experiments/15\n",
      "🏃 View run 1.2 Analog Input at: https://ap-southeast-1.experiments.sagemaker.aws/#/experiments/15/runs/1f1f4191b21349f68cb206076be84c66\n",
      "🧪 View experiment at: https://ap-southeast-1.experiments.sagemaker.aws/#/experiments/15\n",
      "=========================\n",
      "AUXILIARY_RIGAIR_AI_AIRPRESSURE_VALUE\n",
      "⚠️ DataFrame is empty. Skipping transform.\n",
      "✅ Saved to s3://s3-assetcare-bucket/features_store/transformed/2024-04/AUXILIARY_RIGAIR_AI_AIRPRESSURE_VALUE_20250502_071706.parquet\n",
      "✅ Saved to s3://s3-assetcare-bucket/features_store/digital_intervals/2024-04/AUXILIARY_RIGAIR_AI_AIRPRESSURE_VALUE_20250502_071706.parquet\n",
      "✅ Logged digital tag: AUXILIARY_RIGAIR_AI_AIRPRESSURE_VALUE\n",
      "*********\n",
      "🏃 View run Transforming_AUXILIARY_RIGAIR_AI_AIRPRESSURE_VALUE_2024-04 at: https://ap-southeast-1.experiments.sagemaker.aws/#/experiments/15/runs/aca8cff523aa4e72b59a78dfe511290d\n",
      "🧪 View experiment at: https://ap-southeast-1.experiments.sagemaker.aws/#/experiments/15\n",
      "🏃 View run 1.2 Analog Input at: https://ap-southeast-1.experiments.sagemaker.aws/#/experiments/15/runs/1f1f4191b21349f68cb206076be84c66\n",
      "🧪 View experiment at: https://ap-southeast-1.experiments.sagemaker.aws/#/experiments/15\n",
      "=========================\n",
      "DRAWWORKS_ADSBRAKE_BRKCTRL_BRK1_IO_SRVBRKPRESSPV_VALUE\n",
      "⚠️ DataFrame is empty. Skipping transform.\n",
      "✅ Saved to s3://s3-assetcare-bucket/features_store/transformed/2024-04/DRAWWORKS_ADSBRAKE_BRKCTRL_BRK1_IO_SRVBRKPRESSPV_VALUE_20250502_071708.parquet\n",
      "✅ Saved to s3://s3-assetcare-bucket/features_store/digital_intervals/2024-04/DRAWWORKS_ADSBRAKE_BRKCTRL_BRK1_IO_SRVBRKPRESSPV_VALUE_20250502_071708.parquet\n",
      "✅ Logged digital tag: DRAWWORKS_ADSBRAKE_BRKCTRL_BRK1_IO_SRVBRKPRESSPV_VALUE\n",
      "*********\n",
      "🏃 View run Transforming_DRAWWORKS_ADSBRAKE_BRKCTRL_BRK1_IO_SRVBRKPRESSPV_VALUE_2024-04 at: https://ap-southeast-1.experiments.sagemaker.aws/#/experiments/15/runs/13f0188886c042d78a7503ecd5c8417a\n",
      "🧪 View experiment at: https://ap-southeast-1.experiments.sagemaker.aws/#/experiments/15\n",
      "🏃 View run 1.2 Analog Input at: https://ap-southeast-1.experiments.sagemaker.aws/#/experiments/15/runs/1f1f4191b21349f68cb206076be84c66\n",
      "🧪 View experiment at: https://ap-southeast-1.experiments.sagemaker.aws/#/experiments/15\n",
      "=========================\n",
      "DRAWWORKS_ADSBRAKE_BRKCTRL_BRK2_IO_SRVBRKPRESSPV_VALUE\n",
      "⚠️ DataFrame is empty. Skipping transform.\n",
      "✅ Saved to s3://s3-assetcare-bucket/features_store/transformed/2024-04/DRAWWORKS_ADSBRAKE_BRKCTRL_BRK2_IO_SRVBRKPRESSPV_VALUE_20250502_071711.parquet\n",
      "✅ Saved to s3://s3-assetcare-bucket/features_store/digital_intervals/2024-04/DRAWWORKS_ADSBRAKE_BRKCTRL_BRK2_IO_SRVBRKPRESSPV_VALUE_20250502_071711.parquet\n",
      "✅ Logged digital tag: DRAWWORKS_ADSBRAKE_BRKCTRL_BRK2_IO_SRVBRKPRESSPV_VALUE\n",
      "*********\n",
      "🏃 View run Transforming_DRAWWORKS_ADSBRAKE_BRKCTRL_BRK2_IO_SRVBRKPRESSPV_VALUE_2024-04 at: https://ap-southeast-1.experiments.sagemaker.aws/#/experiments/15/runs/088620645df34c17b6fd5894ad14e7ea\n",
      "🧪 View experiment at: https://ap-southeast-1.experiments.sagemaker.aws/#/experiments/15\n",
      "🏃 View run 1.2 Analog Input at: https://ap-southeast-1.experiments.sagemaker.aws/#/experiments/15/runs/1f1f4191b21349f68cb206076be84c66\n",
      "🧪 View experiment at: https://ap-southeast-1.experiments.sagemaker.aws/#/experiments/15\n",
      "=========================\n",
      "TOP_DRIVE_CONVERTERS_IN_ED_DELTAP_IO_FEEDBACK_VALUE\n",
      "⚠️ DataFrame is empty. Skipping transform.\n",
      "✅ Saved to s3://s3-assetcare-bucket/features_store/transformed/2024-04/TOP_DRIVE_CONVERTERS_IN_ED_DELTAP_IO_FEEDBACK_VALUE_20250502_071713.parquet\n",
      "✅ Saved to s3://s3-assetcare-bucket/features_store/digital_intervals/2024-04/TOP_DRIVE_CONVERTERS_IN_ED_DELTAP_IO_FEEDBACK_VALUE_20250502_071713.parquet\n",
      "✅ Logged digital tag: TOP_DRIVE_CONVERTERS_IN_ED_DELTAP_IO_FEEDBACK_VALUE\n",
      "*********\n",
      "🏃 View run Transforming_TOP_DRIVE_CONVERTERS_IN_ED_DELTAP_IO_FEEDBACK_VALUE_2024-04 at: https://ap-southeast-1.experiments.sagemaker.aws/#/experiments/15/runs/fda991e87599472dabc5380e3be36f90\n",
      "🧪 View experiment at: https://ap-southeast-1.experiments.sagemaker.aws/#/experiments/15\n",
      "🏃 View run 1.2 Analog Input at: https://ap-southeast-1.experiments.sagemaker.aws/#/experiments/15/runs/1f1f4191b21349f68cb206076be84c66\n",
      "🧪 View experiment at: https://ap-southeast-1.experiments.sagemaker.aws/#/experiments/15\n",
      "=========================\n",
      "TD_ACTUAL_MOTOR_TEMP\n",
      "✅ Saved to s3://s3-assetcare-bucket/features_store/transformed/2024-04/TD_ACTUAL_MOTOR_TEMP_20250502_071715.parquet\n",
      "✅ Saved to s3://s3-assetcare-bucket/features_store/digital_intervals/2024-04/TD_ACTUAL_MOTOR_TEMP_20250502_071715.parquet\n",
      "✅ Logged digital tag: TD_ACTUAL_MOTOR_TEMP\n",
      "*********\n",
      "🏃 View run Transforming_TD_ACTUAL_MOTOR_TEMP_2024-04 at: https://ap-southeast-1.experiments.sagemaker.aws/#/experiments/15/runs/ba77e8f7263f44fa9307998f42b48ec8\n",
      "🧪 View experiment at: https://ap-southeast-1.experiments.sagemaker.aws/#/experiments/15\n",
      "🏃 View run 1.2 Analog Input at: https://ap-southeast-1.experiments.sagemaker.aws/#/experiments/15/runs/1f1f4191b21349f68cb206076be84c66\n",
      "🧪 View experiment at: https://ap-southeast-1.experiments.sagemaker.aws/#/experiments/15\n",
      "=========================\n",
      "TD_ACTUAL_MOTOR_TORQUE\n",
      "✅ Saved to s3://s3-assetcare-bucket/features_store/transformed/2024-04/TD_ACTUAL_MOTOR_TORQUE_20250502_071717.parquet\n",
      "✅ Saved to s3://s3-assetcare-bucket/features_store/digital_intervals/2024-04/TD_ACTUAL_MOTOR_TORQUE_20250502_071717.parquet\n",
      "✅ Logged digital tag: TD_ACTUAL_MOTOR_TORQUE\n",
      "*********\n",
      "🏃 View run Transforming_TD_ACTUAL_MOTOR_TORQUE_2024-04 at: https://ap-southeast-1.experiments.sagemaker.aws/#/experiments/15/runs/400a5041a7a9414ead6ed15926d65302\n",
      "🧪 View experiment at: https://ap-southeast-1.experiments.sagemaker.aws/#/experiments/15\n",
      "🏃 View run 1.2 Analog Input at: https://ap-southeast-1.experiments.sagemaker.aws/#/experiments/15/runs/1f1f4191b21349f68cb206076be84c66\n",
      "🧪 View experiment at: https://ap-southeast-1.experiments.sagemaker.aws/#/experiments/15\n",
      "=========================\n",
      "TD_ACTUAL_POWER\n",
      "✅ Saved to s3://s3-assetcare-bucket/features_store/transformed/2024-04/TD_ACTUAL_POWER_20250502_071720.parquet\n",
      "✅ Saved to s3://s3-assetcare-bucket/features_store/digital_intervals/2024-04/TD_ACTUAL_POWER_20250502_071720.parquet\n",
      "✅ Logged digital tag: TD_ACTUAL_POWER\n",
      "*********\n",
      "🏃 View run Transforming_TD_ACTUAL_POWER_2024-04 at: https://ap-southeast-1.experiments.sagemaker.aws/#/experiments/15/runs/7d0d603c514942b58ab2fce9fe445160\n",
      "🧪 View experiment at: https://ap-southeast-1.experiments.sagemaker.aws/#/experiments/15\n",
      "🏃 View run 1.2 Analog Input at: https://ap-southeast-1.experiments.sagemaker.aws/#/experiments/15/runs/1f1f4191b21349f68cb206076be84c66\n",
      "🧪 View experiment at: https://ap-southeast-1.experiments.sagemaker.aws/#/experiments/15\n",
      "=========================\n",
      "TD_DSU_ACTUAL_POWER\n",
      "✅ Saved to s3://s3-assetcare-bucket/features_store/transformed/2024-04/TD_DSU_ACTUAL_POWER_20250502_071722.parquet\n",
      "✅ Saved to s3://s3-assetcare-bucket/features_store/digital_intervals/2024-04/TD_DSU_ACTUAL_POWER_20250502_071722.parquet\n",
      "✅ Logged digital tag: TD_DSU_ACTUAL_POWER\n",
      "*********\n",
      "🏃 View run Transforming_TD_DSU_ACTUAL_POWER_2024-04 at: https://ap-southeast-1.experiments.sagemaker.aws/#/experiments/15/runs/035131616c6f44bd885b2573c1611649\n",
      "🧪 View experiment at: https://ap-southeast-1.experiments.sagemaker.aws/#/experiments/15\n",
      "🏃 View run 1.2 Analog Input at: https://ap-southeast-1.experiments.sagemaker.aws/#/experiments/15/runs/1f1f4191b21349f68cb206076be84c66\n",
      "🧪 View experiment at: https://ap-southeast-1.experiments.sagemaker.aws/#/experiments/15\n",
      "=========================\n",
      "TOP_DRIVE_CONVERTERS_IN_ED_ROP_IO_FEEDBACK_VALUE\n",
      "⚠️ DataFrame is empty. Skipping transform.\n",
      "✅ Saved to s3://s3-assetcare-bucket/features_store/transformed/2024-04/TOP_DRIVE_CONVERTERS_IN_ED_ROP_IO_FEEDBACK_VALUE_20250502_071724.parquet\n",
      "✅ Saved to s3://s3-assetcare-bucket/features_store/digital_intervals/2024-04/TOP_DRIVE_CONVERTERS_IN_ED_ROP_IO_FEEDBACK_VALUE_20250502_071724.parquet\n",
      "✅ Logged digital tag: TOP_DRIVE_CONVERTERS_IN_ED_ROP_IO_FEEDBACK_VALUE\n",
      "*********\n",
      "🏃 View run Transforming_TOP_DRIVE_CONVERTERS_IN_ED_ROP_IO_FEEDBACK_VALUE_2024-04 at: https://ap-southeast-1.experiments.sagemaker.aws/#/experiments/15/runs/b5750d2232054a28a1b23271f2571c55\n",
      "🧪 View experiment at: https://ap-southeast-1.experiments.sagemaker.aws/#/experiments/15\n",
      "🏃 View run 1.2 Analog Input at: https://ap-southeast-1.experiments.sagemaker.aws/#/experiments/15/runs/1f1f4191b21349f68cb206076be84c66\n",
      "🧪 View experiment at: https://ap-southeast-1.experiments.sagemaker.aws/#/experiments/15\n",
      "=========================\n",
      "DWA_ACTUAL_MOTOR_TEMP\n",
      "✅ Saved to s3://s3-assetcare-bucket/features_store/transformed/2024-04/DWA_ACTUAL_MOTOR_TEMP_20250502_071726.parquet\n",
      "✅ Saved to s3://s3-assetcare-bucket/features_store/digital_intervals/2024-04/DWA_ACTUAL_MOTOR_TEMP_20250502_071726.parquet\n",
      "✅ Logged digital tag: DWA_ACTUAL_MOTOR_TEMP\n",
      "*********\n",
      "🏃 View run Transforming_DWA_ACTUAL_MOTOR_TEMP_2024-04 at: https://ap-southeast-1.experiments.sagemaker.aws/#/experiments/15/runs/4b1f17498ed64b0eb3dedd7443d1bde7\n",
      "🧪 View experiment at: https://ap-southeast-1.experiments.sagemaker.aws/#/experiments/15\n",
      "🏃 View run 1.2 Analog Input at: https://ap-southeast-1.experiments.sagemaker.aws/#/experiments/15/runs/1f1f4191b21349f68cb206076be84c66\n",
      "🧪 View experiment at: https://ap-southeast-1.experiments.sagemaker.aws/#/experiments/15\n",
      "=========================\n",
      "DWB_ACTUAL_MOTOR_TEMP\n",
      "✅ Saved to s3://s3-assetcare-bucket/features_store/transformed/2024-04/DWB_ACTUAL_MOTOR_TEMP_20250502_071728.parquet\n",
      "✅ Saved to s3://s3-assetcare-bucket/features_store/digital_intervals/2024-04/DWB_ACTUAL_MOTOR_TEMP_20250502_071728.parquet\n",
      "✅ Logged digital tag: DWB_ACTUAL_MOTOR_TEMP\n",
      "*********\n",
      "🏃 View run Transforming_DWB_ACTUAL_MOTOR_TEMP_2024-04 at: https://ap-southeast-1.experiments.sagemaker.aws/#/experiments/15/runs/924347f21465406ca040d3f6c6fca8d3\n",
      "🧪 View experiment at: https://ap-southeast-1.experiments.sagemaker.aws/#/experiments/15\n",
      "🏃 View run 1.2 Analog Input at: https://ap-southeast-1.experiments.sagemaker.aws/#/experiments/15/runs/1f1f4191b21349f68cb206076be84c66\n",
      "🧪 View experiment at: https://ap-southeast-1.experiments.sagemaker.aws/#/experiments/15\n",
      "=========================\n",
      "DRILL_SPEED\n",
      "⚠️ DataFrame is empty. Skipping transform.\n",
      "✅ Saved to s3://s3-assetcare-bucket/features_store/transformed/2024-04/DRILL_SPEED_20250502_071731.parquet\n",
      "✅ Saved to s3://s3-assetcare-bucket/features_store/digital_intervals/2024-04/DRILL_SPEED_20250502_071731.parquet\n",
      "✅ Logged digital tag: DRILL_SPEED\n",
      "*********\n",
      "🏃 View run Transforming_DRILL_SPEED_2024-04 at: https://ap-southeast-1.experiments.sagemaker.aws/#/experiments/15/runs/47c1233753e54100b7c5f5b87d98fcdc\n",
      "🧪 View experiment at: https://ap-southeast-1.experiments.sagemaker.aws/#/experiments/15\n",
      "🏃 View run 1.2 Analog Input at: https://ap-southeast-1.experiments.sagemaker.aws/#/experiments/15/runs/1f1f4191b21349f68cb206076be84c66\n",
      "🧪 View experiment at: https://ap-southeast-1.experiments.sagemaker.aws/#/experiments/15\n",
      "=========================\n",
      "DW_AMBIENT_TEMP\n",
      "⚠️ DataFrame is empty. Skipping transform.\n",
      "✅ Saved to s3://s3-assetcare-bucket/features_store/transformed/2024-04/DW_AMBIENT_TEMP_20250502_071733.parquet\n",
      "✅ Saved to s3://s3-assetcare-bucket/features_store/digital_intervals/2024-04/DW_AMBIENT_TEMP_20250502_071733.parquet\n",
      "✅ Logged digital tag: DW_AMBIENT_TEMP\n",
      "*********\n",
      "🏃 View run Transforming_DW_AMBIENT_TEMP_2024-04 at: https://ap-southeast-1.experiments.sagemaker.aws/#/experiments/15/runs/669e48870b58475487ea9e2d8ab267d3\n",
      "🧪 View experiment at: https://ap-southeast-1.experiments.sagemaker.aws/#/experiments/15\n",
      "🏃 View run 1.2 Analog Input at: https://ap-southeast-1.experiments.sagemaker.aws/#/experiments/15/runs/1f1f4191b21349f68cb206076be84c66\n",
      "🧪 View experiment at: https://ap-southeast-1.experiments.sagemaker.aws/#/experiments/15\n",
      "=========================\n",
      "DW_GEARBOX1_LO_PRESS\n",
      "⚠️ DataFrame is empty. Skipping transform.\n",
      "✅ Saved to s3://s3-assetcare-bucket/features_store/transformed/2024-04/DW_GEARBOX1_LO_PRESS_20250502_071735.parquet\n",
      "✅ Saved to s3://s3-assetcare-bucket/features_store/digital_intervals/2024-04/DW_GEARBOX1_LO_PRESS_20250502_071735.parquet\n",
      "✅ Logged digital tag: DW_GEARBOX1_LO_PRESS\n",
      "*********\n",
      "🏃 View run Transforming_DW_GEARBOX1_LO_PRESS_2024-04 at: https://ap-southeast-1.experiments.sagemaker.aws/#/experiments/15/runs/9d019acc1109470da4a564ecde231b96\n",
      "🧪 View experiment at: https://ap-southeast-1.experiments.sagemaker.aws/#/experiments/15\n",
      "🏃 View run 1.2 Analog Input at: https://ap-southeast-1.experiments.sagemaker.aws/#/experiments/15/runs/1f1f4191b21349f68cb206076be84c66\n",
      "🧪 View experiment at: https://ap-southeast-1.experiments.sagemaker.aws/#/experiments/15\n",
      "=========================\n",
      "DW_GEARBOX2_LO_PRESS\n",
      "⚠️ DataFrame is empty. Skipping transform.\n",
      "✅ Saved to s3://s3-assetcare-bucket/features_store/transformed/2024-04/DW_GEARBOX2_LO_PRESS_20250502_071737.parquet\n",
      "✅ Saved to s3://s3-assetcare-bucket/features_store/digital_intervals/2024-04/DW_GEARBOX2_LO_PRESS_20250502_071737.parquet\n",
      "✅ Logged digital tag: DW_GEARBOX2_LO_PRESS\n",
      "*********\n",
      "🏃 View run Transforming_DW_GEARBOX2_LO_PRESS_2024-04 at: https://ap-southeast-1.experiments.sagemaker.aws/#/experiments/15/runs/127d2c1d2b1544b5b41ed2df6fb80858\n",
      "🧪 View experiment at: https://ap-southeast-1.experiments.sagemaker.aws/#/experiments/15\n",
      "🏃 View run 1.2 Analog Input at: https://ap-southeast-1.experiments.sagemaker.aws/#/experiments/15/runs/1f1f4191b21349f68cb206076be84c66\n",
      "🧪 View experiment at: https://ap-southeast-1.experiments.sagemaker.aws/#/experiments/15\n",
      "=========================\n",
      "DWA_RTD1_TEMP\n",
      "⚠️ DataFrame is empty. Skipping transform.\n",
      "✅ Saved to s3://s3-assetcare-bucket/features_store/transformed/2024-04/DWA_RTD1_TEMP_20250502_071740.parquet\n",
      "✅ Saved to s3://s3-assetcare-bucket/features_store/digital_intervals/2024-04/DWA_RTD1_TEMP_20250502_071740.parquet\n",
      "✅ Logged digital tag: DWA_RTD1_TEMP\n",
      "*********\n",
      "🏃 View run Transforming_DWA_RTD1_TEMP_2024-04 at: https://ap-southeast-1.experiments.sagemaker.aws/#/experiments/15/runs/803310fd55c44e6787292d7e1c53804f\n",
      "🧪 View experiment at: https://ap-southeast-1.experiments.sagemaker.aws/#/experiments/15\n",
      "🏃 View run 1.2 Analog Input at: https://ap-southeast-1.experiments.sagemaker.aws/#/experiments/15/runs/1f1f4191b21349f68cb206076be84c66\n",
      "🧪 View experiment at: https://ap-southeast-1.experiments.sagemaker.aws/#/experiments/15\n",
      "=========================\n",
      "DWA_RTD3_TEMP\n",
      "⚠️ DataFrame is empty. Skipping transform.\n",
      "✅ Saved to s3://s3-assetcare-bucket/features_store/transformed/2024-04/DWA_RTD3_TEMP_20250502_071742.parquet\n",
      "✅ Saved to s3://s3-assetcare-bucket/features_store/digital_intervals/2024-04/DWA_RTD3_TEMP_20250502_071742.parquet\n",
      "✅ Logged digital tag: DWA_RTD3_TEMP\n",
      "*********\n",
      "🏃 View run Transforming_DWA_RTD3_TEMP_2024-04 at: https://ap-southeast-1.experiments.sagemaker.aws/#/experiments/15/runs/01c2ab0c12ee4588b10aea4bb9b90181\n",
      "🧪 View experiment at: https://ap-southeast-1.experiments.sagemaker.aws/#/experiments/15\n",
      "🏃 View run 1.2 Analog Input at: https://ap-southeast-1.experiments.sagemaker.aws/#/experiments/15/runs/1f1f4191b21349f68cb206076be84c66\n",
      "🧪 View experiment at: https://ap-southeast-1.experiments.sagemaker.aws/#/experiments/15\n",
      "=========================\n",
      "DWB_RTD3_TEMP\n",
      "⚠️ DataFrame is empty. Skipping transform.\n",
      "✅ Saved to s3://s3-assetcare-bucket/features_store/transformed/2024-04/DWB_RTD3_TEMP_20250502_071744.parquet\n",
      "✅ Saved to s3://s3-assetcare-bucket/features_store/digital_intervals/2024-04/DWB_RTD3_TEMP_20250502_071744.parquet\n",
      "✅ Logged digital tag: DWB_RTD3_TEMP\n",
      "*********\n",
      "🏃 View run Transforming_DWB_RTD3_TEMP_2024-04 at: https://ap-southeast-1.experiments.sagemaker.aws/#/experiments/15/runs/c91e6778f41b4500aa8a7d68b46b8a0c\n",
      "🧪 View experiment at: https://ap-southeast-1.experiments.sagemaker.aws/#/experiments/15\n",
      "🏃 View run 1.2 Analog Input at: https://ap-southeast-1.experiments.sagemaker.aws/#/experiments/15/runs/1f1f4191b21349f68cb206076be84c66\n",
      "🧪 View experiment at: https://ap-southeast-1.experiments.sagemaker.aws/#/experiments/15\n",
      "=========================\n",
      "DWC_RTD2_TEMP\n",
      "⚠️ DataFrame is empty. Skipping transform.\n",
      "✅ Saved to s3://s3-assetcare-bucket/features_store/transformed/2024-04/DWC_RTD2_TEMP_20250502_071746.parquet\n",
      "✅ Saved to s3://s3-assetcare-bucket/features_store/digital_intervals/2024-04/DWC_RTD2_TEMP_20250502_071746.parquet\n",
      "✅ Logged digital tag: DWC_RTD2_TEMP\n",
      "*********\n",
      "🏃 View run Transforming_DWC_RTD2_TEMP_2024-04 at: https://ap-southeast-1.experiments.sagemaker.aws/#/experiments/15/runs/246a41109c2a4f969555e6a10ca6ecdd\n",
      "🧪 View experiment at: https://ap-southeast-1.experiments.sagemaker.aws/#/experiments/15\n",
      "🏃 View run 1.2 Analog Input at: https://ap-southeast-1.experiments.sagemaker.aws/#/experiments/15/runs/1f1f4191b21349f68cb206076be84c66\n",
      "🧪 View experiment at: https://ap-southeast-1.experiments.sagemaker.aws/#/experiments/15\n",
      "=========================\n",
      "DWC_RTD3_TEMP\n",
      "⚠️ DataFrame is empty. Skipping transform.\n",
      "✅ Saved to s3://s3-assetcare-bucket/features_store/transformed/2024-04/DWC_RTD3_TEMP_20250502_071749.parquet\n",
      "✅ Saved to s3://s3-assetcare-bucket/features_store/digital_intervals/2024-04/DWC_RTD3_TEMP_20250502_071749.parquet\n",
      "✅ Logged digital tag: DWC_RTD3_TEMP\n",
      "*********\n",
      "🏃 View run Transforming_DWC_RTD3_TEMP_2024-04 at: https://ap-southeast-1.experiments.sagemaker.aws/#/experiments/15/runs/3b5db05d08754673b88d4abfb0195a42\n",
      "🧪 View experiment at: https://ap-southeast-1.experiments.sagemaker.aws/#/experiments/15\n",
      "🏃 View run 1.2 Analog Input at: https://ap-southeast-1.experiments.sagemaker.aws/#/experiments/15/runs/1f1f4191b21349f68cb206076be84c66\n",
      "🧪 View experiment at: https://ap-southeast-1.experiments.sagemaker.aws/#/experiments/15\n",
      "=========================\n",
      "TD_RTD1_TEMP\n",
      "⚠️ DataFrame is empty. Skipping transform.\n",
      "✅ Saved to s3://s3-assetcare-bucket/features_store/transformed/2024-04/TD_RTD1_TEMP_20250502_071751.parquet\n",
      "✅ Saved to s3://s3-assetcare-bucket/features_store/digital_intervals/2024-04/TD_RTD1_TEMP_20250502_071751.parquet\n",
      "✅ Logged digital tag: TD_RTD1_TEMP\n",
      "*********\n",
      "🏃 View run Transforming_TD_RTD1_TEMP_2024-04 at: https://ap-southeast-1.experiments.sagemaker.aws/#/experiments/15/runs/1359fd81029c42f0b659197f2d9a1a97\n",
      "🧪 View experiment at: https://ap-southeast-1.experiments.sagemaker.aws/#/experiments/15\n",
      "🏃 View run 1.2 Analog Input at: https://ap-southeast-1.experiments.sagemaker.aws/#/experiments/15/runs/1f1f4191b21349f68cb206076be84c66\n",
      "🧪 View experiment at: https://ap-southeast-1.experiments.sagemaker.aws/#/experiments/15\n",
      "=========================\n",
      "TD_RTD2_TEMP\n",
      "⚠️ DataFrame is empty. Skipping transform.\n",
      "✅ Saved to s3://s3-assetcare-bucket/features_store/transformed/2024-04/TD_RTD2_TEMP_20250502_071753.parquet\n",
      "✅ Saved to s3://s3-assetcare-bucket/features_store/digital_intervals/2024-04/TD_RTD2_TEMP_20250502_071753.parquet\n",
      "✅ Logged digital tag: TD_RTD2_TEMP\n",
      "*********\n",
      "🏃 View run Transforming_TD_RTD2_TEMP_2024-04 at: https://ap-southeast-1.experiments.sagemaker.aws/#/experiments/15/runs/51fdd76e8d2a48098f9f7960db0a81e2\n",
      "🧪 View experiment at: https://ap-southeast-1.experiments.sagemaker.aws/#/experiments/15\n",
      "🏃 View run 1.2 Analog Input at: https://ap-southeast-1.experiments.sagemaker.aws/#/experiments/15/runs/1f1f4191b21349f68cb206076be84c66\n",
      "🧪 View experiment at: https://ap-southeast-1.experiments.sagemaker.aws/#/experiments/15\n",
      "=========================\n",
      "TD_RTD3_TEMP\n",
      "⚠️ DataFrame is empty. Skipping transform.\n",
      "✅ Saved to s3://s3-assetcare-bucket/features_store/transformed/2024-04/TD_RTD3_TEMP_20250502_071755.parquet\n",
      "✅ Saved to s3://s3-assetcare-bucket/features_store/digital_intervals/2024-04/TD_RTD3_TEMP_20250502_071755.parquet\n",
      "✅ Logged digital tag: TD_RTD3_TEMP\n",
      "*********\n",
      "🏃 View run Transforming_TD_RTD3_TEMP_2024-04 at: https://ap-southeast-1.experiments.sagemaker.aws/#/experiments/15/runs/f27c5732a69e40bbbf4e03883da2c4b1\n",
      "🧪 View experiment at: https://ap-southeast-1.experiments.sagemaker.aws/#/experiments/15\n",
      "🏃 View run 1.2 Analog Input at: https://ap-southeast-1.experiments.sagemaker.aws/#/experiments/15/runs/1f1f4191b21349f68cb206076be84c66\n",
      "🧪 View experiment at: https://ap-southeast-1.experiments.sagemaker.aws/#/experiments/15\n",
      "=========================\n",
      "DWA_DSU_MAIN_AC_VOLTAGE\n",
      "Processing row 0\n"
     ]
    },
    {
     "name": "stderr",
     "output_type": "stream",
     "text": [
      "/home/sagemaker-user/preprocessing/transform.py:39: FutureWarning: 'S' is deprecated and will be removed in a future version, please use 's' instead.\n",
      "  time_range = pd.date_range(start=start_time, end=end_time, freq='S')\n"
     ]
    },
    {
     "name": "stdout",
     "output_type": "stream",
     "text": [
      "✅ Saved to s3://s3-assetcare-bucket/features_store/transformed/2024-04/DWA_DSU_MAIN_AC_VOLTAGE_20250502_071758.parquet\n",
      "start time has some values\n",
      "✅ Saved to s3://s3-assetcare-bucket/features_store/digital_intervals/2024-04/DWA_DSU_MAIN_AC_VOLTAGE_20250502_071758.parquet\n",
      "✅ Logged digital tag: DWA_DSU_MAIN_AC_VOLTAGE\n",
      "*********\n",
      "🏃 View run Transforming_DWA_DSU_MAIN_AC_VOLTAGE_2024-04 at: https://ap-southeast-1.experiments.sagemaker.aws/#/experiments/15/runs/d6f1c88f950d4cc2a2192189e38566fa\n",
      "🧪 View experiment at: https://ap-southeast-1.experiments.sagemaker.aws/#/experiments/15\n",
      "🏃 View run 1.2 Analog Input at: https://ap-southeast-1.experiments.sagemaker.aws/#/experiments/15/runs/1f1f4191b21349f68cb206076be84c66\n",
      "🧪 View experiment at: https://ap-southeast-1.experiments.sagemaker.aws/#/experiments/15\n",
      "=========================\n",
      "DWB_ACTUAL_MOTOR_TORQUE\n",
      "Processing row 0\n"
     ]
    },
    {
     "name": "stderr",
     "output_type": "stream",
     "text": [
      "/home/sagemaker-user/preprocessing/transform.py:39: FutureWarning: 'S' is deprecated and will be removed in a future version, please use 's' instead.\n",
      "  time_range = pd.date_range(start=start_time, end=end_time, freq='S')\n"
     ]
    },
    {
     "name": "stdout",
     "output_type": "stream",
     "text": [
      "✅ Saved to s3://s3-assetcare-bucket/features_store/transformed/2024-04/DWB_ACTUAL_MOTOR_TORQUE_20250502_071808.parquet\n",
      "✅ Saved to s3://s3-assetcare-bucket/features_store/digital_intervals/2024-04/DWB_ACTUAL_MOTOR_TORQUE_20250502_071808.parquet\n",
      "✅ Logged digital tag: DWB_ACTUAL_MOTOR_TORQUE\n",
      "*********\n",
      "🏃 View run Transforming_DWB_ACTUAL_MOTOR_TORQUE_2024-04 at: https://ap-southeast-1.experiments.sagemaker.aws/#/experiments/15/runs/a43e99cc4ec04bdd99560bcd99026f8a\n",
      "🧪 View experiment at: https://ap-southeast-1.experiments.sagemaker.aws/#/experiments/15\n",
      "🏃 View run 1.2 Analog Input at: https://ap-southeast-1.experiments.sagemaker.aws/#/experiments/15/runs/1f1f4191b21349f68cb206076be84c66\n",
      "🧪 View experiment at: https://ap-southeast-1.experiments.sagemaker.aws/#/experiments/15\n",
      "=========================\n",
      "DWB_DSU_ACTUAL_POWER\n",
      "Processing row 0\n"
     ]
    },
    {
     "name": "stderr",
     "output_type": "stream",
     "text": [
      "/home/sagemaker-user/preprocessing/transform.py:39: FutureWarning: 'S' is deprecated and will be removed in a future version, please use 's' instead.\n",
      "  time_range = pd.date_range(start=start_time, end=end_time, freq='S')\n"
     ]
    },
    {
     "name": "stdout",
     "output_type": "stream",
     "text": [
      "✅ Saved to s3://s3-assetcare-bucket/features_store/transformed/2024-04/DWB_DSU_ACTUAL_POWER_20250502_071811.parquet\n",
      "start time has some values\n",
      "✅ Saved to s3://s3-assetcare-bucket/features_store/digital_intervals/2024-04/DWB_DSU_ACTUAL_POWER_20250502_071811.parquet\n",
      "✅ Logged digital tag: DWB_DSU_ACTUAL_POWER\n",
      "*********\n",
      "🏃 View run Transforming_DWB_DSU_ACTUAL_POWER_2024-04 at: https://ap-southeast-1.experiments.sagemaker.aws/#/experiments/15/runs/a925ff5ab78045158f0d9c6041ce56e1\n",
      "🧪 View experiment at: https://ap-southeast-1.experiments.sagemaker.aws/#/experiments/15\n",
      "🏃 View run 1.2 Analog Input at: https://ap-southeast-1.experiments.sagemaker.aws/#/experiments/15/runs/1f1f4191b21349f68cb206076be84c66\n",
      "🧪 View experiment at: https://ap-southeast-1.experiments.sagemaker.aws/#/experiments/15\n",
      "=========================\n",
      "DWB_DSU_DC_VOLTAGE\n",
      "Processing row 0\n"
     ]
    },
    {
     "name": "stderr",
     "output_type": "stream",
     "text": [
      "/home/sagemaker-user/preprocessing/transform.py:39: FutureWarning: 'S' is deprecated and will be removed in a future version, please use 's' instead.\n",
      "  time_range = pd.date_range(start=start_time, end=end_time, freq='S')\n"
     ]
    },
    {
     "name": "stdout",
     "output_type": "stream",
     "text": [
      "✅ Saved to s3://s3-assetcare-bucket/features_store/transformed/2024-04/DWB_DSU_DC_VOLTAGE_20250502_071814.parquet\n",
      "start time has some values\n",
      "✅ Saved to s3://s3-assetcare-bucket/features_store/digital_intervals/2024-04/DWB_DSU_DC_VOLTAGE_20250502_071814.parquet\n",
      "✅ Logged digital tag: DWB_DSU_DC_VOLTAGE\n",
      "*********\n",
      "🏃 View run Transforming_DWB_DSU_DC_VOLTAGE_2024-04 at: https://ap-southeast-1.experiments.sagemaker.aws/#/experiments/15/runs/2013048b274c45729874682c39ee0aa6\n",
      "🧪 View experiment at: https://ap-southeast-1.experiments.sagemaker.aws/#/experiments/15\n",
      "🏃 View run 1.2 Analog Input at: https://ap-southeast-1.experiments.sagemaker.aws/#/experiments/15/runs/1f1f4191b21349f68cb206076be84c66\n",
      "🧪 View experiment at: https://ap-southeast-1.experiments.sagemaker.aws/#/experiments/15\n",
      "=========================\n",
      "DWB_DSU_MAIN_AC_VOLTAGE\n",
      "Processing row 0\n"
     ]
    },
    {
     "name": "stderr",
     "output_type": "stream",
     "text": [
      "/home/sagemaker-user/preprocessing/transform.py:39: FutureWarning: 'S' is deprecated and will be removed in a future version, please use 's' instead.\n",
      "  time_range = pd.date_range(start=start_time, end=end_time, freq='S')\n"
     ]
    },
    {
     "name": "stdout",
     "output_type": "stream",
     "text": [
      "✅ Saved to s3://s3-assetcare-bucket/features_store/transformed/2024-04/DWB_DSU_MAIN_AC_VOLTAGE_20250502_071823.parquet\n",
      "start time has some values\n",
      "✅ Saved to s3://s3-assetcare-bucket/features_store/digital_intervals/2024-04/DWB_DSU_MAIN_AC_VOLTAGE_20250502_071823.parquet\n",
      "✅ Logged digital tag: DWB_DSU_MAIN_AC_VOLTAGE\n",
      "*********\n",
      "🏃 View run Transforming_DWB_DSU_MAIN_AC_VOLTAGE_2024-04 at: https://ap-southeast-1.experiments.sagemaker.aws/#/experiments/15/runs/a1a00d9ddd624c5e93ac63d39f9efc0e\n",
      "🧪 View experiment at: https://ap-southeast-1.experiments.sagemaker.aws/#/experiments/15\n",
      "🏃 View run 1.2 Analog Input at: https://ap-southeast-1.experiments.sagemaker.aws/#/experiments/15/runs/1f1f4191b21349f68cb206076be84c66\n",
      "🧪 View experiment at: https://ap-southeast-1.experiments.sagemaker.aws/#/experiments/15\n",
      "=========================\n",
      "DWC_ACTUAL_MOTOR_TORQUE\n",
      "Processing row 0\n"
     ]
    },
    {
     "name": "stderr",
     "output_type": "stream",
     "text": [
      "/home/sagemaker-user/preprocessing/transform.py:39: FutureWarning: 'S' is deprecated and will be removed in a future version, please use 's' instead.\n",
      "  time_range = pd.date_range(start=start_time, end=end_time, freq='S')\n"
     ]
    },
    {
     "name": "stdout",
     "output_type": "stream",
     "text": [
      "✅ Saved to s3://s3-assetcare-bucket/features_store/transformed/2024-04/DWC_ACTUAL_MOTOR_TORQUE_20250502_071833.parquet\n",
      "✅ Saved to s3://s3-assetcare-bucket/features_store/digital_intervals/2024-04/DWC_ACTUAL_MOTOR_TORQUE_20250502_071833.parquet\n",
      "✅ Logged digital tag: DWC_ACTUAL_MOTOR_TORQUE\n",
      "*********\n",
      "🏃 View run Transforming_DWC_ACTUAL_MOTOR_TORQUE_2024-04 at: https://ap-southeast-1.experiments.sagemaker.aws/#/experiments/15/runs/902fc2e76adf4991b5439400f3c5df1b\n",
      "🧪 View experiment at: https://ap-southeast-1.experiments.sagemaker.aws/#/experiments/15\n",
      "🏃 View run 1.2 Analog Input at: https://ap-southeast-1.experiments.sagemaker.aws/#/experiments/15/runs/1f1f4191b21349f68cb206076be84c66\n",
      "🧪 View experiment at: https://ap-southeast-1.experiments.sagemaker.aws/#/experiments/15\n",
      "=========================\n",
      "DWC_DSU_DC_VOLTAGE\n",
      "Processing row 0\n"
     ]
    },
    {
     "name": "stderr",
     "output_type": "stream",
     "text": [
      "/home/sagemaker-user/preprocessing/transform.py:39: FutureWarning: 'S' is deprecated and will be removed in a future version, please use 's' instead.\n",
      "  time_range = pd.date_range(start=start_time, end=end_time, freq='S')\n"
     ]
    },
    {
     "name": "stdout",
     "output_type": "stream",
     "text": [
      "✅ Saved to s3://s3-assetcare-bucket/features_store/transformed/2024-04/DWC_DSU_DC_VOLTAGE_20250502_071836.parquet\n",
      "start time has some values\n",
      "✅ Saved to s3://s3-assetcare-bucket/features_store/digital_intervals/2024-04/DWC_DSU_DC_VOLTAGE_20250502_071836.parquet\n",
      "✅ Logged digital tag: DWC_DSU_DC_VOLTAGE\n",
      "*********\n",
      "🏃 View run Transforming_DWC_DSU_DC_VOLTAGE_2024-04 at: https://ap-southeast-1.experiments.sagemaker.aws/#/experiments/15/runs/416bc5210e8648e693daedfe805cab7b\n",
      "🧪 View experiment at: https://ap-southeast-1.experiments.sagemaker.aws/#/experiments/15\n",
      "🏃 View run 1.2 Analog Input at: https://ap-southeast-1.experiments.sagemaker.aws/#/experiments/15/runs/1f1f4191b21349f68cb206076be84c66\n",
      "🧪 View experiment at: https://ap-southeast-1.experiments.sagemaker.aws/#/experiments/15\n",
      "=========================\n",
      "TD_DSU_DC_VOLTAGE\n",
      "Processing row 0\n"
     ]
    },
    {
     "name": "stderr",
     "output_type": "stream",
     "text": [
      "/home/sagemaker-user/preprocessing/transform.py:39: FutureWarning: 'S' is deprecated and will be removed in a future version, please use 's' instead.\n",
      "  time_range = pd.date_range(start=start_time, end=end_time, freq='S')\n"
     ]
    },
    {
     "name": "stdout",
     "output_type": "stream",
     "text": [
      "✅ Saved to s3://s3-assetcare-bucket/features_store/transformed/2024-04/TD_DSU_DC_VOLTAGE_20250502_071845.parquet\n",
      "start time has some values\n",
      "✅ Saved to s3://s3-assetcare-bucket/features_store/digital_intervals/2024-04/TD_DSU_DC_VOLTAGE_20250502_071845.parquet\n",
      "✅ Logged digital tag: TD_DSU_DC_VOLTAGE\n",
      "*********\n",
      "🏃 View run Transforming_TD_DSU_DC_VOLTAGE_2024-04 at: https://ap-southeast-1.experiments.sagemaker.aws/#/experiments/15/runs/844fff0e184d41fe8ef733bdb784c42a\n",
      "🧪 View experiment at: https://ap-southeast-1.experiments.sagemaker.aws/#/experiments/15\n",
      "🏃 View run 1.2 Analog Input at: https://ap-southeast-1.experiments.sagemaker.aws/#/experiments/15/runs/1f1f4191b21349f68cb206076be84c66\n",
      "🧪 View experiment at: https://ap-southeast-1.experiments.sagemaker.aws/#/experiments/15\n",
      "=========================\n",
      "TD_DSU_MAIN_AC_VOLTAGE\n",
      "Processing row 0\n"
     ]
    },
    {
     "name": "stderr",
     "output_type": "stream",
     "text": [
      "/home/sagemaker-user/preprocessing/transform.py:39: FutureWarning: 'S' is deprecated and will be removed in a future version, please use 's' instead.\n",
      "  time_range = pd.date_range(start=start_time, end=end_time, freq='S')\n"
     ]
    },
    {
     "name": "stdout",
     "output_type": "stream",
     "text": [
      "✅ Saved to s3://s3-assetcare-bucket/features_store/transformed/2024-04/TD_DSU_MAIN_AC_VOLTAGE_20250502_071855.parquet\n",
      "start time has some values\n",
      "✅ Saved to s3://s3-assetcare-bucket/features_store/digital_intervals/2024-04/TD_DSU_MAIN_AC_VOLTAGE_20250502_071855.parquet\n",
      "✅ Logged digital tag: TD_DSU_MAIN_AC_VOLTAGE\n",
      "*********\n",
      "🏃 View run Transforming_TD_DSU_MAIN_AC_VOLTAGE_2024-04 at: https://ap-southeast-1.experiments.sagemaker.aws/#/experiments/15/runs/b3351bfa9ff2474d95c57e90b54ec440\n",
      "🧪 View experiment at: https://ap-southeast-1.experiments.sagemaker.aws/#/experiments/15\n",
      "🏃 View run 1.2 Analog Input at: https://ap-southeast-1.experiments.sagemaker.aws/#/experiments/15/runs/1f1f4191b21349f68cb206076be84c66\n",
      "🧪 View experiment at: https://ap-southeast-1.experiments.sagemaker.aws/#/experiments/15\n",
      "=========================\n",
      "DRAWWORKS_ADSBRAKE_BRKCTRL_BRK1_IO_PRKBRKPRESSPV_VALUE\n",
      "⚠️ DataFrame is empty. Skipping transform.\n",
      "✅ Saved to s3://s3-assetcare-bucket/features_store/transformed/2024-04/DRAWWORKS_ADSBRAKE_BRKCTRL_BRK1_IO_PRKBRKPRESSPV_VALUE_20250502_071905.parquet\n",
      "✅ Saved to s3://s3-assetcare-bucket/features_store/digital_intervals/2024-04/DRAWWORKS_ADSBRAKE_BRKCTRL_BRK1_IO_PRKBRKPRESSPV_VALUE_20250502_071905.parquet\n",
      "✅ Logged digital tag: DRAWWORKS_ADSBRAKE_BRKCTRL_BRK1_IO_PRKBRKPRESSPV_VALUE\n",
      "*********\n",
      "🏃 View run Transforming_DRAWWORKS_ADSBRAKE_BRKCTRL_BRK1_IO_PRKBRKPRESSPV_VALUE_2024-04 at: https://ap-southeast-1.experiments.sagemaker.aws/#/experiments/15/runs/9b9f33dab44c459d99076cd9db289329\n",
      "🧪 View experiment at: https://ap-southeast-1.experiments.sagemaker.aws/#/experiments/15\n",
      "🏃 View run 1.2 Analog Input at: https://ap-southeast-1.experiments.sagemaker.aws/#/experiments/15/runs/1f1f4191b21349f68cb206076be84c66\n",
      "🧪 View experiment at: https://ap-southeast-1.experiments.sagemaker.aws/#/experiments/15\n",
      "=========================\n",
      "DRAWWORKS_ADSHOOKLOAD_MEM_ACTIVEHOOKLOADPV\n",
      "⚠️ DataFrame is empty. Skipping transform.\n",
      "✅ Saved to s3://s3-assetcare-bucket/features_store/transformed/2024-04/DRAWWORKS_ADSHOOKLOAD_MEM_ACTIVEHOOKLOADPV_20250502_071907.parquet\n",
      "✅ Saved to s3://s3-assetcare-bucket/features_store/digital_intervals/2024-04/DRAWWORKS_ADSHOOKLOAD_MEM_ACTIVEHOOKLOADPV_20250502_071907.parquet\n",
      "✅ Logged digital tag: DRAWWORKS_ADSHOOKLOAD_MEM_ACTIVEHOOKLOADPV\n",
      "*********\n",
      "🏃 View run Transforming_DRAWWORKS_ADSHOOKLOAD_MEM_ACTIVEHOOKLOADPV_2024-04 at: https://ap-southeast-1.experiments.sagemaker.aws/#/experiments/15/runs/f182fea9ae4d40039f770174ff8dad28\n",
      "🧪 View experiment at: https://ap-southeast-1.experiments.sagemaker.aws/#/experiments/15\n",
      "🏃 View run 1.2 Analog Input at: https://ap-southeast-1.experiments.sagemaker.aws/#/experiments/15/runs/1f1f4191b21349f68cb206076be84c66\n",
      "🧪 View experiment at: https://ap-southeast-1.experiments.sagemaker.aws/#/experiments/15\n",
      "=========================\n",
      "TOP_DRIVE_CONVERTERS_IN_ED_WOB_IO_FEEDBACK_VALUE\n",
      "⚠️ DataFrame is empty. Skipping transform.\n",
      "✅ Saved to s3://s3-assetcare-bucket/features_store/transformed/2024-04/TOP_DRIVE_CONVERTERS_IN_ED_WOB_IO_FEEDBACK_VALUE_20250502_071909.parquet\n",
      "✅ Saved to s3://s3-assetcare-bucket/features_store/digital_intervals/2024-04/TOP_DRIVE_CONVERTERS_IN_ED_WOB_IO_FEEDBACK_VALUE_20250502_071909.parquet\n",
      "✅ Logged digital tag: TOP_DRIVE_CONVERTERS_IN_ED_WOB_IO_FEEDBACK_VALUE\n",
      "*********\n",
      "🏃 View run Transforming_TOP_DRIVE_CONVERTERS_IN_ED_WOB_IO_FEEDBACK_VALUE_2024-04 at: https://ap-southeast-1.experiments.sagemaker.aws/#/experiments/15/runs/f78e35b5960049d394731dc548389d5a\n",
      "🧪 View experiment at: https://ap-southeast-1.experiments.sagemaker.aws/#/experiments/15\n",
      "🏃 View run 1.2 Analog Input at: https://ap-southeast-1.experiments.sagemaker.aws/#/experiments/15/runs/1f1f4191b21349f68cb206076be84c66\n",
      "🧪 View experiment at: https://ap-southeast-1.experiments.sagemaker.aws/#/experiments/15\n",
      "=========================\n",
      "DRAWWORKS_ADSBRAKE_BRKCTRL_BRK2_IO_PRKBRKPRESSPV_VALUE\n",
      "⚠️ DataFrame is empty. Skipping transform.\n",
      "✅ Saved to s3://s3-assetcare-bucket/features_store/transformed/2024-04/DRAWWORKS_ADSBRAKE_BRKCTRL_BRK2_IO_PRKBRKPRESSPV_VALUE_20250502_071911.parquet\n",
      "✅ Saved to s3://s3-assetcare-bucket/features_store/digital_intervals/2024-04/DRAWWORKS_ADSBRAKE_BRKCTRL_BRK2_IO_PRKBRKPRESSPV_VALUE_20250502_071911.parquet\n",
      "✅ Logged digital tag: DRAWWORKS_ADSBRAKE_BRKCTRL_BRK2_IO_PRKBRKPRESSPV_VALUE\n",
      "*********\n",
      "🏃 View run Transforming_DRAWWORKS_ADSBRAKE_BRKCTRL_BRK2_IO_PRKBRKPRESSPV_VALUE_2024-04 at: https://ap-southeast-1.experiments.sagemaker.aws/#/experiments/15/runs/4c09802a45764ed1a8351cb4885a1462\n",
      "🧪 View experiment at: https://ap-southeast-1.experiments.sagemaker.aws/#/experiments/15\n",
      "🏃 View run 1.2 Analog Input at: https://ap-southeast-1.experiments.sagemaker.aws/#/experiments/15/runs/1f1f4191b21349f68cb206076be84c66\n",
      "🧪 View experiment at: https://ap-southeast-1.experiments.sagemaker.aws/#/experiments/15\n",
      "=========================\n",
      "DRAWWORKS_HMI_IO_SHOWDRUMRPM\n",
      "⚠️ DataFrame is empty. Skipping transform.\n",
      "✅ Saved to s3://s3-assetcare-bucket/features_store/transformed/2024-04/DRAWWORKS_HMI_IO_SHOWDRUMRPM_20250502_071914.parquet\n",
      "✅ Saved to s3://s3-assetcare-bucket/features_store/digital_intervals/2024-04/DRAWWORKS_HMI_IO_SHOWDRUMRPM_20250502_071914.parquet\n",
      "✅ Logged digital tag: DRAWWORKS_HMI_IO_SHOWDRUMRPM\n",
      "*********\n",
      "🏃 View run Transforming_DRAWWORKS_HMI_IO_SHOWDRUMRPM_2024-04 at: https://ap-southeast-1.experiments.sagemaker.aws/#/experiments/15/runs/89076e56ab614ed8bcf8ba48c9e981cf\n",
      "🧪 View experiment at: https://ap-southeast-1.experiments.sagemaker.aws/#/experiments/15\n",
      "🏃 View run 1.2 Analog Input at: https://ap-southeast-1.experiments.sagemaker.aws/#/experiments/15/runs/1f1f4191b21349f68cb206076be84c66\n",
      "🧪 View experiment at: https://ap-southeast-1.experiments.sagemaker.aws/#/experiments/15\n",
      "=========================\n",
      "DWA_ACTUAL_MOTOR_TORQUE\n",
      "✅ Saved to s3://s3-assetcare-bucket/features_store/transformed/2024-04/DWA_ACTUAL_MOTOR_TORQUE_20250502_071916.parquet\n",
      "✅ Saved to s3://s3-assetcare-bucket/features_store/digital_intervals/2024-04/DWA_ACTUAL_MOTOR_TORQUE_20250502_071916.parquet\n",
      "✅ Logged digital tag: DWA_ACTUAL_MOTOR_TORQUE\n",
      "*********\n",
      "🏃 View run Transforming_DWA_ACTUAL_MOTOR_TORQUE_2024-04 at: https://ap-southeast-1.experiments.sagemaker.aws/#/experiments/15/runs/2cf08110958f46f08ced504a4fba2b63\n",
      "🧪 View experiment at: https://ap-southeast-1.experiments.sagemaker.aws/#/experiments/15\n",
      "🏃 View run 1.2 Analog Input at: https://ap-southeast-1.experiments.sagemaker.aws/#/experiments/15/runs/1f1f4191b21349f68cb206076be84c66\n",
      "🧪 View experiment at: https://ap-southeast-1.experiments.sagemaker.aws/#/experiments/15\n",
      "=========================\n",
      "DWA_ACTUAL_POWER\n",
      "✅ Saved to s3://s3-assetcare-bucket/features_store/transformed/2024-04/DWA_ACTUAL_POWER_20250502_071918.parquet\n",
      "✅ Saved to s3://s3-assetcare-bucket/features_store/digital_intervals/2024-04/DWA_ACTUAL_POWER_20250502_071918.parquet\n",
      "✅ Logged digital tag: DWA_ACTUAL_POWER\n",
      "*********\n",
      "🏃 View run Transforming_DWA_ACTUAL_POWER_2024-04 at: https://ap-southeast-1.experiments.sagemaker.aws/#/experiments/15/runs/bf90b855566048129db4caa9e65508b8\n",
      "🧪 View experiment at: https://ap-southeast-1.experiments.sagemaker.aws/#/experiments/15\n",
      "🏃 View run 1.2 Analog Input at: https://ap-southeast-1.experiments.sagemaker.aws/#/experiments/15/runs/1f1f4191b21349f68cb206076be84c66\n",
      "🧪 View experiment at: https://ap-southeast-1.experiments.sagemaker.aws/#/experiments/15\n",
      "=========================\n",
      "DWA_DSU_ACTUAL_POWER\n",
      "✅ Saved to s3://s3-assetcare-bucket/features_store/transformed/2024-04/DWA_DSU_ACTUAL_POWER_20250502_071920.parquet\n",
      "✅ Saved to s3://s3-assetcare-bucket/features_store/digital_intervals/2024-04/DWA_DSU_ACTUAL_POWER_20250502_071920.parquet\n",
      "✅ Logged digital tag: DWA_DSU_ACTUAL_POWER\n",
      "*********\n",
      "🏃 View run Transforming_DWA_DSU_ACTUAL_POWER_2024-04 at: https://ap-southeast-1.experiments.sagemaker.aws/#/experiments/15/runs/4b42afe0a6734962954227522b0694a9\n",
      "🧪 View experiment at: https://ap-southeast-1.experiments.sagemaker.aws/#/experiments/15\n",
      "🏃 View run 1.2 Analog Input at: https://ap-southeast-1.experiments.sagemaker.aws/#/experiments/15/runs/1f1f4191b21349f68cb206076be84c66\n",
      "🧪 View experiment at: https://ap-southeast-1.experiments.sagemaker.aws/#/experiments/15\n",
      "=========================\n",
      "TD_ACTUAL_MOTOR_SPEED\n",
      "⚠️ DataFrame is empty. Skipping transform.\n",
      "✅ Saved to s3://s3-assetcare-bucket/features_store/transformed/2024-04/TD_ACTUAL_MOTOR_SPEED_20250502_071922.parquet\n",
      "✅ Saved to s3://s3-assetcare-bucket/features_store/digital_intervals/2024-04/TD_ACTUAL_MOTOR_SPEED_20250502_071922.parquet\n",
      "✅ Logged digital tag: TD_ACTUAL_MOTOR_SPEED\n",
      "*********\n",
      "🏃 View run Transforming_TD_ACTUAL_MOTOR_SPEED_2024-04 at: https://ap-southeast-1.experiments.sagemaker.aws/#/experiments/15/runs/62d9a286005c4a599710ede46b6495ee\n",
      "🧪 View experiment at: https://ap-southeast-1.experiments.sagemaker.aws/#/experiments/15\n",
      "🏃 View run 1.2 Analog Input at: https://ap-southeast-1.experiments.sagemaker.aws/#/experiments/15/runs/1f1f4191b21349f68cb206076be84c66\n",
      "🧪 View experiment at: https://ap-southeast-1.experiments.sagemaker.aws/#/experiments/15\n",
      "=========================\n",
      "TOP_DRIVE_OPENSTATION_TDS_RI_MAKEUPTORQUE_VALUE\n",
      "⚠️ DataFrame is empty. Skipping transform.\n",
      "✅ Saved to s3://s3-assetcare-bucket/features_store/transformed/2024-04/TOP_DRIVE_OPENSTATION_TDS_RI_MAKEUPTORQUE_VALUE_20250502_071924.parquet\n",
      "✅ Saved to s3://s3-assetcare-bucket/features_store/digital_intervals/2024-04/TOP_DRIVE_OPENSTATION_TDS_RI_MAKEUPTORQUE_VALUE_20250502_071924.parquet\n",
      "✅ Logged digital tag: TOP_DRIVE_OPENSTATION_TDS_RI_MAKEUPTORQUE_VALUE\n",
      "*********\n",
      "🏃 View run Transforming_TOP_DRIVE_OPENSTATION_TDS_RI_MAKEUPTORQUE_VALUE_2024-04 at: https://ap-southeast-1.experiments.sagemaker.aws/#/experiments/15/runs/e33dca20ed1b4aa385ef3b14199ed37a\n",
      "🧪 View experiment at: https://ap-southeast-1.experiments.sagemaker.aws/#/experiments/15\n",
      "🏃 View run 1.2 Analog Input at: https://ap-southeast-1.experiments.sagemaker.aws/#/experiments/15/runs/1f1f4191b21349f68cb206076be84c66\n",
      "🧪 View experiment at: https://ap-southeast-1.experiments.sagemaker.aws/#/experiments/15\n",
      "=========================\n",
      "TOP_DRIVE_OPENSTATION_TDS_RI_THROTTLE_VALUE\n",
      "⚠️ DataFrame is empty. Skipping transform.\n",
      "✅ Saved to s3://s3-assetcare-bucket/features_store/transformed/2024-04/TOP_DRIVE_OPENSTATION_TDS_RI_THROTTLE_VALUE_20250502_071926.parquet\n",
      "✅ Saved to s3://s3-assetcare-bucket/features_store/digital_intervals/2024-04/TOP_DRIVE_OPENSTATION_TDS_RI_THROTTLE_VALUE_20250502_071926.parquet\n",
      "✅ Logged digital tag: TOP_DRIVE_OPENSTATION_TDS_RI_THROTTLE_VALUE\n",
      "*********\n",
      "🏃 View run Transforming_TOP_DRIVE_OPENSTATION_TDS_RI_THROTTLE_VALUE_2024-04 at: https://ap-southeast-1.experiments.sagemaker.aws/#/experiments/15/runs/bddde9aea481484aba53f7bc6ac9d72c\n",
      "🧪 View experiment at: https://ap-southeast-1.experiments.sagemaker.aws/#/experiments/15\n",
      "🏃 View run 1.2 Analog Input at: https://ap-southeast-1.experiments.sagemaker.aws/#/experiments/15/runs/1f1f4191b21349f68cb206076be84c66\n",
      "🧪 View experiment at: https://ap-southeast-1.experiments.sagemaker.aws/#/experiments/15\n",
      "=========================\n",
      "BIT_POSITION_VALUE\n",
      "⚠️ DataFrame is empty. Skipping transform.\n",
      "✅ Saved to s3://s3-assetcare-bucket/features_store/transformed/2024-04/BIT_POSITION_VALUE_20250502_071929.parquet\n",
      "✅ Saved to s3://s3-assetcare-bucket/features_store/digital_intervals/2024-04/BIT_POSITION_VALUE_20250502_071929.parquet\n",
      "✅ Logged digital tag: BIT_POSITION_VALUE\n",
      "*********\n",
      "🏃 View run Transforming_BIT_POSITION_VALUE_2024-04 at: https://ap-southeast-1.experiments.sagemaker.aws/#/experiments/15/runs/4daf1aef06c74b43bf1447e04264f38f\n",
      "🧪 View experiment at: https://ap-southeast-1.experiments.sagemaker.aws/#/experiments/15\n",
      "🏃 View run 1.2 Analog Input at: https://ap-southeast-1.experiments.sagemaker.aws/#/experiments/15/runs/1f1f4191b21349f68cb206076be84c66\n",
      "🧪 View experiment at: https://ap-southeast-1.experiments.sagemaker.aws/#/experiments/15\n",
      "=========================\n",
      "DWC_ACTUAL_MOTOR_TEMP\n",
      "✅ Saved to s3://s3-assetcare-bucket/features_store/transformed/2024-04/DWC_ACTUAL_MOTOR_TEMP_20250502_071931.parquet\n",
      "✅ Saved to s3://s3-assetcare-bucket/features_store/digital_intervals/2024-04/DWC_ACTUAL_MOTOR_TEMP_20250502_071931.parquet\n",
      "✅ Logged digital tag: DWC_ACTUAL_MOTOR_TEMP\n",
      "*********\n",
      "🏃 View run Transforming_DWC_ACTUAL_MOTOR_TEMP_2024-04 at: https://ap-southeast-1.experiments.sagemaker.aws/#/experiments/15/runs/19ec922aa7754d4e9e96fce13e29a5da\n",
      "🧪 View experiment at: https://ap-southeast-1.experiments.sagemaker.aws/#/experiments/15\n",
      "🏃 View run 1.2 Analog Input at: https://ap-southeast-1.experiments.sagemaker.aws/#/experiments/15/runs/1f1f4191b21349f68cb206076be84c66\n",
      "🧪 View experiment at: https://ap-southeast-1.experiments.sagemaker.aws/#/experiments/15\n",
      "=========================\n",
      "DW_GEARBOX1_LO_TEMP\n",
      "⚠️ DataFrame is empty. Skipping transform.\n",
      "✅ Saved to s3://s3-assetcare-bucket/features_store/transformed/2024-04/DW_GEARBOX1_LO_TEMP_20250502_071933.parquet\n",
      "✅ Saved to s3://s3-assetcare-bucket/features_store/digital_intervals/2024-04/DW_GEARBOX1_LO_TEMP_20250502_071933.parquet\n",
      "✅ Logged digital tag: DW_GEARBOX1_LO_TEMP\n",
      "*********\n",
      "🏃 View run Transforming_DW_GEARBOX1_LO_TEMP_2024-04 at: https://ap-southeast-1.experiments.sagemaker.aws/#/experiments/15/runs/baceede325f44bd6bf7bf55faa5a4ec7\n",
      "🧪 View experiment at: https://ap-southeast-1.experiments.sagemaker.aws/#/experiments/15\n",
      "🏃 View run 1.2 Analog Input at: https://ap-southeast-1.experiments.sagemaker.aws/#/experiments/15/runs/1f1f4191b21349f68cb206076be84c66\n",
      "🧪 View experiment at: https://ap-southeast-1.experiments.sagemaker.aws/#/experiments/15\n",
      "=========================\n",
      "DW_GEARBOX2_LO_TEMP\n",
      "⚠️ DataFrame is empty. Skipping transform.\n",
      "✅ Saved to s3://s3-assetcare-bucket/features_store/transformed/2024-04/DW_GEARBOX2_LO_TEMP_20250502_071935.parquet\n",
      "✅ Saved to s3://s3-assetcare-bucket/features_store/digital_intervals/2024-04/DW_GEARBOX2_LO_TEMP_20250502_071935.parquet\n",
      "✅ Logged digital tag: DW_GEARBOX2_LO_TEMP\n",
      "*********\n",
      "🏃 View run Transforming_DW_GEARBOX2_LO_TEMP_2024-04 at: https://ap-southeast-1.experiments.sagemaker.aws/#/experiments/15/runs/2e56fa4dc7da4a3187ef8a26d0cd94b4\n",
      "🧪 View experiment at: https://ap-southeast-1.experiments.sagemaker.aws/#/experiments/15\n",
      "🏃 View run 1.2 Analog Input at: https://ap-southeast-1.experiments.sagemaker.aws/#/experiments/15/runs/1f1f4191b21349f68cb206076be84c66\n",
      "🧪 View experiment at: https://ap-southeast-1.experiments.sagemaker.aws/#/experiments/15\n",
      "=========================\n",
      "DWA_EXHAUST_TEMP\n",
      "⚠️ DataFrame is empty. Skipping transform.\n",
      "✅ Saved to s3://s3-assetcare-bucket/features_store/transformed/2024-04/DWA_EXHAUST_TEMP_20250502_071937.parquet\n",
      "✅ Saved to s3://s3-assetcare-bucket/features_store/digital_intervals/2024-04/DWA_EXHAUST_TEMP_20250502_071937.parquet\n",
      "✅ Logged digital tag: DWA_EXHAUST_TEMP\n",
      "*********\n",
      "🏃 View run Transforming_DWA_EXHAUST_TEMP_2024-04 at: https://ap-southeast-1.experiments.sagemaker.aws/#/experiments/15/runs/b9d74df9b5bf48aca68c2aef15600e22\n",
      "🧪 View experiment at: https://ap-southeast-1.experiments.sagemaker.aws/#/experiments/15\n",
      "🏃 View run 1.2 Analog Input at: https://ap-southeast-1.experiments.sagemaker.aws/#/experiments/15/runs/1f1f4191b21349f68cb206076be84c66\n",
      "🧪 View experiment at: https://ap-southeast-1.experiments.sagemaker.aws/#/experiments/15\n",
      "=========================\n",
      "DWA_RTD2_TEMP\n",
      "⚠️ DataFrame is empty. Skipping transform.\n",
      "✅ Saved to s3://s3-assetcare-bucket/features_store/transformed/2024-04/DWA_RTD2_TEMP_20250502_071940.parquet\n",
      "✅ Saved to s3://s3-assetcare-bucket/features_store/digital_intervals/2024-04/DWA_RTD2_TEMP_20250502_071940.parquet\n",
      "✅ Logged digital tag: DWA_RTD2_TEMP\n",
      "*********\n",
      "🏃 View run Transforming_DWA_RTD2_TEMP_2024-04 at: https://ap-southeast-1.experiments.sagemaker.aws/#/experiments/15/runs/c7bc6e3b648142b1ba843215c7ad8019\n",
      "🧪 View experiment at: https://ap-southeast-1.experiments.sagemaker.aws/#/experiments/15\n",
      "🏃 View run 1.2 Analog Input at: https://ap-southeast-1.experiments.sagemaker.aws/#/experiments/15/runs/1f1f4191b21349f68cb206076be84c66\n",
      "🧪 View experiment at: https://ap-southeast-1.experiments.sagemaker.aws/#/experiments/15\n",
      "=========================\n",
      "DWB_EXHAUST_TEMP\n",
      "⚠️ DataFrame is empty. Skipping transform.\n",
      "✅ Saved to s3://s3-assetcare-bucket/features_store/transformed/2024-04/DWB_EXHAUST_TEMP_20250502_071942.parquet\n",
      "✅ Saved to s3://s3-assetcare-bucket/features_store/digital_intervals/2024-04/DWB_EXHAUST_TEMP_20250502_071942.parquet\n",
      "✅ Logged digital tag: DWB_EXHAUST_TEMP\n",
      "*********\n",
      "🏃 View run Transforming_DWB_EXHAUST_TEMP_2024-04 at: https://ap-southeast-1.experiments.sagemaker.aws/#/experiments/15/runs/625310f537c649048379f25eb20aed5c\n",
      "🧪 View experiment at: https://ap-southeast-1.experiments.sagemaker.aws/#/experiments/15\n",
      "🏃 View run 1.2 Analog Input at: https://ap-southeast-1.experiments.sagemaker.aws/#/experiments/15/runs/1f1f4191b21349f68cb206076be84c66\n",
      "🧪 View experiment at: https://ap-southeast-1.experiments.sagemaker.aws/#/experiments/15\n",
      "=========================\n",
      "DWB_RTD1_TEMP\n",
      "⚠️ DataFrame is empty. Skipping transform.\n",
      "✅ Saved to s3://s3-assetcare-bucket/features_store/transformed/2024-04/DWB_RTD1_TEMP_20250502_071944.parquet\n",
      "✅ Saved to s3://s3-assetcare-bucket/features_store/digital_intervals/2024-04/DWB_RTD1_TEMP_20250502_071944.parquet\n",
      "✅ Logged digital tag: DWB_RTD1_TEMP\n",
      "*********\n",
      "🏃 View run Transforming_DWB_RTD1_TEMP_2024-04 at: https://ap-southeast-1.experiments.sagemaker.aws/#/experiments/15/runs/db60b650319d4e1786854064c4586c66\n",
      "🧪 View experiment at: https://ap-southeast-1.experiments.sagemaker.aws/#/experiments/15\n",
      "🏃 View run 1.2 Analog Input at: https://ap-southeast-1.experiments.sagemaker.aws/#/experiments/15/runs/1f1f4191b21349f68cb206076be84c66\n",
      "🧪 View experiment at: https://ap-southeast-1.experiments.sagemaker.aws/#/experiments/15\n",
      "=========================\n",
      "DWB_RTD2_TEMP\n",
      "⚠️ DataFrame is empty. Skipping transform.\n",
      "✅ Saved to s3://s3-assetcare-bucket/features_store/transformed/2024-04/DWB_RTD2_TEMP_20250502_071947.parquet\n",
      "✅ Saved to s3://s3-assetcare-bucket/features_store/digital_intervals/2024-04/DWB_RTD2_TEMP_20250502_071947.parquet\n",
      "✅ Logged digital tag: DWB_RTD2_TEMP\n",
      "*********\n",
      "🏃 View run Transforming_DWB_RTD2_TEMP_2024-04 at: https://ap-southeast-1.experiments.sagemaker.aws/#/experiments/15/runs/ecb154f9eb944b7184fc48c1df30646c\n",
      "🧪 View experiment at: https://ap-southeast-1.experiments.sagemaker.aws/#/experiments/15\n",
      "🏃 View run 1.2 Analog Input at: https://ap-southeast-1.experiments.sagemaker.aws/#/experiments/15/runs/1f1f4191b21349f68cb206076be84c66\n",
      "🧪 View experiment at: https://ap-southeast-1.experiments.sagemaker.aws/#/experiments/15\n",
      "=========================\n",
      "DWC_EXHAUST_TEMP\n",
      "⚠️ DataFrame is empty. Skipping transform.\n",
      "✅ Saved to s3://s3-assetcare-bucket/features_store/transformed/2024-04/DWC_EXHAUST_TEMP_20250502_071949.parquet\n",
      "✅ Saved to s3://s3-assetcare-bucket/features_store/digital_intervals/2024-04/DWC_EXHAUST_TEMP_20250502_071949.parquet\n",
      "✅ Logged digital tag: DWC_EXHAUST_TEMP\n",
      "*********\n",
      "🏃 View run Transforming_DWC_EXHAUST_TEMP_2024-04 at: https://ap-southeast-1.experiments.sagemaker.aws/#/experiments/15/runs/4249de92aa834de081d3ace3eef152bc\n",
      "🧪 View experiment at: https://ap-southeast-1.experiments.sagemaker.aws/#/experiments/15\n",
      "🏃 View run 1.2 Analog Input at: https://ap-southeast-1.experiments.sagemaker.aws/#/experiments/15/runs/1f1f4191b21349f68cb206076be84c66\n",
      "🧪 View experiment at: https://ap-southeast-1.experiments.sagemaker.aws/#/experiments/15\n",
      "=========================\n",
      "DWC_RTD1_TEMP\n",
      "⚠️ DataFrame is empty. Skipping transform.\n",
      "✅ Saved to s3://s3-assetcare-bucket/features_store/transformed/2024-04/DWC_RTD1_TEMP_20250502_071951.parquet\n",
      "✅ Saved to s3://s3-assetcare-bucket/features_store/digital_intervals/2024-04/DWC_RTD1_TEMP_20250502_071951.parquet\n",
      "✅ Logged digital tag: DWC_RTD1_TEMP\n",
      "*********\n",
      "🏃 View run Transforming_DWC_RTD1_TEMP_2024-04 at: https://ap-southeast-1.experiments.sagemaker.aws/#/experiments/15/runs/6018e6ff9b234625b2be392642667bd0\n",
      "🧪 View experiment at: https://ap-southeast-1.experiments.sagemaker.aws/#/experiments/15\n",
      "🏃 View run 1.2 Analog Input at: https://ap-southeast-1.experiments.sagemaker.aws/#/experiments/15/runs/1f1f4191b21349f68cb206076be84c66\n",
      "🧪 View experiment at: https://ap-southeast-1.experiments.sagemaker.aws/#/experiments/15\n",
      "=========================\n",
      "2024-05\n",
      "s3://s3-assetcare-bucket/features_store/transformed/2024-05/\n",
      "DWA_DSU_DC_VOLTAGE\n",
      "Processing row 0\n"
     ]
    },
    {
     "name": "stderr",
     "output_type": "stream",
     "text": [
      "/home/sagemaker-user/preprocessing/transform.py:39: FutureWarning: 'S' is deprecated and will be removed in a future version, please use 's' instead.\n",
      "  time_range = pd.date_range(start=start_time, end=end_time, freq='S')\n"
     ]
    },
    {
     "name": "stdout",
     "output_type": "stream",
     "text": [
      "Processing row 10000\n",
      "Processing row 20000\n",
      "Processing row 30000\n",
      "Processing row 40000\n",
      "✅ Saved to s3://s3-assetcare-bucket/features_store/transformed/2024-05/DWA_DSU_DC_VOLTAGE_20250502_071954.parquet\n",
      "start time has some values\n",
      "✅ Saved to s3://s3-assetcare-bucket/features_store/digital_intervals/2024-05/DWA_DSU_DC_VOLTAGE_20250502_071954.parquet\n",
      "✅ Logged digital tag: DWA_DSU_DC_VOLTAGE\n",
      "*********\n",
      "🏃 View run Transforming_DWA_DSU_DC_VOLTAGE_2024-05 at: https://ap-southeast-1.experiments.sagemaker.aws/#/experiments/15/runs/d164320466324eb590eca960abdf0df1\n",
      "🧪 View experiment at: https://ap-southeast-1.experiments.sagemaker.aws/#/experiments/15\n",
      "🏃 View run 1.2 Analog Input at: https://ap-southeast-1.experiments.sagemaker.aws/#/experiments/15/runs/1f1f4191b21349f68cb206076be84c66\n",
      "🧪 View experiment at: https://ap-southeast-1.experiments.sagemaker.aws/#/experiments/15\n",
      "=========================\n",
      "DWB_ACTUAL_POWER\n",
      "Processing row 0\n"
     ]
    },
    {
     "name": "stderr",
     "output_type": "stream",
     "text": [
      "/home/sagemaker-user/preprocessing/transform.py:39: FutureWarning: 'S' is deprecated and will be removed in a future version, please use 's' instead.\n",
      "  time_range = pd.date_range(start=start_time, end=end_time, freq='S')\n"
     ]
    },
    {
     "name": "stdout",
     "output_type": "stream",
     "text": [
      "Processing row 10000\n",
      "✅ Saved to s3://s3-assetcare-bucket/features_store/transformed/2024-05/DWB_ACTUAL_POWER_20250502_072317.parquet\n",
      "✅ Saved to s3://s3-assetcare-bucket/features_store/digital_intervals/2024-05/DWB_ACTUAL_POWER_20250502_072317.parquet\n",
      "✅ Logged digital tag: DWB_ACTUAL_POWER\n",
      "*********\n",
      "🏃 View run Transforming_DWB_ACTUAL_POWER_2024-05 at: https://ap-southeast-1.experiments.sagemaker.aws/#/experiments/15/runs/6b7e017858cb404883f692adee9bc063\n",
      "🧪 View experiment at: https://ap-southeast-1.experiments.sagemaker.aws/#/experiments/15\n",
      "🏃 View run 1.2 Analog Input at: https://ap-southeast-1.experiments.sagemaker.aws/#/experiments/15/runs/1f1f4191b21349f68cb206076be84c66\n",
      "🧪 View experiment at: https://ap-southeast-1.experiments.sagemaker.aws/#/experiments/15\n",
      "=========================\n",
      "DWC_ACTUAL_POWER\n",
      "Processing row 0\n"
     ]
    },
    {
     "name": "stderr",
     "output_type": "stream",
     "text": [
      "/home/sagemaker-user/preprocessing/transform.py:39: FutureWarning: 'S' is deprecated and will be removed in a future version, please use 's' instead.\n",
      "  time_range = pd.date_range(start=start_time, end=end_time, freq='S')\n"
     ]
    },
    {
     "name": "stdout",
     "output_type": "stream",
     "text": [
      "Processing row 10000\n",
      "✅ Saved to s3://s3-assetcare-bucket/features_store/transformed/2024-05/DWC_ACTUAL_POWER_20250502_072613.parquet\n",
      "✅ Saved to s3://s3-assetcare-bucket/features_store/digital_intervals/2024-05/DWC_ACTUAL_POWER_20250502_072613.parquet\n",
      "✅ Logged digital tag: DWC_ACTUAL_POWER\n",
      "*********\n",
      "🏃 View run Transforming_DWC_ACTUAL_POWER_2024-05 at: https://ap-southeast-1.experiments.sagemaker.aws/#/experiments/15/runs/f5ac9ad087714599b468d563fcaef242\n",
      "🧪 View experiment at: https://ap-southeast-1.experiments.sagemaker.aws/#/experiments/15\n",
      "🏃 View run 1.2 Analog Input at: https://ap-southeast-1.experiments.sagemaker.aws/#/experiments/15/runs/1f1f4191b21349f68cb206076be84c66\n",
      "🧪 View experiment at: https://ap-southeast-1.experiments.sagemaker.aws/#/experiments/15\n",
      "=========================\n",
      "DWC_DSU_ACTUAL_POWER\n",
      "Processing row 0\n"
     ]
    },
    {
     "name": "stderr",
     "output_type": "stream",
     "text": [
      "/home/sagemaker-user/preprocessing/transform.py:39: FutureWarning: 'S' is deprecated and will be removed in a future version, please use 's' instead.\n",
      "  time_range = pd.date_range(start=start_time, end=end_time, freq='S')\n"
     ]
    },
    {
     "name": "stdout",
     "output_type": "stream",
     "text": [
      "Processing row 10000\n",
      "Processing row 20000\n",
      "Processing row 30000\n",
      "Processing row 40000\n",
      "Processing row 50000\n",
      "✅ Saved to s3://s3-assetcare-bucket/features_store/transformed/2024-05/DWC_DSU_ACTUAL_POWER_20250502_072912.parquet\n",
      "✅ Saved to s3://s3-assetcare-bucket/features_store/digital_intervals/2024-05/DWC_DSU_ACTUAL_POWER_20250502_072912.parquet\n",
      "✅ Logged digital tag: DWC_DSU_ACTUAL_POWER\n",
      "*********\n",
      "🏃 View run Transforming_DWC_DSU_ACTUAL_POWER_2024-05 at: https://ap-southeast-1.experiments.sagemaker.aws/#/experiments/15/runs/587e64e77fb54ef6a7050e33932eb599\n",
      "🧪 View experiment at: https://ap-southeast-1.experiments.sagemaker.aws/#/experiments/15\n",
      "🏃 View run 1.2 Analog Input at: https://ap-southeast-1.experiments.sagemaker.aws/#/experiments/15/runs/1f1f4191b21349f68cb206076be84c66\n",
      "🧪 View experiment at: https://ap-southeast-1.experiments.sagemaker.aws/#/experiments/15\n",
      "=========================\n",
      "DWC_DSU_MAIN_AC_VOLTAGE\n",
      "Processing row 0\n"
     ]
    },
    {
     "name": "stderr",
     "output_type": "stream",
     "text": [
      "/home/sagemaker-user/preprocessing/transform.py:39: FutureWarning: 'S' is deprecated and will be removed in a future version, please use 's' instead.\n",
      "  time_range = pd.date_range(start=start_time, end=end_time, freq='S')\n"
     ]
    },
    {
     "name": "stdout",
     "output_type": "stream",
     "text": [
      "Processing row 10000\n",
      "Processing row 20000\n",
      "Processing row 30000\n",
      "Processing row 40000\n",
      "Processing row 50000\n",
      "Processing row 60000\n",
      "✅ Saved to s3://s3-assetcare-bucket/features_store/transformed/2024-05/DWC_DSU_MAIN_AC_VOLTAGE_20250502_073225.parquet\n",
      "start time has some values\n",
      "✅ Saved to s3://s3-assetcare-bucket/features_store/digital_intervals/2024-05/DWC_DSU_MAIN_AC_VOLTAGE_20250502_073225.parquet\n",
      "✅ Logged digital tag: DWC_DSU_MAIN_AC_VOLTAGE\n",
      "*********\n",
      "🏃 View run Transforming_DWC_DSU_MAIN_AC_VOLTAGE_2024-05 at: https://ap-southeast-1.experiments.sagemaker.aws/#/experiments/15/runs/201594aa70e645699cb1c9ee85200b18\n",
      "🧪 View experiment at: https://ap-southeast-1.experiments.sagemaker.aws/#/experiments/15\n",
      "🏃 View run 1.2 Analog Input at: https://ap-southeast-1.experiments.sagemaker.aws/#/experiments/15/runs/1f1f4191b21349f68cb206076be84c66\n",
      "🧪 View experiment at: https://ap-southeast-1.experiments.sagemaker.aws/#/experiments/15\n",
      "=========================\n",
      "AUXILIARY_HPU_AI_PRESSURE_VALUE\n",
      "⚠️ DataFrame is empty. Skipping transform.\n",
      "✅ Saved to s3://s3-assetcare-bucket/features_store/transformed/2024-05/AUXILIARY_HPU_AI_PRESSURE_VALUE_20250502_073552.parquet\n",
      "✅ Saved to s3://s3-assetcare-bucket/features_store/digital_intervals/2024-05/AUXILIARY_HPU_AI_PRESSURE_VALUE_20250502_073552.parquet\n",
      "✅ Logged digital tag: AUXILIARY_HPU_AI_PRESSURE_VALUE\n",
      "*********\n",
      "🏃 View run Transforming_AUXILIARY_HPU_AI_PRESSURE_VALUE_2024-05 at: https://ap-southeast-1.experiments.sagemaker.aws/#/experiments/15/runs/33e3da82a3c94ad8997485d8aa14c3f8\n",
      "🧪 View experiment at: https://ap-southeast-1.experiments.sagemaker.aws/#/experiments/15\n",
      "🏃 View run 1.2 Analog Input at: https://ap-southeast-1.experiments.sagemaker.aws/#/experiments/15/runs/1f1f4191b21349f68cb206076be84c66\n",
      "🧪 View experiment at: https://ap-southeast-1.experiments.sagemaker.aws/#/experiments/15\n",
      "=========================\n",
      "AUXILIARY_RIGAIR_AI_AIRPRESSURE_VALUE\n",
      "⚠️ DataFrame is empty. Skipping transform.\n",
      "✅ Saved to s3://s3-assetcare-bucket/features_store/transformed/2024-05/AUXILIARY_RIGAIR_AI_AIRPRESSURE_VALUE_20250502_073555.parquet\n",
      "✅ Saved to s3://s3-assetcare-bucket/features_store/digital_intervals/2024-05/AUXILIARY_RIGAIR_AI_AIRPRESSURE_VALUE_20250502_073555.parquet\n",
      "✅ Logged digital tag: AUXILIARY_RIGAIR_AI_AIRPRESSURE_VALUE\n",
      "*********\n",
      "🏃 View run Transforming_AUXILIARY_RIGAIR_AI_AIRPRESSURE_VALUE_2024-05 at: https://ap-southeast-1.experiments.sagemaker.aws/#/experiments/15/runs/163ba7460f91414e9306e760773e6314\n",
      "🧪 View experiment at: https://ap-southeast-1.experiments.sagemaker.aws/#/experiments/15\n",
      "🏃 View run 1.2 Analog Input at: https://ap-southeast-1.experiments.sagemaker.aws/#/experiments/15/runs/1f1f4191b21349f68cb206076be84c66\n",
      "🧪 View experiment at: https://ap-southeast-1.experiments.sagemaker.aws/#/experiments/15\n",
      "=========================\n",
      "DRAWWORKS_ADSBRAKE_BRKCTRL_BRK1_IO_SRVBRKPRESSPV_VALUE\n",
      "⚠️ DataFrame is empty. Skipping transform.\n",
      "✅ Saved to s3://s3-assetcare-bucket/features_store/transformed/2024-05/DRAWWORKS_ADSBRAKE_BRKCTRL_BRK1_IO_SRVBRKPRESSPV_VALUE_20250502_073557.parquet\n",
      "✅ Saved to s3://s3-assetcare-bucket/features_store/digital_intervals/2024-05/DRAWWORKS_ADSBRAKE_BRKCTRL_BRK1_IO_SRVBRKPRESSPV_VALUE_20250502_073557.parquet\n",
      "✅ Logged digital tag: DRAWWORKS_ADSBRAKE_BRKCTRL_BRK1_IO_SRVBRKPRESSPV_VALUE\n",
      "*********\n",
      "🏃 View run Transforming_DRAWWORKS_ADSBRAKE_BRKCTRL_BRK1_IO_SRVBRKPRESSPV_VALUE_2024-05 at: https://ap-southeast-1.experiments.sagemaker.aws/#/experiments/15/runs/da1c5f7204624350b633c1d8f73abf6c\n",
      "🧪 View experiment at: https://ap-southeast-1.experiments.sagemaker.aws/#/experiments/15\n",
      "🏃 View run 1.2 Analog Input at: https://ap-southeast-1.experiments.sagemaker.aws/#/experiments/15/runs/1f1f4191b21349f68cb206076be84c66\n",
      "🧪 View experiment at: https://ap-southeast-1.experiments.sagemaker.aws/#/experiments/15\n",
      "=========================\n",
      "DRAWWORKS_ADSBRAKE_BRKCTRL_BRK2_IO_SRVBRKPRESSPV_VALUE\n",
      "⚠️ DataFrame is empty. Skipping transform.\n",
      "✅ Saved to s3://s3-assetcare-bucket/features_store/transformed/2024-05/DRAWWORKS_ADSBRAKE_BRKCTRL_BRK2_IO_SRVBRKPRESSPV_VALUE_20250502_073600.parquet\n",
      "✅ Saved to s3://s3-assetcare-bucket/features_store/digital_intervals/2024-05/DRAWWORKS_ADSBRAKE_BRKCTRL_BRK2_IO_SRVBRKPRESSPV_VALUE_20250502_073600.parquet\n",
      "✅ Logged digital tag: DRAWWORKS_ADSBRAKE_BRKCTRL_BRK2_IO_SRVBRKPRESSPV_VALUE\n",
      "*********\n",
      "🏃 View run Transforming_DRAWWORKS_ADSBRAKE_BRKCTRL_BRK2_IO_SRVBRKPRESSPV_VALUE_2024-05 at: https://ap-southeast-1.experiments.sagemaker.aws/#/experiments/15/runs/b602fc5225cc4ab0a890851e7f966f17\n",
      "🧪 View experiment at: https://ap-southeast-1.experiments.sagemaker.aws/#/experiments/15\n",
      "🏃 View run 1.2 Analog Input at: https://ap-southeast-1.experiments.sagemaker.aws/#/experiments/15/runs/1f1f4191b21349f68cb206076be84c66\n",
      "🧪 View experiment at: https://ap-southeast-1.experiments.sagemaker.aws/#/experiments/15\n",
      "=========================\n",
      "TOP_DRIVE_CONVERTERS_IN_ED_DELTAP_IO_FEEDBACK_VALUE\n",
      "⚠️ DataFrame is empty. Skipping transform.\n",
      "✅ Saved to s3://s3-assetcare-bucket/features_store/transformed/2024-05/TOP_DRIVE_CONVERTERS_IN_ED_DELTAP_IO_FEEDBACK_VALUE_20250502_073602.parquet\n",
      "✅ Saved to s3://s3-assetcare-bucket/features_store/digital_intervals/2024-05/TOP_DRIVE_CONVERTERS_IN_ED_DELTAP_IO_FEEDBACK_VALUE_20250502_073602.parquet\n",
      "✅ Logged digital tag: TOP_DRIVE_CONVERTERS_IN_ED_DELTAP_IO_FEEDBACK_VALUE\n",
      "*********\n",
      "🏃 View run Transforming_TOP_DRIVE_CONVERTERS_IN_ED_DELTAP_IO_FEEDBACK_VALUE_2024-05 at: https://ap-southeast-1.experiments.sagemaker.aws/#/experiments/15/runs/8c7cd029c1064857a2e75efd5d03ab4e\n",
      "🧪 View experiment at: https://ap-southeast-1.experiments.sagemaker.aws/#/experiments/15\n",
      "🏃 View run 1.2 Analog Input at: https://ap-southeast-1.experiments.sagemaker.aws/#/experiments/15/runs/1f1f4191b21349f68cb206076be84c66\n",
      "🧪 View experiment at: https://ap-southeast-1.experiments.sagemaker.aws/#/experiments/15\n",
      "=========================\n",
      "TD_ACTUAL_MOTOR_TEMP\n",
      "Processing row 0\n"
     ]
    },
    {
     "name": "stderr",
     "output_type": "stream",
     "text": [
      "/home/sagemaker-user/preprocessing/transform.py:39: FutureWarning: 'S' is deprecated and will be removed in a future version, please use 's' instead.\n",
      "  time_range = pd.date_range(start=start_time, end=end_time, freq='S')\n"
     ]
    },
    {
     "name": "stdout",
     "output_type": "stream",
     "text": [
      "✅ Saved to s3://s3-assetcare-bucket/features_store/transformed/2024-05/TD_ACTUAL_MOTOR_TEMP_20250502_073604.parquet\n",
      "✅ Saved to s3://s3-assetcare-bucket/features_store/digital_intervals/2024-05/TD_ACTUAL_MOTOR_TEMP_20250502_073604.parquet\n",
      "✅ Logged digital tag: TD_ACTUAL_MOTOR_TEMP\n",
      "*********\n",
      "🏃 View run Transforming_TD_ACTUAL_MOTOR_TEMP_2024-05 at: https://ap-southeast-1.experiments.sagemaker.aws/#/experiments/15/runs/4b6ca7f74d90484487e4ce25c6f7ada5\n",
      "🧪 View experiment at: https://ap-southeast-1.experiments.sagemaker.aws/#/experiments/15\n",
      "🏃 View run 1.2 Analog Input at: https://ap-southeast-1.experiments.sagemaker.aws/#/experiments/15/runs/1f1f4191b21349f68cb206076be84c66\n",
      "🧪 View experiment at: https://ap-southeast-1.experiments.sagemaker.aws/#/experiments/15\n",
      "=========================\n",
      "TD_ACTUAL_MOTOR_TORQUE\n",
      "Processing row 0\n"
     ]
    },
    {
     "name": "stderr",
     "output_type": "stream",
     "text": [
      "/home/sagemaker-user/preprocessing/transform.py:39: FutureWarning: 'S' is deprecated and will be removed in a future version, please use 's' instead.\n",
      "  time_range = pd.date_range(start=start_time, end=end_time, freq='S')\n"
     ]
    },
    {
     "name": "stdout",
     "output_type": "stream",
     "text": [
      "Processing row 10000\n",
      "Processing row 20000\n",
      "Processing row 30000\n",
      "Processing row 40000\n",
      "✅ Saved to s3://s3-assetcare-bucket/features_store/transformed/2024-05/TD_ACTUAL_MOTOR_TORQUE_20250502_073824.parquet\n",
      "✅ Saved to s3://s3-assetcare-bucket/features_store/digital_intervals/2024-05/TD_ACTUAL_MOTOR_TORQUE_20250502_073824.parquet\n",
      "✅ Logged digital tag: TD_ACTUAL_MOTOR_TORQUE\n",
      "*********\n",
      "🏃 View run Transforming_TD_ACTUAL_MOTOR_TORQUE_2024-05 at: https://ap-southeast-1.experiments.sagemaker.aws/#/experiments/15/runs/15733e6b2f724e68be3b414b46bc1816\n",
      "🧪 View experiment at: https://ap-southeast-1.experiments.sagemaker.aws/#/experiments/15\n",
      "🏃 View run 1.2 Analog Input at: https://ap-southeast-1.experiments.sagemaker.aws/#/experiments/15/runs/1f1f4191b21349f68cb206076be84c66\n",
      "🧪 View experiment at: https://ap-southeast-1.experiments.sagemaker.aws/#/experiments/15\n",
      "=========================\n",
      "TD_ACTUAL_POWER\n",
      "Processing row 0\n"
     ]
    },
    {
     "name": "stderr",
     "output_type": "stream",
     "text": [
      "/home/sagemaker-user/preprocessing/transform.py:39: FutureWarning: 'S' is deprecated and will be removed in a future version, please use 's' instead.\n",
      "  time_range = pd.date_range(start=start_time, end=end_time, freq='S')\n"
     ]
    },
    {
     "name": "stdout",
     "output_type": "stream",
     "text": [
      "Processing row 10000\n",
      "Processing row 20000\n",
      "✅ Saved to s3://s3-assetcare-bucket/features_store/transformed/2024-05/TD_ACTUAL_POWER_20250502_074102.parquet\n",
      "✅ Saved to s3://s3-assetcare-bucket/features_store/digital_intervals/2024-05/TD_ACTUAL_POWER_20250502_074102.parquet\n",
      "✅ Logged digital tag: TD_ACTUAL_POWER\n",
      "*********\n",
      "🏃 View run Transforming_TD_ACTUAL_POWER_2024-05 at: https://ap-southeast-1.experiments.sagemaker.aws/#/experiments/15/runs/d57e60e74c6f4c5098c9a6e6478a5a65\n",
      "🧪 View experiment at: https://ap-southeast-1.experiments.sagemaker.aws/#/experiments/15\n",
      "🏃 View run 1.2 Analog Input at: https://ap-southeast-1.experiments.sagemaker.aws/#/experiments/15/runs/1f1f4191b21349f68cb206076be84c66\n",
      "🧪 View experiment at: https://ap-southeast-1.experiments.sagemaker.aws/#/experiments/15\n",
      "=========================\n",
      "TD_DSU_ACTUAL_POWER\n",
      "Processing row 0\n"
     ]
    },
    {
     "name": "stderr",
     "output_type": "stream",
     "text": [
      "/home/sagemaker-user/preprocessing/transform.py:39: FutureWarning: 'S' is deprecated and will be removed in a future version, please use 's' instead.\n",
      "  time_range = pd.date_range(start=start_time, end=end_time, freq='S')\n"
     ]
    },
    {
     "name": "stdout",
     "output_type": "stream",
     "text": [
      "Processing row 10000\n",
      "Processing row 20000\n",
      "Processing row 30000\n",
      "Processing row 40000\n",
      "Processing row 50000\n",
      "Processing row 60000\n",
      "Processing row 70000\n",
      "Processing row 80000\n",
      "Processing row 90000\n",
      "Processing row 100000\n",
      "Processing row 110000\n",
      "Processing row 120000\n",
      "Processing row 130000\n",
      "Processing row 140000\n",
      "Processing row 150000\n",
      "Processing row 160000\n",
      "✅ Saved to s3://s3-assetcare-bucket/features_store/transformed/2024-05/TD_DSU_ACTUAL_POWER_20250502_074332.parquet\n",
      "✅ Saved to s3://s3-assetcare-bucket/features_store/digital_intervals/2024-05/TD_DSU_ACTUAL_POWER_20250502_074332.parquet\n",
      "✅ Logged digital tag: TD_DSU_ACTUAL_POWER\n",
      "*********\n",
      "🏃 View run Transforming_TD_DSU_ACTUAL_POWER_2024-05 at: https://ap-southeast-1.experiments.sagemaker.aws/#/experiments/15/runs/6f1ceb9417174e228446d9e8ec5c4a50\n",
      "🧪 View experiment at: https://ap-southeast-1.experiments.sagemaker.aws/#/experiments/15\n",
      "🏃 View run 1.2 Analog Input at: https://ap-southeast-1.experiments.sagemaker.aws/#/experiments/15/runs/1f1f4191b21349f68cb206076be84c66\n",
      "🧪 View experiment at: https://ap-southeast-1.experiments.sagemaker.aws/#/experiments/15\n",
      "=========================\n",
      "TOP_DRIVE_CONVERTERS_IN_ED_ROP_IO_FEEDBACK_VALUE\n",
      "⚠️ DataFrame is empty. Skipping transform.\n",
      "✅ Saved to s3://s3-assetcare-bucket/features_store/transformed/2024-05/TOP_DRIVE_CONVERTERS_IN_ED_ROP_IO_FEEDBACK_VALUE_20250502_074657.parquet\n",
      "✅ Saved to s3://s3-assetcare-bucket/features_store/digital_intervals/2024-05/TOP_DRIVE_CONVERTERS_IN_ED_ROP_IO_FEEDBACK_VALUE_20250502_074657.parquet\n",
      "✅ Logged digital tag: TOP_DRIVE_CONVERTERS_IN_ED_ROP_IO_FEEDBACK_VALUE\n",
      "*********\n",
      "🏃 View run Transforming_TOP_DRIVE_CONVERTERS_IN_ED_ROP_IO_FEEDBACK_VALUE_2024-05 at: https://ap-southeast-1.experiments.sagemaker.aws/#/experiments/15/runs/a98ef1f5e42849d1b4e5180cad994d79\n",
      "🧪 View experiment at: https://ap-southeast-1.experiments.sagemaker.aws/#/experiments/15\n",
      "🏃 View run 1.2 Analog Input at: https://ap-southeast-1.experiments.sagemaker.aws/#/experiments/15/runs/1f1f4191b21349f68cb206076be84c66\n",
      "🧪 View experiment at: https://ap-southeast-1.experiments.sagemaker.aws/#/experiments/15\n",
      "=========================\n",
      "DWA_ACTUAL_MOTOR_TEMP\n",
      "Processing row 0\n"
     ]
    },
    {
     "name": "stderr",
     "output_type": "stream",
     "text": [
      "/home/sagemaker-user/preprocessing/transform.py:39: FutureWarning: 'S' is deprecated and will be removed in a future version, please use 's' instead.\n",
      "  time_range = pd.date_range(start=start_time, end=end_time, freq='S')\n"
     ]
    },
    {
     "name": "stdout",
     "output_type": "stream",
     "text": [
      "✅ Saved to s3://s3-assetcare-bucket/features_store/transformed/2024-05/DWA_ACTUAL_MOTOR_TEMP_20250502_074659.parquet\n",
      "✅ Saved to s3://s3-assetcare-bucket/features_store/digital_intervals/2024-05/DWA_ACTUAL_MOTOR_TEMP_20250502_074659.parquet\n",
      "✅ Logged digital tag: DWA_ACTUAL_MOTOR_TEMP\n",
      "*********\n",
      "🏃 View run Transforming_DWA_ACTUAL_MOTOR_TEMP_2024-05 at: https://ap-southeast-1.experiments.sagemaker.aws/#/experiments/15/runs/38303d9ce88648ac92a9fcf7eb6b120f\n",
      "🧪 View experiment at: https://ap-southeast-1.experiments.sagemaker.aws/#/experiments/15\n",
      "🏃 View run 1.2 Analog Input at: https://ap-southeast-1.experiments.sagemaker.aws/#/experiments/15/runs/1f1f4191b21349f68cb206076be84c66\n",
      "🧪 View experiment at: https://ap-southeast-1.experiments.sagemaker.aws/#/experiments/15\n",
      "=========================\n",
      "DWB_ACTUAL_MOTOR_TEMP\n",
      "Processing row 0\n"
     ]
    },
    {
     "name": "stderr",
     "output_type": "stream",
     "text": [
      "/home/sagemaker-user/preprocessing/transform.py:39: FutureWarning: 'S' is deprecated and will be removed in a future version, please use 's' instead.\n",
      "  time_range = pd.date_range(start=start_time, end=end_time, freq='S')\n"
     ]
    },
    {
     "name": "stdout",
     "output_type": "stream",
     "text": [
      "✅ Saved to s3://s3-assetcare-bucket/features_store/transformed/2024-05/DWB_ACTUAL_MOTOR_TEMP_20250502_074955.parquet\n",
      "✅ Saved to s3://s3-assetcare-bucket/features_store/digital_intervals/2024-05/DWB_ACTUAL_MOTOR_TEMP_20250502_074955.parquet\n",
      "✅ Logged digital tag: DWB_ACTUAL_MOTOR_TEMP\n",
      "*********\n",
      "🏃 View run Transforming_DWB_ACTUAL_MOTOR_TEMP_2024-05 at: https://ap-southeast-1.experiments.sagemaker.aws/#/experiments/15/runs/d738cac035404b96888392a79bc658ac\n",
      "🧪 View experiment at: https://ap-southeast-1.experiments.sagemaker.aws/#/experiments/15\n",
      "🏃 View run 1.2 Analog Input at: https://ap-southeast-1.experiments.sagemaker.aws/#/experiments/15/runs/1f1f4191b21349f68cb206076be84c66\n",
      "🧪 View experiment at: https://ap-southeast-1.experiments.sagemaker.aws/#/experiments/15\n",
      "=========================\n",
      "DRILL_SPEED\n",
      "⚠️ DataFrame is empty. Skipping transform.\n",
      "✅ Saved to s3://s3-assetcare-bucket/features_store/transformed/2024-05/DRILL_SPEED_20250502_075249.parquet\n",
      "✅ Saved to s3://s3-assetcare-bucket/features_store/digital_intervals/2024-05/DRILL_SPEED_20250502_075249.parquet\n",
      "✅ Logged digital tag: DRILL_SPEED\n",
      "*********\n",
      "🏃 View run Transforming_DRILL_SPEED_2024-05 at: https://ap-southeast-1.experiments.sagemaker.aws/#/experiments/15/runs/a7bdc89acb44459a9aee0a20509870f0\n",
      "🧪 View experiment at: https://ap-southeast-1.experiments.sagemaker.aws/#/experiments/15\n",
      "🏃 View run 1.2 Analog Input at: https://ap-southeast-1.experiments.sagemaker.aws/#/experiments/15/runs/1f1f4191b21349f68cb206076be84c66\n",
      "🧪 View experiment at: https://ap-southeast-1.experiments.sagemaker.aws/#/experiments/15\n",
      "=========================\n",
      "DW_AMBIENT_TEMP\n",
      "⚠️ DataFrame is empty. Skipping transform.\n",
      "✅ Saved to s3://s3-assetcare-bucket/features_store/transformed/2024-05/DW_AMBIENT_TEMP_20250502_075251.parquet\n",
      "✅ Saved to s3://s3-assetcare-bucket/features_store/digital_intervals/2024-05/DW_AMBIENT_TEMP_20250502_075251.parquet\n",
      "✅ Logged digital tag: DW_AMBIENT_TEMP\n",
      "*********\n",
      "🏃 View run Transforming_DW_AMBIENT_TEMP_2024-05 at: https://ap-southeast-1.experiments.sagemaker.aws/#/experiments/15/runs/4c799cb1362048508bd2478b1efd6d8f\n",
      "🧪 View experiment at: https://ap-southeast-1.experiments.sagemaker.aws/#/experiments/15\n",
      "🏃 View run 1.2 Analog Input at: https://ap-southeast-1.experiments.sagemaker.aws/#/experiments/15/runs/1f1f4191b21349f68cb206076be84c66\n",
      "🧪 View experiment at: https://ap-southeast-1.experiments.sagemaker.aws/#/experiments/15\n",
      "=========================\n",
      "DW_GEARBOX1_LO_PRESS\n",
      "⚠️ DataFrame is empty. Skipping transform.\n",
      "✅ Saved to s3://s3-assetcare-bucket/features_store/transformed/2024-05/DW_GEARBOX1_LO_PRESS_20250502_075254.parquet\n",
      "✅ Saved to s3://s3-assetcare-bucket/features_store/digital_intervals/2024-05/DW_GEARBOX1_LO_PRESS_20250502_075254.parquet\n",
      "✅ Logged digital tag: DW_GEARBOX1_LO_PRESS\n",
      "*********\n",
      "🏃 View run Transforming_DW_GEARBOX1_LO_PRESS_2024-05 at: https://ap-southeast-1.experiments.sagemaker.aws/#/experiments/15/runs/8f8e37583b8b43ae80d226850b594fc8\n",
      "🧪 View experiment at: https://ap-southeast-1.experiments.sagemaker.aws/#/experiments/15\n",
      "🏃 View run 1.2 Analog Input at: https://ap-southeast-1.experiments.sagemaker.aws/#/experiments/15/runs/1f1f4191b21349f68cb206076be84c66\n",
      "🧪 View experiment at: https://ap-southeast-1.experiments.sagemaker.aws/#/experiments/15\n",
      "=========================\n",
      "DW_GEARBOX2_LO_PRESS\n",
      "⚠️ DataFrame is empty. Skipping transform.\n",
      "✅ Saved to s3://s3-assetcare-bucket/features_store/transformed/2024-05/DW_GEARBOX2_LO_PRESS_20250502_075257.parquet\n",
      "✅ Saved to s3://s3-assetcare-bucket/features_store/digital_intervals/2024-05/DW_GEARBOX2_LO_PRESS_20250502_075257.parquet\n",
      "✅ Logged digital tag: DW_GEARBOX2_LO_PRESS\n",
      "*********\n",
      "🏃 View run Transforming_DW_GEARBOX2_LO_PRESS_2024-05 at: https://ap-southeast-1.experiments.sagemaker.aws/#/experiments/15/runs/5bb282f800e54bae98e8667c04103fbd\n",
      "🧪 View experiment at: https://ap-southeast-1.experiments.sagemaker.aws/#/experiments/15\n",
      "🏃 View run 1.2 Analog Input at: https://ap-southeast-1.experiments.sagemaker.aws/#/experiments/15/runs/1f1f4191b21349f68cb206076be84c66\n",
      "🧪 View experiment at: https://ap-southeast-1.experiments.sagemaker.aws/#/experiments/15\n",
      "=========================\n",
      "DWA_RTD1_TEMP\n",
      "⚠️ DataFrame is empty. Skipping transform.\n",
      "✅ Saved to s3://s3-assetcare-bucket/features_store/transformed/2024-05/DWA_RTD1_TEMP_20250502_075259.parquet\n",
      "✅ Saved to s3://s3-assetcare-bucket/features_store/digital_intervals/2024-05/DWA_RTD1_TEMP_20250502_075259.parquet\n",
      "✅ Logged digital tag: DWA_RTD1_TEMP\n",
      "*********\n",
      "🏃 View run Transforming_DWA_RTD1_TEMP_2024-05 at: https://ap-southeast-1.experiments.sagemaker.aws/#/experiments/15/runs/b92453938543448ea192da5441c4a748\n",
      "🧪 View experiment at: https://ap-southeast-1.experiments.sagemaker.aws/#/experiments/15\n",
      "🏃 View run 1.2 Analog Input at: https://ap-southeast-1.experiments.sagemaker.aws/#/experiments/15/runs/1f1f4191b21349f68cb206076be84c66\n",
      "🧪 View experiment at: https://ap-southeast-1.experiments.sagemaker.aws/#/experiments/15\n",
      "=========================\n",
      "DWA_RTD3_TEMP\n",
      "⚠️ DataFrame is empty. Skipping transform.\n",
      "✅ Saved to s3://s3-assetcare-bucket/features_store/transformed/2024-05/DWA_RTD3_TEMP_20250502_075302.parquet\n",
      "✅ Saved to s3://s3-assetcare-bucket/features_store/digital_intervals/2024-05/DWA_RTD3_TEMP_20250502_075302.parquet\n",
      "✅ Logged digital tag: DWA_RTD3_TEMP\n",
      "*********\n",
      "🏃 View run Transforming_DWA_RTD3_TEMP_2024-05 at: https://ap-southeast-1.experiments.sagemaker.aws/#/experiments/15/runs/88f32bfcee214eda8de063b0c8004856\n",
      "🧪 View experiment at: https://ap-southeast-1.experiments.sagemaker.aws/#/experiments/15\n",
      "🏃 View run 1.2 Analog Input at: https://ap-southeast-1.experiments.sagemaker.aws/#/experiments/15/runs/1f1f4191b21349f68cb206076be84c66\n",
      "🧪 View experiment at: https://ap-southeast-1.experiments.sagemaker.aws/#/experiments/15\n",
      "=========================\n",
      "DWB_RTD3_TEMP\n",
      "⚠️ DataFrame is empty. Skipping transform.\n",
      "✅ Saved to s3://s3-assetcare-bucket/features_store/transformed/2024-05/DWB_RTD3_TEMP_20250502_075305.parquet\n",
      "✅ Saved to s3://s3-assetcare-bucket/features_store/digital_intervals/2024-05/DWB_RTD3_TEMP_20250502_075305.parquet\n",
      "✅ Logged digital tag: DWB_RTD3_TEMP\n",
      "*********\n",
      "🏃 View run Transforming_DWB_RTD3_TEMP_2024-05 at: https://ap-southeast-1.experiments.sagemaker.aws/#/experiments/15/runs/beb9b2cfd56f4a3f80c480eeb55d84a1\n",
      "🧪 View experiment at: https://ap-southeast-1.experiments.sagemaker.aws/#/experiments/15\n",
      "🏃 View run 1.2 Analog Input at: https://ap-southeast-1.experiments.sagemaker.aws/#/experiments/15/runs/1f1f4191b21349f68cb206076be84c66\n",
      "🧪 View experiment at: https://ap-southeast-1.experiments.sagemaker.aws/#/experiments/15\n",
      "=========================\n",
      "DWC_RTD2_TEMP\n",
      "⚠️ DataFrame is empty. Skipping transform.\n",
      "✅ Saved to s3://s3-assetcare-bucket/features_store/transformed/2024-05/DWC_RTD2_TEMP_20250502_075307.parquet\n",
      "✅ Saved to s3://s3-assetcare-bucket/features_store/digital_intervals/2024-05/DWC_RTD2_TEMP_20250502_075307.parquet\n",
      "✅ Logged digital tag: DWC_RTD2_TEMP\n",
      "*********\n",
      "🏃 View run Transforming_DWC_RTD2_TEMP_2024-05 at: https://ap-southeast-1.experiments.sagemaker.aws/#/experiments/15/runs/0e251607754343c39cd11c1b1e4aec77\n",
      "🧪 View experiment at: https://ap-southeast-1.experiments.sagemaker.aws/#/experiments/15\n",
      "🏃 View run 1.2 Analog Input at: https://ap-southeast-1.experiments.sagemaker.aws/#/experiments/15/runs/1f1f4191b21349f68cb206076be84c66\n",
      "🧪 View experiment at: https://ap-southeast-1.experiments.sagemaker.aws/#/experiments/15\n",
      "=========================\n",
      "DWC_RTD3_TEMP\n",
      "⚠️ DataFrame is empty. Skipping transform.\n",
      "✅ Saved to s3://s3-assetcare-bucket/features_store/transformed/2024-05/DWC_RTD3_TEMP_20250502_075310.parquet\n",
      "✅ Saved to s3://s3-assetcare-bucket/features_store/digital_intervals/2024-05/DWC_RTD3_TEMP_20250502_075310.parquet\n",
      "✅ Logged digital tag: DWC_RTD3_TEMP\n",
      "*********\n",
      "🏃 View run Transforming_DWC_RTD3_TEMP_2024-05 at: https://ap-southeast-1.experiments.sagemaker.aws/#/experiments/15/runs/6bfbdec7d50d4c8489e9fc6208b3cca1\n",
      "🧪 View experiment at: https://ap-southeast-1.experiments.sagemaker.aws/#/experiments/15\n",
      "🏃 View run 1.2 Analog Input at: https://ap-southeast-1.experiments.sagemaker.aws/#/experiments/15/runs/1f1f4191b21349f68cb206076be84c66\n",
      "🧪 View experiment at: https://ap-southeast-1.experiments.sagemaker.aws/#/experiments/15\n",
      "=========================\n",
      "TD_RTD1_TEMP\n",
      "⚠️ DataFrame is empty. Skipping transform.\n",
      "✅ Saved to s3://s3-assetcare-bucket/features_store/transformed/2024-05/TD_RTD1_TEMP_20250502_075312.parquet\n",
      "✅ Saved to s3://s3-assetcare-bucket/features_store/digital_intervals/2024-05/TD_RTD1_TEMP_20250502_075312.parquet\n",
      "✅ Logged digital tag: TD_RTD1_TEMP\n",
      "*********\n",
      "🏃 View run Transforming_TD_RTD1_TEMP_2024-05 at: https://ap-southeast-1.experiments.sagemaker.aws/#/experiments/15/runs/5f0c0fc49f194a2db952d904b2c0d55f\n",
      "🧪 View experiment at: https://ap-southeast-1.experiments.sagemaker.aws/#/experiments/15\n",
      "🏃 View run 1.2 Analog Input at: https://ap-southeast-1.experiments.sagemaker.aws/#/experiments/15/runs/1f1f4191b21349f68cb206076be84c66\n",
      "🧪 View experiment at: https://ap-southeast-1.experiments.sagemaker.aws/#/experiments/15\n",
      "=========================\n",
      "TD_RTD2_TEMP\n",
      "⚠️ DataFrame is empty. Skipping transform.\n",
      "✅ Saved to s3://s3-assetcare-bucket/features_store/transformed/2024-05/TD_RTD2_TEMP_20250502_075315.parquet\n",
      "✅ Saved to s3://s3-assetcare-bucket/features_store/digital_intervals/2024-05/TD_RTD2_TEMP_20250502_075315.parquet\n",
      "✅ Logged digital tag: TD_RTD2_TEMP\n",
      "*********\n",
      "🏃 View run Transforming_TD_RTD2_TEMP_2024-05 at: https://ap-southeast-1.experiments.sagemaker.aws/#/experiments/15/runs/d16228cf13f04c1b8d6ad61983cec908\n",
      "🧪 View experiment at: https://ap-southeast-1.experiments.sagemaker.aws/#/experiments/15\n",
      "🏃 View run 1.2 Analog Input at: https://ap-southeast-1.experiments.sagemaker.aws/#/experiments/15/runs/1f1f4191b21349f68cb206076be84c66\n",
      "🧪 View experiment at: https://ap-southeast-1.experiments.sagemaker.aws/#/experiments/15\n",
      "=========================\n",
      "TD_RTD3_TEMP\n",
      "⚠️ DataFrame is empty. Skipping transform.\n",
      "✅ Saved to s3://s3-assetcare-bucket/features_store/transformed/2024-05/TD_RTD3_TEMP_20250502_075317.parquet\n",
      "✅ Saved to s3://s3-assetcare-bucket/features_store/digital_intervals/2024-05/TD_RTD3_TEMP_20250502_075317.parquet\n",
      "✅ Logged digital tag: TD_RTD3_TEMP\n",
      "*********\n",
      "🏃 View run Transforming_TD_RTD3_TEMP_2024-05 at: https://ap-southeast-1.experiments.sagemaker.aws/#/experiments/15/runs/2ac016f7a73b4988b46218127eb7c296\n",
      "🧪 View experiment at: https://ap-southeast-1.experiments.sagemaker.aws/#/experiments/15\n",
      "🏃 View run 1.2 Analog Input at: https://ap-southeast-1.experiments.sagemaker.aws/#/experiments/15/runs/1f1f4191b21349f68cb206076be84c66\n",
      "🧪 View experiment at: https://ap-southeast-1.experiments.sagemaker.aws/#/experiments/15\n",
      "=========================\n",
      "DWA_DSU_MAIN_AC_VOLTAGE\n",
      "Processing row 0\n"
     ]
    },
    {
     "name": "stderr",
     "output_type": "stream",
     "text": [
      "/home/sagemaker-user/preprocessing/transform.py:39: FutureWarning: 'S' is deprecated and will be removed in a future version, please use 's' instead.\n",
      "  time_range = pd.date_range(start=start_time, end=end_time, freq='S')\n"
     ]
    },
    {
     "name": "stdout",
     "output_type": "stream",
     "text": [
      "Processing row 10000\n",
      "Processing row 20000\n",
      "Processing row 30000\n",
      "Processing row 40000\n",
      "Processing row 50000\n",
      "Processing row 60000\n",
      "✅ Saved to s3://s3-assetcare-bucket/features_store/transformed/2024-05/DWA_DSU_MAIN_AC_VOLTAGE_20250502_075320.parquet\n",
      "start time has some values\n",
      "✅ Saved to s3://s3-assetcare-bucket/features_store/digital_intervals/2024-05/DWA_DSU_MAIN_AC_VOLTAGE_20250502_075320.parquet\n",
      "✅ Logged digital tag: DWA_DSU_MAIN_AC_VOLTAGE\n",
      "*********\n",
      "🏃 View run Transforming_DWA_DSU_MAIN_AC_VOLTAGE_2024-05 at: https://ap-southeast-1.experiments.sagemaker.aws/#/experiments/15/runs/c9d849f6f2c24245801410c4c5260548\n",
      "🧪 View experiment at: https://ap-southeast-1.experiments.sagemaker.aws/#/experiments/15\n",
      "🏃 View run 1.2 Analog Input at: https://ap-southeast-1.experiments.sagemaker.aws/#/experiments/15/runs/1f1f4191b21349f68cb206076be84c66\n",
      "🧪 View experiment at: https://ap-southeast-1.experiments.sagemaker.aws/#/experiments/15\n",
      "=========================\n",
      "DWB_ACTUAL_MOTOR_TORQUE\n",
      "Processing row 0\n"
     ]
    },
    {
     "name": "stderr",
     "output_type": "stream",
     "text": [
      "/home/sagemaker-user/preprocessing/transform.py:39: FutureWarning: 'S' is deprecated and will be removed in a future version, please use 's' instead.\n",
      "  time_range = pd.date_range(start=start_time, end=end_time, freq='S')\n"
     ]
    },
    {
     "name": "stdout",
     "output_type": "stream",
     "text": [
      "Processing row 10000\n",
      "Processing row 20000\n",
      "✅ Saved to s3://s3-assetcare-bucket/features_store/transformed/2024-05/DWB_ACTUAL_MOTOR_TORQUE_20250502_075656.parquet\n",
      "✅ Saved to s3://s3-assetcare-bucket/features_store/digital_intervals/2024-05/DWB_ACTUAL_MOTOR_TORQUE_20250502_075656.parquet\n",
      "✅ Logged digital tag: DWB_ACTUAL_MOTOR_TORQUE\n",
      "*********\n",
      "🏃 View run Transforming_DWB_ACTUAL_MOTOR_TORQUE_2024-05 at: https://ap-southeast-1.experiments.sagemaker.aws/#/experiments/15/runs/4f3f2379a33948d6b4353f56af07560d\n",
      "🧪 View experiment at: https://ap-southeast-1.experiments.sagemaker.aws/#/experiments/15\n",
      "🏃 View run 1.2 Analog Input at: https://ap-southeast-1.experiments.sagemaker.aws/#/experiments/15/runs/1f1f4191b21349f68cb206076be84c66\n",
      "🧪 View experiment at: https://ap-southeast-1.experiments.sagemaker.aws/#/experiments/15\n",
      "=========================\n",
      "DWB_DSU_ACTUAL_POWER\n",
      "Processing row 0\n"
     ]
    },
    {
     "name": "stderr",
     "output_type": "stream",
     "text": [
      "/home/sagemaker-user/preprocessing/transform.py:39: FutureWarning: 'S' is deprecated and will be removed in a future version, please use 's' instead.\n",
      "  time_range = pd.date_range(start=start_time, end=end_time, freq='S')\n"
     ]
    },
    {
     "name": "stdout",
     "output_type": "stream",
     "text": [
      "Processing row 10000\n",
      "Processing row 20000\n",
      "Processing row 30000\n",
      "Processing row 40000\n",
      "Processing row 50000\n",
      "✅ Saved to s3://s3-assetcare-bucket/features_store/transformed/2024-05/DWB_DSU_ACTUAL_POWER_20250502_075959.parquet\n",
      "✅ Saved to s3://s3-assetcare-bucket/features_store/digital_intervals/2024-05/DWB_DSU_ACTUAL_POWER_20250502_075959.parquet\n",
      "✅ Logged digital tag: DWB_DSU_ACTUAL_POWER\n",
      "*********\n",
      "🏃 View run Transforming_DWB_DSU_ACTUAL_POWER_2024-05 at: https://ap-southeast-1.experiments.sagemaker.aws/#/experiments/15/runs/478a2d109e1c49058849701a2750039b\n",
      "🧪 View experiment at: https://ap-southeast-1.experiments.sagemaker.aws/#/experiments/15\n",
      "🏃 View run 1.2 Analog Input at: https://ap-southeast-1.experiments.sagemaker.aws/#/experiments/15/runs/1f1f4191b21349f68cb206076be84c66\n",
      "🧪 View experiment at: https://ap-southeast-1.experiments.sagemaker.aws/#/experiments/15\n",
      "=========================\n",
      "DWB_DSU_DC_VOLTAGE\n",
      "Processing row 0\n"
     ]
    },
    {
     "name": "stderr",
     "output_type": "stream",
     "text": [
      "/home/sagemaker-user/preprocessing/transform.py:39: FutureWarning: 'S' is deprecated and will be removed in a future version, please use 's' instead.\n",
      "  time_range = pd.date_range(start=start_time, end=end_time, freq='S')\n"
     ]
    },
    {
     "name": "stdout",
     "output_type": "stream",
     "text": [
      "Processing row 10000\n",
      "Processing row 20000\n",
      "Processing row 30000\n",
      "Processing row 40000\n",
      "Processing row 50000\n",
      "Processing row 60000\n",
      "Processing row 70000\n",
      "Processing row 80000\n",
      "Processing row 90000\n",
      "Processing row 100000\n",
      "✅ Saved to s3://s3-assetcare-bucket/features_store/transformed/2024-05/DWB_DSU_DC_VOLTAGE_20250502_080318.parquet\n",
      "start time has some values\n",
      "✅ Saved to s3://s3-assetcare-bucket/features_store/digital_intervals/2024-05/DWB_DSU_DC_VOLTAGE_20250502_080318.parquet\n",
      "✅ Logged digital tag: DWB_DSU_DC_VOLTAGE\n",
      "*********\n",
      "🏃 View run Transforming_DWB_DSU_DC_VOLTAGE_2024-05 at: https://ap-southeast-1.experiments.sagemaker.aws/#/experiments/15/runs/2728e140ef4e47a99f6dbac5a4ca6e55\n",
      "🧪 View experiment at: https://ap-southeast-1.experiments.sagemaker.aws/#/experiments/15\n",
      "🏃 View run 1.2 Analog Input at: https://ap-southeast-1.experiments.sagemaker.aws/#/experiments/15/runs/1f1f4191b21349f68cb206076be84c66\n",
      "🧪 View experiment at: https://ap-southeast-1.experiments.sagemaker.aws/#/experiments/15\n",
      "=========================\n",
      "DWB_DSU_MAIN_AC_VOLTAGE\n",
      "Processing row 0\n"
     ]
    },
    {
     "name": "stderr",
     "output_type": "stream",
     "text": [
      "/home/sagemaker-user/preprocessing/transform.py:39: FutureWarning: 'S' is deprecated and will be removed in a future version, please use 's' instead.\n",
      "  time_range = pd.date_range(start=start_time, end=end_time, freq='S')\n"
     ]
    },
    {
     "name": "stdout",
     "output_type": "stream",
     "text": [
      "Processing row 10000\n",
      "Processing row 20000\n",
      "Processing row 30000\n",
      "Processing row 40000\n",
      "Processing row 50000\n",
      "Processing row 60000\n",
      "✅ Saved to s3://s3-assetcare-bucket/features_store/transformed/2024-05/DWB_DSU_MAIN_AC_VOLTAGE_20250502_080708.parquet\n",
      "start time has some values\n",
      "✅ Saved to s3://s3-assetcare-bucket/features_store/digital_intervals/2024-05/DWB_DSU_MAIN_AC_VOLTAGE_20250502_080708.parquet\n",
      "✅ Logged digital tag: DWB_DSU_MAIN_AC_VOLTAGE\n",
      "*********\n",
      "🏃 View run Transforming_DWB_DSU_MAIN_AC_VOLTAGE_2024-05 at: https://ap-southeast-1.experiments.sagemaker.aws/#/experiments/15/runs/f5a9d0c06bd240b582c9ef695c83941e\n",
      "🧪 View experiment at: https://ap-southeast-1.experiments.sagemaker.aws/#/experiments/15\n",
      "🏃 View run 1.2 Analog Input at: https://ap-southeast-1.experiments.sagemaker.aws/#/experiments/15/runs/1f1f4191b21349f68cb206076be84c66\n",
      "🧪 View experiment at: https://ap-southeast-1.experiments.sagemaker.aws/#/experiments/15\n",
      "=========================\n",
      "DWC_ACTUAL_MOTOR_TORQUE\n",
      "Processing row 0\n"
     ]
    },
    {
     "name": "stderr",
     "output_type": "stream",
     "text": [
      "/home/sagemaker-user/preprocessing/transform.py:39: FutureWarning: 'S' is deprecated and will be removed in a future version, please use 's' instead.\n",
      "  time_range = pd.date_range(start=start_time, end=end_time, freq='S')\n"
     ]
    },
    {
     "name": "stdout",
     "output_type": "stream",
     "text": [
      "Processing row 10000\n",
      "Processing row 20000\n",
      "✅ Saved to s3://s3-assetcare-bucket/features_store/transformed/2024-05/DWC_ACTUAL_MOTOR_TORQUE_20250502_081039.parquet\n",
      "✅ Saved to s3://s3-assetcare-bucket/features_store/digital_intervals/2024-05/DWC_ACTUAL_MOTOR_TORQUE_20250502_081039.parquet\n",
      "✅ Logged digital tag: DWC_ACTUAL_MOTOR_TORQUE\n",
      "*********\n",
      "🏃 View run Transforming_DWC_ACTUAL_MOTOR_TORQUE_2024-05 at: https://ap-southeast-1.experiments.sagemaker.aws/#/experiments/15/runs/628101ecc5634126881dbc6dbcc2c7e0\n",
      "🧪 View experiment at: https://ap-southeast-1.experiments.sagemaker.aws/#/experiments/15\n",
      "🏃 View run 1.2 Analog Input at: https://ap-southeast-1.experiments.sagemaker.aws/#/experiments/15/runs/1f1f4191b21349f68cb206076be84c66\n",
      "🧪 View experiment at: https://ap-southeast-1.experiments.sagemaker.aws/#/experiments/15\n",
      "=========================\n",
      "DWC_DSU_DC_VOLTAGE\n",
      "Processing row 0\n"
     ]
    },
    {
     "name": "stderr",
     "output_type": "stream",
     "text": [
      "/home/sagemaker-user/preprocessing/transform.py:39: FutureWarning: 'S' is deprecated and will be removed in a future version, please use 's' instead.\n",
      "  time_range = pd.date_range(start=start_time, end=end_time, freq='S')\n"
     ]
    },
    {
     "name": "stdout",
     "output_type": "stream",
     "text": [
      "Processing row 10000\n",
      "Processing row 20000\n",
      "Processing row 30000\n",
      "Processing row 40000\n",
      "Processing row 50000\n",
      "Processing row 60000\n",
      "Processing row 70000\n",
      "Processing row 80000\n",
      "Processing row 90000\n",
      "Processing row 100000\n",
      "✅ Saved to s3://s3-assetcare-bucket/features_store/transformed/2024-05/DWC_DSU_DC_VOLTAGE_20250502_081343.parquet\n",
      "start time has some values\n",
      "✅ Saved to s3://s3-assetcare-bucket/features_store/digital_intervals/2024-05/DWC_DSU_DC_VOLTAGE_20250502_081343.parquet\n",
      "✅ Logged digital tag: DWC_DSU_DC_VOLTAGE\n",
      "*********\n",
      "🏃 View run Transforming_DWC_DSU_DC_VOLTAGE_2024-05 at: https://ap-southeast-1.experiments.sagemaker.aws/#/experiments/15/runs/9171ab0b6bde42c2bc201516508dd7f8\n",
      "🧪 View experiment at: https://ap-southeast-1.experiments.sagemaker.aws/#/experiments/15\n",
      "🏃 View run 1.2 Analog Input at: https://ap-southeast-1.experiments.sagemaker.aws/#/experiments/15/runs/1f1f4191b21349f68cb206076be84c66\n",
      "🧪 View experiment at: https://ap-southeast-1.experiments.sagemaker.aws/#/experiments/15\n",
      "=========================\n",
      "TD_DSU_DC_VOLTAGE\n",
      "Processing row 0\n"
     ]
    },
    {
     "name": "stderr",
     "output_type": "stream",
     "text": [
      "/home/sagemaker-user/preprocessing/transform.py:39: FutureWarning: 'S' is deprecated and will be removed in a future version, please use 's' instead.\n",
      "  time_range = pd.date_range(start=start_time, end=end_time, freq='S')\n"
     ]
    },
    {
     "name": "stdout",
     "output_type": "stream",
     "text": [
      "Processing row 10000\n",
      "Processing row 20000\n",
      "Processing row 30000\n",
      "Processing row 40000\n",
      "Processing row 50000\n",
      "Processing row 60000\n",
      "Processing row 70000\n",
      "Processing row 80000\n",
      "Processing row 90000\n",
      "Processing row 100000\n",
      "✅ Saved to s3://s3-assetcare-bucket/features_store/transformed/2024-05/TD_DSU_DC_VOLTAGE_20250502_081732.parquet\n",
      "start time has some values\n",
      "✅ Saved to s3://s3-assetcare-bucket/features_store/digital_intervals/2024-05/TD_DSU_DC_VOLTAGE_20250502_081732.parquet\n",
      "✅ Logged digital tag: TD_DSU_DC_VOLTAGE\n",
      "*********\n",
      "🏃 View run Transforming_TD_DSU_DC_VOLTAGE_2024-05 at: https://ap-southeast-1.experiments.sagemaker.aws/#/experiments/15/runs/5881565798d8429fbc8da8732b9a4dea\n",
      "🧪 View experiment at: https://ap-southeast-1.experiments.sagemaker.aws/#/experiments/15\n",
      "🏃 View run 1.2 Analog Input at: https://ap-southeast-1.experiments.sagemaker.aws/#/experiments/15/runs/1f1f4191b21349f68cb206076be84c66\n",
      "🧪 View experiment at: https://ap-southeast-1.experiments.sagemaker.aws/#/experiments/15\n",
      "=========================\n",
      "TD_DSU_MAIN_AC_VOLTAGE\n",
      "Processing row 0\n"
     ]
    },
    {
     "name": "stderr",
     "output_type": "stream",
     "text": [
      "/home/sagemaker-user/preprocessing/transform.py:39: FutureWarning: 'S' is deprecated and will be removed in a future version, please use 's' instead.\n",
      "  time_range = pd.date_range(start=start_time, end=end_time, freq='S')\n"
     ]
    },
    {
     "name": "stdout",
     "output_type": "stream",
     "text": [
      "Processing row 10000\n",
      "Processing row 20000\n",
      "Processing row 30000\n",
      "Processing row 40000\n",
      "Processing row 50000\n",
      "✅ Saved to s3://s3-assetcare-bucket/features_store/transformed/2024-05/TD_DSU_MAIN_AC_VOLTAGE_20250502_082120.parquet\n",
      "start time has some values\n",
      "✅ Saved to s3://s3-assetcare-bucket/features_store/digital_intervals/2024-05/TD_DSU_MAIN_AC_VOLTAGE_20250502_082120.parquet\n",
      "✅ Logged digital tag: TD_DSU_MAIN_AC_VOLTAGE\n",
      "*********\n",
      "🏃 View run Transforming_TD_DSU_MAIN_AC_VOLTAGE_2024-05 at: https://ap-southeast-1.experiments.sagemaker.aws/#/experiments/15/runs/a4faf67292d84309a3e68eb8a7b5101c\n",
      "🧪 View experiment at: https://ap-southeast-1.experiments.sagemaker.aws/#/experiments/15\n",
      "🏃 View run 1.2 Analog Input at: https://ap-southeast-1.experiments.sagemaker.aws/#/experiments/15/runs/1f1f4191b21349f68cb206076be84c66\n",
      "🧪 View experiment at: https://ap-southeast-1.experiments.sagemaker.aws/#/experiments/15\n",
      "=========================\n",
      "DRAWWORKS_ADSBRAKE_BRKCTRL_BRK1_IO_PRKBRKPRESSPV_VALUE\n",
      "⚠️ DataFrame is empty. Skipping transform.\n",
      "✅ Saved to s3://s3-assetcare-bucket/features_store/transformed/2024-05/DRAWWORKS_ADSBRAKE_BRKCTRL_BRK1_IO_PRKBRKPRESSPV_VALUE_20250502_082446.parquet\n",
      "✅ Saved to s3://s3-assetcare-bucket/features_store/digital_intervals/2024-05/DRAWWORKS_ADSBRAKE_BRKCTRL_BRK1_IO_PRKBRKPRESSPV_VALUE_20250502_082446.parquet\n",
      "✅ Logged digital tag: DRAWWORKS_ADSBRAKE_BRKCTRL_BRK1_IO_PRKBRKPRESSPV_VALUE\n",
      "*********\n",
      "🏃 View run Transforming_DRAWWORKS_ADSBRAKE_BRKCTRL_BRK1_IO_PRKBRKPRESSPV_VALUE_2024-05 at: https://ap-southeast-1.experiments.sagemaker.aws/#/experiments/15/runs/cb0c4057ac524452952bdda0302223ab\n",
      "🧪 View experiment at: https://ap-southeast-1.experiments.sagemaker.aws/#/experiments/15\n",
      "🏃 View run 1.2 Analog Input at: https://ap-southeast-1.experiments.sagemaker.aws/#/experiments/15/runs/1f1f4191b21349f68cb206076be84c66\n",
      "🧪 View experiment at: https://ap-southeast-1.experiments.sagemaker.aws/#/experiments/15\n",
      "=========================\n",
      "DRAWWORKS_ADSHOOKLOAD_MEM_ACTIVEHOOKLOADPV\n",
      "⚠️ DataFrame is empty. Skipping transform.\n",
      "✅ Saved to s3://s3-assetcare-bucket/features_store/transformed/2024-05/DRAWWORKS_ADSHOOKLOAD_MEM_ACTIVEHOOKLOADPV_20250502_082448.parquet\n",
      "✅ Saved to s3://s3-assetcare-bucket/features_store/digital_intervals/2024-05/DRAWWORKS_ADSHOOKLOAD_MEM_ACTIVEHOOKLOADPV_20250502_082448.parquet\n",
      "✅ Logged digital tag: DRAWWORKS_ADSHOOKLOAD_MEM_ACTIVEHOOKLOADPV\n",
      "*********\n",
      "🏃 View run Transforming_DRAWWORKS_ADSHOOKLOAD_MEM_ACTIVEHOOKLOADPV_2024-05 at: https://ap-southeast-1.experiments.sagemaker.aws/#/experiments/15/runs/e9ebaf33f22d4af0b28bf7dbfa6f5db2\n",
      "🧪 View experiment at: https://ap-southeast-1.experiments.sagemaker.aws/#/experiments/15\n",
      "🏃 View run 1.2 Analog Input at: https://ap-southeast-1.experiments.sagemaker.aws/#/experiments/15/runs/1f1f4191b21349f68cb206076be84c66\n",
      "🧪 View experiment at: https://ap-southeast-1.experiments.sagemaker.aws/#/experiments/15\n",
      "=========================\n",
      "TOP_DRIVE_CONVERTERS_IN_ED_WOB_IO_FEEDBACK_VALUE\n",
      "⚠️ DataFrame is empty. Skipping transform.\n",
      "✅ Saved to s3://s3-assetcare-bucket/features_store/transformed/2024-05/TOP_DRIVE_CONVERTERS_IN_ED_WOB_IO_FEEDBACK_VALUE_20250502_082450.parquet\n",
      "✅ Saved to s3://s3-assetcare-bucket/features_store/digital_intervals/2024-05/TOP_DRIVE_CONVERTERS_IN_ED_WOB_IO_FEEDBACK_VALUE_20250502_082450.parquet\n",
      "✅ Logged digital tag: TOP_DRIVE_CONVERTERS_IN_ED_WOB_IO_FEEDBACK_VALUE\n",
      "*********\n",
      "🏃 View run Transforming_TOP_DRIVE_CONVERTERS_IN_ED_WOB_IO_FEEDBACK_VALUE_2024-05 at: https://ap-southeast-1.experiments.sagemaker.aws/#/experiments/15/runs/89a2823f7343411783a2186cce294116\n",
      "🧪 View experiment at: https://ap-southeast-1.experiments.sagemaker.aws/#/experiments/15\n",
      "🏃 View run 1.2 Analog Input at: https://ap-southeast-1.experiments.sagemaker.aws/#/experiments/15/runs/1f1f4191b21349f68cb206076be84c66\n",
      "🧪 View experiment at: https://ap-southeast-1.experiments.sagemaker.aws/#/experiments/15\n",
      "=========================\n",
      "DRAWWORKS_ADSBRAKE_BRKCTRL_BRK2_IO_PRKBRKPRESSPV_VALUE\n",
      "⚠️ DataFrame is empty. Skipping transform.\n",
      "✅ Saved to s3://s3-assetcare-bucket/features_store/transformed/2024-05/DRAWWORKS_ADSBRAKE_BRKCTRL_BRK2_IO_PRKBRKPRESSPV_VALUE_20250502_082453.parquet\n",
      "✅ Saved to s3://s3-assetcare-bucket/features_store/digital_intervals/2024-05/DRAWWORKS_ADSBRAKE_BRKCTRL_BRK2_IO_PRKBRKPRESSPV_VALUE_20250502_082453.parquet\n",
      "✅ Logged digital tag: DRAWWORKS_ADSBRAKE_BRKCTRL_BRK2_IO_PRKBRKPRESSPV_VALUE\n",
      "*********\n",
      "🏃 View run Transforming_DRAWWORKS_ADSBRAKE_BRKCTRL_BRK2_IO_PRKBRKPRESSPV_VALUE_2024-05 at: https://ap-southeast-1.experiments.sagemaker.aws/#/experiments/15/runs/c3e9115607e14d53ba3278cb6a0ada47\n",
      "🧪 View experiment at: https://ap-southeast-1.experiments.sagemaker.aws/#/experiments/15\n",
      "🏃 View run 1.2 Analog Input at: https://ap-southeast-1.experiments.sagemaker.aws/#/experiments/15/runs/1f1f4191b21349f68cb206076be84c66\n",
      "🧪 View experiment at: https://ap-southeast-1.experiments.sagemaker.aws/#/experiments/15\n",
      "=========================\n",
      "DRAWWORKS_HMI_IO_SHOWDRUMRPM\n",
      "⚠️ DataFrame is empty. Skipping transform.\n",
      "✅ Saved to s3://s3-assetcare-bucket/features_store/transformed/2024-05/DRAWWORKS_HMI_IO_SHOWDRUMRPM_20250502_082455.parquet\n",
      "✅ Saved to s3://s3-assetcare-bucket/features_store/digital_intervals/2024-05/DRAWWORKS_HMI_IO_SHOWDRUMRPM_20250502_082455.parquet\n",
      "✅ Logged digital tag: DRAWWORKS_HMI_IO_SHOWDRUMRPM\n",
      "*********\n",
      "🏃 View run Transforming_DRAWWORKS_HMI_IO_SHOWDRUMRPM_2024-05 at: https://ap-southeast-1.experiments.sagemaker.aws/#/experiments/15/runs/08b9ab1dbe7b4ac38dabfdd96a2a106c\n",
      "🧪 View experiment at: https://ap-southeast-1.experiments.sagemaker.aws/#/experiments/15\n",
      "🏃 View run 1.2 Analog Input at: https://ap-southeast-1.experiments.sagemaker.aws/#/experiments/15/runs/1f1f4191b21349f68cb206076be84c66\n",
      "🧪 View experiment at: https://ap-southeast-1.experiments.sagemaker.aws/#/experiments/15\n",
      "=========================\n",
      "DWA_ACTUAL_MOTOR_TORQUE\n",
      "Processing row 0\n"
     ]
    },
    {
     "name": "stderr",
     "output_type": "stream",
     "text": [
      "/home/sagemaker-user/preprocessing/transform.py:39: FutureWarning: 'S' is deprecated and will be removed in a future version, please use 's' instead.\n",
      "  time_range = pd.date_range(start=start_time, end=end_time, freq='S')\n"
     ]
    },
    {
     "name": "stdout",
     "output_type": "stream",
     "text": [
      "✅ Saved to s3://s3-assetcare-bucket/features_store/transformed/2024-05/DWA_ACTUAL_MOTOR_TORQUE_20250502_082457.parquet\n"
     ]
    }
   ],
   "source": [
    "for date_folder in date_folders:\n",
    "    print(date_folder)\n",
    "    source_parquet_folder = f\"s3://s3-assetcare-bucket/features_store/raw_merge_excel_to_parquet/{date_folder}/\"\n",
    "    destination_parquet_folder = f\"s3://s3-assetcare-bucket/features_store/transformed/{date_folder}/\"\n",
    "    \n",
    "    print(destination_parquet_folder)\n",
    "    for tag_name in tag_name_analog:\n",
    "        print(tag_name)\n",
    "        current_time = get_current_timestamp_string()\n",
    "        intervals_folder = f\"s3://s3-assetcare-bucket/features_store/digital_intervals/{date_folder}/\"\n",
    "        \n",
    "        tracking_transforming_input2(\n",
    "            source_parquet_folder=source_parquet_folder,\n",
    "            tag_name=tag_name,\n",
    "            destination_parquet_folder=destination_parquet_folder,\n",
    "            intervals_folder=intervals_folder,\n",
    "            date_folder=date_folder,\n",
    "            current_time=current_time,\n",
    "            experiment_name=experiment_name_RegularInterval,\n",
    "            parent_run_id=runID_RegularInterval_AnalogInput\n",
    "        )\n",
    "\n",
    "        print(\"=========================\")"
   ]
  },
  {
   "cell_type": "code",
   "execution_count": null,
   "id": "f065697a-e410-4178-9b95-f926ab44a8e6",
   "metadata": {},
   "outputs": [],
   "source": []
  },
  {
   "cell_type": "code",
   "execution_count": null,
   "id": "9cf78c40-98a7-45e8-aa78-6a6b23355252",
   "metadata": {},
   "outputs": [],
   "source": []
  },
  {
   "cell_type": "markdown",
   "id": "19b397d6-47ea-4bc3-9228-4dc650654337",
   "metadata": {},
   "source": [
    "#### Speed Tag Names"
   ]
  },
  {
   "cell_type": "code",
   "execution_count": null,
   "id": "236e6d5a-de48-44d4-8c1d-04190498794d",
   "metadata": {},
   "outputs": [],
   "source": [
    "tag_name_speed"
   ]
  },
  {
   "cell_type": "code",
   "execution_count": null,
   "id": "a1dea43e-e2bb-4c18-8e02-48dee396bb10",
   "metadata": {
    "scrolled": true
   },
   "outputs": [],
   "source": [
    "for date_folder in date_folders:\n",
    "    print(date_folder)\n",
    "    source_parquet_folder = f\"s3://s3-assetcare-bucket/features_store/raw_merge_excel_to_parquet/{date_folder}/\"\n",
    "    destination_parquet_folder = f\"s3://s3-assetcare-bucket/features_store/transformed/{date_folder}/\"\n",
    "    \n",
    "    print(destination_parquet_folder)\n",
    "    for tag_name in tag_name_speed:\n",
    "        print(tag_name)\n",
    "        current_time = get_current_timestamp_string()\n",
    "        intervals_folder = f\"s3://s3-assetcare-bucket/features_store/digital_intervals/{date_folder}/\"\n",
    "        \n",
    "        tracking_transforming_input2(\n",
    "            source_parquet_folder=source_parquet_folder,\n",
    "            tag_name=tag_name,\n",
    "            destination_parquet_folder=destination_parquet_folder,\n",
    "            intervals_folder=intervals_folder,\n",
    "            date_folder=date_folder,\n",
    "            current_time=current_time,\n",
    "            experiment_name=experiment_name_RegularInterval,\n",
    "            parent_run_id=runID_RegularInterval_SpeedTagNames\n",
    "        )\n",
    "\n",
    "        print(\"=========================\")"
   ]
  },
  {
   "cell_type": "code",
   "execution_count": null,
   "id": "559621d0-8807-4005-9d59-488980d03d0a",
   "metadata": {},
   "outputs": [],
   "source": []
  },
  {
   "cell_type": "code",
   "execution_count": null,
   "id": "c690432b-0b78-401b-96e9-5c2f0c879b4a",
   "metadata": {},
   "outputs": [],
   "source": []
  },
  {
   "cell_type": "code",
   "execution_count": null,
   "id": "79500685-3310-41b1-a71c-56f937809af6",
   "metadata": {},
   "outputs": [],
   "source": []
  }
 ],
 "metadata": {
  "kernelspec": {
   "display_name": "Python 3 (ipykernel)",
   "language": "python",
   "name": "python3"
  },
  "language_info": {
   "codemirror_mode": {
    "name": "ipython",
    "version": 3
   },
   "file_extension": ".py",
   "mimetype": "text/x-python",
   "name": "python",
   "nbconvert_exporter": "python",
   "pygments_lexer": "ipython3",
   "version": "3.11.11"
  }
 },
 "nbformat": 4,
 "nbformat_minor": 5
}
