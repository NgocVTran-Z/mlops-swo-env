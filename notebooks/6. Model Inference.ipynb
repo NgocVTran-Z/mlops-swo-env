{
 "cells": [
  {
   "cell_type": "code",
   "execution_count": 1,
   "id": "aab916b5-61bc-4374-bf5c-75dc903abf6b",
   "metadata": {},
   "outputs": [],
   "source": [
    "import pandas as pd\n",
    "import numpy as np\n",
    "import sys\n",
    "import gc\n",
    "\n",
    "import os\n",
    "sys.path.append(os.path.abspath(\"..\"))"
   ]
  },
  {
   "cell_type": "code",
   "execution_count": 2,
   "id": "36a7ca21-c4d5-4ed3-85f2-b70c1bc00e71",
   "metadata": {},
   "outputs": [],
   "source": [
    "import s3fs\n",
    "from typing import List\n",
    "\n",
    "from utils.common import *\n",
    "from config.params import *\n",
    "from preprocessing.transform import transform, tracking_transforming_input\n",
    "from preprocessing.intervals import get_interval_from_transformed"
   ]
  },
  {
   "cell_type": "code",
   "execution_count": 3,
   "id": "6cbc8289-ff82-4da6-89f3-a0f8023f35da",
   "metadata": {},
   "outputs": [
    {
     "name": "stdout",
     "output_type": "stream",
     "text": [
      "sagemaker.config INFO - Not applying SDK defaults from location: /etc/xdg/sagemaker/config.yaml\n",
      "sagemaker.config INFO - Not applying SDK defaults from location: /home/sagemaker-user/.config/sagemaker/config.yaml\n"
     ]
    }
   ],
   "source": [
    "from preprocessing.prepare_clustering_data import *"
   ]
  },
  {
   "cell_type": "code",
   "execution_count": 4,
   "id": "8b55df7f-38d4-4daa-9065-b83186ad55b1",
   "metadata": {},
   "outputs": [],
   "source": [
    "from training.models import *\n",
    "from training.visualize import *"
   ]
  },
  {
   "cell_type": "code",
   "execution_count": 5,
   "id": "13c66828-3b11-4864-90a3-84d53733adda",
   "metadata": {},
   "outputs": [],
   "source": [
    "from pyarrow.dataset import field"
   ]
  },
  {
   "cell_type": "code",
   "execution_count": 6,
   "id": "00123c01-0cef-46a5-8917-6946edb0b8a5",
   "metadata": {},
   "outputs": [],
   "source": [
    "import sagemaker\n",
    "from sagemaker import get_execution_role"
   ]
  },
  {
   "cell_type": "code",
   "execution_count": 7,
   "id": "3271d141-97f5-4e27-9054-8d14a5f83963",
   "metadata": {},
   "outputs": [],
   "source": [
    "import matplotlib.pyplot as plt\n",
    "import seaborn as sns"
   ]
  },
  {
   "cell_type": "code",
   "execution_count": 8,
   "id": "9de0bcf7-d37a-4024-9af5-38fa9f92c187",
   "metadata": {},
   "outputs": [],
   "source": [
    "# get the lastest saved data from mlflow run\n",
    "import mlflow\n",
    "from mlflow.tracking import MlflowClient"
   ]
  },
  {
   "cell_type": "code",
   "execution_count": 9,
   "id": "fa398e8a-de68-405d-86bc-3d0881087144",
   "metadata": {},
   "outputs": [],
   "source": [
    "# from sklearn.cluster import KMeans\n",
    "from datetime import datetime\n",
    "from pathlib import Path"
   ]
  },
  {
   "cell_type": "code",
   "execution_count": 10,
   "id": "5468bf46-bee6-4d82-96a2-fe2168116b8a",
   "metadata": {},
   "outputs": [],
   "source": [
    "import sagemaker\n",
    "import boto3\n",
    "from sagemaker.estimator import Estimator\n",
    "from sagemaker.inputs import TrainingInput"
   ]
  },
  {
   "cell_type": "code",
   "execution_count": 11,
   "id": "deffc6d4-7d01-475d-80fc-5bf09cc2bcbe",
   "metadata": {},
   "outputs": [],
   "source": [
    "from io import StringIO"
   ]
  },
  {
   "cell_type": "code",
   "execution_count": 12,
   "id": "10f124b6-265b-4703-8ac4-ef7be9d144b4",
   "metadata": {},
   "outputs": [],
   "source": [
    "from sagemaker.model import Model\n",
    "from sagemaker.transformer import Transformer"
   ]
  },
  {
   "cell_type": "code",
   "execution_count": 68,
   "id": "1b794bd0-8a49-432e-909b-192fcf063ca1",
   "metadata": {},
   "outputs": [],
   "source": [
    "from sklearn.metrics import precision_score, recall_score, f1_score, confusion_matrix, ConfusionMatrixDisplay\n",
    "import matplotlib.pyplot as plt"
   ]
  },
  {
   "cell_type": "code",
   "execution_count": null,
   "id": "6550e885-16d0-43db-9b83-7e8d24eff6ee",
   "metadata": {},
   "outputs": [],
   "source": []
  },
  {
   "cell_type": "code",
   "execution_count": null,
   "id": "dd3fe34f-82ef-4061-a434-230eaad62669",
   "metadata": {},
   "outputs": [],
   "source": []
  },
  {
   "cell_type": "code",
   "execution_count": 13,
   "id": "e30b17b7-cfe0-490a-ae4c-d6b202d7ba15",
   "metadata": {},
   "outputs": [],
   "source": [
    "client = MlflowClient()"
   ]
  },
  {
   "cell_type": "code",
   "execution_count": 14,
   "id": "821770f4-4a93-4c3f-983d-7321e5688ebe",
   "metadata": {},
   "outputs": [],
   "source": [
    "# Define session, role, and region so we can\n",
    "# perform any SageMaker tasks we need\n",
    "sagemaker_session = sagemaker.Session()\n",
    "role = get_execution_role()\n",
    "region = sagemaker_session.boto_region_name"
   ]
  },
  {
   "cell_type": "code",
   "execution_count": 15,
   "id": "b640cc0e-4051-4f08-9f57-69341e819e01",
   "metadata": {},
   "outputs": [],
   "source": [
    "# Provide the ARN of the tracking server that you want to track your training job with\n",
    "tracking_server_arn = 'arn:aws:sagemaker:ap-southeast-1:771463264346:mlflow-tracking-server/mlflow-RCF-server'"
   ]
  },
  {
   "cell_type": "code",
   "execution_count": 16,
   "id": "906ff796-9828-401f-820b-a513d5fad600",
   "metadata": {},
   "outputs": [],
   "source": [
    "mlflow.set_tracking_uri(tracking_server_arn)"
   ]
  },
  {
   "cell_type": "code",
   "execution_count": 17,
   "id": "9a30b7b3-6ff7-4fcb-b48e-7f0224209870",
   "metadata": {},
   "outputs": [
    {
     "name": "stderr",
     "output_type": "stream",
     "text": [
      "2025/05/13 04:15:06 INFO mlflow.tracking.fluent: Experiment with name '6. Model Inference' does not exist. Creating a new experiment.\n"
     ]
    },
    {
     "data": {
      "text/plain": [
       "<Experiment: artifact_location='s3://s3-assetcare-bucket/mlflow_server/22', creation_time=1747109705980, experiment_id='22', last_update_time=1747109705980, lifecycle_stage='active', name='6. Model Inference', tags={}>"
      ]
     },
     "execution_count": 17,
     "metadata": {},
     "output_type": "execute_result"
    }
   ],
   "source": [
    "experiment_name = \"6. Model Inference\"\n",
    "mlflow.set_experiment(experiment_name)"
   ]
  },
  {
   "cell_type": "code",
   "execution_count": null,
   "id": "3ea0820c-1e0f-4265-86ed-1e46c954bc8c",
   "metadata": {},
   "outputs": [],
   "source": []
  },
  {
   "cell_type": "code",
   "execution_count": null,
   "id": "983c00ee-e32b-4f1b-a07c-6e0da5f812dd",
   "metadata": {},
   "outputs": [],
   "source": []
  },
  {
   "cell_type": "markdown",
   "id": "274ea3c3-e617-4411-9c83-ba6ec907e1e1",
   "metadata": {},
   "source": [
    "### functions"
   ]
  },
  {
   "cell_type": "code",
   "execution_count": 18,
   "id": "695504e9-9fae-4abb-ad19-5fdd7ff4561b",
   "metadata": {},
   "outputs": [],
   "source": [
    "def get_value(run_id, keys):\n",
    "    run = mlflow.get_run(run_id)\n",
    "\n",
    "    # Lấy toàn bộ params\n",
    "    params = run.data.params\n",
    "    # print(params)\n",
    "    \n",
    "    # Lấy giá trị cụ thể, ví dụ: cluster_id\n",
    "    filepath = [params.get(key) for key in keys]\n",
    "    return filepath"
   ]
  },
  {
   "cell_type": "code",
   "execution_count": null,
   "id": "f054b570-8793-40e1-9169-07085b3aa312",
   "metadata": {},
   "outputs": [],
   "source": []
  },
  {
   "cell_type": "markdown",
   "id": "f6d94d38-ab18-4d6b-9a00-9905014d69c0",
   "metadata": {},
   "source": [
    "### params"
   ]
  },
  {
   "cell_type": "code",
   "execution_count": 24,
   "id": "7f2eba96-f5ea-4ca2-b46c-dcf8ad792e50",
   "metadata": {},
   "outputs": [],
   "source": [
    "# date_folders = [\n",
    "#     # '2024-04',\n",
    "#     # '2024-05',\n",
    "#     # '2024-06',\n",
    "#     # '2024-07',\n",
    "#     # '2024-08',\n",
    "#     # '2024-09',\n",
    "#     # '2024-10',\n",
    "#     # '2024-11',\n",
    "#     # '2024-12',\n",
    "#     '2025-01',\n",
    "#     '2025-02',\n",
    "#     '2025-03'\n",
    "# \"2025-04\"\n",
    "# ]\n",
    "# date_folders"
   ]
  },
  {
   "cell_type": "code",
   "execution_count": 25,
   "id": "4d1150ff-8241-4d21-9541-6ba029dcebc9",
   "metadata": {},
   "outputs": [],
   "source": [
    "# tag_name_digital = [\n",
    "#     # 'DWA_INVERTER_RUNNING', \n",
    "#     # 'DWB_INVERTER_RUNNING', \n",
    "#     # 'DWC_INVERTER_RUNNING',\n",
    "#     \"TD_INVERTER_RUNNING\"\n",
    "# ]\n",
    "# tag_name_digital"
   ]
  },
  {
   "cell_type": "code",
   "execution_count": null,
   "id": "d954fd7c-647a-4bcd-8197-2e8c297f53b1",
   "metadata": {},
   "outputs": [],
   "source": []
  },
  {
   "cell_type": "code",
   "execution_count": 27,
   "id": "7c218248-80fc-4bb1-b79a-ca1cbff6c016",
   "metadata": {},
   "outputs": [],
   "source": [
    "lst_run_id = [\n",
    "    \"f59b6687505b422f892d4dc4bcd968c4\",\n",
    "    \"3308e10733c44199ac1666548fef6ade\"\n",
    "]"
   ]
  },
  {
   "cell_type": "code",
   "execution_count": 79,
   "id": "13c69217-7ac9-413f-8fa8-3e2960fea121",
   "metadata": {},
   "outputs": [],
   "source": [
    "keys = [\n",
    "    \"Analog Tag name\",\n",
    "    \"Cluster Nr\",\n",
    "    \"Dataset: Output Training path\",\n",
    "    \"Default Threshold\"\n",
    "]\n",
    "\n"
   ]
  },
  {
   "cell_type": "code",
   "execution_count": 80,
   "id": "07f1e352-fc66-4776-b067-80458721df88",
   "metadata": {},
   "outputs": [
    {
     "data": {
      "text/html": [
       "<div>\n",
       "<style scoped>\n",
       "    .dataframe tbody tr th:only-of-type {\n",
       "        vertical-align: middle;\n",
       "    }\n",
       "\n",
       "    .dataframe tbody tr th {\n",
       "        vertical-align: top;\n",
       "    }\n",
       "\n",
       "    .dataframe thead th {\n",
       "        text-align: right;\n",
       "    }\n",
       "</style>\n",
       "<table border=\"1\" class=\"dataframe\">\n",
       "  <thead>\n",
       "    <tr style=\"text-align: right;\">\n",
       "      <th></th>\n",
       "      <th>run_id</th>\n",
       "      <th>Analog Tag name</th>\n",
       "      <th>Cluster Nr</th>\n",
       "      <th>Dataset: Output Training path</th>\n",
       "      <th>Default Threshold</th>\n",
       "    </tr>\n",
       "  </thead>\n",
       "  <tbody>\n",
       "    <tr>\n",
       "      <th>0</th>\n",
       "      <td>f59b6687505b422f892d4dc4bcd968c4</td>\n",
       "      <td>DWA_DSU_DC_VOLTAGE</td>\n",
       "      <td>2</td>\n",
       "      <td>s3://s3-assetcare-bucket/features_store/evalua...</td>\n",
       "      <td>3</td>\n",
       "    </tr>\n",
       "    <tr>\n",
       "      <th>1</th>\n",
       "      <td>3308e10733c44199ac1666548fef6ade</td>\n",
       "      <td>DWA_DSU_DC_VOLTAGE</td>\n",
       "      <td>4</td>\n",
       "      <td>s3://s3-assetcare-bucket/features_store/evalua...</td>\n",
       "      <td>7</td>\n",
       "    </tr>\n",
       "  </tbody>\n",
       "</table>\n",
       "</div>"
      ],
      "text/plain": [
       "                             run_id     Analog Tag name Cluster Nr  \\\n",
       "0  f59b6687505b422f892d4dc4bcd968c4  DWA_DSU_DC_VOLTAGE          2   \n",
       "1  3308e10733c44199ac1666548fef6ade  DWA_DSU_DC_VOLTAGE          4   \n",
       "\n",
       "                       Dataset: Output Training path Default Threshold  \n",
       "0  s3://s3-assetcare-bucket/features_store/evalua...                 3  \n",
       "1  s3://s3-assetcare-bucket/features_store/evalua...                 7  "
      ]
     },
     "execution_count": 80,
     "metadata": {},
     "output_type": "execute_result"
    }
   ],
   "source": [
    "# create df of params info\n",
    "rows = []\n",
    "for run_id in lst_run_id:\n",
    "    values = get_value(run_id, keys)\n",
    "    row = [run_id] + values\n",
    "    rows.append(row)\n",
    "\n",
    "# create df\n",
    "columns = [\"run_id\"] + keys\n",
    "df = pd.DataFrame(rows, columns=columns)\n",
    "\n",
    "# filter not empty data\n",
    "df = df[df[\"Dataset: Output Training path\"].notna()]\n",
    "df.head()"
   ]
  },
  {
   "cell_type": "markdown",
   "id": "ea8422e6-2c35-4981-ac25-f21ec5b6ae57",
   "metadata": {},
   "source": [
    "#### save file to edit the threshold"
   ]
  },
  {
   "cell_type": "code",
   "execution_count": 81,
   "id": "e127c01c-a727-4df7-9608-522acacedb78",
   "metadata": {},
   "outputs": [
    {
     "data": {
      "text/plain": [
       "(2, 5)"
      ]
     },
     "execution_count": 81,
     "metadata": {},
     "output_type": "execute_result"
    }
   ],
   "source": [
    "df.to_csv(\"inference_model_info\", index=False)\n",
    "df.shape"
   ]
  },
  {
   "cell_type": "code",
   "execution_count": 83,
   "id": "03298f52-e5fd-43e2-87ae-4ee60378d4f1",
   "metadata": {},
   "outputs": [],
   "source": [
    "# df.to_csv(\"inference_model_info.csv\", index=False)"
   ]
  },
  {
   "cell_type": "markdown",
   "id": "924e35ca-fe99-4682-92cb-42a61346a654",
   "metadata": {},
   "source": [
    "#### read the edited file"
   ]
  },
  {
   "cell_type": "code",
   "execution_count": 84,
   "id": "421b59fc-2d93-413e-b54c-9591cb2171b9",
   "metadata": {},
   "outputs": [],
   "source": [
    "filepath = \"inference_model_info\""
   ]
  },
  {
   "cell_type": "code",
   "execution_count": 85,
   "id": "4187b19f-b1eb-4f05-9c81-c1a2a7f1b82e",
   "metadata": {},
   "outputs": [
    {
     "data": {
      "text/html": [
       "<div>\n",
       "<style scoped>\n",
       "    .dataframe tbody tr th:only-of-type {\n",
       "        vertical-align: middle;\n",
       "    }\n",
       "\n",
       "    .dataframe tbody tr th {\n",
       "        vertical-align: top;\n",
       "    }\n",
       "\n",
       "    .dataframe thead th {\n",
       "        text-align: right;\n",
       "    }\n",
       "</style>\n",
       "<table border=\"1\" class=\"dataframe\">\n",
       "  <thead>\n",
       "    <tr style=\"text-align: right;\">\n",
       "      <th></th>\n",
       "      <th>run_id</th>\n",
       "      <th>Analog Tag name</th>\n",
       "      <th>Cluster Nr</th>\n",
       "      <th>Dataset: Output Training path</th>\n",
       "      <th>Default Threshold</th>\n",
       "    </tr>\n",
       "  </thead>\n",
       "  <tbody>\n",
       "    <tr>\n",
       "      <th>0</th>\n",
       "      <td>f59b6687505b422f892d4dc4bcd968c4</td>\n",
       "      <td>DWA_DSU_DC_VOLTAGE</td>\n",
       "      <td>2</td>\n",
       "      <td>s3://s3-assetcare-bucket/features_store/evalua...</td>\n",
       "      <td>2.5</td>\n",
       "    </tr>\n",
       "    <tr>\n",
       "      <th>1</th>\n",
       "      <td>3308e10733c44199ac1666548fef6ade</td>\n",
       "      <td>DWA_DSU_DC_VOLTAGE</td>\n",
       "      <td>4</td>\n",
       "      <td>s3://s3-assetcare-bucket/features_store/evalua...</td>\n",
       "      <td>6.0</td>\n",
       "    </tr>\n",
       "  </tbody>\n",
       "</table>\n",
       "</div>"
      ],
      "text/plain": [
       "                             run_id     Analog Tag name  Cluster Nr  \\\n",
       "0  f59b6687505b422f892d4dc4bcd968c4  DWA_DSU_DC_VOLTAGE           2   \n",
       "1  3308e10733c44199ac1666548fef6ade  DWA_DSU_DC_VOLTAGE           4   \n",
       "\n",
       "                       Dataset: Output Training path  Default Threshold  \n",
       "0  s3://s3-assetcare-bucket/features_store/evalua...                2.5  \n",
       "1  s3://s3-assetcare-bucket/features_store/evalua...                6.0  "
      ]
     },
     "execution_count": 85,
     "metadata": {},
     "output_type": "execute_result"
    }
   ],
   "source": [
    "df = pd.read_csv(filepath)\n",
    "df.head()"
   ]
  },
  {
   "cell_type": "markdown",
   "id": "7d0da338-d77b-4296-acc3-32fd2b47d3bc",
   "metadata": {},
   "source": [
    "### run"
   ]
  },
  {
   "cell_type": "code",
   "execution_count": 77,
   "id": "08f9a3f3-1606-408e-966e-4c0fc42f87aa",
   "metadata": {},
   "outputs": [],
   "source": [
    "# threshold = 5"
   ]
  },
  {
   "cell_type": "code",
   "execution_count": 87,
   "id": "73fba122-c3df-4b0d-9fcc-43678a8f643a",
   "metadata": {
    "scrolled": true
   },
   "outputs": [
    {
     "name": "stdout",
     "output_type": "stream",
     "text": [
      "(5849, 5)\n",
      "Precision: 0.000\n",
      "Recall: 0.000\n",
      "F1-score: 0.000\n"
     ]
    },
    {
     "name": "stderr",
     "output_type": "stream",
     "text": [
      "/opt/conda/lib/python3.11/site-packages/sklearn/metrics/_classification.py:1531: UndefinedMetricWarning: Recall is ill-defined and being set to 0.0 due to no true samples. Use `zero_division` parameter to control this behavior.\n",
      "  _warn_prf(average, modifier, f\"{metric.capitalize()} is\", len(result))\n"
     ]
    },
    {
     "data": {
      "image/png": "[encoded data removed]",
      "text/plain": [
       "<Figure size 640x480 with 2 Axes>"
      ]
     },
     "metadata": {},
     "output_type": "display_data"
    },
    {
     "name": "stdout",
     "output_type": "stream",
     "text": [
      "🏃 View run DWA_DSU_DC_VOLTAGE_cluster-2 at: https://ap-southeast-1.experiments.sagemaker.aws/#/experiments/22/runs/5516cacad91147f99be06711d0d4c03f\n",
      "🧪 View experiment at: https://ap-southeast-1.experiments.sagemaker.aws/#/experiments/22\n",
      "====================\n",
      "(46496, 5)\n",
      "Precision: 0.000\n",
      "Recall: 0.000\n",
      "F1-score: 0.000\n"
     ]
    },
    {
     "name": "stderr",
     "output_type": "stream",
     "text": [
      "/opt/conda/lib/python3.11/site-packages/sklearn/metrics/_classification.py:1531: UndefinedMetricWarning: Recall is ill-defined and being set to 0.0 due to no true samples. Use `zero_division` parameter to control this behavior.\n",
      "  _warn_prf(average, modifier, f\"{metric.capitalize()} is\", len(result))\n"
     ]
    },
    {
     "data": {
      "text/plain": [
       "<Figure size 640x480 with 0 Axes>"
      ]
     },
     "metadata": {},
     "output_type": "display_data"
    },
    {
     "data": {
      "image/png": "[encoded data removed]",
      "text/plain": [
       "<Figure size 640x480 with 2 Axes>"
      ]
     },
     "metadata": {},
     "output_type": "display_data"
    },
    {
     "name": "stdout",
     "output_type": "stream",
     "text": [
      "🏃 View run DWA_DSU_DC_VOLTAGE_cluster-4 at: https://ap-southeast-1.experiments.sagemaker.aws/#/experiments/22/runs/8db8713c1e73445082966426f428f89d\n",
      "🧪 View experiment at: https://ap-southeast-1.experiments.sagemaker.aws/#/experiments/22\n",
      "====================\n"
     ]
    },
    {
     "data": {
      "text/plain": [
       "<Figure size 640x480 with 0 Axes>"
      ]
     },
     "metadata": {},
     "output_type": "display_data"
    }
   ],
   "source": [
    "for i in range(len(df)):\n",
    "    output_trained_data = df.iloc[i][\"Dataset: Output Training path\"]\n",
    "    edited_threshold = df.iloc[i][\"Default Threshold\"]\n",
    "    tag_analog = df.iloc[i][\"Analog Tag name\"]\n",
    "    cluster_nr = df.iloc[i][\"Cluster Nr\"]\n",
    "    # print(output_trained_data)\n",
    "\n",
    "    prefix = output_trained_data.replace(\"s3://\", \"\").replace(bucket, \"\")[1:]\n",
    "    lst_trained_data_files = list_files_in_s3_folder(bucket=bucket, prefix=prefix)\n",
    "    # print(lst_trained_data_files)\n",
    "    df_origin = load_csv_files([f\"s3://{bucket}/{i}\" for i in lst_trained_data_files])\n",
    "    print(df_origin.shape)\n",
    "    df_origin.columns = ['value', 'time_utc', 'anomaly_scores', 'tag_name', 'predictions']\n",
    "\n",
    "    # calculate metrics\n",
    "    # asume all values are not anomaly - means all rows data are labeled = False\n",
    "    df_origin['final_result'] = False # merge result from user feedback and analytics users feedback\n",
    "    df_origin['predictions'] = df_origin['anomaly_scores'] > edited_threshold\n",
    "\n",
    "    precision = precision_score(df_origin['final_result'], df_origin['predictions'])\n",
    "    recall = recall_score(df_origin['final_result'], df_origin['predictions'])\n",
    "    f1 = f1_score(df_origin['final_result'], df_origin['predictions'])\n",
    "    \n",
    "    print(f\"Precision: {precision:.3f}\")\n",
    "    print(f\"Recall: {recall:.3f}\")\n",
    "    print(f\"F1-score: {f1:.3f}\")\n",
    "    \n",
    "    cm = confusion_matrix(df_origin['final_result'], df_origin['predictions'])\n",
    "    disp = ConfusionMatrixDisplay(confusion_matrix=cm, display_labels=[\"Normal\", \"Anomaly\"])\n",
    "    disp.plot(cmap=plt.cm.Blues)\n",
    "    plt.title(\"Confusion Matrix\")\n",
    "    plt.show()\n",
    "\n",
    "    with mlflow.start_run(run_name=f\"{tag_analog}_cluster-{cluster_nr}\"):\n",
    "        mlflow.log_param(\"Analog Tag name\", tag_analog)\n",
    "        mlflow.log_param(\"Cluster Nr\", cluster_nr)\n",
    "        mlflow.log_metric(\"precision\", precision)\n",
    "        mlflow.log_metric(\"recall\", recall)\n",
    "        mlflow.log_metric(\"F1-score\", f1)\n",
    "        # mlflow.log_param(\"\", )\n",
    "        mlflow.log_figure(plt.gcf(), \"plots/confusion_matrix.png\")\n",
    "\n",
    "    print(\"====================\")\n"
   ]
  },
  {
   "cell_type": "code",
   "execution_count": null,
   "id": "a3f2ee6f-4d9b-492c-b951-74c475db0c3d",
   "metadata": {},
   "outputs": [],
   "source": []
  },
  {
   "cell_type": "code",
   "execution_count": null,
   "id": "eabbd656-7ce5-4798-93d3-d0140ccb6a37",
   "metadata": {},
   "outputs": [],
   "source": []
  },
  {
   "cell_type": "code",
   "execution_count": null,
   "id": "c9a6e8b3-b3ca-43fd-b5f3-5903b7fb160c",
   "metadata": {},
   "outputs": [],
   "source": []
  },
  {
   "cell_type": "code",
   "execution_count": null,
   "id": "65150ab7-d39c-48c1-918d-da18c6e354ea",
   "metadata": {},
   "outputs": [],
   "source": []
  },
  {
   "cell_type": "code",
   "execution_count": 46,
   "id": "a2b123ff-8acb-4f66-b3dc-be40172bb047",
   "metadata": {},
   "outputs": [],
   "source": [
    "lst_trained_data_files = ['features_store/evaluation/DWA_DSU_DC_VOLTAGE_cluster-2_20250511_153236/part_0000.csv']"
   ]
  },
  {
   "cell_type": "code",
   "execution_count": 47,
   "id": "d5c6eca4-f6fb-41cc-b6a5-6454aeb3f9eb",
   "metadata": {},
   "outputs": [
    {
     "data": {
      "text/html": [
       "<div>\n",
       "<style scoped>\n",
       "    .dataframe tbody tr th:only-of-type {\n",
       "        vertical-align: middle;\n",
       "    }\n",
       "\n",
       "    .dataframe tbody tr th {\n",
       "        vertical-align: top;\n",
       "    }\n",
       "\n",
       "    .dataframe thead th {\n",
       "        text-align: right;\n",
       "    }\n",
       "</style>\n",
       "<table border=\"1\" class=\"dataframe\">\n",
       "  <thead>\n",
       "    <tr style=\"text-align: right;\">\n",
       "      <th></th>\n",
       "      <th>0</th>\n",
       "      <th>1</th>\n",
       "      <th>2</th>\n",
       "      <th>3</th>\n",
       "      <th>4</th>\n",
       "    </tr>\n",
       "  </thead>\n",
       "  <tbody>\n",
       "    <tr>\n",
       "      <th>0</th>\n",
       "      <td>835.0</td>\n",
       "      <td>2025-03-01 01:45:22</td>\n",
       "      <td>2.234119</td>\n",
       "      <td>DWA_DSU_DC_VOLTAGE</td>\n",
       "      <td>False</td>\n",
       "    </tr>\n",
       "    <tr>\n",
       "      <th>1</th>\n",
       "      <td>835.0</td>\n",
       "      <td>2025-03-01 01:45:23</td>\n",
       "      <td>2.233711</td>\n",
       "      <td>DWA_DSU_DC_VOLTAGE</td>\n",
       "      <td>False</td>\n",
       "    </tr>\n",
       "    <tr>\n",
       "      <th>2</th>\n",
       "      <td>835.0</td>\n",
       "      <td>2025-03-01 01:45:24</td>\n",
       "      <td>2.232550</td>\n",
       "      <td>DWA_DSU_DC_VOLTAGE</td>\n",
       "      <td>False</td>\n",
       "    </tr>\n",
       "    <tr>\n",
       "      <th>3</th>\n",
       "      <td>835.0</td>\n",
       "      <td>2025-03-01 01:45:25</td>\n",
       "      <td>2.233230</td>\n",
       "      <td>DWA_DSU_DC_VOLTAGE</td>\n",
       "      <td>False</td>\n",
       "    </tr>\n",
       "    <tr>\n",
       "      <th>4</th>\n",
       "      <td>835.0</td>\n",
       "      <td>2025-03-01 01:45:26</td>\n",
       "      <td>2.234466</td>\n",
       "      <td>DWA_DSU_DC_VOLTAGE</td>\n",
       "      <td>False</td>\n",
       "    </tr>\n",
       "  </tbody>\n",
       "</table>\n",
       "</div>"
      ],
      "text/plain": [
       "       0                    1         2                   3      4\n",
       "0  835.0  2025-03-01 01:45:22  2.234119  DWA_DSU_DC_VOLTAGE  False\n",
       "1  835.0  2025-03-01 01:45:23  2.233711  DWA_DSU_DC_VOLTAGE  False\n",
       "2  835.0  2025-03-01 01:45:24  2.232550  DWA_DSU_DC_VOLTAGE  False\n",
       "3  835.0  2025-03-01 01:45:25  2.233230  DWA_DSU_DC_VOLTAGE  False\n",
       "4  835.0  2025-03-01 01:45:26  2.234466  DWA_DSU_DC_VOLTAGE  False"
      ]
     },
     "execution_count": 47,
     "metadata": {},
     "output_type": "execute_result"
    }
   ],
   "source": [
    "df_origin = load_csv_files([f\"s3://{bucket}/{i}\" for i in lst_trained_data_files])\n",
    "df_origin.head()"
   ]
  },
  {
   "cell_type": "code",
   "execution_count": 48,
   "id": "5fe48e6c-c104-4767-b992-5488b81b21da",
   "metadata": {},
   "outputs": [
    {
     "data": {
      "text/plain": [
       "(5849, 5)"
      ]
     },
     "execution_count": 48,
     "metadata": {},
     "output_type": "execute_result"
    }
   ],
   "source": [
    "df_origin.shape"
   ]
  },
  {
   "cell_type": "code",
   "execution_count": 59,
   "id": "0539f39a-8baa-484c-8d81-50b0a6937c84",
   "metadata": {},
   "outputs": [
    {
     "data": {
      "text/html": [
       "<div>\n",
       "<style scoped>\n",
       "    .dataframe tbody tr th:only-of-type {\n",
       "        vertical-align: middle;\n",
       "    }\n",
       "\n",
       "    .dataframe tbody tr th {\n",
       "        vertical-align: top;\n",
       "    }\n",
       "\n",
       "    .dataframe thead th {\n",
       "        text-align: right;\n",
       "    }\n",
       "</style>\n",
       "<table border=\"1\" class=\"dataframe\">\n",
       "  <thead>\n",
       "    <tr style=\"text-align: right;\">\n",
       "      <th></th>\n",
       "      <th>value</th>\n",
       "      <th>time_utc</th>\n",
       "      <th>anomaly_scores</th>\n",
       "      <th>tag_name</th>\n",
       "      <th>predictions</th>\n",
       "    </tr>\n",
       "  </thead>\n",
       "  <tbody>\n",
       "    <tr>\n",
       "      <th>0</th>\n",
       "      <td>823.0</td>\n",
       "      <td>2025-03-01 00:52:22</td>\n",
       "      <td>6.262795</td>\n",
       "      <td>DWA_DSU_DC_VOLTAGE</td>\n",
       "      <td>False</td>\n",
       "    </tr>\n",
       "    <tr>\n",
       "      <th>1</th>\n",
       "      <td>823.0</td>\n",
       "      <td>2025-03-01 00:52:23</td>\n",
       "      <td>6.262795</td>\n",
       "      <td>DWA_DSU_DC_VOLTAGE</td>\n",
       "      <td>False</td>\n",
       "    </tr>\n",
       "    <tr>\n",
       "      <th>2</th>\n",
       "      <td>823.0</td>\n",
       "      <td>2025-03-01 00:52:24</td>\n",
       "      <td>6.262795</td>\n",
       "      <td>DWA_DSU_DC_VOLTAGE</td>\n",
       "      <td>False</td>\n",
       "    </tr>\n",
       "    <tr>\n",
       "      <th>3</th>\n",
       "      <td>823.0</td>\n",
       "      <td>2025-03-01 00:52:25</td>\n",
       "      <td>6.262795</td>\n",
       "      <td>DWA_DSU_DC_VOLTAGE</td>\n",
       "      <td>False</td>\n",
       "    </tr>\n",
       "    <tr>\n",
       "      <th>4</th>\n",
       "      <td>823.0</td>\n",
       "      <td>2025-03-01 00:52:26</td>\n",
       "      <td>6.262795</td>\n",
       "      <td>DWA_DSU_DC_VOLTAGE</td>\n",
       "      <td>False</td>\n",
       "    </tr>\n",
       "  </tbody>\n",
       "</table>\n",
       "</div>"
      ],
      "text/plain": [
       "   value             time_utc  anomaly_scores            tag_name  predictions\n",
       "0  823.0  2025-03-01 00:52:22        6.262795  DWA_DSU_DC_VOLTAGE        False\n",
       "1  823.0  2025-03-01 00:52:23        6.262795  DWA_DSU_DC_VOLTAGE        False\n",
       "2  823.0  2025-03-01 00:52:24        6.262795  DWA_DSU_DC_VOLTAGE        False\n",
       "3  823.0  2025-03-01 00:52:25        6.262795  DWA_DSU_DC_VOLTAGE        False\n",
       "4  823.0  2025-03-01 00:52:26        6.262795  DWA_DSU_DC_VOLTAGE        False"
      ]
     },
     "execution_count": 59,
     "metadata": {},
     "output_type": "execute_result"
    }
   ],
   "source": [
    "df_origin.columns = ['value', 'time_utc', 'anomaly_scores', 'tag_name', 'predictions']\n",
    "df_origin.head()"
   ]
  },
  {
   "cell_type": "code",
   "execution_count": null,
   "id": "54991159-5a75-4de6-9898-34c4ccf83b8f",
   "metadata": {},
   "outputs": [],
   "source": []
  },
  {
   "cell_type": "code",
   "execution_count": null,
   "id": "a5ee53ff-23cc-426d-83d9-4407128c28e8",
   "metadata": {},
   "outputs": [],
   "source": []
  },
  {
   "cell_type": "code",
   "execution_count": null,
   "id": "04d04bdf-48e1-4561-ac82-75d681e46083",
   "metadata": {},
   "outputs": [],
   "source": []
  },
  {
   "cell_type": "code",
   "execution_count": 41,
   "id": "b9bd0933-e16a-4e0c-ae5c-7a4431ae989b",
   "metadata": {},
   "outputs": [],
   "source": [
    "filepath = f\"s3://{bucket}/features_store/evaluation/DWA_DSU_DC_VOLTAGE_cluster-2_20250511_153236/part_0000.csv\""
   ]
  },
  {
   "cell_type": "code",
   "execution_count": 44,
   "id": "28d3f83b-93d2-46bb-b6d3-2d8e8a377b18",
   "metadata": {},
   "outputs": [
    {
     "data": {
      "text/plain": [
       "(5849, 5)"
      ]
     },
     "execution_count": 44,
     "metadata": {},
     "output_type": "execute_result"
    }
   ],
   "source": [
    "df = pd.read_csv(filepath, header=None)\n",
    "df.shape"
   ]
  },
  {
   "cell_type": "code",
   "execution_count": 45,
   "id": "f00efa14-f582-4481-bcb6-ec12b1e356a2",
   "metadata": {},
   "outputs": [
    {
     "data": {
      "text/html": [
       "<div>\n",
       "<style scoped>\n",
       "    .dataframe tbody tr th:only-of-type {\n",
       "        vertical-align: middle;\n",
       "    }\n",
       "\n",
       "    .dataframe tbody tr th {\n",
       "        vertical-align: top;\n",
       "    }\n",
       "\n",
       "    .dataframe thead th {\n",
       "        text-align: right;\n",
       "    }\n",
       "</style>\n",
       "<table border=\"1\" class=\"dataframe\">\n",
       "  <thead>\n",
       "    <tr style=\"text-align: right;\">\n",
       "      <th></th>\n",
       "      <th>0</th>\n",
       "      <th>1</th>\n",
       "      <th>2</th>\n",
       "      <th>3</th>\n",
       "      <th>4</th>\n",
       "    </tr>\n",
       "  </thead>\n",
       "  <tbody>\n",
       "    <tr>\n",
       "      <th>0</th>\n",
       "      <td>835.0</td>\n",
       "      <td>2025-03-01 01:45:22</td>\n",
       "      <td>2.234119</td>\n",
       "      <td>DWA_DSU_DC_VOLTAGE</td>\n",
       "      <td>False</td>\n",
       "    </tr>\n",
       "    <tr>\n",
       "      <th>1</th>\n",
       "      <td>835.0</td>\n",
       "      <td>2025-03-01 01:45:23</td>\n",
       "      <td>2.233711</td>\n",
       "      <td>DWA_DSU_DC_VOLTAGE</td>\n",
       "      <td>False</td>\n",
       "    </tr>\n",
       "    <tr>\n",
       "      <th>2</th>\n",
       "      <td>835.0</td>\n",
       "      <td>2025-03-01 01:45:24</td>\n",
       "      <td>2.232550</td>\n",
       "      <td>DWA_DSU_DC_VOLTAGE</td>\n",
       "      <td>False</td>\n",
       "    </tr>\n",
       "    <tr>\n",
       "      <th>3</th>\n",
       "      <td>835.0</td>\n",
       "      <td>2025-03-01 01:45:25</td>\n",
       "      <td>2.233230</td>\n",
       "      <td>DWA_DSU_DC_VOLTAGE</td>\n",
       "      <td>False</td>\n",
       "    </tr>\n",
       "    <tr>\n",
       "      <th>4</th>\n",
       "      <td>835.0</td>\n",
       "      <td>2025-03-01 01:45:26</td>\n",
       "      <td>2.234466</td>\n",
       "      <td>DWA_DSU_DC_VOLTAGE</td>\n",
       "      <td>False</td>\n",
       "    </tr>\n",
       "  </tbody>\n",
       "</table>\n",
       "</div>"
      ],
      "text/plain": [
       "       0                    1         2                   3      4\n",
       "0  835.0  2025-03-01 01:45:22  2.234119  DWA_DSU_DC_VOLTAGE  False\n",
       "1  835.0  2025-03-01 01:45:23  2.233711  DWA_DSU_DC_VOLTAGE  False\n",
       "2  835.0  2025-03-01 01:45:24  2.232550  DWA_DSU_DC_VOLTAGE  False\n",
       "3  835.0  2025-03-01 01:45:25  2.233230  DWA_DSU_DC_VOLTAGE  False\n",
       "4  835.0  2025-03-01 01:45:26  2.234466  DWA_DSU_DC_VOLTAGE  False"
      ]
     },
     "execution_count": 45,
     "metadata": {},
     "output_type": "execute_result"
    }
   ],
   "source": [
    "df.head()"
   ]
  },
  {
   "cell_type": "code",
   "execution_count": null,
   "id": "50d964ec-3000-4c33-aac7-d2cbceaf32e0",
   "metadata": {},
   "outputs": [],
   "source": []
  },
  {
   "cell_type": "code",
   "execution_count": null,
   "id": "e32e5bf9-f5cb-4ee7-8e24-2cf4f12cd569",
   "metadata": {},
   "outputs": [],
   "source": []
  },
  {
   "cell_type": "code",
   "execution_count": null,
   "id": "e9dc7c80-2c94-458c-bc1b-f56b9abc2179",
   "metadata": {},
   "outputs": [],
   "source": []
  },
  {
   "cell_type": "code",
   "execution_count": null,
   "id": "6062676d-2c0f-4ae4-bb2d-6d5063c08a89",
   "metadata": {},
   "outputs": [],
   "source": []
  },
  {
   "cell_type": "code",
   "execution_count": null,
   "id": "60e01362-2a4b-4c75-9ff7-5bd017ed65cf",
   "metadata": {},
   "outputs": [],
   "source": []
  },
  {
   "cell_type": "code",
   "execution_count": null,
   "id": "d467bc7b-ea7f-4650-a854-fc7b3b9c9391",
   "metadata": {},
   "outputs": [],
   "source": []
  },
  {
   "cell_type": "code",
   "execution_count": null,
   "id": "b12026b4-d908-4515-8f3a-fc0a7bb91dd2",
   "metadata": {},
   "outputs": [],
   "source": []
  },
  {
   "cell_type": "code",
   "execution_count": null,
   "id": "c6effe1f-04b0-4f79-aa5e-dd21ebe0e7b4",
   "metadata": {},
   "outputs": [],
   "source": []
  },
  {
   "cell_type": "code",
   "execution_count": null,
   "id": "2a3c8c65-59ee-4b3e-b44b-b3f54080e708",
   "metadata": {},
   "outputs": [],
   "source": []
  },
  {
   "cell_type": "code",
   "execution_count": null,
   "id": "fe801edb-30aa-4016-962b-72011675617a",
   "metadata": {},
   "outputs": [],
   "source": []
  },
  {
   "cell_type": "code",
   "execution_count": null,
   "id": "0b1b2a8a-fbc3-4e05-b105-22d9b43f42bd",
   "metadata": {},
   "outputs": [],
   "source": []
  },
  {
   "cell_type": "code",
   "execution_count": null,
   "id": "735fdabc-2752-430e-b889-50e78bd4bd5f",
   "metadata": {},
   "outputs": [],
   "source": []
  }
 ],
 "metadata": {
  "kernelspec": {
   "display_name": "Python 3 (ipykernel)",
   "language": "python",
   "name": "python3"
  },
  "language_info": {
   "codemirror_mode": {
    "name": "ipython",
    "version": 3
   },
   "file_extension": ".py",
   "mimetype": "text/x-python",
   "name": "python",
   "nbconvert_exporter": "python",
   "pygments_lexer": "ipython3",
   "version": "3.11.11"
  }
 },
 "nbformat": 4,
 "nbformat_minor": 5
}
