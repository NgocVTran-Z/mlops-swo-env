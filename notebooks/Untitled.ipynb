{
 "cells": [
  {
   "cell_type": "code",
   "execution_count": 1,
   "id": "870112ab-c4ae-41d0-84b7-bdb51dbfc40e",
   "metadata": {},
   "outputs": [],
   "source": [
    "import pandas as pd"
   ]
  },
  {
   "cell_type": "code",
   "execution_count": null,
   "id": "13647489-c146-4ba6-9635-b9147634c954",
   "metadata": {},
   "outputs": [],
   "source": []
  },
  {
   "cell_type": "code",
   "execution_count": null,
   "id": "09624290-35c1-4364-ba65-da6dabed5524",
   "metadata": {},
   "outputs": [],
   "source": []
  },
  {
   "cell_type": "code",
   "execution_count": 2,
   "id": "812b3722-3f94-469a-b24d-01be0e4a5886",
   "metadata": {},
   "outputs": [],
   "source": [
    "mapping_tags = {\n",
    "    \"Digital\": {\n",
    "        \"DWA\": \"DWA_INVERTER_RUNNING\",\n",
    "        \"DWB\": \"DWB_INVERTER_RUNNING\",\n",
    "        \"DWC\": \"DWC_INVERTER_RUNNING\",\n",
    "        \"TD\": \"TD_INVERTER_RUNNING\",\n",
    "    },\n",
    "    \"Speed\": {\n",
    "        \"DWA\": \"DWA_ACTUAL_MOTOR_SPEED\",\n",
    "        \"DWB\": \"DWB_ACTUAL_MOTOR_SPEED\",\n",
    "        \"DWC\": \"DWC_ACTUAL_MOTOR_SPEED\",\n",
    "        \"TD\": \"TD_ACTUAL_MOTOR_SPEED\",\n",
    "    }\n",
    "    \n",
    "}\n"
   ]
  },
  {
   "cell_type": "code",
   "execution_count": 3,
   "id": "711d7a50-9db5-4aac-8811-ee5a62ebd0cf",
   "metadata": {},
   "outputs": [
    {
     "data": {
      "text/plain": [
       "'DWA_INVERTER_RUNNING'"
      ]
     },
     "execution_count": 3,
     "metadata": {},
     "output_type": "execute_result"
    }
   ],
   "source": [
    "mapping_tags[\"Digital\"][\"DWA\"]"
   ]
  },
  {
   "cell_type": "code",
   "execution_count": 4,
   "id": "a51af98f-66cd-48c2-8881-d1f4f296299c",
   "metadata": {},
   "outputs": [
    {
     "data": {
      "text/plain": [
       "'DWA_ACTUAL_MOTOR_SPEED'"
      ]
     },
     "execution_count": 4,
     "metadata": {},
     "output_type": "execute_result"
    }
   ],
   "source": [
    "mapping_tags[\"Speed\"][\"DWA\"]"
   ]
  },
  {
   "cell_type": "code",
   "execution_count": null,
   "id": "9a72d65d-fc42-4d5f-87cb-1085bb1df229",
   "metadata": {},
   "outputs": [],
   "source": []
  },
  {
   "cell_type": "code",
   "execution_count": 5,
   "id": "2816894d-c165-481a-9a2b-afeed759589a",
   "metadata": {},
   "outputs": [],
   "source": [
    "filepath = \"sample1.parquet\""
   ]
  },
  {
   "cell_type": "code",
   "execution_count": 6,
   "id": "5edb4254-4795-4ded-a9e9-fa51ba31dc34",
   "metadata": {},
   "outputs": [
    {
     "data": {
      "text/plain": [
       "(3, 10)"
      ]
     },
     "execution_count": 6,
     "metadata": {},
     "output_type": "execute_result"
    }
   ],
   "source": [
    "df = pd.read_parquet(filepath)\n",
    "df.shape"
   ]
  },
  {
   "cell_type": "code",
   "execution_count": 7,
   "id": "b6e3ee26-adc6-4b7c-b892-51edd6b3ea3d",
   "metadata": {},
   "outputs": [
    {
     "data": {
      "text/html": [
       "<div>\n",
       "<style scoped>\n",
       "    .dataframe tbody tr th:only-of-type {\n",
       "        vertical-align: middle;\n",
       "    }\n",
       "\n",
       "    .dataframe tbody tr th {\n",
       "        vertical-align: top;\n",
       "    }\n",
       "\n",
       "    .dataframe thead th {\n",
       "        text-align: right;\n",
       "    }\n",
       "</style>\n",
       "<table border=\"1\" class=\"dataframe\">\n",
       "  <thead>\n",
       "    <tr style=\"text-align: right;\">\n",
       "      <th></th>\n",
       "      <th>historian_id</th>\n",
       "      <th>tag_name</th>\n",
       "      <th>value</th>\n",
       "      <th>status</th>\n",
       "      <th>time_utc</th>\n",
       "      <th>time_sing</th>\n",
       "      <th>Digital/analog</th>\n",
       "      <th>tag_group_name</th>\n",
       "      <th>source</th>\n",
       "      <th>units</th>\n",
       "    </tr>\n",
       "  </thead>\n",
       "  <tbody>\n",
       "    <tr>\n",
       "      <th>0</th>\n",
       "      <td>21384186</td>\n",
       "      <td>DWA_ACTUAL_MOTOR_SPEED</td>\n",
       "      <td>0.000</td>\n",
       "      <td>Good NonSpecific</td>\n",
       "      <td>2024-05-02 06:02:27</td>\n",
       "      <td>2024-05-02 14:02:27</td>\n",
       "      <td>AI</td>\n",
       "      <td>DRILLING_DRAWWORKS_A</td>\n",
       "      <td>Drilling (ABB)</td>\n",
       "      <td>RPM</td>\n",
       "    </tr>\n",
       "    <tr>\n",
       "      <th>1</th>\n",
       "      <td>21384187</td>\n",
       "      <td>DWA_ACTUAL_MOTOR_SPEED</td>\n",
       "      <td>0.000</td>\n",
       "      <td>Good NonSpecific</td>\n",
       "      <td>2024-05-02 06:24:06</td>\n",
       "      <td>2024-05-02 14:24:06</td>\n",
       "      <td>AI</td>\n",
       "      <td>DRILLING_DRAWWORKS_A</td>\n",
       "      <td>Drilling (ABB)</td>\n",
       "      <td>RPM</td>\n",
       "    </tr>\n",
       "    <tr>\n",
       "      <th>2</th>\n",
       "      <td>119514810</td>\n",
       "      <td>DWA_ACTUAL_MOTOR_SPEED</td>\n",
       "      <td>45485.248</td>\n",
       "      <td>Good NonSpecific</td>\n",
       "      <td>2024-05-07 00:32:37</td>\n",
       "      <td>2024-05-07 08:32:37</td>\n",
       "      <td>AI</td>\n",
       "      <td>DRILLING_DRAWWORKS_A</td>\n",
       "      <td>Drilling (ABB)</td>\n",
       "      <td>RPM</td>\n",
       "    </tr>\n",
       "  </tbody>\n",
       "</table>\n",
       "</div>"
      ],
      "text/plain": [
       "   historian_id                tag_name      value            status  \\\n",
       "0      21384186  DWA_ACTUAL_MOTOR_SPEED      0.000  Good NonSpecific   \n",
       "1      21384187  DWA_ACTUAL_MOTOR_SPEED      0.000  Good NonSpecific   \n",
       "2     119514810  DWA_ACTUAL_MOTOR_SPEED  45485.248  Good NonSpecific   \n",
       "\n",
       "             time_utc           time_sing Digital/analog  \\\n",
       "0 2024-05-02 06:02:27 2024-05-02 14:02:27             AI   \n",
       "1 2024-05-02 06:24:06 2024-05-02 14:24:06             AI   \n",
       "2 2024-05-07 00:32:37 2024-05-07 08:32:37             AI   \n",
       "\n",
       "         tag_group_name          source units  \n",
       "0  DRILLING_DRAWWORKS_A  Drilling (ABB)   RPM  \n",
       "1  DRILLING_DRAWWORKS_A  Drilling (ABB)   RPM  \n",
       "2  DRILLING_DRAWWORKS_A  Drilling (ABB)   RPM  "
      ]
     },
     "execution_count": 7,
     "metadata": {},
     "output_type": "execute_result"
    }
   ],
   "source": [
    "df.head()"
   ]
  },
  {
   "cell_type": "code",
   "execution_count": null,
   "id": "82381bc5-6345-4515-b1b8-3dacd826b1ad",
   "metadata": {},
   "outputs": [],
   "source": []
  },
  {
   "cell_type": "code",
   "execution_count": null,
   "id": "9716a3aa-c4ec-4cf9-b32f-63201b54dd9f",
   "metadata": {},
   "outputs": [],
   "source": []
  },
  {
   "cell_type": "code",
   "execution_count": null,
   "id": "25b35993-9e53-4247-b5b2-ebcfdcd1f977",
   "metadata": {},
   "outputs": [],
   "source": []
  }
 ],
 "metadata": {
  "kernelspec": {
   "display_name": "Python 3 (ipykernel)",
   "language": "python",
   "name": "python3"
  },
  "language_info": {
   "codemirror_mode": {
    "name": "ipython",
    "version": 3
   },
   "file_extension": ".py",
   "mimetype": "text/x-python",
   "name": "python",
   "nbconvert_exporter": "python",
   "pygments_lexer": "ipython3",
   "version": "3.12.9"
  }
 },
 "nbformat": 4,
 "nbformat_minor": 5
}
