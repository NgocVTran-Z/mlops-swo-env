{
 "cells": [
  {
   "cell_type": "code",
   "execution_count": 1,
   "id": "a14a2081-65f8-4c85-8155-4f10c58f6816",
   "metadata": {},
   "outputs": [],
   "source": [
    "import pandas as pd\n",
    "import numpy as np\n",
    "import sys\n",
    "import gc\n",
    "\n",
    "import os\n",
    "sys.path.append(os.path.abspath(\"..\"))"
   ]
  },
  {
   "cell_type": "code",
   "execution_count": 2,
   "id": "e0b5a022-5bfb-48ee-b0cb-5a8326fb1b24",
   "metadata": {},
   "outputs": [],
   "source": [
    "import s3fs\n",
    "from typing import List\n",
    "\n",
    "from utils.common import *\n",
    "from config.params import *\n",
    "from preprocessing.transform import transform, tracking_transforming_input\n",
    "from preprocessing.intervals import get_interval_from_transformed"
   ]
  },
  {
   "cell_type": "code",
   "execution_count": 3,
   "id": "a54365e0-0142-4cd5-806e-d70a8e17299f",
   "metadata": {},
   "outputs": [
    {
     "name": "stdout",
     "output_type": "stream",
     "text": [
      "sagemaker.config INFO - Not applying SDK defaults from location: /etc/xdg/sagemaker/config.yaml\n",
      "sagemaker.config INFO - Not applying SDK defaults from location: /home/sagemaker-user/.config/sagemaker/config.yaml\n"
     ]
    }
   ],
   "source": [
    "from preprocessing.prepare_clustering_data import *"
   ]
  },
  {
   "cell_type": "code",
   "execution_count": 4,
   "id": "7333203a-6bb6-4a1a-a1eb-700c2f41379e",
   "metadata": {},
   "outputs": [],
   "source": [
    "from training.models import *\n",
    "from training.visualize import *"
   ]
  },
  {
   "cell_type": "code",
   "execution_count": 5,
   "id": "e840d346-dbf5-400f-a4bb-ef59ea3a86a8",
   "metadata": {},
   "outputs": [],
   "source": [
    "from pyarrow.dataset import field"
   ]
  },
  {
   "cell_type": "code",
   "execution_count": 6,
   "id": "73f9ab90-a272-4977-b500-dd66c02e538d",
   "metadata": {},
   "outputs": [],
   "source": [
    "import sagemaker\n",
    "from sagemaker import get_execution_role"
   ]
  },
  {
   "cell_type": "code",
   "execution_count": 7,
   "id": "2e3bc050-7fe7-4f31-a556-521a3292d642",
   "metadata": {},
   "outputs": [],
   "source": [
    "import matplotlib.pyplot as plt\n",
    "import seaborn as sns"
   ]
  },
  {
   "cell_type": "code",
   "execution_count": 8,
   "id": "ed549d44-7e3e-482b-9ae0-839781a4ff1b",
   "metadata": {},
   "outputs": [],
   "source": [
    "# get the lastest saved data from mlflow run\n",
    "import mlflow\n",
    "from mlflow.tracking import MlflowClient"
   ]
  },
  {
   "cell_type": "code",
   "execution_count": 9,
   "id": "41b0980d-5322-4069-b8b2-52bd1b7343c6",
   "metadata": {},
   "outputs": [],
   "source": [
    "from sklearn.cluster import KMeans\n",
    "from datetime import datetime\n",
    "from pathlib import Path"
   ]
  },
  {
   "cell_type": "code",
   "execution_count": 10,
   "id": "17d1cf34-d886-4706-9d51-074bd7f9cf10",
   "metadata": {},
   "outputs": [],
   "source": [
    "import sagemaker\n",
    "import boto3\n",
    "from sagemaker.estimator import Estimator\n",
    "from sagemaker.inputs import TrainingInput"
   ]
  },
  {
   "cell_type": "code",
   "execution_count": 11,
   "id": "8d4dcf82-8a99-4565-95f1-783d14fecf58",
   "metadata": {},
   "outputs": [],
   "source": [
    "from io import StringIO"
   ]
  },
  {
   "cell_type": "code",
   "execution_count": 12,
   "id": "8b2b51ce-d1cb-47b3-904f-7fba0bf52e4b",
   "metadata": {},
   "outputs": [],
   "source": [
    "from sagemaker.model import Model\n",
    "from sagemaker.transformer import Transformer"
   ]
  },
  {
   "cell_type": "code",
   "execution_count": 13,
   "id": "6ccc6d7f-3f5a-47d9-9b3f-8251af360912",
   "metadata": {},
   "outputs": [],
   "source": [
    "# import boto3"
   ]
  },
  {
   "cell_type": "code",
   "execution_count": null,
   "id": "dad25e3b-de8a-4ab8-9134-4c74d25341d4",
   "metadata": {},
   "outputs": [],
   "source": []
  },
  {
   "cell_type": "code",
   "execution_count": null,
   "id": "033720b7-bf87-44f9-b314-a4ee425a1c30",
   "metadata": {},
   "outputs": [],
   "source": []
  },
  {
   "cell_type": "code",
   "execution_count": 14,
   "id": "4e946a22-4744-49bc-86bf-56dfcf7899df",
   "metadata": {},
   "outputs": [],
   "source": [
    "client = MlflowClient()"
   ]
  },
  {
   "cell_type": "code",
   "execution_count": 15,
   "id": "9f9d7283-4512-46ed-85b2-2d77f62dcacf",
   "metadata": {},
   "outputs": [],
   "source": [
    "# Define session, role, and region so we can\n",
    "# perform any SageMaker tasks we need\n",
    "sagemaker_session = sagemaker.Session()\n",
    "role = get_execution_role()\n",
    "region = sagemaker_session.boto_region_name"
   ]
  },
  {
   "cell_type": "code",
   "execution_count": 16,
   "id": "6e59805b-b796-4f60-9f9d-e383601d34a4",
   "metadata": {},
   "outputs": [],
   "source": [
    "# Provide the ARN of the tracking server that you want to track your training job with\n",
    "tracking_server_arn = 'arn:aws:sagemaker:ap-southeast-1:771463264346:mlflow-tracking-server/mlflow-RCF-server'"
   ]
  },
  {
   "cell_type": "code",
   "execution_count": 17,
   "id": "77c7d642-a768-4179-9a75-b9dfb9e645c4",
   "metadata": {},
   "outputs": [],
   "source": [
    "mlflow.set_tracking_uri(tracking_server_arn)"
   ]
  },
  {
   "cell_type": "code",
   "execution_count": 18,
   "id": "2d8f4903-09ec-4962-a233-e995bbdb5a63",
   "metadata": {},
   "outputs": [
    {
     "data": {
      "text/plain": [
       "<Experiment: artifact_location='s3://s3-assetcare-bucket/mlflow_server/21', creation_time=1746666809381, experiment_id='21', last_update_time=1746666809381, lifecycle_stage='active', name='5. Evaluate RCF Model', tags={}>"
      ]
     },
     "execution_count": 18,
     "metadata": {},
     "output_type": "execute_result"
    }
   ],
   "source": [
    "experiment_name = \"5. Evaluate RCF Model\"\n",
    "mlflow.set_experiment(experiment_name)"
   ]
  },
  {
   "cell_type": "code",
   "execution_count": null,
   "id": "95f4a530-f5ce-4977-801c-b0399e516354",
   "metadata": {},
   "outputs": [],
   "source": []
  },
  {
   "cell_type": "markdown",
   "id": "9011511b-ffcb-47c1-8379-53cb318f5cb4",
   "metadata": {},
   "source": [
    "### functions"
   ]
  },
  {
   "cell_type": "code",
   "execution_count": 19,
   "id": "b91c6dd5-3857-4e2f-8017-15eb126d3372",
   "metadata": {},
   "outputs": [],
   "source": [
    "def get_value(run_id, keys):\n",
    "    run = mlflow.get_run(run_id)\n",
    "\n",
    "    # Lấy toàn bộ params\n",
    "    params = run.data.params\n",
    "    # print(params)\n",
    "    \n",
    "    # Lấy giá trị cụ thể, ví dụ: cluster_id\n",
    "    filepath = [params.get(key) for key in keys]\n",
    "    return filepath"
   ]
  },
  {
   "cell_type": "code",
   "execution_count": 51,
   "id": "bba01d5b-6d0d-446f-84d8-0f1d4d3b5098",
   "metadata": {},
   "outputs": [],
   "source": []
  },
  {
   "cell_type": "code",
   "execution_count": 21,
   "id": "b474cc0e-57a7-4857-9079-8f654318c768",
   "metadata": {},
   "outputs": [],
   "source": []
  },
  {
   "cell_type": "code",
   "execution_count": 70,
   "id": "43721636-d621-450d-941e-a2c91a671b56",
   "metadata": {},
   "outputs": [],
   "source": []
  },
  {
   "cell_type": "markdown",
   "id": "4b6fae85-2879-4ba4-bdd1-888fe885d450",
   "metadata": {},
   "source": [
    "### params"
   ]
  },
  {
   "cell_type": "code",
   "execution_count": 22,
   "id": "3bffaa44-3337-4c0f-a517-b77439aa61d1",
   "metadata": {},
   "outputs": [],
   "source": [
    "lst_run_id = [\n",
    "    \"dcdfba4baf354faa8662f4304a5c67f6\",\n",
    "    # \"aa414e38c3044706b146ec532310be99\",\n",
    "    # \"cdf61f9465084ee398dcc6384132bb22\",\n",
    "    \"bee2d40c5e5147f196b708eab655b850\",\n",
    "    \"241a973b95b8426ab168e3a11207e43f\",\n",
    "    \n",
    "    \"921ad6e565d14c70846c791d5caecabb\"\n",
    "]"
   ]
  },
  {
   "cell_type": "code",
   "execution_count": 23,
   "id": "aca1a3e0-e483-4f32-ae80-9ce3477c16b6",
   "metadata": {},
   "outputs": [],
   "source": [
    "keys = [\n",
    "    \"Analog Tag name\",\n",
    "    \"Model Path\",\n",
    "    \"Cluster Nr\",\n",
    "    \"Dataset path: S3 Input Scored\",\n",
    "    \"Dataset path: S3 Input Evaluation\",\n",
    "    \"saved_result\"\n",
    "]"
   ]
  },
  {
   "cell_type": "code",
   "execution_count": 24,
   "id": "6883073b-41a5-4d03-a98b-af72c97029db",
   "metadata": {},
   "outputs": [],
   "source": [
    "bucket = \"s3-assetcare-bucket\""
   ]
  },
  {
   "cell_type": "code",
   "execution_count": null,
   "id": "cc9bb7d9-de9e-4abd-a434-b531ddb98077",
   "metadata": {},
   "outputs": [],
   "source": []
  },
  {
   "cell_type": "code",
   "execution_count": null,
   "id": "81787743-ef0a-42eb-9bd5-8b8dd66f9484",
   "metadata": {},
   "outputs": [],
   "source": []
  },
  {
   "cell_type": "markdown",
   "id": "b5a6e9fb-5441-4554-9f64-6773b7487c80",
   "metadata": {},
   "source": [
    "### running evaluation"
   ]
  },
  {
   "cell_type": "code",
   "execution_count": 25,
   "id": "79c4b83b-2ea3-4a47-9a7f-d9a75b83c949",
   "metadata": {},
   "outputs": [],
   "source": [
    "# create df of params info\n",
    "rows = []\n",
    "for run_id in lst_run_id:\n",
    "    values = get_value(run_id, keys)\n",
    "    row = [run_id] + values\n",
    "    rows.append(row)\n",
    "\n",
    "# create df\n",
    "columns = [\"run_id\"] + keys\n",
    "df = pd.DataFrame(rows, columns=columns)"
   ]
  },
  {
   "cell_type": "code",
   "execution_count": 26,
   "id": "973635f0-c638-439e-bca5-d8a0630c0160",
   "metadata": {},
   "outputs": [
    {
     "data": {
      "text/html": [
       "<div>\n",
       "<style scoped>\n",
       "    .dataframe tbody tr th:only-of-type {\n",
       "        vertical-align: middle;\n",
       "    }\n",
       "\n",
       "    .dataframe tbody tr th {\n",
       "        vertical-align: top;\n",
       "    }\n",
       "\n",
       "    .dataframe thead th {\n",
       "        text-align: right;\n",
       "    }\n",
       "</style>\n",
       "<table border=\"1\" class=\"dataframe\">\n",
       "  <thead>\n",
       "    <tr style=\"text-align: right;\">\n",
       "      <th></th>\n",
       "      <th>run_id</th>\n",
       "      <th>Analog Tag name</th>\n",
       "      <th>Model Path</th>\n",
       "      <th>Cluster Nr</th>\n",
       "      <th>Dataset path: S3 Input Scored</th>\n",
       "      <th>Dataset path: S3 Input Evaluation</th>\n",
       "      <th>saved_result</th>\n",
       "    </tr>\n",
       "  </thead>\n",
       "  <tbody>\n",
       "    <tr>\n",
       "      <th>0</th>\n",
       "      <td>dcdfba4baf354faa8662f4304a5c67f6</td>\n",
       "      <td>AUXILIARY_HPU_AI_PRESSURE_VALUE</td>\n",
       "      <td>None</td>\n",
       "      <td>3</td>\n",
       "      <td>None</td>\n",
       "      <td>None</td>\n",
       "      <td>None</td>\n",
       "    </tr>\n",
       "    <tr>\n",
       "      <th>1</th>\n",
       "      <td>bee2d40c5e5147f196b708eab655b850</td>\n",
       "      <td>DWA_DSU_DC_VOLTAGE</td>\n",
       "      <td>s3://s3-assetcare-bucket/features_store/models...</td>\n",
       "      <td>4</td>\n",
       "      <td>s3://s3-assetcare-bucket/features_store/traini...</td>\n",
       "      <td>s3://s3-assetcare-bucket/features_store/traini...</td>\n",
       "      <td>s3://s3-assetcare-bucket/features_store/cluste...</td>\n",
       "    </tr>\n",
       "    <tr>\n",
       "      <th>2</th>\n",
       "      <td>241a973b95b8426ab168e3a11207e43f</td>\n",
       "      <td>DWA_DSU_DC_VOLTAGE</td>\n",
       "      <td>s3://s3-assetcare-bucket/features_store/models...</td>\n",
       "      <td>2</td>\n",
       "      <td>s3://s3-assetcare-bucket/features_store/traini...</td>\n",
       "      <td>s3://s3-assetcare-bucket/features_store/traini...</td>\n",
       "      <td>s3://s3-assetcare-bucket/features_store/cluste...</td>\n",
       "    </tr>\n",
       "  </tbody>\n",
       "</table>\n",
       "</div>"
      ],
      "text/plain": [
       "                             run_id                  Analog Tag name  \\\n",
       "0  dcdfba4baf354faa8662f4304a5c67f6  AUXILIARY_HPU_AI_PRESSURE_VALUE   \n",
       "1  bee2d40c5e5147f196b708eab655b850               DWA_DSU_DC_VOLTAGE   \n",
       "2  241a973b95b8426ab168e3a11207e43f               DWA_DSU_DC_VOLTAGE   \n",
       "\n",
       "                                          Model Path Cluster Nr  \\\n",
       "0                                               None          3   \n",
       "1  s3://s3-assetcare-bucket/features_store/models...          4   \n",
       "2  s3://s3-assetcare-bucket/features_store/models...          2   \n",
       "\n",
       "                       Dataset path: S3 Input Scored  \\\n",
       "0                                               None   \n",
       "1  s3://s3-assetcare-bucket/features_store/traini...   \n",
       "2  s3://s3-assetcare-bucket/features_store/traini...   \n",
       "\n",
       "                   Dataset path: S3 Input Evaluation  \\\n",
       "0                                               None   \n",
       "1  s3://s3-assetcare-bucket/features_store/traini...   \n",
       "2  s3://s3-assetcare-bucket/features_store/traini...   \n",
       "\n",
       "                                        saved_result  \n",
       "0                                               None  \n",
       "1  s3://s3-assetcare-bucket/features_store/cluste...  \n",
       "2  s3://s3-assetcare-bucket/features_store/cluste...  "
      ]
     },
     "execution_count": 26,
     "metadata": {},
     "output_type": "execute_result"
    }
   ],
   "source": [
    "df"
   ]
  },
  {
   "cell_type": "markdown",
   "id": "cc25ee62-e355-4ba1-972f-a06abf0d256c",
   "metadata": {},
   "source": [
    "##### if this filtered df below has no rows then you cannot runfurther script"
   ]
  },
  {
   "cell_type": "code",
   "execution_count": 27,
   "id": "7af466ea-1292-432a-bc4a-a022454c4f05",
   "metadata": {},
   "outputs": [
    {
     "data": {
      "text/html": [
       "<div>\n",
       "<style scoped>\n",
       "    .dataframe tbody tr th:only-of-type {\n",
       "        vertical-align: middle;\n",
       "    }\n",
       "\n",
       "    .dataframe tbody tr th {\n",
       "        vertical-align: top;\n",
       "    }\n",
       "\n",
       "    .dataframe thead th {\n",
       "        text-align: right;\n",
       "    }\n",
       "</style>\n",
       "<table border=\"1\" class=\"dataframe\">\n",
       "  <thead>\n",
       "    <tr style=\"text-align: right;\">\n",
       "      <th></th>\n",
       "      <th>run_id</th>\n",
       "      <th>Analog Tag name</th>\n",
       "      <th>Model Path</th>\n",
       "      <th>Cluster Nr</th>\n",
       "      <th>Dataset path: S3 Input Scored</th>\n",
       "      <th>Dataset path: S3 Input Evaluation</th>\n",
       "      <th>saved_result</th>\n",
       "    </tr>\n",
       "  </thead>\n",
       "  <tbody>\n",
       "    <tr>\n",
       "      <th>1</th>\n",
       "      <td>bee2d40c5e5147f196b708eab655b850</td>\n",
       "      <td>DWA_DSU_DC_VOLTAGE</td>\n",
       "      <td>s3://s3-assetcare-bucket/features_store/models...</td>\n",
       "      <td>4</td>\n",
       "      <td>s3://s3-assetcare-bucket/features_store/traini...</td>\n",
       "      <td>s3://s3-assetcare-bucket/features_store/traini...</td>\n",
       "      <td>s3://s3-assetcare-bucket/features_store/cluste...</td>\n",
       "    </tr>\n",
       "    <tr>\n",
       "      <th>2</th>\n",
       "      <td>241a973b95b8426ab168e3a11207e43f</td>\n",
       "      <td>DWA_DSU_DC_VOLTAGE</td>\n",
       "      <td>s3://s3-assetcare-bucket/features_store/models...</td>\n",
       "      <td>2</td>\n",
       "      <td>s3://s3-assetcare-bucket/features_store/traini...</td>\n",
       "      <td>s3://s3-assetcare-bucket/features_store/traini...</td>\n",
       "      <td>s3://s3-assetcare-bucket/features_store/cluste...</td>\n",
       "    </tr>\n",
       "  </tbody>\n",
       "</table>\n",
       "</div>"
      ],
      "text/plain": [
       "                             run_id     Analog Tag name  \\\n",
       "1  bee2d40c5e5147f196b708eab655b850  DWA_DSU_DC_VOLTAGE   \n",
       "2  241a973b95b8426ab168e3a11207e43f  DWA_DSU_DC_VOLTAGE   \n",
       "\n",
       "                                          Model Path Cluster Nr  \\\n",
       "1  s3://s3-assetcare-bucket/features_store/models...          4   \n",
       "2  s3://s3-assetcare-bucket/features_store/models...          2   \n",
       "\n",
       "                       Dataset path: S3 Input Scored  \\\n",
       "1  s3://s3-assetcare-bucket/features_store/traini...   \n",
       "2  s3://s3-assetcare-bucket/features_store/traini...   \n",
       "\n",
       "                   Dataset path: S3 Input Evaluation  \\\n",
       "1  s3://s3-assetcare-bucket/features_store/traini...   \n",
       "2  s3://s3-assetcare-bucket/features_store/traini...   \n",
       "\n",
       "                                        saved_result  \n",
       "1  s3://s3-assetcare-bucket/features_store/cluste...  \n",
       "2  s3://s3-assetcare-bucket/features_store/cluste...  "
      ]
     },
     "execution_count": 27,
     "metadata": {},
     "output_type": "execute_result"
    }
   ],
   "source": [
    "filtered_df = df[df[\"Model Path\"].notna()]\n",
    "filtered_df.head()"
   ]
  },
  {
   "cell_type": "markdown",
   "id": "08ddbd03-d244-4d3f-8834-49a7d426c8a4",
   "metadata": {},
   "source": [
    "### save the filtered df to a file to edit the run_id before running to get Anomaly scores"
   ]
  },
  {
   "cell_type": "code",
   "execution_count": 73,
   "id": "38dc4c53-2628-42b1-919d-c405b2857a2c",
   "metadata": {},
   "outputs": [
    {
     "data": {
      "text/plain": [
       "(2, 7)"
      ]
     },
     "execution_count": 73,
     "metadata": {},
     "output_type": "execute_result"
    }
   ],
   "source": [
    "filtered_df.to_csv(\"get_anomaly_scores_by_runID\", index=False)\n",
    "filtered_df.shape"
   ]
  },
  {
   "cell_type": "markdown",
   "id": "dbe55240-0edf-4b84-b906-b166a97c4927",
   "metadata": {},
   "source": [
    "### read info from file"
   ]
  },
  {
   "cell_type": "code",
   "execution_count": 74,
   "id": "8f37ce3c-cebe-4e80-9ba8-82809f59664e",
   "metadata": {},
   "outputs": [],
   "source": [
    "filepath = \"get_anomaly_scores_by_runID\""
   ]
  },
  {
   "cell_type": "code",
   "execution_count": 75,
   "id": "dfcd455b-7b2b-4a6e-a89a-98f5764e5561",
   "metadata": {},
   "outputs": [
    {
     "data": {
      "text/html": [
       "<div>\n",
       "<style scoped>\n",
       "    .dataframe tbody tr th:only-of-type {\n",
       "        vertical-align: middle;\n",
       "    }\n",
       "\n",
       "    .dataframe tbody tr th {\n",
       "        vertical-align: top;\n",
       "    }\n",
       "\n",
       "    .dataframe thead th {\n",
       "        text-align: right;\n",
       "    }\n",
       "</style>\n",
       "<table border=\"1\" class=\"dataframe\">\n",
       "  <thead>\n",
       "    <tr style=\"text-align: right;\">\n",
       "      <th></th>\n",
       "      <th>run_id</th>\n",
       "      <th>Analog Tag name</th>\n",
       "      <th>Model Path</th>\n",
       "      <th>Cluster Nr</th>\n",
       "      <th>Dataset path: S3 Input Scored</th>\n",
       "      <th>Dataset path: S3 Input Evaluation</th>\n",
       "      <th>saved_result</th>\n",
       "    </tr>\n",
       "  </thead>\n",
       "  <tbody>\n",
       "    <tr>\n",
       "      <th>0</th>\n",
       "      <td>bee2d40c5e5147f196b708eab655b850</td>\n",
       "      <td>DWA_DSU_DC_VOLTAGE</td>\n",
       "      <td>s3://s3-assetcare-bucket/features_store/models...</td>\n",
       "      <td>4</td>\n",
       "      <td>s3://s3-assetcare-bucket/features_store/traini...</td>\n",
       "      <td>s3://s3-assetcare-bucket/features_store/traini...</td>\n",
       "      <td>s3://s3-assetcare-bucket/features_store/cluste...</td>\n",
       "    </tr>\n",
       "    <tr>\n",
       "      <th>1</th>\n",
       "      <td>241a973b95b8426ab168e3a11207e43f</td>\n",
       "      <td>DWA_DSU_DC_VOLTAGE</td>\n",
       "      <td>s3://s3-assetcare-bucket/features_store/models...</td>\n",
       "      <td>2</td>\n",
       "      <td>s3://s3-assetcare-bucket/features_store/traini...</td>\n",
       "      <td>s3://s3-assetcare-bucket/features_store/traini...</td>\n",
       "      <td>s3://s3-assetcare-bucket/features_store/cluste...</td>\n",
       "    </tr>\n",
       "  </tbody>\n",
       "</table>\n",
       "</div>"
      ],
      "text/plain": [
       "                             run_id     Analog Tag name  \\\n",
       "0  bee2d40c5e5147f196b708eab655b850  DWA_DSU_DC_VOLTAGE   \n",
       "1  241a973b95b8426ab168e3a11207e43f  DWA_DSU_DC_VOLTAGE   \n",
       "\n",
       "                                          Model Path  Cluster Nr  \\\n",
       "0  s3://s3-assetcare-bucket/features_store/models...           4   \n",
       "1  s3://s3-assetcare-bucket/features_store/models...           2   \n",
       "\n",
       "                       Dataset path: S3 Input Scored  \\\n",
       "0  s3://s3-assetcare-bucket/features_store/traini...   \n",
       "1  s3://s3-assetcare-bucket/features_store/traini...   \n",
       "\n",
       "                   Dataset path: S3 Input Evaluation  \\\n",
       "0  s3://s3-assetcare-bucket/features_store/traini...   \n",
       "1  s3://s3-assetcare-bucket/features_store/traini...   \n",
       "\n",
       "                                        saved_result  \n",
       "0  s3://s3-assetcare-bucket/features_store/cluste...  \n",
       "1  s3://s3-assetcare-bucket/features_store/cluste...  "
      ]
     },
     "execution_count": 75,
     "metadata": {},
     "output_type": "execute_result"
    }
   ],
   "source": [
    "filtered_df = pd.read_csv(filepath)\n",
    "filtered_df.head()"
   ]
  },
  {
   "cell_type": "code",
   "execution_count": 76,
   "id": "3f6abaee-3550-4c5e-a096-966ea25f02da",
   "metadata": {},
   "outputs": [
    {
     "data": {
      "text/plain": [
       "(2, 7)"
      ]
     },
     "execution_count": 76,
     "metadata": {},
     "output_type": "execute_result"
    }
   ],
   "source": [
    "filtered_df.shape"
   ]
  },
  {
   "cell_type": "markdown",
   "id": "7e6bc296-0f73-4a11-ae48-4cba7cc5ca91",
   "metadata": {},
   "source": [
    "### get anomaly scores"
   ]
  },
  {
   "cell_type": "code",
   "execution_count": 71,
   "id": "0ab1adef-52da-45cc-b110-e4a23fb295f6",
   "metadata": {
    "scrolled": true
   },
   "outputs": [
    {
     "name": "stderr",
     "output_type": "stream",
     "text": [
      "INFO:sagemaker.image_uris:Same images used for training and inference. Defaulting to image scope: inference.\n",
      "INFO:sagemaker.image_uris:Defaulting to the only supported framework/algorithm version: 1.\n",
      "INFO:sagemaker.image_uris:Ignoring unnecessary instance type: None.\n",
      "INFO:sagemaker:Creating model with name: randomcutforest-2025-05-11-15-26-40-129\n",
      "INFO:sagemaker:Creating transform job with name: randomcutforest-2025-05-11-15-26-40-919\n"
     ]
    },
    {
     "name": "stdout",
     "output_type": "stream",
     "text": [
      "................................\u001b[34mDocker entrypoint called with argument(s): serve\u001b[0m\n",
      "\u001b[34mRunning default environment configuration script\u001b[0m\n",
      "\u001b[34m/opt/amazon/lib/python3.8/site-packages/mxnet/model.py:97: SyntaxWarning: \"is\" with a literal. Did you mean \"==\"?\n",
      "  if num_device is 1 and 'dist' not in kvstore:\u001b[0m\n",
      "\u001b[34m/opt/amazon/lib/python3.8/site-packages/scipy/optimize/_shgo.py:495: SyntaxWarning: \"is\" with a literal. Did you mean \"==\"?\n",
      "  if cons['type'] is 'ineq':\u001b[0m\n",
      "\u001b[34m/opt/amazon/lib/python3.8/site-packages/scipy/optimize/_shgo.py:743: SyntaxWarning: \"is not\" with a literal. Did you mean \"!=\"?\n",
      "  if len(self.X_min) is not 0:\u001b[0m\n",
      "\u001b[34m[05/11/2025 15:32:08 INFO 139656453080896] loaded entry point class algorithm.serve.server_config:config_api\u001b[0m\n",
      "\u001b[34m[05/11/2025 15:32:08 INFO 139656453080896] loading entry points\u001b[0m\n",
      "\u001b[34m[05/11/2025 15:32:08 INFO 139656453080896] Loaded iterator creator application/x-recordio-protobuf for content type ('application/x-recordio-protobuf', '1.0')\u001b[0m\n",
      "\u001b[34m[05/11/2025 15:32:08 INFO 139656453080896] loaded request iterator application/json\u001b[0m\n",
      "\u001b[34m[05/11/2025 15:32:08 INFO 139656453080896] loaded request iterator application/jsonlines\u001b[0m\n",
      "\u001b[34m[05/11/2025 15:32:08 INFO 139656453080896] loaded request iterator application/x-recordio-protobuf\u001b[0m\n",
      "\u001b[34m[05/11/2025 15:32:08 INFO 139656453080896] loaded request iterator text/csv\u001b[0m\n",
      "\u001b[34m[05/11/2025 15:32:08 INFO 139656453080896] loaded response encoder application/json\u001b[0m\n",
      "\u001b[34m[05/11/2025 15:32:08 INFO 139656453080896] loaded response encoder application/jsonlines\u001b[0m\n",
      "\u001b[34m[05/11/2025 15:32:08 INFO 139656453080896] loaded response encoder application/x-recordio-protobuf\u001b[0m\n",
      "\u001b[34m[05/11/2025 15:32:08 INFO 139656453080896] loaded response encoder text/csv\u001b[0m\n",
      "\u001b[34m[05/11/2025 15:32:08 INFO 139656453080896] loaded entry point class algorithm:model\u001b[0m\n",
      "\u001b[34m[05/11/2025 15:32:08 INFO 139656453080896] Loaded iterator creator application/x-recordio-protobuf for content type ('application/x-recordio-protobuf', '1.0')\u001b[0m\n",
      "\u001b[34m[05/11/2025 15:32:08 INFO 139656453080896] Number of server workers: 1\u001b[0m\n",
      "\u001b[34m[05/11/2025 15:32:08 INFO 139656453080896] loading model...\u001b[0m\n",
      "\u001b[34m[05/11/2025 15:32:08 INFO 139656453080896] Random Cut Forest model loaded.\u001b[0m\n",
      "\u001b[34mForestInfo{num_trees: 300, num_samples_in_forest: 46200, num_samples_per_tree: 154, sample_dim: 13, shingle_size: 1, trees_num_nodes: [103, 95, 141, 71, 47, 93, 17, 57, 55, 47, 101, 25, 75, 59, 131, 113, 49, 63, 45, 47, 29, 25, 79, 99, 111, 107, 95, 79, 89, 1, 53, 1, 65, 71, 47, 99, 75, 55, 71, 71, 119, 51, 49, 73, 47, 93, 61, 47, 73, 91, 49, 47, 73, 51, 25, 77, 25, 69, 59, 1, 65, 63, 51, 99, 67, 89, 111, 135, 235, 49, 49, 1, 89, 195, 25, 101, 1, 95, 45, 11, 125, 49, 89, 25, 97, 31, 87, 73, 99, 1, 69, 53, 33, 47, 69, 25, 97, 65, 81, 25, 101, 47, 75, 113, 105, 49, 109, 69, 75, 75, 99, 137, 47, 107, 29, 125, 25, 83, 37, 131, 59, 87, 91, 69, 47, 93, 71, 81, 71, 89, 101, 73, 55, 87, 95, 73, 69, 221, 143, 47, 25, 99, 113, 25, 151, 153, 99, 73, 73, 87, 57, 215, 33, 43, 57, 93, 119, 43, 107, 55, 117, 45, 119, 1, 117, 37, 149, 99, 99, 37, 81, 97, 91, 101, 65, 147, 85, 59, 67, 101, 123, 123, 127, 89, 119, 89, 91, 125, 111, 55, 85, 77, 87, 25, 59, 67, 73, 61, 63, 57, 79, 71, 79, 51, 97, 49, 87, 59, 101, 105, 67, 75, 43, 113, 59, 57, 141, 91, 109, 95, 113, 65, 109, 109, 79, 157, 71, 111, 101, 49, 73, 59, 103, 49, 99, 73, 89, 91, 53, 103, 63, 105, 77, 107, 39, 113, 135, 89, 87, 73, 149, 111, 173, 169, 171, 223, 161, 239, 139, 191, 159, 201, 121, 181, 175, 135, 293, 231, 193, 97, 51, 149, 93, 243, 119, 87, 91, 83, 145, 133, 153, 113, 121, 123, 49, 105, 87, 109, 147, 67, 103, 59, 73, 121, 157, 87, 165, 187, 133, 131, ], trees_depth: [20, 10, 14, 11, 8, 9, 5, 8, 14, 8, 13, 8, 17, 9, 16, 25, 16, 10, 8, 8, 9, 7, 11, 12, 12, 18, 12, 10, 13, 1, 8, 1, 16, 10, 7, 17, 12, 9, 11, 11, 13, 12, 11, 14, 9, 14, 12, 8, 10, 13, 10, 7, 9, 12, 7, 10, 9, 14, 12, 1, 10, 12, 8, 22, 13, 12, 20, 12, 20, 9, 9, 1, 16, 14, 7, 13, 1, 14, 10, 4, 20, 11, 13, 7, 9, 7, 10, 15, 11, 1, 13, 8, 7, 9, 11, 8, 15, 8, 14, 9, 17, 9, 14, 13, 18, 12, 15, 17, 16, 14, 12, 23, 9, 20, 8, 14, 5, 14, 8, 20, 8, 16, 11, 17, 8, 15, 15, 15, 11, 16, 14, 11, 10, 20, 13, 21, 9, 23, 15, 10, 6, 16, 21, 7, 21, 21, 12, 11, 9, 10, 9, 26, 7, 11, 10, 13, 17, 8, 16, 10, 18, 8, 12, 1, 21, 8, 15, 13, 12, 10, 11, 13, 17, 13, 12, 17, 16, 14, 9, 12, 13, 12, 17, 11, 14, 10, 15, 14, 15, 11, 11, 10, 13, 8, 15, 22, 10, 13, 10, 9, 11, 16, 15, 9, 13, 13, 11, 16, 13, 15, 9, 11, 9, 17, 9, 13, 27, 20, 14, 13, 15, 10, 20, 12, 10, 16, 12, 16, 12, 12, 12, 11, 14, 9, 19, 10, 15, 9, 8, 14, 11, 16, 10, 15, 9, 12, 29, 19, 13, 13, 15, 14, 14, 16, 12, 20, 16, 22, 13, 18, 15, 17, 15, 18, 15, 15, 17, 20, 17, 18, 9, 14, 15, 19, 17, 11, 12, 12, 22, 13, 18, 12, 13, 15, 9, 14, 11, 12, 20, 10, 10, 11, 13, 12, 16, 11, 16, 16, 18, 13, ], max_num_nodes: 293, min_num_nodes: 1, avg_num_nodes: 88, max_tree_depth: 29, min_tree_depth: 1, avg_tree_depth: 12, mem_size: 7852368}\u001b[0m\n",
      "\u001b[34m#metrics {\"StartTime\": 1746977527.7468567, \"EndTime\": 1746977528.3465009, \"Dimensions\": {}, \"Metrics\": {\"model.bytes\": {\"sum\": 7852368.0, \"count\": 1, \"min\": 7852368, \"max\": 7852368}, \"deserialize_model.time\": {\"sum\": 110.5647087097168, \"count\": 1, \"min\": 110.5647087097168, \"max\": 110.5647087097168}}}\u001b[0m\n",
      "\u001b[34m[05/11/2025 15:32:08 INFO 139656453080896] ...model loaded.\u001b[0m\n",
      "\u001b[34m[2025-05-11 15:32:08 +0000] [1] [INFO] Starting gunicorn 20.1.0\u001b[0m\n",
      "\u001b[34m[2025-05-11 15:32:08 +0000] [1] [INFO] Listening at: http://0.0.0.0:8080 (1)\u001b[0m\n",
      "\u001b[34m[2025-05-11 15:32:08 +0000] [1] [INFO] Using worker: sync\u001b[0m\n",
      "\u001b[34m[2025-05-11 15:32:08 +0000] [42] [INFO] Booting worker with pid: 42\u001b[0m\n",
      "\n",
      "\u001b[34m#metrics {\"StartTime\": 1746977528.346821, \"EndTime\": 1746977528.7645557, \"Dimensions\": {\"Algorithm\": \"RandomCutForestModel\", \"Host\": \"UNKNOWN\", \"Operation\": \"scoring\"}, \"Metrics\": {\"execution_parameters.count\": {\"sum\": 1.0, \"count\": 1, \"min\": 1, \"max\": 1}}}\u001b[0m\n",
      "\u001b[32m#metrics {\"StartTime\": 1746977528.346821, \"EndTime\": 1746977528.7645557, \"Dimensions\": {\"Algorithm\": \"RandomCutForestModel\", \"Host\": \"UNKNOWN\", \"Operation\": \"scoring\"}, \"Metrics\": {\"execution_parameters.count\": {\"sum\": 1.0, \"count\": 1, \"min\": 1, \"max\": 1}}}\u001b[0m\n",
      "\u001b[35m2025-05-11T15:32:08.770:[sagemaker logs]: MaxConcurrentTransforms=1, MaxPayloadInMB=6, BatchStrategy=MULTI_RECORD\u001b[0m\n",
      "\u001b[36m2025-05-11T15:32:08.770:[sagemaker logs]: MaxConcurrentTransforms=1, MaxPayloadInMB=6, BatchStrategy=MULTI_RECORD\u001b[0m\n",
      "\u001b[33mDocker entrypoint called with argument(s): serve\u001b[0m\n",
      "\u001b[33mRunning default environment configuration script\u001b[0m\n",
      "\u001b[33m/opt/amazon/lib/python3.8/site-packages/mxnet/model.py:97: SyntaxWarning: \"is\" with a literal. Did you mean \"==\"?\n",
      "  if num_device is 1 and 'dist' not in kvstore:\u001b[0m\n",
      "\u001b[33m/opt/amazon/lib/python3.8/site-packages/scipy/optimize/_shgo.py:495: SyntaxWarning: \"is\" with a literal. Did you mean \"==\"?\n",
      "  if cons['type'] is 'ineq':\u001b[0m\n",
      "\u001b[33m/opt/amazon/lib/python3.8/site-packages/scipy/optimize/_shgo.py:743: SyntaxWarning: \"is not\" with a literal. Did you mean \"!=\"?\n",
      "  if len(self.X_min) is not 0:\u001b[0m\n",
      "\u001b[33m[05/11/2025 15:32:14 INFO 140504429799232] loaded entry point class algorithm.serve.server_config:config_api\u001b[0m\n",
      "\u001b[33m[05/11/2025 15:32:14 INFO 140504429799232] loading entry points\u001b[0m\n",
      "\u001b[33m[05/11/2025 15:32:14 INFO 140504429799232] Loaded iterator creator application/x-recordio-protobuf for content type ('application/x-recordio-protobuf', '1.0')\u001b[0m\n",
      "\u001b[33m[05/11/2025 15:32:14 INFO 140504429799232] loaded request iterator application/json\u001b[0m\n",
      "\u001b[33m[05/11/2025 15:32:14 INFO 140504429799232] loaded request iterator application/jsonlines\u001b[0m\n",
      "\u001b[33m[05/11/2025 15:32:14 INFO 140504429799232] loaded request iterator application/x-recordio-protobuf\u001b[0m\n",
      "\u001b[33m[05/11/2025 15:32:14 INFO 140504429799232] loaded request iterator text/csv\u001b[0m\n",
      "\u001b[33m[05/11/2025 15:32:14 INFO 140504429799232] loaded response encoder application/json\u001b[0m\n",
      "\u001b[33m[05/11/2025 15:32:14 INFO 140504429799232] loaded response encoder application/jsonlines\u001b[0m\n",
      "\u001b[33m[05/11/2025 15:32:14 INFO 140504429799232] loaded response encoder application/x-recordio-protobuf\u001b[0m\n",
      "\u001b[33m[05/11/2025 15:32:14 INFO 140504429799232] loaded response encoder text/csv\u001b[0m\n",
      "\u001b[33m[05/11/2025 15:32:14 INFO 140504429799232] loaded entry point class algorithm:model\u001b[0m\n",
      "\u001b[33m[05/11/2025 15:32:14 INFO 140504429799232] Loaded iterator creator application/x-recordio-protobuf for content type ('application/x-recordio-protobuf', '1.0')\u001b[0m\n",
      "\u001b[33m[05/11/2025 15:32:14 INFO 140504429799232] Number of server workers: 1\u001b[0m\n",
      "\u001b[33m[05/11/2025 15:32:14 INFO 140504429799232] loading model...\u001b[0m\n",
      "\u001b[33m[05/11/2025 15:32:14 INFO 140504429799232] Random Cut Forest model loaded.\u001b[0m\n",
      "\u001b[33mForestInfo{num_trees: 300, num_samples_in_forest: 46200, num_samples_per_tree: 154, sample_dim: 13, shingle_size: 1, trees_num_nodes: [103, 95, 141, 71, 47, 93, 17, 57, 55, 47, 101, 25, 75, 59, 131, 113, 49, 63, 45, 47, 29, 25, 79, 99, 111, 107, 95, 79, 89, 1, 53, 1, 65, 71, 47, 99, 75, 55, 71, 71, 119, 51, 49, 73, 47, 93, 61, 47, 73, 91, 49, 47, 73, 51, 25, 77, 25, 69, 59, 1, 65, 63, 51, 99, 67, 89, 111, 135, 235, 49, 49, 1, 89, 195, 25, 101, 1, 95, 45, 11, 125, 49, 89, 25, 97, 31, 87, 73, 99, 1, 69, 53, 33, 47, 69, 25, 97, 65, 81, 25, 101, 47, 75, 113, 105, 49, 109, 69, 75, 75, 99, 137, 47, 107, 29, 125, 25, 83, 37, 131, 59, 87, 91, 69, 47, 93, 71, 81, 71, 89, 101, 73, 55, 87, 95, 73, 69, 221, 143, 47, 25, 99, 113, 25, 151, 153, 99, 73, 73, 87, 57, 215, 33, 43, 57, 93, 119, 43, 107, 55, 117, 45, 119, 1, 117, 37, 149, 99, 99, 37, 81, 97, 91, 101, 65, 147, 85, 59, 67, 101, 123, 123, 127, 89, 119, 89, 91, 125, 111, 55, 85, 77, 87, 25, 59, 67, 73, 61, 63, 57, 79, 71, 79, 51, 97, 49, 87, 59, 101, 105, 67, 75, 43, 113, 59, 57, 141, 91, 109, 95, 113, 65, 109, 109, 79, 157, 71, 111, 101, 49, 73, 59, 103, 49, 99, 73, 89, 91, 53, 103, 63, 105, 77, 107, 39, 113, 135, 89, 87, 73, 149, 111, 173, 169, 171, 223, 161, 239, 139, 191, 159, 201, 121, 181, 175, 135, 293, 231, 193, 97, 51, 149, 93, 243, 119, 87, 91, 83, 145, 133, 153, 113, 121, 123, 49, 105, 87, 109, 147, 67, 103, 59, 73, 121, 157, 87, 165, 187, 133, 131, ], trees_depth: [20, 10, 14, 11, 8, 9, 5, 8, 14, 8, 13, 8, 17, 9, 16, 25, 16, 10, 8, 8, 9, 7, 11, 12, 12, 18, 12, 10, 13, 1, 8, 1, 16, 10, 7, 17, 12, 9, 11, 11, 13, 12, 11, 14, 9, 14, 12, 8, 10, 13, 10, 7, 9, 12, 7, 10, 9, 14, 12, 1, 10, 12, 8, 22, 13, 12, 20, 12, 20, 9, 9, 1, 16, 14, 7, 13, 1, 14, 10, 4, 20, 11, 13, 7, 9, 7, 10, 15, 11, 1, 13, 8, 7, 9, 11, 8, 15, 8, 14, 9, 17, 9, 14, 13, 18, 12, 15, 17, 16, 14, 12, 23, 9, 20, 8, 14, 5, 14, 8, 20, 8, 16, 11, 17, 8, 15, 15, 15, 11, 16, 14, 11, 10, 20, 13, 21, 9, 23, 15, 10, 6, 16, 21, 7, 21, 21, 12, 11, 9, 10, 9, 26, 7, 11, 10, 13, 17, 8, 16, 10, 18, 8, 12, 1, 21, 8, 15, 13, 12, 10, 11, 13, 17, 13, 12, 17, 16, 14, 9, 12, 13, 12, 17, 11, 14, 10, 15, 14, 15, 11, 11, 10, 13, 8, 15, 22, 10, 13, 10, 9, 11, 16, 15, 9, 13, 13, 11, 16, 13, 15, 9, 11, 9, 17, 9, 13, 27, 20, 14, 13, 15, 10, 20, 12, 10, 16, 12, 16, 12, 12, 12, 11, 14, 9, 19, 10, 15, 9, 8, 14, 11, 16, 10, 15, 9, 12, 29, 19, 13, 13, 15, 14, 14, 16, 12, 20, 16, 22, 13, 18, 15, 17, 15, 18, 15, 15, 17, 20, 17, 18, 9, 14, 15, 19, 17, 11, 12, 12, 22, 13, 18, 12, 13, 15, 9, 14, 11, 12, 20, 10, 10, 11, 13, 12, 16, 11, 16, 16, 18, 13, ], max_num_nodes: 293, min_num_nodes: 1, avg_num_nodes: 88, max_tree_depth: 29, min_tree_depth: 1, avg_tree_depth: 12, mem_size: 7852368}\u001b[0m\n",
      "\u001b[33m#metrics {\"StartTime\": 1746977534.2815673, \"EndTime\": 1746977534.9467928, \"Dimensions\": {}, \"Metrics\": {\"model.bytes\": {\"sum\": 7852368.0, \"count\": 1, \"min\": 7852368, \"max\": 7852368}, \"deserialize_model.time\": {\"sum\": 151.52239799499512, \"count\": 1, \"min\": 151.52239799499512, \"max\": 151.52239799499512}}}\u001b[0m\n",
      "\u001b[33m[05/11/2025 15:32:14 INFO 140504429799232] ...model loaded.\u001b[0m\n",
      "\u001b[33m[2025-05-11 15:32:15 +0000] [1] [INFO] Starting gunicorn 20.1.0\u001b[0m\n",
      "\u001b[33m[2025-05-11 15:32:15 +0000] [1] [INFO] Listening at: http://0.0.0.0:8080 (1)\u001b[0m\n",
      "\u001b[33m[2025-05-11 15:32:15 +0000] [1] [INFO] Using worker: sync\u001b[0m\n",
      "\u001b[33m[2025-05-11 15:32:15 +0000] [42] [INFO] Booting worker with pid: 42\u001b[0m\n",
      "\u001b[33m#metrics {\"StartTime\": 1746977534.9472194, \"EndTime\": 1746977535.0922828, \"Dimensions\": {\"Algorithm\": \"RandomCutForestModel\", \"Host\": \"UNKNOWN\", \"Operation\": \"scoring\"}, \"Metrics\": {\"execution_parameters.count\": {\"sum\": 1.0, \"count\": 1, \"min\": 1, \"max\": 1}}}\u001b[0m\n",
      "\u001b[34m#metrics {\"StartTime\": 1746977528.7646577, \"EndTime\": 1746977535.6971874, \"Dimensions\": {\"Algorithm\": \"RandomCutForestModel\", \"Host\": \"UNKNOWN\", \"Operation\": \"scoring\"}, \"Metrics\": {\"evaluate.time\": {\"sum\": 6349.236965179443, \"count\": 1, \"min\": 6349.236965179443, \"max\": 6349.236965179443}}}\u001b[0m\n",
      "\u001b[34m#metrics {\"StartTime\": 1746977535.6972728, \"EndTime\": 1746977535.7360926, \"Dimensions\": {\"Algorithm\": \"RandomCutForestModel\", \"Host\": \"UNKNOWN\", \"Operation\": \"scoring\"}, \"Metrics\": {\"csv.encoder.time\": {\"sum\": 38.39731216430664, \"count\": 1, \"min\": 38.39731216430664, \"max\": 38.39731216430664}, \"invocations.count\": {\"sum\": 1.0, \"count\": 1, \"min\": 1, \"max\": 1}}}\u001b[0m\n",
      "\u001b[32m#metrics {\"StartTime\": 1746977528.7646577, \"EndTime\": 1746977535.6971874, \"Dimensions\": {\"Algorithm\": \"RandomCutForestModel\", \"Host\": \"UNKNOWN\", \"Operation\": \"scoring\"}, \"Metrics\": {\"evaluate.time\": {\"sum\": 6349.236965179443, \"count\": 1, \"min\": 6349.236965179443, \"max\": 6349.236965179443}}}\u001b[0m\n",
      "\u001b[32m#metrics {\"StartTime\": 1746977535.6972728, \"EndTime\": 1746977535.7360926, \"Dimensions\": {\"Algorithm\": \"RandomCutForestModel\", \"Host\": \"UNKNOWN\", \"Operation\": \"scoring\"}, \"Metrics\": {\"csv.encoder.time\": {\"sum\": 38.39731216430664, \"count\": 1, \"min\": 38.39731216430664, \"max\": 38.39731216430664}, \"invocations.count\": {\"sum\": 1.0, \"count\": 1, \"min\": 1, \"max\": 1}}}\u001b[0m\n",
      "\u001b[34m2025-05-11T15:32:15.097:[sagemaker logs]: MaxConcurrentTransforms=1, MaxPayloadInMB=6, BatchStrategy=MULTI_RECORD\u001b[0m\n",
      "df_all shape (46484, 1)\n",
      "✅ Saved batch 1/1 to s3://s3-assetcare-bucket/features_store/evaluation/DWA_DSU_DC_VOLTAGE_cluster-4_20250511_152639/part_0000.csv\n",
      "🏃 View run DWA_DSU_DC_VOLTAGE_cluster-4 at: https://ap-southeast-1.experiments.sagemaker.aws/#/experiments/21/runs/3308e10733c44199ac1666548fef6ade\n",
      "🧪 View experiment at: https://ap-southeast-1.experiments.sagemaker.aws/#/experiments/21\n"
     ]
    },
    {
     "name": "stderr",
     "output_type": "stream",
     "text": [
      "INFO:sagemaker.image_uris:Same images used for training and inference. Defaulting to image scope: inference.\n",
      "INFO:sagemaker.image_uris:Defaulting to the only supported framework/algorithm version: 1.\n",
      "INFO:sagemaker.image_uris:Ignoring unnecessary instance type: None.\n",
      "INFO:sagemaker:Creating model with name: randomcutforest-2025-05-11-15-32-36-541\n",
      "INFO:sagemaker:Creating transform job with name: randomcutforest-2025-05-11-15-32-37-149\n"
     ]
    },
    {
     "name": "stdout",
     "output_type": "stream",
     "text": [
      "..................................\u001b[34mDocker entrypoint called with argument(s): serve\u001b[0m\n",
      "\u001b[34mRunning default environment configuration script\u001b[0m\n",
      "\u001b[34m/opt/amazon/lib/python3.8/site-packages/mxnet/model.py:97: SyntaxWarning: \"is\" with a literal. Did you mean \"==\"?\n",
      "  if num_device is 1 and 'dist' not in kvstore:\u001b[0m\n",
      "\u001b[34m/opt/amazon/lib/python3.8/site-packages/scipy/optimize/_shgo.py:495: SyntaxWarning: \"is\" with a literal. Did you mean \"==\"?\n",
      "  if cons['type'] is 'ineq':\u001b[0m\n",
      "\u001b[34m/opt/amazon/lib/python3.8/site-packages/scipy/optimize/_shgo.py:743: SyntaxWarning: \"is not\" with a literal. Did you mean \"!=\"?\n",
      "  if len(self.X_min) is not 0:\u001b[0m\n",
      "\u001b[34m[05/11/2025 15:38:21 INFO 140176880023360] loaded entry point class algorithm.serve.server_config:config_api\u001b[0m\n",
      "\u001b[34m[05/11/2025 15:38:21 INFO 140176880023360] loading entry points\u001b[0m\n",
      "\u001b[34m[05/11/2025 15:38:21 INFO 140176880023360] Loaded iterator creator application/x-recordio-protobuf for content type ('application/x-recordio-protobuf', '1.0')\u001b[0m\n",
      "\u001b[34m[05/11/2025 15:38:21 INFO 140176880023360] loaded request iterator application/json\u001b[0m\n",
      "\u001b[34m[05/11/2025 15:38:21 INFO 140176880023360] loaded request iterator application/jsonlines\u001b[0m\n",
      "\u001b[34m[05/11/2025 15:38:21 INFO 140176880023360] loaded request iterator application/x-recordio-protobuf\u001b[0m\n",
      "\u001b[34m[05/11/2025 15:38:21 INFO 140176880023360] loaded request iterator text/csv\u001b[0m\n",
      "\u001b[34m[05/11/2025 15:38:21 INFO 140176880023360] loaded response encoder application/json\u001b[0m\n",
      "\u001b[34m[05/11/2025 15:38:21 INFO 140176880023360] loaded response encoder application/jsonlines\u001b[0m\n",
      "\u001b[34m[05/11/2025 15:38:21 INFO 140176880023360] loaded response encoder application/x-recordio-protobuf\u001b[0m\n",
      "\u001b[34m[05/11/2025 15:38:21 INFO 140176880023360] loaded response encoder text/csv\u001b[0m\n",
      "\u001b[34m[05/11/2025 15:38:21 INFO 140176880023360] loaded entry point class algorithm:model\u001b[0m\n",
      "\u001b[34m[05/11/2025 15:38:21 INFO 140176880023360] Loaded iterator creator application/x-recordio-protobuf for content type ('application/x-recordio-protobuf', '1.0')\u001b[0m\n",
      "\u001b[34m[05/11/2025 15:38:21 INFO 140176880023360] Number of server workers: 1\u001b[0m\n",
      "\u001b[34m[05/11/2025 15:38:21 INFO 140176880023360] loading model...\u001b[0m\n",
      "\u001b[34m[05/11/2025 15:38:21 INFO 140176880023360] Random Cut Forest model loaded.\u001b[0m\n",
      "\u001b[34mForestInfo{num_trees: 300, num_samples_in_forest: 5700, num_samples_per_tree: 19, sample_dim: 105, shingle_size: 1, trees_num_nodes: [37, 37, 37, 37, 37, 37, 37, 37, 37, 37, 37, 37, 37, 37, 37, 37, 37, 37, 37, 37, 37, 37, 37, 37, 37, 37, 37, 37, 37, 37, 37, 37, 37, 37, 37, 37, 37, 37, 37, 37, 37, 37, 37, 37, 37, 37, 37, 37, 37, 37, 37, 37, 37, 37, 37, 37, 37, 37, 37, 37, 37, 37, 37, 37, 37, 37, 37, 37, 37, 37, 37, 37, 37, 37, 37, 37, 37, 37, 37, 37, 37, 37, 37, 37, 37, 37, 37, 37, 37, 37, 37, 37, 37, 37, 37, 37, 37, 37, 37, 37, 37, 37, 37, 37, 37, 37, 37, 37, 37, 37, 37, 37, 37, 37, 37, 37, 37, 37, 37, 37, 37, 37, 37, 37, 37, 37, 37, 37, 37, 37, 37, 37, 37, 37, 37, 37, 37, 37, 37, 37, 37, 37, 37, 37, 37, 37, 37, 37, 37, 37, 37, 37, 37, 37, 37, 37, 37, 37, 37, 37, 37, 37, 37, 37, 37, 37, 37, 37, 37, 37, 37, 37, 37, 37, 37, 37, 37, 37, 37, 37, 37, 37, 37, 37, 37, 37, 37, 37, 37, 37, 37, 37, 37, 37, 37, 37, 37, 37, 37, 37, 37, 37, 37, 37, 37, 37, 37, 37, 37, 37, 37, 37, 37, 37, 37, 37, 37, 37, 37, 37, 37, 37, 37, 37, 37, 37, 37, 37, 37, 37, 37, 37, 37, 37, 37, 37, 37, 37, 37, 37, 37, 37, 37, 37, 37, 37, 37, 37, 37, 37, 37, 37, 37, 37, 37, 37, 37, 37, 37, 37, 37, 37, 37, 37, 37, 37, 37, 37, 37, 37, 37, 37, 37, 37, 37, 37, 37, 37, 37, 37, 37, 37, 37, 37, 37, 37, 37, 37, 37, 37, 37, 37, 37, 37, 37, 37, 37, 37, 37, 37, ], trees_depth: [11, 9, 7, 10, 8, 8, 8, 8, 8, 7, 11, 11, 8, 10, 10, 7, 9, 9, 7, 8, 10, 8, 10, 7, 11, 13, 12, 11, 9, 10, 11, 10, 8, 9, 7, 10, 9, 7, 10, 11, 8, 9, 9, 11, 8, 8, 8, 13, 6, 11, 8, 8, 8, 9, 9, 7, 8, 8, 8, 10, 9, 10, 8, 8, 8, 8, 7, 9, 11, 8, 8, 12, 7, 7, 8, 8, 8, 8, 7, 8, 9, 7, 8, 8, 8, 9, 9, 9, 8, 8, 9, 10, 8, 9, 9, 10, 9, 9, 8, 8, 8, 9, 8, 8, 9, 8, 7, 7, 9, 8, 7, 10, 9, 7, 9, 8, 8, 8, 9, 7, 7, 8, 8, 7, 8, 7, 9, 10, 8, 7, 9, 7, 9, 7, 10, 7, 8, 7, 7, 9, 6, 7, 11, 8, 10, 8, 8, 10, 8, 9, 9, 8, 7, 11, 9, 8, 9, 8, 8, 7, 9, 8, 8, 8, 7, 7, 8, 8, 7, 11, 7, 6, 8, 8, 11, 9, 8, 10, 8, 10, 8, 8, 9, 8, 11, 8, 8, 9, 8, 8, 9, 11, 11, 8, 7, 8, 8, 9, 9, 9, 8, 8, 9, 11, 8, 9, 8, 7, 9, 8, 9, 8, 7, 8, 10, 7, 10, 10, 10, 10, 8, 10, 9, 13, 10, 9, 9, 8, 9, 8, 10, 8, 10, 8, 8, 9, 10, 9, 7, 7, 8, 9, 9, 9, 9, 8, 9, 8, 10, 11, 9, 9, 9, 10, 6, 9, 8, 10, 9, 7, 8, 11, 7, 9, 9, 8, 11, 6, 8, 8, 8, 9, 9, 9, 10, 8, 9, 9, 10, 8, 8, 7, 10, 8, 7, 9, 9, 7, 7, 8, 10, 9, 7, 8, 8, 8, 10, 7, 10, 7, ], max_num_nodes: 37, min_num_nodes: 37, avg_num_nodes: 37, max_tree_depth: 13, min_tree_depth: 6, avg_tree_depth: 8, mem_size: 19627248}\u001b[0m\n",
      "\u001b[34m#metrics {\"StartTime\": 1746977901.2727034, \"EndTime\": 1746977901.9986193, \"Dimensions\": {}, \"Metrics\": {\"model.bytes\": {\"sum\": 19627248.0, \"count\": 1, \"min\": 19627248, \"max\": 19627248}, \"deserialize_model.time\": {\"sum\": 296.1084842681885, \"count\": 1, \"min\": 296.1084842681885, \"max\": 296.1084842681885}}}\u001b[0m\n",
      "\u001b[34m[05/11/2025 15:38:21 INFO 140176880023360] ...model loaded.\u001b[0m\n",
      "\u001b[34m[2025-05-11 15:38:22 +0000] [1] [INFO] Starting gunicorn 20.1.0\u001b[0m\n",
      "\u001b[34m[2025-05-11 15:38:22 +0000] [1] [INFO] Listening at: http://0.0.0.0:8080 (1)\u001b[0m\n",
      "\u001b[34m[2025-05-11 15:38:22 +0000] [1] [INFO] Using worker: sync\u001b[0m\n",
      "\u001b[34m[2025-05-11 15:38:22 +0000] [41] [INFO] Booting worker with pid: 41\u001b[0m\n",
      "\u001b[34mDocker entrypoint called with argument(s): serve\u001b[0m\n",
      "\u001b[34mRunning default environment configuration script\u001b[0m\n",
      "\u001b[34m/opt/amazon/lib/python3.8/site-packages/mxnet/model.py:97: SyntaxWarning: \"is\" with a literal. Did you mean \"==\"?\n",
      "  if num_device is 1 and 'dist' not in kvstore:\u001b[0m\n",
      "\u001b[34m/opt/amazon/lib/python3.8/site-packages/scipy/optimize/_shgo.py:495: SyntaxWarning: \"is\" with a literal. Did you mean \"==\"?\n",
      "  if cons['type'] is 'ineq':\u001b[0m\n",
      "\u001b[34m/opt/amazon/lib/python3.8/site-packages/scipy/optimize/_shgo.py:743: SyntaxWarning: \"is not\" with a literal. Did you mean \"!=\"?\n",
      "  if len(self.X_min) is not 0:\u001b[0m\n",
      "\u001b[32mDocker entrypoint called with argument(s): serve\u001b[0m\n",
      "\u001b[32mRunning default environment configuration script\u001b[0m\n",
      "\u001b[32m/opt/amazon/lib/python3.8/site-packages/mxnet/model.py:97: SyntaxWarning: \"is\" with a literal. Did you mean \"==\"?\n",
      "  if num_device is 1 and 'dist' not in kvstore:\u001b[0m\n",
      "\u001b[32m/opt/amazon/lib/python3.8/site-packages/scipy/optimize/_shgo.py:495: SyntaxWarning: \"is\" with a literal. Did you mean \"==\"?\n",
      "  if cons['type'] is 'ineq':\u001b[0m\n",
      "\u001b[32m/opt/amazon/lib/python3.8/site-packages/scipy/optimize/_shgo.py:743: SyntaxWarning: \"is not\" with a literal. Did you mean \"!=\"?\n",
      "  if len(self.X_min) is not 0:\u001b[0m\n",
      "\u001b[34m[05/11/2025 15:38:28 INFO 140027402561344] loaded entry point class algorithm.serve.server_config:config_api\u001b[0m\n",
      "\u001b[34m[05/11/2025 15:38:28 INFO 140027402561344] loading entry points\u001b[0m\n",
      "\u001b[34m[05/11/2025 15:38:28 INFO 140027402561344] Loaded iterator creator application/x-recordio-protobuf for content type ('application/x-recordio-protobuf', '1.0')\u001b[0m\n",
      "\u001b[34m[05/11/2025 15:38:28 INFO 140027402561344] loaded request iterator application/json\u001b[0m\n",
      "\u001b[34m[05/11/2025 15:38:28 INFO 140027402561344] loaded request iterator application/jsonlines\u001b[0m\n",
      "\u001b[34m[05/11/2025 15:38:28 INFO 140027402561344] loaded request iterator application/x-recordio-protobuf\u001b[0m\n",
      "\u001b[34m[05/11/2025 15:38:28 INFO 140027402561344] loaded request iterator text/csv\u001b[0m\n",
      "\u001b[34m[05/11/2025 15:38:28 INFO 140027402561344] loaded response encoder application/json\u001b[0m\n",
      "\u001b[34m[05/11/2025 15:38:28 INFO 140027402561344] loaded response encoder application/jsonlines\u001b[0m\n",
      "\u001b[34m[05/11/2025 15:38:28 INFO 140027402561344] loaded response encoder application/x-recordio-protobuf\u001b[0m\n",
      "\u001b[34m[05/11/2025 15:38:28 INFO 140027402561344] loaded response encoder text/csv\u001b[0m\n",
      "\u001b[34m[05/11/2025 15:38:28 INFO 140027402561344] loaded entry point class algorithm:model\u001b[0m\n",
      "\u001b[34m[05/11/2025 15:38:28 INFO 140027402561344] Loaded iterator creator application/x-recordio-protobuf for content type ('application/x-recordio-protobuf', '1.0')\u001b[0m\n",
      "\u001b[34m[05/11/2025 15:38:28 INFO 140027402561344] Number of server workers: 1\u001b[0m\n",
      "\u001b[34m[05/11/2025 15:38:28 INFO 140027402561344] loading model...\u001b[0m\n",
      "\u001b[34m[05/11/2025 15:38:28 INFO 140027402561344] Random Cut Forest model loaded.\u001b[0m\n",
      "\u001b[34mForestInfo{num_trees: 300, num_samples_in_forest: 5700, num_samples_per_tree: 19, sample_dim: 105, shingle_size: 1, trees_num_nodes: [37, 37, 37, 37, 37, 37, 37, 37, 37, 37, 37, 37, 37, 37, 37, 37, 37, 37, 37, 37, 37, 37, 37, 37, 37, 37, 37, 37, 37, 37, 37, 37, 37, 37, 37, 37, 37, 37, 37, 37, 37, 37, 37, 37, 37, 37, 37, 37, 37, 37, 37, 37, 37, 37, 37, 37, 37, 37, 37, 37, 37, 37, 37, 37, 37, 37, 37, 37, 37, 37, 37, 37, 37, 37, 37, 37, 37, 37, 37, 37, 37, 37, 37, 37, 37, 37, 37, 37, 37, 37, 37, 37, 37, 37, 37, 37, 37, 37, 37, 37, 37, 37, 37, 37, 37, 37, 37, 37, 37, 37, 37, 37, 37, 37, 37, 37, 37, 37, 37, 37, 37, 37, 37, 37, 37, 37, 37, 37, 37, 37, 37, 37, 37, 37, 37, 37, 37, 37, 37, 37, 37, 37, 37, 37, 37, 37, 37, 37, 37, 37, 37, 37, 37, 37, 37, 37, 37, 37, 37, 37, 37, 37, 37, 37, 37, 37, 37, 37, 37, 37, 37, 37, 37, 37, 37, 37, 37, 37, 37, 37, 37, 37, 37, 37, 37, 37, 37, 37, 37, 37, 37, 37, 37, 37, 37, 37, 37, 37, 37, 37, 37, 37, 37, 37, 37, 37, 37, 37, 37, 37, 37, 37, 37, 37, 37, 37, 37, 37, 37, 37, 37, 37, 37, 37, 37, 37, 37, 37, 37, 37, 37, 37, 37, 37, 37, 37, 37, 37, 37, 37, 37, 37, 37, 37, 37, 37, 37, 37, 37, 37, 37, 37, 37, 37, 37, 37, 37, 37, 37, 37, 37, 37, 37, 37, 37, 37, 37, 37, 37, 37, 37, 37, 37, 37, 37, 37, 37, 37, 37, 37, 37, 37, 37, 37, 37, 37, 37, 37, 37, 37, 37, 37, 37, 37, 37, 37, 37, 37, 37, 37, ], trees_depth: [11, 9, 7, 10, 8, 8, 8, 8, 8, 7, 11, 11, 8, 10, 10, 7, 9, 9, 7, 8, 10, 8, 10, 7, 11, 13, 12, 11, 9, 10, 11, 10, 8, 9, 7, 10, 9, 7, 10, 11, 8, 9, 9, 11, 8, 8, 8, 13, 6, 11, 8, 8, 8, 9, 9, 7, 8, 8, 8, 10, 9, 10, 8, 8, 8, 8, 7, 9, 11, 8, 8, 12, 7, 7, 8, 8, 8, 8, 7, 8, 9, 7, 8, 8, 8, 9, 9, 9, 8, 8, 9, 10, 8, 9, 9, 10, 9, 9, 8, 8, 8, 9, 8, 8, 9, 8, 7, 7, 9, 8, 7, 10, 9, 7, 9, 8, 8, 8, 9, 7, 7, 8, 8, 7, 8, 7, 9, 10, 8, 7, 9, 7, 9, 7, 10, 7, 8, 7, 7, 9, 6, 7, 11, 8, 10, 8, 8, 10, 8, 9, 9, 8, 7, 11, 9, 8, 9, 8, 8, 7, 9, 8, 8, 8, 7, 7, 8, 8, 7, 11, 7, 6, 8, 8, 11, 9, 8, 10, 8, 10, 8, 8, 9, 8, 11, 8, 8, 9, 8, 8, 9, 11, 11, 8, 7, 8, 8, 9, 9, 9, 8, 8, 9, 11, 8, 9, 8, 7, 9, 8, 9, 8, 7, 8, 10, 7, 10, 10, 10, 10, 8, 10, 9, 13, 10, 9, 9, 8, 9, 8, 10, 8, 10, 8, 8, 9, 10, 9, 7, 7, 8, 9, 9, 9, 9, 8, 9, 8, 10, 11, 9, 9, 9, 10, 6, 9, 8, 10, 9, 7, 8, 11, 7, 9, 9, 8, 11, 6, 8, 8, 8, 9, 9, 9, 10, 8, 9, 9, 10, 8, 8, 7, 10, 8, 7, 9, 9, 7, 7, 8, 10, 9, 7, 8, 8, 8, 10, 7, 10, 7, ], max_num_nodes: 37, min_num_nodes: 37, avg_num_nodes: 37, max_tree_depth: 13, min_tree_depth: 6, avg_tree_depth: 8, mem_size: 19627248}\u001b[0m\n",
      "\u001b[34m#metrics {\"StartTime\": 1746977907.9938138, \"EndTime\": 1746977908.7597666, \"Dimensions\": {}, \"Metrics\": {\"model.bytes\": {\"sum\": 19627248.0, \"count\": 1, \"min\": 19627248, \"max\": 19627248}, \"deserialize_model.time\": {\"sum\": 295.2864170074463, \"count\": 1, \"min\": 295.2864170074463, \"max\": 295.2864170074463}}}\u001b[0m\n",
      "\u001b[34m[05/11/2025 15:38:28 INFO 140027402561344] ...model loaded.\u001b[0m\n",
      "\u001b[34m[2025-05-11 15:38:28 +0000] [1] [INFO] Starting gunicorn 20.1.0\u001b[0m\n",
      "\u001b[34m[2025-05-11 15:38:28 +0000] [1] [INFO] Listening at: http://0.0.0.0:8080 (1)\u001b[0m\n",
      "\u001b[32m[05/11/2025 15:38:28 INFO 140027402561344] loaded entry point class algorithm.serve.server_config:config_api\u001b[0m\n",
      "\u001b[32m[05/11/2025 15:38:28 INFO 140027402561344] loading entry points\u001b[0m\n",
      "\u001b[32m[05/11/2025 15:38:28 INFO 140027402561344] Loaded iterator creator application/x-recordio-protobuf for content type ('application/x-recordio-protobuf', '1.0')\u001b[0m\n",
      "\u001b[32m[05/11/2025 15:38:28 INFO 140027402561344] loaded request iterator application/json\u001b[0m\n",
      "\u001b[32m[05/11/2025 15:38:28 INFO 140027402561344] loaded request iterator application/jsonlines\u001b[0m\n",
      "\u001b[32m[05/11/2025 15:38:28 INFO 140027402561344] loaded request iterator application/x-recordio-protobuf\u001b[0m\n",
      "\u001b[32m[05/11/2025 15:38:28 INFO 140027402561344] loaded request iterator text/csv\u001b[0m\n",
      "\u001b[32m[05/11/2025 15:38:28 INFO 140027402561344] loaded response encoder application/json\u001b[0m\n",
      "\u001b[32m[05/11/2025 15:38:28 INFO 140027402561344] loaded response encoder application/jsonlines\u001b[0m\n",
      "\u001b[32m[05/11/2025 15:38:28 INFO 140027402561344] loaded response encoder application/x-recordio-protobuf\u001b[0m\n",
      "\u001b[32m[05/11/2025 15:38:28 INFO 140027402561344] loaded response encoder text/csv\u001b[0m\n",
      "\u001b[32m[05/11/2025 15:38:28 INFO 140027402561344] loaded entry point class algorithm:model\u001b[0m\n",
      "\u001b[32m[05/11/2025 15:38:28 INFO 140027402561344] Loaded iterator creator application/x-recordio-protobuf for content type ('application/x-recordio-protobuf', '1.0')\u001b[0m\n",
      "\u001b[32m[05/11/2025 15:38:28 INFO 140027402561344] Number of server workers: 1\u001b[0m\n",
      "\u001b[32m[05/11/2025 15:38:28 INFO 140027402561344] loading model...\u001b[0m\n",
      "\u001b[32m[05/11/2025 15:38:28 INFO 140027402561344] Random Cut Forest model loaded.\u001b[0m\n",
      "\u001b[32mForestInfo{num_trees: 300, num_samples_in_forest: 5700, num_samples_per_tree: 19, sample_dim: 105, shingle_size: 1, trees_num_nodes: [37, 37, 37, 37, 37, 37, 37, 37, 37, 37, 37, 37, 37, 37, 37, 37, 37, 37, 37, 37, 37, 37, 37, 37, 37, 37, 37, 37, 37, 37, 37, 37, 37, 37, 37, 37, 37, 37, 37, 37, 37, 37, 37, 37, 37, 37, 37, 37, 37, 37, 37, 37, 37, 37, 37, 37, 37, 37, 37, 37, 37, 37, 37, 37, 37, 37, 37, 37, 37, 37, 37, 37, 37, 37, 37, 37, 37, 37, 37, 37, 37, 37, 37, 37, 37, 37, 37, 37, 37, 37, 37, 37, 37, 37, 37, 37, 37, 37, 37, 37, 37, 37, 37, 37, 37, 37, 37, 37, 37, 37, 37, 37, 37, 37, 37, 37, 37, 37, 37, 37, 37, 37, 37, 37, 37, 37, 37, 37, 37, 37, 37, 37, 37, 37, 37, 37, 37, 37, 37, 37, 37, 37, 37, 37, 37, 37, 37, 37, 37, 37, 37, 37, 37, 37, 37, 37, 37, 37, 37, 37, 37, 37, 37, 37, 37, 37, 37, 37, 37, 37, 37, 37, 37, 37, 37, 37, 37, 37, 37, 37, 37, 37, 37, 37, 37, 37, 37, 37, 37, 37, 37, 37, 37, 37, 37, 37, 37, 37, 37, 37, 37, 37, 37, 37, 37, 37, 37, 37, 37, 37, 37, 37, 37, 37, 37, 37, 37, 37, 37, 37, 37, 37, 37, 37, 37, 37, 37, 37, 37, 37, 37, 37, 37, 37, 37, 37, 37, 37, 37, 37, 37, 37, 37, 37, 37, 37, 37, 37, 37, 37, 37, 37, 37, 37, 37, 37, 37, 37, 37, 37, 37, 37, 37, 37, 37, 37, 37, 37, 37, 37, 37, 37, 37, 37, 37, 37, 37, 37, 37, 37, 37, 37, 37, 37, 37, 37, 37, 37, 37, 37, 37, 37, 37, 37, 37, 37, 37, 37, 37, 37, ], trees_depth: [11, 9, 7, 10, 8, 8, 8, 8, 8, 7, 11, 11, 8, 10, 10, 7, 9, 9, 7, 8, 10, 8, 10, 7, 11, 13, 12, 11, 9, 10, 11, 10, 8, 9, 7, 10, 9, 7, 10, 11, 8, 9, 9, 11, 8, 8, 8, 13, 6, 11, 8, 8, 8, 9, 9, 7, 8, 8, 8, 10, 9, 10, 8, 8, 8, 8, 7, 9, 11, 8, 8, 12, 7, 7, 8, 8, 8, 8, 7, 8, 9, 7, 8, 8, 8, 9, 9, 9, 8, 8, 9, 10, 8, 9, 9, 10, 9, 9, 8, 8, 8, 9, 8, 8, 9, 8, 7, 7, 9, 8, 7, 10, 9, 7, 9, 8, 8, 8, 9, 7, 7, 8, 8, 7, 8, 7, 9, 10, 8, 7, 9, 7, 9, 7, 10, 7, 8, 7, 7, 9, 6, 7, 11, 8, 10, 8, 8, 10, 8, 9, 9, 8, 7, 11, 9, 8, 9, 8, 8, 7, 9, 8, 8, 8, 7, 7, 8, 8, 7, 11, 7, 6, 8, 8, 11, 9, 8, 10, 8, 10, 8, 8, 9, 8, 11, 8, 8, 9, 8, 8, 9, 11, 11, 8, 7, 8, 8, 9, 9, 9, 8, 8, 9, 11, 8, 9, 8, 7, 9, 8, 9, 8, 7, 8, 10, 7, 10, 10, 10, 10, 8, 10, 9, 13, 10, 9, 9, 8, 9, 8, 10, 8, 10, 8, 8, 9, 10, 9, 7, 7, 8, 9, 9, 9, 9, 8, 9, 8, 10, 11, 9, 9, 9, 10, 6, 9, 8, 10, 9, 7, 8, 11, 7, 9, 9, 8, 11, 6, 8, 8, 8, 9, 9, 9, 10, 8, 9, 9, 10, 8, 8, 7, 10, 8, 7, 9, 9, 7, 7, 8, 10, 9, 7, 8, 8, 8, 10, 7, 10, 7, ], max_num_nodes: 37, min_num_nodes: 37, avg_num_nodes: 37, max_tree_depth: 13, min_tree_depth: 6, avg_tree_depth: 8, mem_size: 19627248}\u001b[0m\n",
      "\u001b[32m#metrics {\"StartTime\": 1746977907.9938138, \"EndTime\": 1746977908.7597666, \"Dimensions\": {}, \"Metrics\": {\"model.bytes\": {\"sum\": 19627248.0, \"count\": 1, \"min\": 19627248, \"max\": 19627248}, \"deserialize_model.time\": {\"sum\": 295.2864170074463, \"count\": 1, \"min\": 295.2864170074463, \"max\": 295.2864170074463}}}\u001b[0m\n",
      "\u001b[32m[05/11/2025 15:38:28 INFO 140027402561344] ...model loaded.\u001b[0m\n",
      "\u001b[32m[2025-05-11 15:38:28 +0000] [1] [INFO] Starting gunicorn 20.1.0\u001b[0m\n",
      "\u001b[32m[2025-05-11 15:38:28 +0000] [1] [INFO] Listening at: http://0.0.0.0:8080 (1)\u001b[0m\n",
      "\u001b[34m[2025-05-11 15:38:28 +0000] [1] [INFO] Using worker: sync\u001b[0m\n",
      "\u001b[34m[2025-05-11 15:38:28 +0000] [42] [INFO] Booting worker with pid: 42\u001b[0m\n",
      "\u001b[34m#metrics {\"StartTime\": 1746977908.7601204, \"EndTime\": 1746977909.0106678, \"Dimensions\": {\"Algorithm\": \"RandomCutForestModel\", \"Host\": \"UNKNOWN\", \"Operation\": \"scoring\"}, \"Metrics\": {\"execution_parameters.count\": {\"sum\": 1.0, \"count\": 1, \"min\": 1, \"max\": 1}}}\u001b[0m\n",
      "\u001b[32m[2025-05-11 15:38:28 +0000] [1] [INFO] Using worker: sync\u001b[0m\n",
      "\u001b[32m[2025-05-11 15:38:28 +0000] [42] [INFO] Booting worker with pid: 42\u001b[0m\n",
      "\u001b[32m#metrics {\"StartTime\": 1746977908.7601204, \"EndTime\": 1746977909.0106678, \"Dimensions\": {\"Algorithm\": \"RandomCutForestModel\", \"Host\": \"UNKNOWN\", \"Operation\": \"scoring\"}, \"Metrics\": {\"execution_parameters.count\": {\"sum\": 1.0, \"count\": 1, \"min\": 1, \"max\": 1}}}\u001b[0m\n",
      "\u001b[33m#metrics {\"StartTime\": 1746977901.9988713, \"EndTime\": 1746977910.0345762, \"Dimensions\": {\"Algorithm\": \"RandomCutForestModel\", \"Host\": \"UNKNOWN\", \"Operation\": \"scoring\"}, \"Metrics\": {\"execution_parameters.count\": {\"sum\": 1.0, \"count\": 1, \"min\": 1, \"max\": 1}}}\u001b[0m\n",
      "\u001b[35m2025-05-11T15:38:29.018:[sagemaker logs]: MaxConcurrentTransforms=1, MaxPayloadInMB=6, BatchStrategy=MULTI_RECORD\u001b[0m\n",
      "\u001b[36m2025-05-11T15:38:29.018:[sagemaker logs]: MaxConcurrentTransforms=1, MaxPayloadInMB=6, BatchStrategy=MULTI_RECORD\u001b[0m\n",
      "\u001b[34m2025-05-11T15:38:30.038:[sagemaker logs]: MaxConcurrentTransforms=1, MaxPayloadInMB=6, BatchStrategy=MULTI_RECORD\u001b[0m\n",
      "\u001b[34m#metrics {\"StartTime\": 1746977909.0107963, \"EndTime\": 1746977911.9908237, \"Dimensions\": {\"Algorithm\": \"RandomCutForestModel\", \"Host\": \"UNKNOWN\", \"Operation\": \"scoring\"}, \"Metrics\": {\"evaluate.time\": {\"sum\": 2432.21378326416, \"count\": 1, \"min\": 2432.21378326416, \"max\": 2432.21378326416}}}\u001b[0m\n",
      "\u001b[34m#metrics {\"StartTime\": 1746977911.990913, \"EndTime\": 1746977911.9962823, \"Dimensions\": {\"Algorithm\": \"RandomCutForestModel\", \"Host\": \"UNKNOWN\", \"Operation\": \"scoring\"}, \"Metrics\": {\"csv.encoder.time\": {\"sum\": 5.197048187255859, \"count\": 1, \"min\": 5.197048187255859, \"max\": 5.197048187255859}, \"invocations.count\": {\"sum\": 1.0, \"count\": 1, \"min\": 1, \"max\": 1}}}\u001b[0m\n",
      "\u001b[32m#metrics {\"StartTime\": 1746977909.0107963, \"EndTime\": 1746977911.9908237, \"Dimensions\": {\"Algorithm\": \"RandomCutForestModel\", \"Host\": \"UNKNOWN\", \"Operation\": \"scoring\"}, \"Metrics\": {\"evaluate.time\": {\"sum\": 2432.21378326416, \"count\": 1, \"min\": 2432.21378326416, \"max\": 2432.21378326416}}}\u001b[0m\n",
      "\u001b[32m#metrics {\"StartTime\": 1746977911.990913, \"EndTime\": 1746977911.9962823, \"Dimensions\": {\"Algorithm\": \"RandomCutForestModel\", \"Host\": \"UNKNOWN\", \"Operation\": \"scoring\"}, \"Metrics\": {\"csv.encoder.time\": {\"sum\": 5.197048187255859, \"count\": 1, \"min\": 5.197048187255859, \"max\": 5.197048187255859}, \"invocations.count\": {\"sum\": 1.0, \"count\": 1, \"min\": 1, \"max\": 1}}}\u001b[0m\n",
      "\n",
      "df_all shape (5745, 1)\n",
      "✅ Saved batch 1/1 to s3://s3-assetcare-bucket/features_store/evaluation/DWA_DSU_DC_VOLTAGE_cluster-2_20250511_153236/part_0000.csv\n",
      "🏃 View run DWA_DSU_DC_VOLTAGE_cluster-2 at: https://ap-southeast-1.experiments.sagemaker.aws/#/experiments/21/runs/f59b6687505b422f892d4dc4bcd968c4\n",
      "🧪 View experiment at: https://ap-southeast-1.experiments.sagemaker.aws/#/experiments/21\n"
     ]
    }
   ],
   "source": [
    "for i in range(len(filtered_df)):\n",
    "    current_time = get_current_timestamp_string()\n",
    "\n",
    "    # for each runID - which has trained model\n",
    "    # 1. Get the input params for evaluate\n",
    "    model_path = filtered_df.iloc[i][\"Model Path\"]\n",
    "    s3_input_scored = filtered_df.iloc[i][\"Dataset path: S3 Input Scored\"]\n",
    "    s3_input_evaluation = filtered_df.iloc[i][\"Dataset path: S3 Input Evaluation\"]\n",
    "    tag_analog = filtered_df.iloc[i][\"Analog Tag name\"]\n",
    "    cluster_nr = filtered_df.iloc[i][\"Cluster Nr\"]\n",
    "    saved_result = filtered_df.iloc[i][\"saved_result\"]\n",
    "    \n",
    "    prefix = s3_input_scored.replace(\"s3://\", \"\").replace(bucket, \"\")[1:]\n",
    "    file_list = list_files_in_s3_folder(bucket=bucket, prefix=prefix, end_with_csv=True)\n",
    "\n",
    "    prefix_evaluation = s3_input_evaluation.replace(\"s3://\", \"\").replace(bucket, \"\")[1:]\n",
    "    file_list_evaluation = list_files_in_s3_folder(bucket=bucket, prefix=prefix_evaluation)\n",
    "    \n",
    "    # 2. Evaluation\n",
    "    # get newest container of Random Cut Forest on SageMaker\n",
    "    rcf_container = sagemaker.image_uris.retrieve(\"randomcutforest\", region)\n",
    "    \n",
    "    # Load model từ S3\n",
    "    rcf_model = Model(\n",
    "        image_uri=rcf_container,  # use container SageMaker Random Cut Forest\n",
    "        model_data=model_path,  # path to model on S3\n",
    "        role=role,\n",
    "        sagemaker_session=sagemaker_session\n",
    "    )\n",
    "\n",
    "    for idx in range(len(file_list)):\n",
    "        feature_s3_path = f's3://{bucket}/{prefix}part_{idx:04d}.csv'\n",
    "        output_path = f\"s3://{bucket}/{prefix}anomaly_scores/\"\n",
    "        \n",
    "        transformer = rcf_model.transformer(\n",
    "            instance_count=2,\n",
    "            instance_type=\"ml.m5.xlarge\",\n",
    "            output_path=output_path,\n",
    "            assemble_with=\"Line\",\n",
    "            accept=\"text/csv\"\n",
    "        )\n",
    "        \n",
    "        # run prediction for data on S3\n",
    "        transformer.transform(feature_s3_path, content_type=\"text/csv\", split_type=\"Line\", wait=True)\n",
    "\n",
    "    # 3. Read anomaly score and merge as one result file\n",
    "    # output file list\n",
    "    output_file_list = list_files_in_s3_folder(bucket, prefix+\"anomaly_scores/\")\n",
    "    df_all = load_csv_files([f\"s3://{bucket}/{i}\" for i in output_file_list])\n",
    "    print(\"df_all shape\", df_all.shape)\n",
    "\n",
    "    evaluation_file_list = list_files_in_s3_folder(bucket, prefix+\"anomaly_scores/\")\n",
    "    df_origin = load_csv_files([f\"s3://{bucket}/{i}\" for i in file_list_evaluation])\n",
    "    df_origin.columns = [\"values\", \"time_utc\"]\n",
    "    df_origin[\"anomaly_scores\"] = df_all[0]\n",
    "    df_origin[\"tag_name\"] = tag_analog\n",
    "    default_threshold = round(max(df_origin[\"anomaly_scores\"]))\n",
    "    # df_origin['prediction'] = (df_origin['anomaly_scores'] > default_threshold).astype(bool)\n",
    "    df_origin['prediction'] = False\n",
    "\n",
    "    # save merged result to S3 bucket\n",
    "    s3_RCF_training_result = f\"s3://s3-assetcare-bucket/features_store/evaluation/{tag_analog}_cluster-{cluster_nr}_{current_time}/\"\n",
    "    save_dataframe_to_s3_in_batches(df=df_origin, \n",
    "                                s3_path_prefix=s3_RCF_training_result, \n",
    "                                header = True)\n",
    "    \n",
    "    \n",
    "    with mlflow.start_run(run_name=f\"{tag_analog}_cluster-{cluster_nr}\"):\n",
    "        mlflow.log_param(\"Analog Tag name\", tag_analog)\n",
    "        mlflow.log_param(\"Cluster Nr\", cluster_nr)\n",
    "        mlflow.log_param(\"Model loading from\", model_path)\n",
    "        mlflow.log_param(\"Dataset path: S3 Input Scored\", s3_input_scored)\n",
    "        mlflow.log_param(\"Dataset path: S3 Input Evaluation\", s3_input_evaluation)\n",
    "        mlflow.log_param(\"Input File list\", file_list)\n",
    "        mlflow.log_param(\"Output File list\", output_file_list)\n",
    "        mlflow.log_param(\"Default Threshold\", default_threshold)\n",
    "        mlflow.log_param(\"Dataset: Output Training path\", s3_RCF_training_result)\n",
    "        # mlflow.log_param(\"\", )\n"
   ]
  },
  {
   "cell_type": "code",
   "execution_count": null,
   "id": "e76d5eeb-ad75-458f-b81d-279f25e93dfe",
   "metadata": {},
   "outputs": [],
   "source": []
  },
  {
   "cell_type": "code",
   "execution_count": null,
   "id": "5f00eab1-17b6-4a8a-8997-d7312328a9c7",
   "metadata": {},
   "outputs": [],
   "source": []
  },
  {
   "cell_type": "code",
   "execution_count": null,
   "id": "209fc270-7abd-454b-b4b2-22ae826cebdf",
   "metadata": {},
   "outputs": [],
   "source": []
  },
  {
   "cell_type": "code",
   "execution_count": null,
   "id": "8bdd3fa6-58f2-46d3-879c-dac0ce51c580",
   "metadata": {},
   "outputs": [],
   "source": []
  },
  {
   "cell_type": "code",
   "execution_count": null,
   "id": "2f795a37-9605-4f1a-ab38-43c48370d897",
   "metadata": {},
   "outputs": [],
   "source": []
  },
  {
   "cell_type": "code",
   "execution_count": null,
   "id": "e2fb7745-74fb-4ce5-b90b-c8403a7dea63",
   "metadata": {},
   "outputs": [],
   "source": []
  }
 ],
 "metadata": {
  "kernelspec": {
   "display_name": "Python 3 (ipykernel)",
   "language": "python",
   "name": "python3"
  },
  "language_info": {
   "codemirror_mode": {
    "name": "ipython",
    "version": 3
   },
   "file_extension": ".py",
   "mimetype": "text/x-python",
   "name": "python",
   "nbconvert_exporter": "python",
   "pygments_lexer": "ipython3",
   "version": "3.11.11"
  }
 },
 "nbformat": 4,
 "nbformat_minor": 5
}
