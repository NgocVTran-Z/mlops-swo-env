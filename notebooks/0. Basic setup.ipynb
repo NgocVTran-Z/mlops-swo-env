{
 "cells": [
  {
   "cell_type": "code",
   "execution_count": 1,
   "id": "78114ea5-7dfc-4efa-bf7a-1335f0309ca0",
   "metadata": {},
   "outputs": [],
   "source": [
    "import pandas as pd\n",
    "import sys\n",
    "\n",
    "import os\n",
    "sys.path.append(os.path.abspath(\"..\"))"
   ]
  },
  {
   "cell_type": "code",
   "execution_count": 2,
   "id": "259b1094-724e-457e-ad26-208b1a71ff4f",
   "metadata": {},
   "outputs": [],
   "source": [
    "import s3fs\n",
    "from typing import List\n",
    "\n",
    "from utils.common import *\n",
    "from config.params import *\n",
    "from preprocessing.transform import transform, tracking_transforming_input\n",
    "from preprocessing.intervals import get_interval_from_transformed"
   ]
  },
  {
   "cell_type": "code",
   "execution_count": 3,
   "id": "ebf2eb3e-5098-416c-9b8e-70e43bfbd74a",
   "metadata": {},
   "outputs": [],
   "source": [
    "from datetime import datetime"
   ]
  },
  {
   "cell_type": "code",
   "execution_count": 4,
   "id": "27d06e01-5e99-4d17-9736-bb1a0678697f",
   "metadata": {},
   "outputs": [],
   "source": [
    "from pyarrow.dataset import field"
   ]
  },
  {
   "cell_type": "code",
   "execution_count": 5,
   "id": "779ab82b-85bf-445b-8dd4-115d31860c4f",
   "metadata": {},
   "outputs": [
    {
     "name": "stdout",
     "output_type": "stream",
     "text": [
      "sagemaker.config INFO - Not applying SDK defaults from location: /etc/xdg/sagemaker/config.yaml\n",
      "sagemaker.config INFO - Not applying SDK defaults from location: /home/sagemaker-user/.config/sagemaker/config.yaml\n"
     ]
    }
   ],
   "source": [
    "import sagemaker\n",
    "from sagemaker import get_execution_role"
   ]
  },
  {
   "cell_type": "code",
   "execution_count": 6,
   "id": "58f722f6-950f-4dc6-965c-6142c66d9b75",
   "metadata": {},
   "outputs": [],
   "source": [
    "import mlflow"
   ]
  },
  {
   "cell_type": "code",
   "execution_count": 7,
   "id": "b54ec9ec-c1cc-4bad-a014-096e546d05f4",
   "metadata": {},
   "outputs": [],
   "source": [
    "# Define session, role, and region so we can\n",
    "# perform any SageMaker tasks we need\n",
    "sagemaker_session = sagemaker.Session()\n",
    "role = get_execution_role()\n",
    "region = sagemaker_session.boto_region_name"
   ]
  },
  {
   "cell_type": "code",
   "execution_count": 8,
   "id": "2a838781-b67a-443c-b11b-46ee36d9b5a0",
   "metadata": {},
   "outputs": [],
   "source": [
    "# Provide the ARN of the tracking server that you want to track your training job with\n",
    "tracking_server_arn = 'arn:aws:sagemaker:ap-southeast-1:771463264346:mlflow-tracking-server/mlflow-RCF-server'"
   ]
  },
  {
   "cell_type": "code",
   "execution_count": 9,
   "id": "96f34685-084c-4e0c-82c8-a4ab1c36e9b4",
   "metadata": {},
   "outputs": [],
   "source": [
    "mlflow.set_tracking_uri(tracking_server_arn)"
   ]
  },
  {
   "cell_type": "code",
   "execution_count": null,
   "id": "18e134d5-528d-47dd-a213-aec550dd2ea4",
   "metadata": {},
   "outputs": [],
   "source": []
  },
  {
   "cell_type": "markdown",
   "id": "8ec77448-7518-432a-8af9-695bf7aca52d",
   "metadata": {},
   "source": [
    "### Set Running hierarchy"
   ]
  },
  {
   "cell_type": "code",
   "execution_count": 10,
   "id": "8b02d74a-6dae-4069-b786-65e3f957cbd5",
   "metadata": {},
   "outputs": [
    {
     "data": {
      "text/plain": [
       "<Experiment: artifact_location='s3://s3-assetcare-bucket/mlflow_server/15', creation_time=1745211450331, experiment_id='15', last_update_time=1745211450331, lifecycle_stage='active', name='1. Regular Interval', tags={}>"
      ]
     },
     "execution_count": 10,
     "metadata": {},
     "output_type": "execute_result"
    }
   ],
   "source": [
    "# Step 1: Set experiment name\n",
    "experiment_name = \"1. Regular Interval\"\n",
    "mlflow.set_experiment(experiment_name)"
   ]
  },
  {
   "cell_type": "code",
   "execution_count": null,
   "id": "86bfa799-ae9f-4e09-98a6-617612b088d1",
   "metadata": {},
   "outputs": [],
   "source": []
  },
  {
   "cell_type": "markdown",
   "id": "2740e9ad-5d2d-4c57-9a2c-fe22f2dcd2b5",
   "metadata": {},
   "source": [
    "#### 1.1 run "
   ]
  },
  {
   "cell_type": "code",
   "execution_count": 11,
   "id": "092a2347-e1db-4dc5-83fa-07c193a88dc3",
   "metadata": {},
   "outputs": [
    {
     "name": "stdout",
     "output_type": "stream",
     "text": [
      "🏃 View run 1.1.1 DWA_INTERTER_RUNNING_052739 at: https://ap-southeast-1.experiments.sagemaker.aws/#/experiments/15/runs/d4170c61186d43fa9ab9adb939db681e\n",
      "🧪 View experiment at: https://ap-southeast-1.experiments.sagemaker.aws/#/experiments/15\n",
      "🏃 View run 1.1 Digital Input at: https://ap-southeast-1.experiments.sagemaker.aws/#/experiments/15/runs/cbce41982cc54fa1b2662df3be9b8fbf\n",
      "🧪 View experiment at: https://ap-southeast-1.experiments.sagemaker.aws/#/experiments/15\n"
     ]
    }
   ],
   "source": [
    "# Step 2: Create run parent\n",
    "with mlflow.start_run(run_name=\"1.1 Digital Input\") as parent_run:\n",
    "    parent_run_id = parent_run.info.run_id\n",
    "\n",
    "    # current_time định dạng tùy bạn (ví dụ HHMMSS)\n",
    "    current_time = datetime.now().strftime(\"%H%M%S\")\n",
    "\n",
    "    # Step 3: Create nested run (child)\n",
    "    with mlflow.start_run(run_name=f\"1.1.1 DWA_INTERTER_RUNNING_{current_time}\", nested=True):\n",
    "        mlflow.log_param(\"tag_name\", \"DWA_INTERTER_RUNNING\")\n",
    "        mlflow.log_metric(\"value_count\", 1234)"
   ]
  },
  {
   "cell_type": "code",
   "execution_count": null,
   "id": "c47df3a7-8c59-413a-8352-850613e7b128",
   "metadata": {},
   "outputs": [],
   "source": []
  },
  {
   "cell_type": "code",
   "execution_count": 12,
   "id": "60517f94-50c0-437a-bbc3-dea07b342edc",
   "metadata": {},
   "outputs": [
    {
     "name": "stdout",
     "output_type": "stream",
     "text": [
      "🏃 View run 1.1.2 DWC_INTERTER_RUNNING_052739 at: https://ap-southeast-1.experiments.sagemaker.aws/#/experiments/15/runs/7e610ce90df04003a003720772562658\n",
      "🧪 View experiment at: https://ap-southeast-1.experiments.sagemaker.aws/#/experiments/15\n",
      "🏃 View run 1.1 Digital Input at: https://ap-southeast-1.experiments.sagemaker.aws/#/experiments/15/runs/a5aa7bac83c54d9590e0fce6392af647\n",
      "🧪 View experiment at: https://ap-southeast-1.experiments.sagemaker.aws/#/experiments/15\n"
     ]
    }
   ],
   "source": [
    "# Run ID của run cha đã tồn tại\n",
    "parent_run_id = \"a5aa7bac83c54d9590e0fce6392af647\" # 1.1 run ID\n",
    "\n",
    "# init current_time (or put it as input name)\n",
    "current_time = datetime.now().strftime(\"%H%M%S\")\n",
    "\n",
    "# open run and add sub-run\n",
    "with mlflow.start_run(run_id=parent_run_id):\n",
    "    with mlflow.start_run(run_name=f\"1.1.2 DWC_INTERTER_RUNNING_{current_time}\", nested=True):\n",
    "        mlflow.log_param(\"tag_name\", \"DWA_INTERTER_RUNNING\")\n",
    "        mlflow.log_metric(\"value_count\", 9999)"
   ]
  },
  {
   "cell_type": "code",
   "execution_count": null,
   "id": "d554834b-4c96-47ac-a01c-50ff7db70ede",
   "metadata": {},
   "outputs": [],
   "source": []
  },
  {
   "cell_type": "code",
   "execution_count": null,
   "id": "01c24b71-cc13-4237-b977-1cba83747c54",
   "metadata": {},
   "outputs": [],
   "source": []
  },
  {
   "cell_type": "markdown",
   "id": "09f54638-52b1-4e84-995f-a28078697e09",
   "metadata": {},
   "source": [
    "#### 1.2 run"
   ]
  },
  {
   "cell_type": "code",
   "execution_count": 13,
   "id": "4e82be65-ff90-466b-910f-daa8f61572ad",
   "metadata": {},
   "outputs": [],
   "source": [
    "analog_tag_name = \"DWA_EXHAUST_TEMP\""
   ]
  },
  {
   "cell_type": "code",
   "execution_count": 14,
   "id": "068bc957-639b-4b58-a5d2-396d95bc352e",
   "metadata": {},
   "outputs": [
    {
     "name": "stdout",
     "output_type": "stream",
     "text": [
      "🏃 View run DWA_EXHAUST_TEMP_052740 at: https://ap-southeast-1.experiments.sagemaker.aws/#/experiments/15/runs/9b2d623181be42a88ac0f624b1d45ae4\n",
      "🧪 View experiment at: https://ap-southeast-1.experiments.sagemaker.aws/#/experiments/15\n",
      "🏃 View run 1.2 Analog Input at: https://ap-southeast-1.experiments.sagemaker.aws/#/experiments/15/runs/624ec68b15e74481965d0e34e05a0bb8\n",
      "🧪 View experiment at: https://ap-southeast-1.experiments.sagemaker.aws/#/experiments/15\n"
     ]
    }
   ],
   "source": [
    "# Step 3: Create run parent\n",
    "with mlflow.start_run(run_name=\"1.2 Analog Input\") as parent_run:\n",
    "    parent_run_id = parent_run.info.run_id\n",
    "\n",
    "    # current_time định dạng tùy bạn (ví dụ HHMMSS)\n",
    "    current_time = datetime.now().strftime(\"%H%M%S\")\n",
    "\n",
    "    # Step 3: Create nested run (child)\n",
    "    with mlflow.start_run(run_name=f\"{analog_tag_name}_{current_time}\", nested=True):\n",
    "        mlflow.log_param(\"tag_name\", f\"{analog_tag_name}\")\n",
    "        mlflow.log_metric(\"value_count\", 1234)"
   ]
  },
  {
   "cell_type": "code",
   "execution_count": null,
   "id": "aaaea5ea-3344-4df7-9edb-aa699dcac09e",
   "metadata": {},
   "outputs": [],
   "source": []
  },
  {
   "cell_type": "markdown",
   "id": "84ee9eb7-f418-47e4-bc08-0db9b186634f",
   "metadata": {},
   "source": [
    "#### 1.3 run"
   ]
  },
  {
   "cell_type": "code",
   "execution_count": 15,
   "id": "611e85e9-4d8b-4648-812c-85f523c71fd1",
   "metadata": {},
   "outputs": [],
   "source": [
    "speed_tag_name = \"DWA_ACTUAL_MOTOR_SPEED\"\n"
   ]
  },
  {
   "cell_type": "code",
   "execution_count": 16,
   "id": "c47955ca-d75d-400c-9834-01d7dc6929f8",
   "metadata": {},
   "outputs": [
    {
     "name": "stdout",
     "output_type": "stream",
     "text": [
      "🏃 View run DWA_ACTUAL_MOTOR_SPEED_052741 at: https://ap-southeast-1.experiments.sagemaker.aws/#/experiments/15/runs/afa762b0096d403eacb3069bc8cc6556\n",
      "🧪 View experiment at: https://ap-southeast-1.experiments.sagemaker.aws/#/experiments/15\n",
      "🏃 View run 1.3 Speed Tag Names at: https://ap-southeast-1.experiments.sagemaker.aws/#/experiments/15/runs/2351d41a2a1441a0b110a3ba76613c81\n",
      "🧪 View experiment at: https://ap-southeast-1.experiments.sagemaker.aws/#/experiments/15\n"
     ]
    }
   ],
   "source": [
    "# Step 3: Create run parent\n",
    "with mlflow.start_run(run_name=\"1.3 Speed Tag Names\") as parent_run:\n",
    "    parent_run_id = parent_run.info.run_id\n",
    "\n",
    "    # current_time định dạng tùy bạn (ví dụ HHMMSS)\n",
    "    current_time = datetime.now().strftime(\"%H%M%S\")\n",
    "\n",
    "    # Step 3: Create nested run (child)\n",
    "    with mlflow.start_run(run_name=f\"{speed_tag_name}_{current_time}\", nested=True):\n",
    "        mlflow.log_param(\"tag_name\", f\"{speed_tag_name}\")\n",
    "        mlflow.log_metric(\"value_count\", 1234)"
   ]
  },
  {
   "cell_type": "code",
   "execution_count": null,
   "id": "8cde4903-9e60-4d90-a863-975528271673",
   "metadata": {},
   "outputs": [],
   "source": []
  },
  {
   "cell_type": "code",
   "execution_count": 17,
   "id": "48284c25-8c87-4ef8-8175-cd3480c8e8e3",
   "metadata": {},
   "outputs": [],
   "source": [
    "run_id = \"3ab16e5e1fe24392875d6d7d7710680a\""
   ]
  },
  {
   "cell_type": "code",
   "execution_count": 18,
   "id": "2f412c75-5332-4dca-a28a-6d5a9bbc5e52",
   "metadata": {},
   "outputs": [],
   "source": [
    "speed_tag_name = \"DWB_ACTUAL_MOTOR_SPEED\"\n",
    "# speed_tag_name = \"DWC_ACTUAL_MOTOR_SPEED\""
   ]
  },
  {
   "cell_type": "code",
   "execution_count": 19,
   "id": "1906dae7-927d-484f-8d31-e43552e5bfd5",
   "metadata": {},
   "outputs": [
    {
     "name": "stdout",
     "output_type": "stream",
     "text": [
      "🏃 View run DWB_ACTUAL_MOTOR_SPEED_052741 at: https://ap-southeast-1.experiments.sagemaker.aws/#/experiments/15/runs/e9c7caafa9bc48d2b555809aa867795e\n",
      "🧪 View experiment at: https://ap-southeast-1.experiments.sagemaker.aws/#/experiments/15\n",
      "🏃 View run 1.3 Speed Tag Names at: https://ap-southeast-1.experiments.sagemaker.aws/#/experiments/15/runs/2351d41a2a1441a0b110a3ba76613c81\n",
      "🧪 View experiment at: https://ap-southeast-1.experiments.sagemaker.aws/#/experiments/15\n"
     ]
    }
   ],
   "source": [
    "# open existing run and add sub-run\n",
    "with mlflow.start_run(run_id=parent_run_id):\n",
    "    with mlflow.start_run(run_name=f\"{speed_tag_name}_{current_time}\", nested=True):\n",
    "        mlflow.log_param(\"tag_name\", f\"{speed_tag_name}\")\n",
    "        mlflow.log_metric(\"value_count\", 9999)"
   ]
  },
  {
   "cell_type": "code",
   "execution_count": null,
   "id": "63624672-437f-4bd9-afb1-cb92f7249bfe",
   "metadata": {},
   "outputs": [],
   "source": []
  },
  {
   "cell_type": "code",
   "execution_count": null,
   "id": "2236c4e5-0fbe-4c32-a67a-f1d5029bfbf9",
   "metadata": {},
   "outputs": [],
   "source": []
  },
  {
   "cell_type": "code",
   "execution_count": null,
   "id": "1c35b42f-3fae-46e3-a4e3-af3610584de6",
   "metadata": {},
   "outputs": [],
   "source": []
  },
  {
   "cell_type": "code",
   "execution_count": null,
   "id": "673eb291-3f0f-4449-b942-7764de1b0044",
   "metadata": {},
   "outputs": [],
   "source": []
  },
  {
   "cell_type": "code",
   "execution_count": null,
   "id": "7a2ffcf5-4a1e-40aa-8f40-6d76304f193e",
   "metadata": {},
   "outputs": [],
   "source": []
  },
  {
   "cell_type": "code",
   "execution_count": null,
   "id": "97015615-605c-411c-9c10-997c245f90f0",
   "metadata": {},
   "outputs": [],
   "source": []
  },
  {
   "cell_type": "code",
   "execution_count": null,
   "id": "8d510f85-e20a-440a-8a27-a44479889354",
   "metadata": {},
   "outputs": [],
   "source": []
  },
  {
   "cell_type": "code",
   "execution_count": null,
   "id": "e345d1c8-3467-4564-b2bb-b2a2d44e3acc",
   "metadata": {},
   "outputs": [],
   "source": []
  },
  {
   "cell_type": "code",
   "execution_count": null,
   "id": "be2e8a7f-75ec-4d9a-8ace-c3896853b6ae",
   "metadata": {},
   "outputs": [],
   "source": []
  },
  {
   "cell_type": "code",
   "execution_count": null,
   "id": "ad04bb57-a71a-4752-a809-9f8e90254186",
   "metadata": {},
   "outputs": [],
   "source": []
  }
 ],
 "metadata": {
  "kernelspec": {
   "display_name": "Python 3 (ipykernel)",
   "language": "python",
   "name": "python3"
  },
  "language_info": {
   "codemirror_mode": {
    "name": "ipython",
    "version": 3
   },
   "file_extension": ".py",
   "mimetype": "text/x-python",
   "name": "python",
   "nbconvert_exporter": "python",
   "pygments_lexer": "ipython3",
   "version": "3.11.11"
  }
 },
 "nbformat": 4,
 "nbformat_minor": 5
}
