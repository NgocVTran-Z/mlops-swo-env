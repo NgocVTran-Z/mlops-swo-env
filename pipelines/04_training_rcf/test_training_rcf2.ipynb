{
 "cells": [
  {
   "cell_type": "code",
   "execution_count": 1,
   "id": "5cbf435c-f14c-4550-99be-1cce0019640b",
   "metadata": {},
   "outputs": [],
   "source": [
    "# from params import *"
   ]
  },
  {
   "cell_type": "code",
   "execution_count": 2,
   "id": "954ecdae-4e69-457f-a426-e484ab2dba4b",
   "metadata": {},
   "outputs": [],
   "source": [
    "# bucket_name = \"s3-assetcare-bucket\"\n",
    "\n",
    "# folder_prefix_parquet = \"raw_data/\"\n",
    "# folder_prefix_csv = \"raw_data_csv/\"\n",
    "\n",
    "# folder_prefix_test = \"test_training_data/\"\n"
   ]
  },
  {
   "cell_type": "code",
   "execution_count": 1,
   "id": "a6ed5b11-9c85-4b1c-92bd-263092c5b83a",
   "metadata": {},
   "outputs": [],
   "source": [
    "import boto3\n",
    "import pandas as pd\n",
    "import numpy as np\n",
    "import random\n",
    "import io"
   ]
  },
  {
   "cell_type": "code",
   "execution_count": null,
   "id": "25bab869-5f2d-44d1-947b-0180b7a4493b",
   "metadata": {},
   "outputs": [],
   "source": []
  },
  {
   "cell_type": "markdown",
   "id": "aa918189-cb7a-4140-80bf-e262bf38b017",
   "metadata": {},
   "source": [
    "### gen data"
   ]
  },
  {
   "cell_type": "code",
   "execution_count": 2,
   "id": "cd3d9a8b-e2fa-4f99-9864-0e2f19958fb5",
   "metadata": {},
   "outputs": [],
   "source": [
    "# Thông tin S3\n",
    "# s3_bucket = \"s3-assetcare-bucket\"\n",
    "# s3_prefix = \"test_training_data/\"  # Thư mục trong bucket\n",
    "s3_bucket = \"swo-ngoctran-public\"\n",
    "s3_prefix = \"mlops/raw_data/2024-01/\"  # Thư mục trong bucket\n",
    "\n",
    "# s3://swo-ngoctran-public/mlops/raw_data/2024-01/sample_.parquet"
   ]
  },
  {
   "cell_type": "code",
   "execution_count": 3,
   "id": "c571f9cc-f095-43ae-b488-e214e676021d",
   "metadata": {},
   "outputs": [],
   "source": [
    "# Khởi tạo client S3\n",
    "s3_client = boto3.client(\"s3\")"
   ]
  },
  {
   "cell_type": "code",
   "execution_count": 4,
   "id": "7c0ad1fb-d157-4443-b5a0-b1e5ba720924",
   "metadata": {},
   "outputs": [],
   "source": [
    "# # Hàm tạo dữ liệu ngẫu nhiên và upload lên S3\n",
    "# def generate_and_upload_csv(file_name, num_rows):\n",
    "#     # Tạo dữ liệu giả lập\n",
    "#     data = {\n",
    "#         \"feature_1\": np.random.rand(num_rows) * 100,\n",
    "#         \"feature_2\": np.random.rand(num_rows) * 50,\n",
    "#         \"feature_3\": np.random.randint(1, 100, num_rows),\n",
    "#         \"feature_4\": np.random.normal(50, 10, num_rows),\n",
    "#         \"feature_5\": np.random.choice([0, 1], num_rows)  # Nhị phân\n",
    "#     }\n",
    "    \n",
    "#     df = pd.DataFrame(data)\n",
    "    \n",
    "#     # Chuyển DataFrame thành buffer CSV (⚠️ Không ghi header)\n",
    "#     csv_buffer = io.StringIO()\n",
    "#     df.to_csv(csv_buffer, index=False, header=False)  # header=False để tránh lỗi\n",
    "\n",
    "#     # Upload lên S3\n",
    "#     s3_client.put_object(\n",
    "#         Bucket=s3_bucket,\n",
    "#         Key=f\"{s3_prefix}{file_name}\",\n",
    "#         Body=csv_buffer.getvalue()\n",
    "#     )\n",
    "    \n",
    "#     print(f\"✅ Đã upload {file_name} lên S3: s3://{s3_bucket}/{s3_prefix}{file_name}\")\n",
    "\n",
    "#------------------------------------------------------------------\n",
    "# Hàm tạo dữ liệu ngẫu nhiên và upload lên S3\n",
    "def generate_and_upload_csv(file_name, num_rows):\n",
    "    # Tạo dữ liệu giả lập\n",
    "    data = {\n",
    "        \"feature_1\": np.random.rand(num_rows) * 100,\n",
    "        \"feature_2\": np.random.rand(num_rows) * 50,\n",
    "        \"feature_3\": np.random.randint(1, 100, num_rows),\n",
    "        \"feature_4\": np.random.normal(50, 10, num_rows),\n",
    "        \"feature_5\": np.random.choice([0.01, 1.0, 2.0, 3.0], num_rows),  # Nhị phân\n",
    "        \"feature_6\": np.random.normal(50, 10, num_rows),\n",
    "    }\n",
    "    \n",
    "    df = pd.DataFrame(data)\n",
    "\n",
    "    # **Xóa bất kỳ dòng nào bị thiếu cột**\n",
    "    df.dropna(inplace=True)\n",
    "    df = df.astype(np.float32).round(10)\n",
    "    \n",
    "\n",
    "    # Kiểm tra số cột trước khi lưu\n",
    "    assert df.shape[1] == 6, f\"⚠ Lỗi: Số cột không khớp (Expected: 5, Found: {df.shape[1]})\"\n",
    "\n",
    "    # Chuyển DataFrame thành buffer CSV (⚠️ Không ghi header, tránh lỗi)\n",
    "    csv_buffer = io.StringIO()\n",
    "    df.to_csv(csv_buffer, index=False, header=False, sep=\",\")  # Dùng dấu phẩy để phân tách\n",
    "\n",
    "    # Upload lên S3\n",
    "    s3_client.put_object(\n",
    "        Bucket=s3_bucket,\n",
    "        Key=f\"{s3_prefix}{file_name}\",\n",
    "        Body=csv_buffer.getvalue()\n",
    "    )\n",
    "    \n",
    "    print(f\"✅ Đã upload {file_name} lên S3: s3://{s3_bucket}/{s3_prefix}{file_name}\")"
   ]
  },
  {
   "cell_type": "code",
   "execution_count": null,
   "id": "d40e2c54-4b17-4a31-b167-661bb58a0b37",
   "metadata": {},
   "outputs": [],
   "source": []
  },
  {
   "cell_type": "code",
   "execution_count": 5,
   "id": "574bef21-cf1c-4123-9cc0-d196354c8095",
   "metadata": {
    "scrolled": true
   },
   "outputs": [
    {
     "name": "stdout",
     "output_type": "stream",
     "text": [
      "✅ Đã upload test_data_1.csv lên S3: s3://swo-ngoctran-public/mlops/raw_data/2024-01/test_data_1.csv\n",
      "✅ Đã upload test_data_2.csv lên S3: s3://swo-ngoctran-public/mlops/raw_data/2024-01/test_data_2.csv\n"
     ]
    }
   ],
   "source": [
    "# Tạo và upload 2 file CSV\n",
    "generate_and_upload_csv(\"test_data_1.csv\", random.randint(100, 120))\n",
    "generate_and_upload_csv(\"test_data_2.csv\", random.randint(100, 120))"
   ]
  },
  {
   "cell_type": "code",
   "execution_count": null,
   "id": "95dd56c3-3973-4703-ae8f-9e03787748a2",
   "metadata": {},
   "outputs": [],
   "source": []
  },
  {
   "cell_type": "code",
   "execution_count": null,
   "id": "d8e9745f-0374-4325-9394-fcc56ae23189",
   "metadata": {},
   "outputs": [],
   "source": []
  },
  {
   "cell_type": "code",
   "execution_count": null,
   "id": "4e91937e-3ac2-458c-9f84-d1778178edb7",
   "metadata": {},
   "outputs": [],
   "source": []
  },
  {
   "cell_type": "markdown",
   "id": "7eca96b8-6d72-40b4-a462-8098062aef9f",
   "metadata": {},
   "source": [
    "### read data from s3 and train model"
   ]
  },
  {
   "cell_type": "code",
   "execution_count": 6,
   "id": "148054e4-6185-4cf8-b251-afabe444ea8b",
   "metadata": {},
   "outputs": [
    {
     "name": "stdout",
     "output_type": "stream",
     "text": [
      "sagemaker.config INFO - Not applying SDK defaults from location: /etc/xdg/sagemaker/config.yaml\n",
      "sagemaker.config INFO - Not applying SDK defaults from location: /home/sagemaker-user/.config/sagemaker/config.yaml\n"
     ]
    }
   ],
   "source": [
    "import sagemaker\n",
    "import boto3\n",
    "from sagemaker.estimator import Estimator\n",
    "from sagemaker.inputs import TrainingInput"
   ]
  },
  {
   "cell_type": "code",
   "execution_count": 7,
   "id": "17bd93ed-b3ec-41aa-bd9c-1796541df63f",
   "metadata": {},
   "outputs": [],
   "source": [
    "# Khởi tạo session\n",
    "sagemaker_session = sagemaker.Session()\n",
    "role = sagemaker.get_execution_role()\n",
    "region = boto3.Session().region_name"
   ]
  },
  {
   "cell_type": "code",
   "execution_count": 8,
   "id": "9334bdda-775f-464c-bb8f-a821f7dee93f",
   "metadata": {},
   "outputs": [
    {
     "data": {
      "text/plain": [
       "'s3://swo-ngoctran-public/mlops/raw_data/2024-01/'"
      ]
     },
     "execution_count": 8,
     "metadata": {},
     "output_type": "execute_result"
    }
   ],
   "source": [
    "# Thông tin S3\n",
    "# s3_bucket = \"s3-assetcare-bucket\"\n",
    "# prefix = \"test_training_data\"\n",
    "s3_input_train = f\"s3://{s3_bucket}/{s3_prefix}\"\n",
    "s3_input_train"
   ]
  },
  {
   "cell_type": "code",
   "execution_count": 9,
   "id": "83bf5cb1-45b6-465b-b14e-79a1c693e6bc",
   "metadata": {},
   "outputs": [],
   "source": [
    "# Lấy container mới nhất của Random Cut Forest trên SageMaker\n",
    "rcf_container = sagemaker.image_uris.retrieve(\"randomcutforest\", region)"
   ]
  },
  {
   "cell_type": "code",
   "execution_count": 10,
   "id": "fdec2d12-0d1a-4ee7-a871-2e2c7fed9f76",
   "metadata": {},
   "outputs": [],
   "source": [
    "# Cấu hình SageMaker Estimator\n",
    "rcf_estimator = Estimator(\n",
    "    image_uri=rcf_container,\n",
    "    role=role,\n",
    "    instance_count=1,  # Nếu dữ liệu lớn, có thể tăng lên 2-3 instance\n",
    "    instance_type=\"ml.m5.xlarge\",\n",
    "    output_path=f\"s3://{s3_bucket}/model_output\",\n",
    "    sagemaker_session=sagemaker_session,\n",
    "    enable_network_isolation=True,\n",
    ")"
   ]
  },
  {
   "cell_type": "code",
   "execution_count": 11,
   "id": "d6935d2c-21bf-4660-bc91-ab9ba562da3a",
   "metadata": {},
   "outputs": [],
   "source": [
    "# **Thêm thông số training: feature_dim = 5**\n",
    "rcf_estimator.set_hyperparameters(\n",
    "    feature_dim=5,  # Số lượng cột đặc trưng\n",
    "    num_samples_per_tree=512,  # Mặc định\n",
    "    num_trees=50  # Mặc định\n",
    ")"
   ]
  },
  {
   "cell_type": "code",
   "execution_count": 12,
   "id": "e88b2f0a-077f-44a4-999a-fa4f776f0d83",
   "metadata": {},
   "outputs": [],
   "source": [
    "# Định nghĩa dữ liệu đầu vào với \"ShardedByS3Key\"\n",
    "train_input = TrainingInput(\n",
    "    s3_input_train,\n",
    "    distribution=\"ShardedByS3Key\",  # Chia dữ liệu theo file S3\n",
    "    content_type=\"text/csv\",\n",
    "    input_mode=\"Pipe\",  # Dùng Pipe Mode để stream data từ S3\n",
    ")"
   ]
  },
  {
   "cell_type": "code",
   "execution_count": 13,
   "id": "d1238eb0-268f-4a31-a5ba-cd5a87f8bdc7",
   "metadata": {
    "scrolled": true
   },
   "outputs": [
    {
     "name": "stderr",
     "output_type": "stream",
     "text": [
      "INFO:sagemaker:Creating training-job with name: randomcutforest-2025-06-16-04-08-58-591\n"
     ]
    },
    {
     "name": "stdout",
     "output_type": "stream",
     "text": [
      "2025-06-16 04:09:00 Starting - Starting the training job...\n",
      "2025-06-16 04:09:16 Starting - Preparing the instances for training...\n",
      "2025-06-16 04:09:54 Downloading - Downloading the training image.........\n",
      "2025-06-16 04:11:34 Training - Training image download completed. Training in progress.\n",
      "2025-06-16 04:11:34 Uploading - Uploading generated training model\n",
      "2025-06-16 04:11:34 Completed - Training job completed\n",
      "\u001b[34mDocker entrypoint called with argument(s): train\u001b[0m\n",
      "\u001b[34mRunning default environment configuration script\u001b[0m\n",
      "\u001b[34m/opt/amazon/lib/python3.8/site-packages/mxnet/model.py:97: SyntaxWarning: \"is\" with a literal. Did you mean \"==\"?\n",
      "  if num_device is 1 and 'dist' not in kvstore:\u001b[0m\n",
      "\u001b[34m/opt/amazon/lib/python3.8/site-packages/scipy/optimize/_shgo.py:495: SyntaxWarning: \"is\" with a literal. Did you mean \"==\"?\n",
      "  if cons['type'] is 'ineq':\u001b[0m\n",
      "\u001b[34m/opt/amazon/lib/python3.8/site-packages/scipy/optimize/_shgo.py:743: SyntaxWarning: \"is not\" with a literal. Did you mean \"!=\"?\n",
      "  if len(self.X_min) is not 0:\u001b[0m\n",
      "\u001b[34m[06/16/2025 04:11:18 INFO 140353704351552] Reading default configuration from /opt/amazon/lib/python3.8/site-packages/algorithm/resources/default-conf.json: {'num_samples_per_tree': 256, 'num_trees': 100, 'force_dense': 'true', 'eval_metrics': ['accuracy', 'precision_recall_fscore'], 'epochs': 1, 'mini_batch_size': 1000, '_log_level': 'info', '_kvstore': 'dist_async', '_num_kv_servers': 'auto', '_num_gpus': 'auto', '_tuning_objective_metric': '', '_ftp_port': 8999}\u001b[0m\n",
      "\u001b[34m[06/16/2025 04:11:18 INFO 140353704351552] Merging with provided configuration from /opt/ml/input/config/hyperparameters.json: {'feature_dim': '5', 'num_samples_per_tree': '512', 'num_trees': '50'}\u001b[0m\n",
      "\u001b[34m[06/16/2025 04:11:18 INFO 140353704351552] Final configuration: {'num_samples_per_tree': '512', 'num_trees': '50', 'force_dense': 'true', 'eval_metrics': ['accuracy', 'precision_recall_fscore'], 'epochs': 1, 'mini_batch_size': 1000, '_log_level': 'info', '_kvstore': 'dist_async', '_num_kv_servers': 'auto', '_num_gpus': 'auto', '_tuning_objective_metric': '', '_ftp_port': 8999, 'feature_dim': '5'}\u001b[0m\n",
      "\u001b[34m[06/16/2025 04:11:18 WARNING 140353704351552] Loggers have already been setup.\u001b[0m\n",
      "\u001b[34m[06/16/2025 04:11:18 INFO 140353704351552] Launching parameter server for role scheduler\u001b[0m\n",
      "\u001b[34m[06/16/2025 04:11:18 INFO 140353704351552] {'ENVROOT': '/opt/amazon', 'PROTOCOL_BUFFERS_PYTHON_IMPLEMENTATION': 'cpp', 'HOSTNAME': 'algo-1', 'TRAINING_JOB_NAME': 'randomcutforest-2025-06-16-04-08-58-591', 'NVIDIA_REQUIRE_CUDA': 'cuda>=9.0', 'TRAINING_JOB_ARN': 'arn:aws:sagemaker:us-east-1:975049948583:training-job/randomcutforest-2025-06-16-04-08-58-591', 'CANONICAL_ENVROOT': '/opt/amazon', 'PYTHONUNBUFFERED': 'TRUE', 'NVIDIA_VISIBLE_DEVICES': 'all', 'LD_LIBRARY_PATH': '/opt/amazon/lib/python3.8/site-packages/cv2/../../../../lib:/usr/local/nvidia/lib64:/opt/amazon/lib', 'MXNET_KVSTORE_BIGARRAY_BOUND': '400000000', 'NVIDIA_DRIVER_CAPABILITIES': 'compute,utility', 'SAGEMAKER_MANAGED_WARMPOOL_CACHE_DIRECTORY': '/opt/ml/sagemaker/warmpoolcache', 'PATH': '/opt/amazon/bin:/usr/local/nvidia/bin:/usr/local/sbin:/usr/local/bin:/usr/sbin:/usr/bin:/sbin:/bin', 'PWD': '/', 'LANG': 'en_US.utf8', 'AWS_REGION': 'us-east-1', 'SAGEMAKER_METRICS_DIRECTORY': '/opt/ml/output/metrics/sagemaker', 'CUDA_VERSION': '11.1', 'HOME': '/root', 'SHLVL': '1', 'CUDA_COMPAT_NDRIVER_SUPPORTED_VERSION': '455.32.00', 'PROTOCOL_BUFFERS_PYTHON_IMPLEMENTATION_VERSION': '2', 'OMP_NUM_THREADS': '2', 'DMLC_INTERFACE': 'eth0', 'SAGEMAKER_HTTP_PORT': '8080', 'SAGEMAKER_DATA_PATH': '/opt/ml', 'KMP_DUPLICATE_LIB_OK': 'True', 'KMP_INIT_AT_FORK': 'FALSE'}\u001b[0m\n",
      "\u001b[34m[06/16/2025 04:11:18 INFO 140353704351552] envs={'ENVROOT': '/opt/amazon', 'PROTOCOL_BUFFERS_PYTHON_IMPLEMENTATION': 'cpp', 'HOSTNAME': 'algo-1', 'TRAINING_JOB_NAME': 'randomcutforest-2025-06-16-04-08-58-591', 'NVIDIA_REQUIRE_CUDA': 'cuda>=9.0', 'TRAINING_JOB_ARN': 'arn:aws:sagemaker:us-east-1:975049948583:training-job/randomcutforest-2025-06-16-04-08-58-591', 'CANONICAL_ENVROOT': '/opt/amazon', 'PYTHONUNBUFFERED': 'TRUE', 'NVIDIA_VISIBLE_DEVICES': 'all', 'LD_LIBRARY_PATH': '/opt/amazon/lib/python3.8/site-packages/cv2/../../../../lib:/usr/local/nvidia/lib64:/opt/amazon/lib', 'MXNET_KVSTORE_BIGARRAY_BOUND': '400000000', 'NVIDIA_DRIVER_CAPABILITIES': 'compute,utility', 'SAGEMAKER_MANAGED_WARMPOOL_CACHE_DIRECTORY': '/opt/ml/sagemaker/warmpoolcache', 'PATH': '/opt/amazon/bin:/usr/local/nvidia/bin:/usr/local/sbin:/usr/local/bin:/usr/sbin:/usr/bin:/sbin:/bin', 'PWD': '/', 'LANG': 'en_US.utf8', 'AWS_REGION': 'us-east-1', 'SAGEMAKER_METRICS_DIRECTORY': '/opt/ml/output/metrics/sagemaker', 'CUDA_VERSION': '11.1', 'HOME': '/root', 'SHLVL': '1', 'CUDA_COMPAT_NDRIVER_SUPPORTED_VERSION': '455.32.00', 'PROTOCOL_BUFFERS_PYTHON_IMPLEMENTATION_VERSION': '2', 'OMP_NUM_THREADS': '2', 'DMLC_INTERFACE': 'eth0', 'SAGEMAKER_HTTP_PORT': '8080', 'SAGEMAKER_DATA_PATH': '/opt/ml', 'KMP_DUPLICATE_LIB_OK': 'True', 'KMP_INIT_AT_FORK': 'FALSE', 'DMLC_ROLE': 'scheduler', 'DMLC_PS_ROOT_URI': '172.18.252.168', 'DMLC_PS_ROOT_PORT': '9000', 'DMLC_NUM_SERVER': '1', 'DMLC_NUM_WORKER': '1'}\u001b[0m\n",
      "\u001b[34m[06/16/2025 04:11:18 INFO 140353704351552] Launching parameter server for role server\u001b[0m\n",
      "\u001b[34m[06/16/2025 04:11:18 INFO 140353704351552] {'ENVROOT': '/opt/amazon', 'PROTOCOL_BUFFERS_PYTHON_IMPLEMENTATION': 'cpp', 'HOSTNAME': 'algo-1', 'TRAINING_JOB_NAME': 'randomcutforest-2025-06-16-04-08-58-591', 'NVIDIA_REQUIRE_CUDA': 'cuda>=9.0', 'TRAINING_JOB_ARN': 'arn:aws:sagemaker:us-east-1:975049948583:training-job/randomcutforest-2025-06-16-04-08-58-591', 'CANONICAL_ENVROOT': '/opt/amazon', 'PYTHONUNBUFFERED': 'TRUE', 'NVIDIA_VISIBLE_DEVICES': 'all', 'LD_LIBRARY_PATH': '/opt/amazon/lib/python3.8/site-packages/cv2/../../../../lib:/usr/local/nvidia/lib64:/opt/amazon/lib', 'MXNET_KVSTORE_BIGARRAY_BOUND': '400000000', 'NVIDIA_DRIVER_CAPABILITIES': 'compute,utility', 'SAGEMAKER_MANAGED_WARMPOOL_CACHE_DIRECTORY': '/opt/ml/sagemaker/warmpoolcache', 'PATH': '/opt/amazon/bin:/usr/local/nvidia/bin:/usr/local/sbin:/usr/local/bin:/usr/sbin:/usr/bin:/sbin:/bin', 'PWD': '/', 'LANG': 'en_US.utf8', 'AWS_REGION': 'us-east-1', 'SAGEMAKER_METRICS_DIRECTORY': '/opt/ml/output/metrics/sagemaker', 'CUDA_VERSION': '11.1', 'HOME': '/root', 'SHLVL': '1', 'CUDA_COMPAT_NDRIVER_SUPPORTED_VERSION': '455.32.00', 'PROTOCOL_BUFFERS_PYTHON_IMPLEMENTATION_VERSION': '2', 'OMP_NUM_THREADS': '2', 'DMLC_INTERFACE': 'eth0', 'SAGEMAKER_HTTP_PORT': '8080', 'SAGEMAKER_DATA_PATH': '/opt/ml', 'KMP_DUPLICATE_LIB_OK': 'True', 'KMP_INIT_AT_FORK': 'FALSE'}\u001b[0m\n",
      "\u001b[34m[06/16/2025 04:11:18 INFO 140353704351552] envs={'ENVROOT': '/opt/amazon', 'PROTOCOL_BUFFERS_PYTHON_IMPLEMENTATION': 'cpp', 'HOSTNAME': 'algo-1', 'TRAINING_JOB_NAME': 'randomcutforest-2025-06-16-04-08-58-591', 'NVIDIA_REQUIRE_CUDA': 'cuda>=9.0', 'TRAINING_JOB_ARN': 'arn:aws:sagemaker:us-east-1:975049948583:training-job/randomcutforest-2025-06-16-04-08-58-591', 'CANONICAL_ENVROOT': '/opt/amazon', 'PYTHONUNBUFFERED': 'TRUE', 'NVIDIA_VISIBLE_DEVICES': 'all', 'LD_LIBRARY_PATH': '/opt/amazon/lib/python3.8/site-packages/cv2/../../../../lib:/usr/local/nvidia/lib64:/opt/amazon/lib', 'MXNET_KVSTORE_BIGARRAY_BOUND': '400000000', 'NVIDIA_DRIVER_CAPABILITIES': 'compute,utility', 'SAGEMAKER_MANAGED_WARMPOOL_CACHE_DIRECTORY': '/opt/ml/sagemaker/warmpoolcache', 'PATH': '/opt/amazon/bin:/usr/local/nvidia/bin:/usr/local/sbin:/usr/local/bin:/usr/sbin:/usr/bin:/sbin:/bin', 'PWD': '/', 'LANG': 'en_US.utf8', 'AWS_REGION': 'us-east-1', 'SAGEMAKER_METRICS_DIRECTORY': '/opt/ml/output/metrics/sagemaker', 'CUDA_VERSION': '11.1', 'HOME': '/root', 'SHLVL': '1', 'CUDA_COMPAT_NDRIVER_SUPPORTED_VERSION': '455.32.00', 'PROTOCOL_BUFFERS_PYTHON_IMPLEMENTATION_VERSION': '2', 'OMP_NUM_THREADS': '2', 'DMLC_INTERFACE': 'eth0', 'SAGEMAKER_HTTP_PORT': '8080', 'SAGEMAKER_DATA_PATH': '/opt/ml', 'KMP_DUPLICATE_LIB_OK': 'True', 'KMP_INIT_AT_FORK': 'FALSE', 'DMLC_ROLE': 'server', 'DMLC_PS_ROOT_URI': '172.18.252.168', 'DMLC_PS_ROOT_PORT': '9000', 'DMLC_NUM_SERVER': '1', 'DMLC_NUM_WORKER': '1'}\u001b[0m\n",
      "\u001b[34m[06/16/2025 04:11:18 INFO 140353704351552] Environment: {'ENVROOT': '/opt/amazon', 'PROTOCOL_BUFFERS_PYTHON_IMPLEMENTATION': 'cpp', 'HOSTNAME': 'algo-1', 'TRAINING_JOB_NAME': 'randomcutforest-2025-06-16-04-08-58-591', 'NVIDIA_REQUIRE_CUDA': 'cuda>=9.0', 'TRAINING_JOB_ARN': 'arn:aws:sagemaker:us-east-1:975049948583:training-job/randomcutforest-2025-06-16-04-08-58-591', 'CANONICAL_ENVROOT': '/opt/amazon', 'PYTHONUNBUFFERED': 'TRUE', 'NVIDIA_VISIBLE_DEVICES': 'all', 'LD_LIBRARY_PATH': '/opt/amazon/lib/python3.8/site-packages/cv2/../../../../lib:/usr/local/nvidia/lib64:/opt/amazon/lib', 'MXNET_KVSTORE_BIGARRAY_BOUND': '400000000', 'NVIDIA_DRIVER_CAPABILITIES': 'compute,utility', 'SAGEMAKER_MANAGED_WARMPOOL_CACHE_DIRECTORY': '/opt/ml/sagemaker/warmpoolcache', 'PATH': '/opt/amazon/bin:/usr/local/nvidia/bin:/usr/local/sbin:/usr/local/bin:/usr/sbin:/usr/bin:/sbin:/bin', 'PWD': '/', 'LANG': 'en_US.utf8', 'AWS_REGION': 'us-east-1', 'SAGEMAKER_METRICS_DIRECTORY': '/opt/ml/output/metrics/sagemaker', 'CUDA_VERSION': '11.1', 'HOME': '/root', 'SHLVL': '1', 'CUDA_COMPAT_NDRIVER_SUPPORTED_VERSION': '455.32.00', 'PROTOCOL_BUFFERS_PYTHON_IMPLEMENTATION_VERSION': '2', 'OMP_NUM_THREADS': '2', 'DMLC_INTERFACE': 'eth0', 'SAGEMAKER_HTTP_PORT': '8080', 'SAGEMAKER_DATA_PATH': '/opt/ml', 'KMP_DUPLICATE_LIB_OK': 'True', 'KMP_INIT_AT_FORK': 'FALSE', 'DMLC_ROLE': 'worker', 'DMLC_PS_ROOT_URI': '172.18.252.168', 'DMLC_PS_ROOT_PORT': '9000', 'DMLC_NUM_SERVER': '1', 'DMLC_NUM_WORKER': '1'}\u001b[0m\n",
      "\u001b[34mProcess 34 is a shell:scheduler.\u001b[0m\n",
      "\u001b[34mProcess 43 is a shell:server.\u001b[0m\n",
      "\u001b[34mProcess 7 is a worker.\u001b[0m\n",
      "\u001b[34m[06/16/2025 04:11:18 INFO 140353704351552] Using default worker.\u001b[0m\n",
      "\u001b[34m[06/16/2025 04:11:18 INFO 140353704351552] Loaded iterator creator application/x-recordio-protobuf for content type ('application/x-recordio-protobuf', '1.0')\u001b[0m\n",
      "\u001b[34m[06/16/2025 04:11:18 INFO 140353704351552] Checkpoint loading and saving are disabled.\u001b[0m\n",
      "\u001b[34m[06/16/2025 04:11:18 INFO 140353704351552] The channel 'train' is in pipe input mode under /opt/ml/input/data/train.\u001b[0m\n",
      "\u001b[34m[06/16/2025 04:11:19 INFO 140353704351552] Verifying hyperparamemters...\u001b[0m\n",
      "\u001b[34m[06/16/2025 04:11:19 INFO 140353704351552] Hyperparameters are correct.\u001b[0m\n",
      "\u001b[34m[06/16/2025 04:11:19 INFO 140353704351552] Validating that feature_dim agrees with dimensions in training data...\u001b[0m\n",
      "\u001b[34m[06/16/2025 04:11:19 INFO 140353704351552] feature_dim is correct.\u001b[0m\n",
      "\u001b[34m[06/16/2025 04:11:19 INFO 140353704351552] Validating memory limits...\u001b[0m\n",
      "\u001b[34m[06/16/2025 04:11:19 INFO 140353704351552] Available memory in bytes: 14313369600\u001b[0m\n",
      "\u001b[34m[06/16/2025 04:11:19 INFO 140353704351552] Estimated sample size in bytes: 1024000\u001b[0m\n",
      "\u001b[34m[06/16/2025 04:11:19 INFO 140353704351552] Estimated memory needed to build the forest in bytes: 5120000\u001b[0m\n",
      "\u001b[34m[06/16/2025 04:11:19 INFO 140353704351552] Memory limits validated.\u001b[0m\n",
      "\u001b[34m[06/16/2025 04:11:19 INFO 140353704351552] Starting cluster sharing facilities...\u001b[0m\n",
      "\u001b[34m[06/16/2025 04:11:19 INFO 140350874187520] concurrency model: async\u001b[0m\n",
      "\u001b[34m[06/16/2025 04:11:19 INFO 140353704351552] Create Store: dist_async\u001b[0m\n",
      "\u001b[34m[06/16/2025 04:11:19 INFO 140350874187520] masquerade (NAT) address: None\u001b[0m\n",
      "\u001b[34m[06/16/2025 04:11:19 INFO 140350874187520] passive ports: None\u001b[0m\n",
      "\u001b[34m[06/16/2025 04:11:19 INFO 140350874187520] >>> starting FTP server on 0.0.0.0:8999, pid=7 <<<\u001b[0m\n",
      "\u001b[34m[06/16/2025 04:11:19 INFO 140353704351552] Cluster sharing facilities started.\u001b[0m\n",
      "\u001b[34m[06/16/2025 04:11:19 INFO 140353704351552] Verifying all workers are accessible...\u001b[0m\n",
      "\u001b[34m[06/16/2025 04:11:19 INFO 140353704351552] All workers accessible.\u001b[0m\n",
      "\u001b[34m[06/16/2025 04:11:19 INFO 140353704351552] Initializing Sampler...\u001b[0m\n",
      "\u001b[34m[06/16/2025 04:11:19 INFO 140353704351552] Sampler correctly initialized.\u001b[0m\n",
      "\u001b[34m#metrics {\"StartTime\": 1750047078.4249158, \"EndTime\": 1750047079.5393171, \"Dimensions\": {\"Algorithm\": \"RandomCutForest\", \"Host\": \"algo-1\", \"Operation\": \"training\"}, \"Metrics\": {\"initialize.time\": {\"sum\": 106.9343090057373, \"count\": 1, \"min\": 106.9343090057373, \"max\": 106.9343090057373}}}\u001b[0m\n",
      "\u001b[34m#metrics {\"StartTime\": 1750047079.539464, \"EndTime\": 1750047079.5395, \"Dimensions\": {\"Algorithm\": \"RandomCutForest\", \"Host\": \"algo-1\", \"Operation\": \"training\", \"Meta\": \"init_train_data_iter\"}, \"Metrics\": {\"Total Records Seen\": {\"sum\": 0.0, \"count\": 1, \"min\": 0, \"max\": 0}, \"Total Batches Seen\": {\"sum\": 0.0, \"count\": 1, \"min\": 0, \"max\": 0}, \"Max Records Seen Between Resets\": {\"sum\": 0.0, \"count\": 1, \"min\": 0, \"max\": 0}, \"Max Batches Seen Between Resets\": {\"sum\": 0.0, \"count\": 1, \"min\": 0, \"max\": 0}, \"Reset Count\": {\"sum\": 0.0, \"count\": 1, \"min\": 0, \"max\": 0}, \"Number of Records Since Last Reset\": {\"sum\": 0.0, \"count\": 1, \"min\": 0, \"max\": 0}, \"Number of Batches Since Last Reset\": {\"sum\": 0.0, \"count\": 1, \"min\": 0, \"max\": 0}}}\u001b[0m\n",
      "\u001b[34m[2025-06-16 04:11:19.539] [tensorio] [info] epoch_stats={\"data_pipeline\": \"/opt/ml/input/data/train\", \"epoch\": 0, \"duration\": 1114, \"num_examples\": 1, \"num_bytes\": 0}\u001b[0m\n",
      "\u001b[34m[06/16/2025 04:11:19 INFO 140353704351552] Sampling training data...\u001b[0m\n",
      "\u001b[34m[2025-06-16 04:11:20.562] [tensorio] [info] epoch_stats={\"data_pipeline\": \"/opt/ml/input/data/train\", \"epoch\": 1, \"duration\": 1022, \"num_examples\": 1, \"num_bytes\": 0}\u001b[0m\n",
      "\u001b[34m[06/16/2025 04:11:20 INFO 140353704351552] Sampling training data completed.\u001b[0m\n",
      "\u001b[34m#metrics {\"StartTime\": 1750047079.5394185, \"EndTime\": 1750047080.5642788, \"Dimensions\": {\"Algorithm\": \"RandomCutForest\", \"Host\": \"algo-1\", \"Operation\": \"training\"}, \"Metrics\": {\"epochs\": {\"sum\": 1.0, \"count\": 1, \"min\": 1, \"max\": 1}, \"update.time\": {\"sum\": 1024.4650840759277, \"count\": 1, \"min\": 1024.4650840759277, \"max\": 1024.4650840759277}}}\u001b[0m\n",
      "\u001b[34m[06/16/2025 04:11:20 INFO 140353704351552] Early stop condition met. Stopping training.\u001b[0m\n",
      "\u001b[34m[06/16/2025 04:11:20 INFO 140353704351552] #progress_metric: host=algo-1, completed 100 % epochs\u001b[0m\n",
      "\u001b[34m#metrics {\"StartTime\": 1750047079.539786, \"EndTime\": 1750047080.5645964, \"Dimensions\": {\"Algorithm\": \"RandomCutForest\", \"Host\": \"algo-1\", \"Operation\": \"training\", \"epoch\": 0, \"Meta\": \"training_data_iter\"}, \"Metrics\": {\"Total Records Seen\": {\"sum\": 229.0, \"count\": 1, \"min\": 229, \"max\": 229}, \"Total Batches Seen\": {\"sum\": 1.0, \"count\": 1, \"min\": 1, \"max\": 1}, \"Max Records Seen Between Resets\": {\"sum\": 229.0, \"count\": 1, \"min\": 229, \"max\": 229}, \"Max Batches Seen Between Resets\": {\"sum\": 1.0, \"count\": 1, \"min\": 1, \"max\": 1}, \"Reset Count\": {\"sum\": 1.0, \"count\": 1, \"min\": 1, \"max\": 1}, \"Number of Records Since Last Reset\": {\"sum\": 229.0, \"count\": 1, \"min\": 229, \"max\": 229}, \"Number of Batches Since Last Reset\": {\"sum\": 1.0, \"count\": 1, \"min\": 1, \"max\": 1}}}\u001b[0m\n",
      "\u001b[34m[06/16/2025 04:11:20 INFO 140353704351552] #throughput_metric: host=algo-1, train throughput=223.42344810132235 records/second\u001b[0m\n",
      "\u001b[34m[06/16/2025 04:11:20 INFO 140353704351552] Master node: building Random Cut Forest...\u001b[0m\n",
      "\u001b[34m[06/16/2025 04:11:20 INFO 140353704351552] Gathering samples...\u001b[0m\n",
      "\u001b[34m[06/16/2025 04:11:20 INFO 140353704351552] 229 samples gathered\u001b[0m\n",
      "\u001b[34m[06/16/2025 04:11:20 INFO 140353704351552] Building Random Cut Forest...\u001b[0m\n",
      "\u001b[34m[06/16/2025 04:11:20 INFO 140353704351552] Random Cut Forest built: \u001b[0m\n",
      "\u001b[34mForestInfo{num_trees: 50, num_samples_in_forest: 200, num_samples_per_tree: 4, sample_dim: 5, shingle_size: 1, trees_num_nodes: [7, 7, 7, 7, 7, 7, 7, 7, 7, 7, 7, 7, 7, 7, 7, 7, 7, 7, 7, 7, 7, 7, 7, 7, 7, 7, 7, 7, 7, 7, 7, 7, 7, 7, 7, 7, 7, 7, 7, 7, 7, 7, 7, 7, 7, 7, 7, 7, 7, 7, ], trees_depth: [3, 4, 3, 4, 4, 4, 3, 4, 4, 4, 4, 4, 4, 4, 4, 4, 4, 3, 4, 4, 4, 3, 4, 4, 4, 3, 4, 4, 4, 4, 3, 3, 4, 4, 4, 4, 4, 4, 4, 4, 4, 4, 4, 4, 4, 4, 4, 3, 3, 4, ], max_num_nodes: 7, min_num_nodes: 7, avg_num_nodes: 7, max_tree_depth: 4, min_tree_depth: 3, avg_tree_depth: 3, mem_size: 59248}\u001b[0m\n",
      "\u001b[34m#metrics {\"StartTime\": 1750047080.5643663, \"EndTime\": 1750047080.5662417, \"Dimensions\": {\"Algorithm\": \"RandomCutForest\", \"Host\": \"algo-1\", \"Operation\": \"training\"}, \"Metrics\": {\"fit_model.time\": {\"sum\": 0.5254745483398438, \"count\": 1, \"min\": 0.5254745483398438, \"max\": 0.5254745483398438}, \"model.bytes\": {\"sum\": 59248.0, \"count\": 1, \"min\": 59248, \"max\": 59248}, \"finalize.time\": {\"sum\": 1.2722015380859375, \"count\": 1, \"min\": 1.2722015380859375, \"max\": 1.2722015380859375}}}\u001b[0m\n",
      "\u001b[34m[06/16/2025 04:11:20 INFO 140353704351552] Master node: Serializing the RandomCutForest model\u001b[0m\n",
      "\u001b[34m#metrics {\"StartTime\": 1750047080.56631, \"EndTime\": 1750047080.567643, \"Dimensions\": {\"Algorithm\": \"RandomCutForest\", \"Host\": \"algo-1\", \"Operation\": \"training\"}, \"Metrics\": {\"serialize_model.time\": {\"sum\": 1.2989044189453125, \"count\": 1, \"min\": 1.2989044189453125, \"max\": 1.2989044189453125}}}\u001b[0m\n",
      "\u001b[34m[06/16/2025 04:11:20 INFO 140353704351552] Test data is not provided.\u001b[0m\n",
      "\u001b[34m#metrics {\"StartTime\": 1750047080.5677228, \"EndTime\": 1750047080.5680544, \"Dimensions\": {\"Algorithm\": \"RandomCutForest\", \"Host\": \"algo-1\", \"Operation\": \"training\"}, \"Metrics\": {\"setuptime\": {\"sum\": 23.049116134643555, \"count\": 1, \"min\": 23.049116134643555, \"max\": 23.049116134643555}, \"totaltime\": {\"sum\": 2173.549175262451, \"count\": 1, \"min\": 2173.549175262451, \"max\": 2173.549175262451}}}\u001b[0m\n",
      "Training seconds: 120\n",
      "Billable seconds: 120\n"
     ]
    }
   ],
   "source": [
    "# Train model\n",
    "rcf_estimator.fit({\"train\": train_input}, wait=True)"
   ]
  },
  {
   "cell_type": "code",
   "execution_count": null,
   "id": "7726dcec-e3fe-4327-9e4b-29f6e205cdef",
   "metadata": {
    "scrolled": true
   },
   "outputs": [],
   "source": []
  },
  {
   "cell_type": "code",
   "execution_count": null,
   "id": "7cad9f75-8c81-4f15-9faa-a6ac72d30763",
   "metadata": {},
   "outputs": [],
   "source": []
  },
  {
   "cell_type": "code",
   "execution_count": null,
   "id": "b267f558-4676-41a6-8fb5-05790d178b8c",
   "metadata": {},
   "outputs": [],
   "source": []
  },
  {
   "cell_type": "markdown",
   "id": "31821783-a6fe-42c3-a164-64824f059d76",
   "metadata": {},
   "source": [
    "### deployment"
   ]
  },
  {
   "cell_type": "code",
   "execution_count": 14,
   "id": "150af400-5221-4be9-b56f-75305201d571",
   "metadata": {},
   "outputs": [
    {
     "name": "stderr",
     "output_type": "stream",
     "text": [
      "INFO:sagemaker:Creating model with name: randomcutforest-2025-06-16-04-12-03-443\n",
      "INFO:sagemaker:Creating endpoint-config with name randomcutforest-2025-06-16-04-12-03-443\n",
      "INFO:sagemaker:Creating endpoint with name randomcutforest-2025-06-16-04-12-03-443\n"
     ]
    },
    {
     "name": "stdout",
     "output_type": "stream",
     "text": [
      "-------!"
     ]
    }
   ],
   "source": [
    "# Deploy model thành endpoint\n",
    "rcf_predictor = rcf_estimator.deploy(\n",
    "    initial_instance_count=1,  # instance runs endpoint\n",
    "    instance_type=\"ml.m5.large\"  # instance type\n",
    ")"
   ]
  },
  {
   "cell_type": "code",
   "execution_count": 18,
   "id": "bcf87d7e-f195-42f0-a5a0-dbf3f071e511",
   "metadata": {},
   "outputs": [
    {
     "data": {
      "text/plain": [
       "'randomcutforest-2025-06-16-04-12-03-443'"
      ]
     },
     "execution_count": 18,
     "metadata": {},
     "output_type": "execute_result"
    }
   ],
   "source": [
    "endpoint_name = rcf_predictor.endpoint_name\n",
    "endpoint_name"
   ]
  },
  {
   "cell_type": "code",
   "execution_count": 19,
   "id": "23b29550-782b-4611-93b0-965667047bca",
   "metadata": {
    "scrolled": true
   },
   "outputs": [
    {
     "name": "stdout",
     "output_type": "stream",
     "text": [
      "{'EndpointName': 'randomcutforest-2025-06-16-04-12-03-443', 'EndpointArn': 'arn:aws:sagemaker:us-east-1:975049948583:endpoint/randomcutforest-2025-06-16-04-12-03-443', 'EndpointConfigName': 'randomcutforest-2025-06-16-04-12-03-443', 'ProductionVariants': [{'VariantName': 'AllTraffic', 'DeployedImages': [{'SpecifiedImage': '382416733822.dkr.ecr.us-east-1.amazonaws.com/randomcutforest:1', 'ResolvedImage': '382416733822.dkr.ecr.us-east-1.amazonaws.com/randomcutforest@sha256:3cc8486cf89fd3fec8235136477e8454a27252abf1c541ec0a74e352d4175641', 'ResolutionTime': datetime.datetime(2025, 6, 16, 4, 12, 5, 690000, tzinfo=tzlocal())}], 'CurrentWeight': 1.0, 'DesiredWeight': 1.0, 'CurrentInstanceCount': 1, 'DesiredInstanceCount': 1}], 'EndpointStatus': 'InService', 'CreationTime': datetime.datetime(2025, 6, 16, 4, 12, 4, 991000, tzinfo=tzlocal()), 'LastModifiedTime': datetime.datetime(2025, 6, 16, 4, 15, 52, 38000, tzinfo=tzlocal()), 'ResponseMetadata': {'RequestId': 'a1bd2315-7921-413a-baba-19127da495ba', 'HTTPStatusCode': 200, 'HTTPHeaders': {'x-amzn-requestid': 'a1bd2315-7921-413a-baba-19127da495ba', 'content-type': 'application/x-amz-json-1.1', 'content-length': '753', 'date': 'Mon, 16 Jun 2025 04:18:34 GMT'}, 'RetryAttempts': 0}}\n"
     ]
    }
   ],
   "source": [
    "import boto3\n",
    "\n",
    "sm_client =  boto3.client('sagemaker')\n",
    "\n",
    "response = sm_client.describe_endpoint(EndpointName=endpoint_name)\n",
    "print(response)"
   ]
  },
  {
   "cell_type": "code",
   "execution_count": null,
   "id": "e7704e92-5665-485a-9ccc-0697e85bb7f5",
   "metadata": {},
   "outputs": [],
   "source": []
  },
  {
   "cell_type": "code",
   "execution_count": null,
   "id": "7e013977-b09d-4fdd-978a-0ac21eddfb63",
   "metadata": {},
   "outputs": [],
   "source": []
  },
  {
   "cell_type": "code",
   "execution_count": null,
   "id": "ffa2a866-abbf-4a4b-aaed-c09a8a56991f",
   "metadata": {},
   "outputs": [],
   "source": []
  },
  {
   "cell_type": "code",
   "execution_count": null,
   "id": "427f00da-5371-444d-8b44-23d2eee27aac",
   "metadata": {
    "scrolled": true
   },
   "outputs": [],
   "source": []
  },
  {
   "cell_type": "code",
   "execution_count": null,
   "id": "72828643-7df2-4223-8600-25923c3b7f1f",
   "metadata": {},
   "outputs": [],
   "source": []
  },
  {
   "cell_type": "code",
   "execution_count": null,
   "id": "64ffd98f-4246-4da8-885e-4054613bc62f",
   "metadata": {},
   "outputs": [],
   "source": []
  },
  {
   "cell_type": "markdown",
   "id": "4248188e-f328-49ce-8210-b50b053ec403",
   "metadata": {},
   "source": [
    "### test endpoint"
   ]
  },
  {
   "cell_type": "code",
   "execution_count": 37,
   "id": "bf937c03-cd11-4946-a56e-9b946e0b933e",
   "metadata": {},
   "outputs": [],
   "source": [
    "from sagemaker.serializers import CSVSerializer\n",
    "from sagemaker.deserializers import JSONDeserializer"
   ]
  },
  {
   "cell_type": "code",
   "execution_count": 38,
   "id": "a35cbd49-ac13-42a7-80b9-d037c894a6b8",
   "metadata": {},
   "outputs": [],
   "source": [
    "# set the serializer and deserializer of the endpoint and then call an inference.\n",
    "rcf_predictor.serializer = CSVSerializer()\n",
    "rcf_predictor.deserializer = JSONDeserializer()"
   ]
  },
  {
   "cell_type": "code",
   "execution_count": 42,
   "id": "8de27bdf-c080-4d14-9cff-45d970c4e64c",
   "metadata": {
    "scrolled": true
   },
   "outputs": [
    {
     "name": "stdout",
     "output_type": "stream",
     "text": [
      "✅ Anomaly Score: {'scores': [{'score': 1.1975720641}]}\n"
     ]
    }
   ],
   "source": [
    "import numpy as np\n",
    "\n",
    "# Tạo sample data (x feature, vì feature_dim=..)\n",
    "test_data = np.array([[23.5, 10.2, 45, 52.1, 45]])\n",
    "\n",
    "# Convert thành chuỗi CSV\n",
    "test_payload = \",\".join(map(str, test_data[0]))\n",
    "\n",
    "# Gửi request đến endpoint\n",
    "response = rcf_predictor.predict(test_payload)\n",
    "\n",
    "# Hiển thị kết quả\n",
    "print(\"✅ Anomaly Score:\", response)\n"
   ]
  },
  {
   "cell_type": "code",
   "execution_count": 43,
   "id": "772345fe-e412-4e00-bb37-17055a494e03",
   "metadata": {},
   "outputs": [],
   "source": [
    "import numpy as np\n",
    "\n",
    "# Ví dụ test_data có 3 rows, 5 feature mỗi row\n",
    "test_data = np.array([\n",
    "    [23.5, 10.2, 45, 52.1, 45],\n",
    "    [12.0, 5.0, 10, 25.0, 1],\n",
    "    [56.2, 22.5, 12, 60.5, 3]\n",
    "])\n"
   ]
  },
  {
   "cell_type": "code",
   "execution_count": 44,
   "id": "c98a6c80-777c-480e-a6b6-83990427f065",
   "metadata": {},
   "outputs": [
    {
     "name": "stdout",
     "output_type": "stream",
     "text": [
      "[{'score': 1.1975720641}, {'score': 1.3898552455}, {'score': 1.4748013065}]\n"
     ]
    }
   ],
   "source": [
    "# Chuyển toàn bộ thành list các dòng CSV\n",
    "csv_lines = [\"{}\".format(\",\".join(map(str, row))) for row in test_data]\n",
    "\n",
    "# Ghép thành full payload\n",
    "csv_payload = \"\\n\".join(csv_lines)\n",
    "\n",
    "# Gọi endpoint\n",
    "response = rcf_predictor.predict(csv_payload)\n",
    "\n",
    "# Parse kết quả\n",
    "print(response['scores'])\n"
   ]
  },
  {
   "cell_type": "code",
   "execution_count": 47,
   "id": "e9844cb8-c110-4af8-a5f3-1aa28d94c3aa",
   "metadata": {},
   "outputs": [],
   "source": [
    "df1 = pd.read_csv(\"s3://swo-ngoctran-public/mlops/raw_data/2024-01/test_data_1.csv\", header=None)"
   ]
  },
  {
   "cell_type": "code",
   "execution_count": 48,
   "id": "3cfddd09-2bd6-4075-b39c-21b50293bad0",
   "metadata": {},
   "outputs": [
    {
     "data": {
      "text/html": [
       "<div>\n",
       "<style scoped>\n",
       "    .dataframe tbody tr th:only-of-type {\n",
       "        vertical-align: middle;\n",
       "    }\n",
       "\n",
       "    .dataframe tbody tr th {\n",
       "        vertical-align: top;\n",
       "    }\n",
       "\n",
       "    .dataframe thead th {\n",
       "        text-align: right;\n",
       "    }\n",
       "</style>\n",
       "<table border=\"1\" class=\"dataframe\">\n",
       "  <thead>\n",
       "    <tr style=\"text-align: right;\">\n",
       "      <th></th>\n",
       "      <th>0</th>\n",
       "      <th>1</th>\n",
       "      <th>2</th>\n",
       "      <th>3</th>\n",
       "      <th>4</th>\n",
       "      <th>5</th>\n",
       "    </tr>\n",
       "  </thead>\n",
       "  <tbody>\n",
       "    <tr>\n",
       "      <th>0</th>\n",
       "      <td>24.462900</td>\n",
       "      <td>11.687962</td>\n",
       "      <td>69.0</td>\n",
       "      <td>38.820152</td>\n",
       "      <td>2.0</td>\n",
       "      <td>36.187580</td>\n",
       "    </tr>\n",
       "    <tr>\n",
       "      <th>1</th>\n",
       "      <td>59.569523</td>\n",
       "      <td>22.902044</td>\n",
       "      <td>47.0</td>\n",
       "      <td>65.252070</td>\n",
       "      <td>1.0</td>\n",
       "      <td>61.175490</td>\n",
       "    </tr>\n",
       "    <tr>\n",
       "      <th>2</th>\n",
       "      <td>92.679620</td>\n",
       "      <td>37.568134</td>\n",
       "      <td>3.0</td>\n",
       "      <td>58.867897</td>\n",
       "      <td>3.0</td>\n",
       "      <td>57.127277</td>\n",
       "    </tr>\n",
       "    <tr>\n",
       "      <th>3</th>\n",
       "      <td>35.463380</td>\n",
       "      <td>30.888903</td>\n",
       "      <td>99.0</td>\n",
       "      <td>50.016003</td>\n",
       "      <td>2.0</td>\n",
       "      <td>50.375595</td>\n",
       "    </tr>\n",
       "    <tr>\n",
       "      <th>4</th>\n",
       "      <td>35.338905</td>\n",
       "      <td>12.470900</td>\n",
       "      <td>36.0</td>\n",
       "      <td>55.900116</td>\n",
       "      <td>3.0</td>\n",
       "      <td>43.998856</td>\n",
       "    </tr>\n",
       "  </tbody>\n",
       "</table>\n",
       "</div>"
      ],
      "text/plain": [
       "           0          1     2          3    4          5\n",
       "0  24.462900  11.687962  69.0  38.820152  2.0  36.187580\n",
       "1  59.569523  22.902044  47.0  65.252070  1.0  61.175490\n",
       "2  92.679620  37.568134   3.0  58.867897  3.0  57.127277\n",
       "3  35.463380  30.888903  99.0  50.016003  2.0  50.375595\n",
       "4  35.338905  12.470900  36.0  55.900116  3.0  43.998856"
      ]
     },
     "execution_count": 48,
     "metadata": {},
     "output_type": "execute_result"
    }
   ],
   "source": [
    "df1.head()"
   ]
  },
  {
   "cell_type": "code",
   "execution_count": null,
   "id": "35144457-a069-43d3-aa45-6e04927d84cf",
   "metadata": {},
   "outputs": [],
   "source": []
  },
  {
   "cell_type": "code",
   "execution_count": null,
   "id": "2f8cbe5b-d633-42dd-ab80-08be111532fe",
   "metadata": {},
   "outputs": [],
   "source": []
  },
  {
   "cell_type": "code",
   "execution_count": null,
   "id": "f039e7d9-b459-4f96-8dff-0629f1824073",
   "metadata": {},
   "outputs": [],
   "source": []
  },
  {
   "cell_type": "code",
   "execution_count": null,
   "id": "d4768057-f918-4dbc-888d-2db79aaf01d0",
   "metadata": {},
   "outputs": [],
   "source": []
  },
  {
   "cell_type": "code",
   "execution_count": null,
   "id": "a394c2da-d33a-4175-a3ee-cc73c381c782",
   "metadata": {},
   "outputs": [],
   "source": []
  },
  {
   "cell_type": "markdown",
   "id": "0c6d70bc-e727-422a-a41d-2fc5301ad4f6",
   "metadata": {},
   "source": [
    "### test source file"
   ]
  },
  {
   "cell_type": "code",
   "execution_count": 38,
   "id": "2f024a24-b7b7-47a0-b3ea-ff2c4ee5539c",
   "metadata": {},
   "outputs": [
    {
     "data": {
      "text/plain": [
       "'s3://s3-assetcare-bucket/test_training_data/test_data_1.csv'"
      ]
     },
     "execution_count": 38,
     "metadata": {},
     "output_type": "execute_result"
    }
   ],
   "source": [
    "filepath = s3_input_train + \"test_data_1.csv\"\n",
    "filepath"
   ]
  },
  {
   "cell_type": "code",
   "execution_count": 39,
   "id": "0f478c66-450e-4d56-9a43-70327d09e1c5",
   "metadata": {},
   "outputs": [
    {
     "data": {
      "text/html": [
       "<div>\n",
       "<style scoped>\n",
       "    .dataframe tbody tr th:only-of-type {\n",
       "        vertical-align: middle;\n",
       "    }\n",
       "\n",
       "    .dataframe tbody tr th {\n",
       "        vertical-align: top;\n",
       "    }\n",
       "\n",
       "    .dataframe thead th {\n",
       "        text-align: right;\n",
       "    }\n",
       "</style>\n",
       "<table border=\"1\" class=\"dataframe\">\n",
       "  <thead>\n",
       "    <tr style=\"text-align: right;\">\n",
       "      <th></th>\n",
       "      <th>0</th>\n",
       "      <th>1</th>\n",
       "      <th>2</th>\n",
       "      <th>3</th>\n",
       "      <th>4</th>\n",
       "      <th>5</th>\n",
       "    </tr>\n",
       "  </thead>\n",
       "  <tbody>\n",
       "    <tr>\n",
       "      <th>0</th>\n",
       "      <td>6.617475</td>\n",
       "      <td>44.402067</td>\n",
       "      <td>24</td>\n",
       "      <td>51.403564</td>\n",
       "      <td>2.0</td>\n",
       "      <td>38.251934</td>\n",
       "    </tr>\n",
       "    <tr>\n",
       "      <th>1</th>\n",
       "      <td>66.304580</td>\n",
       "      <td>36.007544</td>\n",
       "      <td>1</td>\n",
       "      <td>39.703215</td>\n",
       "      <td>2.0</td>\n",
       "      <td>37.998071</td>\n",
       "    </tr>\n",
       "    <tr>\n",
       "      <th>2</th>\n",
       "      <td>67.257537</td>\n",
       "      <td>8.842180</td>\n",
       "      <td>34</td>\n",
       "      <td>47.028529</td>\n",
       "      <td>1.0</td>\n",
       "      <td>58.797680</td>\n",
       "    </tr>\n",
       "    <tr>\n",
       "      <th>3</th>\n",
       "      <td>82.491462</td>\n",
       "      <td>26.073707</td>\n",
       "      <td>98</td>\n",
       "      <td>60.475596</td>\n",
       "      <td>3.0</td>\n",
       "      <td>64.952026</td>\n",
       "    </tr>\n",
       "    <tr>\n",
       "      <th>4</th>\n",
       "      <td>96.255405</td>\n",
       "      <td>30.784736</td>\n",
       "      <td>34</td>\n",
       "      <td>51.049524</td>\n",
       "      <td>2.0</td>\n",
       "      <td>52.215663</td>\n",
       "    </tr>\n",
       "  </tbody>\n",
       "</table>\n",
       "</div>"
      ],
      "text/plain": [
       "           0          1   2          3    4          5\n",
       "0   6.617475  44.402067  24  51.403564  2.0  38.251934\n",
       "1  66.304580  36.007544   1  39.703215  2.0  37.998071\n",
       "2  67.257537   8.842180  34  47.028529  1.0  58.797680\n",
       "3  82.491462  26.073707  98  60.475596  3.0  64.952026\n",
       "4  96.255405  30.784736  34  51.049524  2.0  52.215663"
      ]
     },
     "execution_count": 39,
     "metadata": {},
     "output_type": "execute_result"
    }
   ],
   "source": [
    "df_test = pd.read_csv(filepath, header=None)\n",
    "df_test.head()"
   ]
  },
  {
   "cell_type": "code",
   "execution_count": 40,
   "id": "a72abacc-af18-4304-89e9-10b0d6339cf3",
   "metadata": {},
   "outputs": [
    {
     "data": {
      "text/plain": [
       "4\n",
       "0.01    28\n",
       "3.00    26\n",
       "2.00    24\n",
       "1.00    23\n",
       "Name: count, dtype: int64"
      ]
     },
     "execution_count": 40,
     "metadata": {},
     "output_type": "execute_result"
    }
   ],
   "source": [
    "df_test[4].value_counts()"
   ]
  },
  {
   "cell_type": "code",
   "execution_count": 41,
   "id": "554963e8-2729-4cf7-a0ca-8d472fec1468",
   "metadata": {},
   "outputs": [
    {
     "data": {
      "text/plain": [
       "2\n",
       "93    5\n",
       "34    5\n",
       "31    3\n",
       "78    3\n",
       "49    3\n",
       "     ..\n",
       "94    1\n",
       "19    1\n",
       "85    1\n",
       "26    1\n",
       "45    1\n",
       "Name: count, Length: 65, dtype: int64"
      ]
     },
     "execution_count": 41,
     "metadata": {},
     "output_type": "execute_result"
    }
   ],
   "source": [
    "df_test[2].value_counts()"
   ]
  },
  {
   "cell_type": "code",
   "execution_count": null,
   "id": "edd37e91-9509-4272-9d26-541951fe6756",
   "metadata": {},
   "outputs": [],
   "source": []
  },
  {
   "cell_type": "code",
   "execution_count": null,
   "id": "c3b582f2-4411-4749-baa5-71f00e496241",
   "metadata": {},
   "outputs": [],
   "source": []
  },
  {
   "cell_type": "markdown",
   "id": "4024f4c1-4ac6-4bfb-9c2e-7d5f97e126c1",
   "metadata": {},
   "source": [
    "### appendix"
   ]
  },
  {
   "cell_type": "code",
   "execution_count": null,
   "id": "fb23b8d6-517f-43ff-955b-2205fa034741",
   "metadata": {},
   "outputs": [],
   "source": [
    "import boto3\n",
    "import pandas as pd\n",
    "import numpy as np\n",
    "import random\n",
    "import io\n",
    "\n",
    "# Thông tin S3\n",
    "s3_bucket = \"s3-assetcare-bucket\"\n",
    "s3_prefix = \"raw_data_csv/\"  # Thư mục trong bucket\n",
    "\n",
    "# Khởi tạo client S3\n",
    "s3_client = boto3.client(\"s3\")\n",
    "\n",
    "# Hàm tạo dữ liệu ngẫu nhiên và upload lên S3\n",
    "def generate_and_upload_csv(file_name, num_rows):\n",
    "    # Tạo dữ liệu giả lập\n",
    "    data = {\n",
    "        \"feature_1\": np.random.rand(num_rows) * 100,\n",
    "        \"feature_2\": np.random.rand(num_rows) * 50,\n",
    "        \"feature_3\": np.random.randint(1, 100, num_rows),\n",
    "        \"feature_4\": np.random.normal(50, 10, num_rows),\n",
    "        \"feature_5\": np.random.choice([0, 1], num_rows)  # Nhị phân\n",
    "    }\n",
    "    \n",
    "    df = pd.DataFrame(data)\n",
    "    \n",
    "    # Chuyển DataFrame thành buffer CSV\n",
    "    csv_buffer = io.StringIO()\n",
    "    df.to_csv(csv_buffer, index=False)\n",
    "    \n",
    "    # Upload lên S3\n",
    "    s3_client.put_object(\n",
    "        Bucket=s3_bucket,\n",
    "        Key=f\"{s3_prefix}{file_name}\",\n",
    "        Body=csv_buffer.getvalue()\n",
    "    )\n",
    "    \n",
    "    print(f\"Đã upload {file_name} lên S3: s3://{s3_bucket}/{s3_prefix}{file_name}\")\n",
    "\n",
    "# Tạo và upload 2 file CSV\n",
    "generate_and_upload_csv(\"test_data_1.csv\", random.randint(100, 120))\n",
    "generate_and_upload_csv(\"test_data_2.csv\", random.randint(100, 120))\n"
   ]
  },
  {
   "cell_type": "code",
   "execution_count": null,
   "id": "5e99dc47-10ea-4c08-93d2-37b29ca17885",
   "metadata": {},
   "outputs": [],
   "source": [
    "import sagemaker\n",
    "import boto3\n",
    "from sagemaker.estimator import Estimator\n",
    "from sagemaker.inputs import TrainingInput\n",
    "\n",
    "# Khởi tạo session\n",
    "sagemaker_session = sagemaker.Session()\n",
    "role = sagemaker.get_execution_role()\n",
    "region = boto3.Session().region_name\n",
    "\n",
    "# Thông tin S3\n",
    "s3_bucket = \"s3-assetcare-bucket\"\n",
    "prefix = \"raw_data_csv\"\n",
    "s3_input_train = f\"s3://{s3_bucket}/{prefix}/\"\n",
    "\n",
    "# Lấy container mới nhất của Random Cut Forest trên SageMaker\n",
    "rcf_container = sagemaker.image_uris.retrieve(\"randomcutforest\", region)\n",
    "\n",
    "# Cấu hình SageMaker Estimator\n",
    "rcf_estimator = Estimator(\n",
    "    image_uri=rcf_container,\n",
    "    role=role,\n",
    "    instance_count=1,  # Nếu dữ liệu lớn, có thể tăng lên 2-3 instance\n",
    "    instance_type=\"ml.m5.xlarge\",\n",
    "    output_path=f\"s3://{s3_bucket}/model_output\",\n",
    "    sagemaker_session=sagemaker_session,\n",
    "    enable_network_isolation=True,\n",
    ")\n",
    "\n",
    "# **Thêm thông số training: feature_dim = 5**\n",
    "rcf_estimator.set_hyperparameters(\n",
    "    feature_dim=4,  # Số lượng cột đặc trưng - actual is 5\n",
    "    num_samples_per_tree=512,  # Mặc định\n",
    "    num_trees=50  # Mặc định\n",
    ")\n",
    "\n",
    "# Định nghĩa dữ liệu đầu vào với \"ShardedByS3Key\"\n",
    "train_input = TrainingInput(\n",
    "    s3_input_train,\n",
    "    distribution=\"ShardedByS3Key\",  # Chia dữ liệu theo file S3\n",
    "    content_type=\"text/csv\",\n",
    "    input_mode=\"Pipe\",  # Dùng Pipe Mode để stream data từ S3\n",
    ")\n",
    "\n",
    "# Train model\n",
    "rcf_estimator.fit({\"train\": train_input}, wait=True)\n"
   ]
  },
  {
   "cell_type": "code",
   "execution_count": null,
   "id": "7fb448e9-c1a2-4cfd-a03b-a15490fbc576",
   "metadata": {},
   "outputs": [],
   "source": [
    "from sagemaker.predictor import Predictor\n",
    "from sagemaker.serializers import CSVSerializer\n",
    "from sagemaker.deserializers import JSONDeserializer\n",
    "\n",
    "# Deploy model thành endpoint\n",
    "rcf_predictor = rcf_estimator.deploy(\n",
    "    initial_instance_count=1,  # Số lượng instance chạy endpoint\n",
    "    instance_type=\"ml.m5.large\"  # Chọn instance phù hợp\n",
    ")\n",
    "\n",
    "# Cấu hình predictor\n",
    "rcf_predictor.serializer = CSVSerializer()\n",
    "rcf_predictor.deserializer = JSONDeserializer()\n",
    "\n",
    "print(f\"✅ Model đã deploy thành công tại endpoint: {rcf_predictor.endpoint_name}\")\n"
   ]
  }
 ],
 "metadata": {
  "kernelspec": {
   "display_name": "Python 3 (ipykernel)",
   "language": "python",
   "name": "python3"
  },
  "language_info": {
   "codemirror_mode": {
    "name": "ipython",
    "version": 3
   },
   "file_extension": ".py",
   "mimetype": "text/x-python",
   "name": "python",
   "nbconvert_exporter": "python",
   "pygments_lexer": "ipython3",
   "version": "3.12.9"
  }
 },
 "nbformat": 4,
 "nbformat_minor": 5
}
