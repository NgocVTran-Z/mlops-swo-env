{
 "cells": [
  {
   "cell_type": "code",
   "execution_count": 1,
   "id": "dc02c4c7-ac76-46f9-8a9d-cdec4a0c310c",
   "metadata": {},
   "outputs": [
    {
     "name": "stdout",
     "output_type": "stream",
     "text": [
      "sagemaker.config INFO - Not applying SDK defaults from location: /etc/xdg/sagemaker/config.yaml\n",
      "sagemaker.config INFO - Not applying SDK defaults from location: /home/sagemaker-user/.config/sagemaker/config.yaml\n"
     ]
    }
   ],
   "source": [
    "import sagemaker\n",
    "import boto3\n",
    "from sagemaker.estimator import Estimator\n",
    "from sagemaker.inputs import TrainingInput"
   ]
  },
  {
   "cell_type": "code",
   "execution_count": 2,
   "id": "99ed2cb5-e5ec-4d8b-b138-ab6b703b7e7c",
   "metadata": {},
   "outputs": [],
   "source": [
    "import pandas as pd\n",
    "import numpy as np"
   ]
  },
  {
   "cell_type": "code",
   "execution_count": 3,
   "id": "2099dcd0-57a5-4907-9494-1d3975a71ceb",
   "metadata": {},
   "outputs": [],
   "source": [
    "from io import StringIO"
   ]
  },
  {
   "cell_type": "code",
   "execution_count": 4,
   "id": "f854f34a-e8fc-4356-b3d7-923e3d30690d",
   "metadata": {},
   "outputs": [],
   "source": [
    "import matplotlib.pyplot as plt\n",
    "import seaborn as sns"
   ]
  },
  {
   "cell_type": "code",
   "execution_count": 5,
   "id": "543c0023-7b99-4f3a-aea4-8d8baee418b4",
   "metadata": {},
   "outputs": [],
   "source": [
    "from sagemaker.model import Model\n",
    "from sagemaker.transformer import Transformer"
   ]
  },
  {
   "cell_type": "code",
   "execution_count": null,
   "id": "33aaeae9-ed82-4665-949c-4b5ce40374a9",
   "metadata": {},
   "outputs": [],
   "source": []
  },
  {
   "cell_type": "code",
   "execution_count": null,
   "id": "89be065d-48e3-4fbb-b423-3485eb156cc8",
   "metadata": {},
   "outputs": [],
   "source": []
  },
  {
   "cell_type": "code",
   "execution_count": 6,
   "id": "a4433dde-2652-43ab-bccc-67284d666c53",
   "metadata": {},
   "outputs": [],
   "source": [
    "# Khởi tạo session\n",
    "sagemaker_session = sagemaker.Session()\n",
    "role = sagemaker.get_execution_role()\n",
    "region = boto3.Session().region_name"
   ]
  },
  {
   "cell_type": "code",
   "execution_count": null,
   "id": "d6268f7d-7a72-4ab9-8cfd-4c86f80683eb",
   "metadata": {},
   "outputs": [],
   "source": []
  },
  {
   "cell_type": "code",
   "execution_count": null,
   "id": "d3e83f35-48a0-4619-aa5c-6b13d1db296c",
   "metadata": {},
   "outputs": [],
   "source": []
  },
  {
   "cell_type": "code",
   "execution_count": 7,
   "id": "0b093beb-7ee9-4dc4-b81d-7f765237e904",
   "metadata": {},
   "outputs": [],
   "source": [
    "# tag_name_speed = \"DWA_ACTUAL_MOTOR_SPEED\"\n",
    "# # tag_name_speed = \"DWB_ACTUAL_MOTOR_SPEED\"\n",
    "# # tag_name_speed = \"DWC_ACTUAL_MOTOR_SPEED\""
   ]
  },
  {
   "cell_type": "code",
   "execution_count": 8,
   "id": "100906e1-68ac-4365-a0f1-21198dbffd13",
   "metadata": {},
   "outputs": [],
   "source": [
    "# cluster = 2"
   ]
  },
  {
   "cell_type": "code",
   "execution_count": 9,
   "id": "63135011-17c2-4f3f-beab-4602b856a21c",
   "metadata": {},
   "outputs": [],
   "source": [
    "# unit = \"DegC\""
   ]
  },
  {
   "cell_type": "code",
   "execution_count": 10,
   "id": "f8acaca8-75ec-4056-a470-af5a5c088aa0",
   "metadata": {},
   "outputs": [],
   "source": [
    "# # tag_name = \"DW_AMBIENT_TEMP\"\n",
    "\n",
    "# tag_name = \"DW_GEARBOX1_LO_PRESS\""
   ]
  },
  {
   "cell_type": "code",
   "execution_count": 65,
   "id": "e1ce2575-e52d-4f73-a139-1f4a1b905401",
   "metadata": {},
   "outputs": [],
   "source": [
    "# # DegC\n",
    "# tag_name_units = [\n",
    "#     'DWC_RTD1_TEMP', \n",
    "#     'DWB_EXHAUST_TEMP', \n",
    "#     'DW_GEARBOX1_LO_TEMP',\n",
    "#     'DWB_RTD2_TEMP', \n",
    "#     'DW_GEARBOX2_LO_TEMP', \n",
    "#     'DWA_RTD2_TEMP',\n",
    "#     # 'TD_RTD2_TEMP', \n",
    "#     'DWA_RTD3_TEMP', \n",
    "#     # 'TD_RTD3_TEMP', \n",
    "#     'DWB_RTD3_TEMP',\n",
    "#     'DWA_RTD1_TEMP', \n",
    "#     'DWA_EXHAUST_TEMP', \n",
    "#     'DW_GEARBOX2_LO_PRESS',\n",
    "#     # 'TD_RTD1_TEMP', \n",
    "#     'DWC_RTD3_TEMP', \n",
    "#     'DW_GEARBOX1_LO_PRESS',\n",
    "#     'DWC_RTD2_TEMP', \n",
    "#     'DW_AMBIENT_TEMP', \n",
    "#     'DWB_RTD1_TEMP',\n",
    "#     'DWC_EXHAUST_TEMP'\n",
    "# ]\n",
    "# tag_name_units"
   ]
  },
  {
   "cell_type": "code",
   "execution_count": 66,
   "id": "43d9073e-3bde-4564-8238-4f60c46928c0",
   "metadata": {},
   "outputs": [],
   "source": [
    "# filename = \"\""
   ]
  },
  {
   "cell_type": "code",
   "execution_count": 22,
   "id": "7e97e1e3-88b2-4e44-9829-3e88a2621c01",
   "metadata": {},
   "outputs": [
    {
     "data": {
      "text/plain": [
       "'s3://swo-ngoctran-public/mlops/raw_data/2024-01'"
      ]
     },
     "execution_count": 22,
     "metadata": {},
     "output_type": "execute_result"
    }
   ],
   "source": [
    "# s3_input_train = f\"s3://s3-assetcare-bucket/features_store2/training/ready/{tag_name_speed}_cluster{cluster}_{unit}_{tag_name}\"\n",
    "s3_input_train = \"s3://swo-ngoctran-public/mlops/raw_data/2024-01\"\n",
    "s3_input_train"
   ]
  },
  {
   "cell_type": "code",
   "execution_count": 23,
   "id": "e8f1abee-a05c-401e-a8b7-6369f58f481e",
   "metadata": {},
   "outputs": [],
   "source": [
    "# output_path = f\"s3://s3-assetcare-bucket/features_store2/result/{tag_name_speed}_cluster{cluster}_{unit}_{tag_name}/\"\n",
    "output_path = \"s3://swo-ngoctran-public/mlops/raw_data/2024-01/\""
   ]
  },
  {
   "cell_type": "code",
   "execution_count": 24,
   "id": "f78b17a1-64c9-412a-9eba-41dce61518d6",
   "metadata": {},
   "outputs": [
    {
     "data": {
      "text/plain": [
       "'test_training_part_0000.csv'"
      ]
     },
     "execution_count": 24,
     "metadata": {},
     "output_type": "execute_result"
    }
   ],
   "source": [
    "# filename = f\"{tag_name_speed}_cluster{str(cluster)}_{unit}_{tag_name}_origin.csv\"\n",
    "filename = \"test_training_part_0000.csv\"\n",
    "filename"
   ]
  },
  {
   "cell_type": "code",
   "execution_count": 25,
   "id": "75e6d133-0133-4734-9fde-17ce10178223",
   "metadata": {},
   "outputs": [
    {
     "data": {
      "text/plain": [
       "'s3://swo-ngoctran-public/mlops/raw_data/2024-01/test_training_part_0000.csv'"
      ]
     },
     "execution_count": 25,
     "metadata": {},
     "output_type": "execute_result"
    }
   ],
   "source": [
    "s3_input_train + \"/\" + filename"
   ]
  },
  {
   "cell_type": "code",
   "execution_count": 26,
   "id": "a85502a2-9fb3-49cd-a0ee-fdbeed2f2dea",
   "metadata": {},
   "outputs": [],
   "source": [
    "# df = pd.read_csv(s3_input_train + \"/\" + filename, nrows=1, header=None)\n",
    "# num_columns = df.shape[1]\n",
    "# num_columns"
   ]
  },
  {
   "cell_type": "code",
   "execution_count": 27,
   "id": "f2f46eca-bfde-4d01-b2f8-204e649c4928",
   "metadata": {
    "scrolled": true
   },
   "outputs": [
    {
     "data": {
      "text/plain": [
       "8"
      ]
     },
     "execution_count": 27,
     "metadata": {},
     "output_type": "execute_result"
    }
   ],
   "source": [
    "df = pd.read_csv(s3_input_train + \"/\" + filename, nrows=1, header=None)\n",
    "num_columns = df.shape[1]\n",
    "num_columns"
   ]
  },
  {
   "cell_type": "code",
   "execution_count": 33,
   "id": "2a54a7f9-4d78-4fde-a806-11454f5d7bb1",
   "metadata": {},
   "outputs": [
    {
     "data": {
      "text/html": [
       "<div>\n",
       "<style scoped>\n",
       "    .dataframe tbody tr th:only-of-type {\n",
       "        vertical-align: middle;\n",
       "    }\n",
       "\n",
       "    .dataframe tbody tr th {\n",
       "        vertical-align: top;\n",
       "    }\n",
       "\n",
       "    .dataframe thead th {\n",
       "        text-align: right;\n",
       "    }\n",
       "</style>\n",
       "<table border=\"1\" class=\"dataframe\">\n",
       "  <thead>\n",
       "    <tr style=\"text-align: right;\">\n",
       "      <th></th>\n",
       "      <th>0</th>\n",
       "      <th>1</th>\n",
       "      <th>2</th>\n",
       "      <th>3</th>\n",
       "      <th>4</th>\n",
       "      <th>5</th>\n",
       "      <th>6</th>\n",
       "      <th>7</th>\n",
       "    </tr>\n",
       "  </thead>\n",
       "  <tbody>\n",
       "    <tr>\n",
       "      <th>0</th>\n",
       "      <td>8727.927</td>\n",
       "      <td>8728.56</td>\n",
       "      <td>8728.56</td>\n",
       "      <td>8728.877</td>\n",
       "      <td>8729.511</td>\n",
       "      <td>8729.511</td>\n",
       "      <td>8730.144</td>\n",
       "      <td>0.0</td>\n",
       "    </tr>\n",
       "  </tbody>\n",
       "</table>\n",
       "</div>"
      ],
      "text/plain": [
       "          0        1        2         3         4         5         6    7\n",
       "0  8727.927  8728.56  8728.56  8728.877  8729.511  8729.511  8730.144  0.0"
      ]
     },
     "execution_count": 33,
     "metadata": {},
     "output_type": "execute_result"
    }
   ],
   "source": [
    "df.head()"
   ]
  },
  {
   "cell_type": "code",
   "execution_count": null,
   "id": "a0976274-9f85-4b86-aba3-190a7bf88f21",
   "metadata": {},
   "outputs": [],
   "source": []
  },
  {
   "cell_type": "code",
   "execution_count": 31,
   "id": "2a893732-8158-4a17-8761-fbdb57dfac08",
   "metadata": {},
   "outputs": [],
   "source": [
    "def training_model(s3_input_train, output_path, feature_dim, num_samples_per_tree, num_trees):\n",
    "    # Lấy container mới nhất của Random Cut Forest trên SageMaker\n",
    "    rcf_container = sagemaker.image_uris.retrieve(\"randomcutforest\", region)\n",
    "\n",
    "    # Cấu hình SageMaker Estimator\n",
    "    rcf_estimator = Estimator(\n",
    "        image_uri=rcf_container,\n",
    "        role=role,\n",
    "        instance_count=1,  # Nếu dữ liệu lớn, có thể tăng lên 2-3 instance\n",
    "        instance_type=\"ml.m5.xlarge\",\n",
    "        output_path=output_path,\n",
    "        sagemaker_session=sagemaker_session,\n",
    "        enable_network_isolation=True,\n",
    "    )\n",
    "\n",
    "    # **Thêm thông số training: feature_dim = 4**\n",
    "    rcf_estimator.set_hyperparameters(\n",
    "        # shingle_size=10,\n",
    "        feature_dim=feature_dim-1,  # Số lượng cột đặc trưng\n",
    "        num_samples_per_tree=num_samples_per_tree,  \n",
    "        num_trees=num_trees  \n",
    "    )\n",
    "\n",
    "    # Định nghĩa dữ liệu đầu vào với \"ShardedByS3Key\"\n",
    "    train_input = TrainingInput(\n",
    "        s3_input_train,\n",
    "        distribution=\"ShardedByS3Key\",  # Chia dữ liệu theo file S3\n",
    "        content_type=\"text/csv\",\n",
    "        input_mode=\"Pipe\",  # Dùng Pipe Mode để stream data từ S3\n",
    "    )\n",
    "\n",
    "    # Train model\n",
    "    rcf_estimator.fit({\"train\": train_input}, wait=True)\n",
    "    return rcf_estimator"
   ]
  },
  {
   "cell_type": "code",
   "execution_count": 34,
   "id": "9a424993-5268-4d61-a5b9-65708e3eaa3e",
   "metadata": {},
   "outputs": [
    {
     "data": {
      "text/plain": [
       "'s3://swo-ngoctran-public/mlops/raw_data/2024-01'"
      ]
     },
     "execution_count": 34,
     "metadata": {},
     "output_type": "execute_result"
    }
   ],
   "source": [
    "s3_input_train"
   ]
  },
  {
   "cell_type": "code",
   "execution_count": 35,
   "id": "0eb67796-137e-41a2-93c7-eca7266e397f",
   "metadata": {
    "scrolled": true
   },
   "outputs": [
    {
     "name": "stderr",
     "output_type": "stream",
     "text": [
      "INFO:sagemaker.image_uris:Same images used for training and inference. Defaulting to image scope: inference.\n",
      "INFO:sagemaker.image_uris:Ignoring unnecessary instance type: None.\n",
      "INFO:sagemaker.telemetry.telemetry_logging:SageMaker Python SDK will collect telemetry to help us better understand our user's needs, diagnose issues, and deliver additional features.\n",
      "To opt out of telemetry, please disable via TelemetryOptOut parameter in SDK defaults config. For more information, refer to https://sagemaker.readthedocs.io/en/stable/overview.html#configuring-and-using-defaults-with-the-sagemaker-python-sdk.\n",
      "INFO:sagemaker:Creating training-job with name: randomcutforest-2025-06-16-04-01-49-756\n"
     ]
    },
    {
     "name": "stdout",
     "output_type": "stream",
     "text": [
      "2025-06-16 04:01:49 Starting - Starting the training job...\n",
      "2025-06-16 04:02:19 Starting - Preparing the instances for training...\n",
      "2025-06-16 04:02:40 Downloading - Downloading input data...\n",
      "2025-06-16 04:03:00 Downloading - Downloading the training image........\u001b[34mDocker entrypoint called with argument(s): train\u001b[0m\n",
      "\u001b[34mRunning default environment configuration script\u001b[0m\n",
      "\u001b[34m/opt/amazon/lib/python3.8/site-packages/mxnet/model.py:97: SyntaxWarning: \"is\" with a literal. Did you mean \"==\"?\n",
      "  if num_device is 1 and 'dist' not in kvstore:\u001b[0m\n",
      "\u001b[34m/opt/amazon/lib/python3.8/site-packages/scipy/optimize/_shgo.py:495: SyntaxWarning: \"is\" with a literal. Did you mean \"==\"?\n",
      "  if cons['type'] is 'ineq':\u001b[0m\n",
      "\u001b[34m/opt/amazon/lib/python3.8/site-packages/scipy/optimize/_shgo.py:743: SyntaxWarning: \"is not\" with a literal. Did you mean \"!=\"?\n",
      "  if len(self.X_min) is not 0:\u001b[0m\n",
      "\u001b[34m[06/16/2025 04:04:38 INFO 140657515337536] Reading default configuration from /opt/amazon/lib/python3.8/site-packages/algorithm/resources/default-conf.json: {'num_samples_per_tree': 256, 'num_trees': 100, 'force_dense': 'true', 'eval_metrics': ['accuracy', 'precision_recall_fscore'], 'epochs': 1, 'mini_batch_size': 1000, '_log_level': 'info', '_kvstore': 'dist_async', '_num_kv_servers': 'auto', '_num_gpus': 'auto', '_tuning_objective_metric': '', '_ftp_port': 8999}\u001b[0m\n",
      "\u001b[34m[06/16/2025 04:04:38 INFO 140657515337536] Merging with provided configuration from /opt/ml/input/config/hyperparameters.json: {'feature_dim': '7', 'num_samples_per_tree': '1024', 'num_trees': '300'}\u001b[0m\n",
      "\u001b[34m[06/16/2025 04:04:38 INFO 140657515337536] Final configuration: {'num_samples_per_tree': '1024', 'num_trees': '300', 'force_dense': 'true', 'eval_metrics': ['accuracy', 'precision_recall_fscore'], 'epochs': 1, 'mini_batch_size': 1000, '_log_level': 'info', '_kvstore': 'dist_async', '_num_kv_servers': 'auto', '_num_gpus': 'auto', '_tuning_objective_metric': '', '_ftp_port': 8999, 'feature_dim': '7'}\u001b[0m\n",
      "\u001b[34m[06/16/2025 04:04:38 WARNING 140657515337536] Loggers have already been setup.\u001b[0m\n",
      "\u001b[34m[06/16/2025 04:04:38 INFO 140657515337536] Launching parameter server for role scheduler\u001b[0m\n",
      "\u001b[34m[06/16/2025 04:04:38 INFO 140657515337536] {'ENVROOT': '/opt/amazon', 'PROTOCOL_BUFFERS_PYTHON_IMPLEMENTATION': 'cpp', 'HOSTNAME': 'algo-1', 'TRAINING_JOB_NAME': 'randomcutforest-2025-06-16-04-01-49-756', 'NVIDIA_REQUIRE_CUDA': 'cuda>=9.0', 'TRAINING_JOB_ARN': 'arn:aws:sagemaker:us-east-1:975049948583:training-job/randomcutforest-2025-06-16-04-01-49-756', 'CANONICAL_ENVROOT': '/opt/amazon', 'PYTHONUNBUFFERED': 'TRUE', 'NVIDIA_VISIBLE_DEVICES': 'all', 'LD_LIBRARY_PATH': '/opt/amazon/lib/python3.8/site-packages/cv2/../../../../lib:/usr/local/nvidia/lib64:/opt/amazon/lib', 'MXNET_KVSTORE_BIGARRAY_BOUND': '400000000', 'NVIDIA_DRIVER_CAPABILITIES': 'compute,utility', 'SAGEMAKER_MANAGED_WARMPOOL_CACHE_DIRECTORY': '/opt/ml/sagemaker/warmpoolcache', 'PATH': '/opt/amazon/bin:/usr/local/nvidia/bin:/usr/local/sbin:/usr/local/bin:/usr/sbin:/usr/bin:/sbin:/bin', 'PWD': '/', 'LANG': 'en_US.utf8', 'AWS_REGION': 'us-east-1', 'SAGEMAKER_METRICS_DIRECTORY': '/opt/ml/output/metrics/sagemaker', 'CUDA_VERSION': '11.1', 'HOME': '/root', 'SHLVL': '1', 'CUDA_COMPAT_NDRIVER_SUPPORTED_VERSION': '455.32.00', 'PROTOCOL_BUFFERS_PYTHON_IMPLEMENTATION_VERSION': '2', 'OMP_NUM_THREADS': '2', 'DMLC_INTERFACE': 'eth0', 'SAGEMAKER_HTTP_PORT': '8080', 'SAGEMAKER_DATA_PATH': '/opt/ml', 'KMP_DUPLICATE_LIB_OK': 'True', 'KMP_INIT_AT_FORK': 'FALSE'}\u001b[0m\n",
      "\u001b[34m[06/16/2025 04:04:38 INFO 140657515337536] envs={'ENVROOT': '/opt/amazon', 'PROTOCOL_BUFFERS_PYTHON_IMPLEMENTATION': 'cpp', 'HOSTNAME': 'algo-1', 'TRAINING_JOB_NAME': 'randomcutforest-2025-06-16-04-01-49-756', 'NVIDIA_REQUIRE_CUDA': 'cuda>=9.0', 'TRAINING_JOB_ARN': 'arn:aws:sagemaker:us-east-1:975049948583:training-job/randomcutforest-2025-06-16-04-01-49-756', 'CANONICAL_ENVROOT': '/opt/amazon', 'PYTHONUNBUFFERED': 'TRUE', 'NVIDIA_VISIBLE_DEVICES': 'all', 'LD_LIBRARY_PATH': '/opt/amazon/lib/python3.8/site-packages/cv2/../../../../lib:/usr/local/nvidia/lib64:/opt/amazon/lib', 'MXNET_KVSTORE_BIGARRAY_BOUND': '400000000', 'NVIDIA_DRIVER_CAPABILITIES': 'compute,utility', 'SAGEMAKER_MANAGED_WARMPOOL_CACHE_DIRECTORY': '/opt/ml/sagemaker/warmpoolcache', 'PATH': '/opt/amazon/bin:/usr/local/nvidia/bin:/usr/local/sbin:/usr/local/bin:/usr/sbin:/usr/bin:/sbin:/bin', 'PWD': '/', 'LANG': 'en_US.utf8', 'AWS_REGION': 'us-east-1', 'SAGEMAKER_METRICS_DIRECTORY': '/opt/ml/output/metrics/sagemaker', 'CUDA_VERSION': '11.1', 'HOME': '/root', 'SHLVL': '1', 'CUDA_COMPAT_NDRIVER_SUPPORTED_VERSION': '455.32.00', 'PROTOCOL_BUFFERS_PYTHON_IMPLEMENTATION_VERSION': '2', 'OMP_NUM_THREADS': '2', 'DMLC_INTERFACE': 'eth0', 'SAGEMAKER_HTTP_PORT': '8080', 'SAGEMAKER_DATA_PATH': '/opt/ml', 'KMP_DUPLICATE_LIB_OK': 'True', 'KMP_INIT_AT_FORK': 'FALSE', 'DMLC_ROLE': 'scheduler', 'DMLC_PS_ROOT_URI': '172.16.137.164', 'DMLC_PS_ROOT_PORT': '9000', 'DMLC_NUM_SERVER': '1', 'DMLC_NUM_WORKER': '1'}\u001b[0m\n",
      "\u001b[34m[06/16/2025 04:04:38 INFO 140657515337536] Launching parameter server for role server\u001b[0m\n",
      "\u001b[34m[06/16/2025 04:04:38 INFO 140657515337536] {'ENVROOT': '/opt/amazon', 'PROTOCOL_BUFFERS_PYTHON_IMPLEMENTATION': 'cpp', 'HOSTNAME': 'algo-1', 'TRAINING_JOB_NAME': 'randomcutforest-2025-06-16-04-01-49-756', 'NVIDIA_REQUIRE_CUDA': 'cuda>=9.0', 'TRAINING_JOB_ARN': 'arn:aws:sagemaker:us-east-1:975049948583:training-job/randomcutforest-2025-06-16-04-01-49-756', 'CANONICAL_ENVROOT': '/opt/amazon', 'PYTHONUNBUFFERED': 'TRUE', 'NVIDIA_VISIBLE_DEVICES': 'all', 'LD_LIBRARY_PATH': '/opt/amazon/lib/python3.8/site-packages/cv2/../../../../lib:/usr/local/nvidia/lib64:/opt/amazon/lib', 'MXNET_KVSTORE_BIGARRAY_BOUND': '400000000', 'NVIDIA_DRIVER_CAPABILITIES': 'compute,utility', 'SAGEMAKER_MANAGED_WARMPOOL_CACHE_DIRECTORY': '/opt/ml/sagemaker/warmpoolcache', 'PATH': '/opt/amazon/bin:/usr/local/nvidia/bin:/usr/local/sbin:/usr/local/bin:/usr/sbin:/usr/bin:/sbin:/bin', 'PWD': '/', 'LANG': 'en_US.utf8', 'AWS_REGION': 'us-east-1', 'SAGEMAKER_METRICS_DIRECTORY': '/opt/ml/output/metrics/sagemaker', 'CUDA_VERSION': '11.1', 'HOME': '/root', 'SHLVL': '1', 'CUDA_COMPAT_NDRIVER_SUPPORTED_VERSION': '455.32.00', 'PROTOCOL_BUFFERS_PYTHON_IMPLEMENTATION_VERSION': '2', 'OMP_NUM_THREADS': '2', 'DMLC_INTERFACE': 'eth0', 'SAGEMAKER_HTTP_PORT': '8080', 'SAGEMAKER_DATA_PATH': '/opt/ml', 'KMP_DUPLICATE_LIB_OK': 'True', 'KMP_INIT_AT_FORK': 'FALSE'}\u001b[0m\n",
      "\u001b[34m[06/16/2025 04:04:38 INFO 140657515337536] envs={'ENVROOT': '/opt/amazon', 'PROTOCOL_BUFFERS_PYTHON_IMPLEMENTATION': 'cpp', 'HOSTNAME': 'algo-1', 'TRAINING_JOB_NAME': 'randomcutforest-2025-06-16-04-01-49-756', 'NVIDIA_REQUIRE_CUDA': 'cuda>=9.0', 'TRAINING_JOB_ARN': 'arn:aws:sagemaker:us-east-1:975049948583:training-job/randomcutforest-2025-06-16-04-01-49-756', 'CANONICAL_ENVROOT': '/opt/amazon', 'PYTHONUNBUFFERED': 'TRUE', 'NVIDIA_VISIBLE_DEVICES': 'all', 'LD_LIBRARY_PATH': '/opt/amazon/lib/python3.8/site-packages/cv2/../../../../lib:/usr/local/nvidia/lib64:/opt/amazon/lib', 'MXNET_KVSTORE_BIGARRAY_BOUND': '400000000', 'NVIDIA_DRIVER_CAPABILITIES': 'compute,utility', 'SAGEMAKER_MANAGED_WARMPOOL_CACHE_DIRECTORY': '/opt/ml/sagemaker/warmpoolcache', 'PATH': '/opt/amazon/bin:/usr/local/nvidia/bin:/usr/local/sbin:/usr/local/bin:/usr/sbin:/usr/bin:/sbin:/bin', 'PWD': '/', 'LANG': 'en_US.utf8', 'AWS_REGION': 'us-east-1', 'SAGEMAKER_METRICS_DIRECTORY': '/opt/ml/output/metrics/sagemaker', 'CUDA_VERSION': '11.1', 'HOME': '/root', 'SHLVL': '1', 'CUDA_COMPAT_NDRIVER_SUPPORTED_VERSION': '455.32.00', 'PROTOCOL_BUFFERS_PYTHON_IMPLEMENTATION_VERSION': '2', 'OMP_NUM_THREADS': '2', 'DMLC_INTERFACE': 'eth0', 'SAGEMAKER_HTTP_PORT': '8080', 'SAGEMAKER_DATA_PATH': '/opt/ml', 'KMP_DUPLICATE_LIB_OK': 'True', 'KMP_INIT_AT_FORK': 'FALSE', 'DMLC_ROLE': 'server', 'DMLC_PS_ROOT_URI': '172.16.137.164', 'DMLC_PS_ROOT_PORT': '9000', 'DMLC_NUM_SERVER': '1', 'DMLC_NUM_WORKER': '1'}\u001b[0m\n",
      "\u001b[34m[06/16/2025 04:04:38 INFO 140657515337536] Environment: {'ENVROOT': '/opt/amazon', 'PROTOCOL_BUFFERS_PYTHON_IMPLEMENTATION': 'cpp', 'HOSTNAME': 'algo-1', 'TRAINING_JOB_NAME': 'randomcutforest-2025-06-16-04-01-49-756', 'NVIDIA_REQUIRE_CUDA': 'cuda>=9.0', 'TRAINING_JOB_ARN': 'arn:aws:sagemaker:us-east-1:975049948583:training-job/randomcutforest-2025-06-16-04-01-49-756', 'CANONICAL_ENVROOT': '/opt/amazon', 'PYTHONUNBUFFERED': 'TRUE', 'NVIDIA_VISIBLE_DEVICES': 'all', 'LD_LIBRARY_PATH': '/opt/amazon/lib/python3.8/site-packages/cv2/../../../../lib:/usr/local/nvidia/lib64:/opt/amazon/lib', 'MXNET_KVSTORE_BIGARRAY_BOUND': '400000000', 'NVIDIA_DRIVER_CAPABILITIES': 'compute,utility', 'SAGEMAKER_MANAGED_WARMPOOL_CACHE_DIRECTORY': '/opt/ml/sagemaker/warmpoolcache', 'PATH': '/opt/amazon/bin:/usr/local/nvidia/bin:/usr/local/sbin:/usr/local/bin:/usr/sbin:/usr/bin:/sbin:/bin', 'PWD': '/', 'LANG': 'en_US.utf8', 'AWS_REGION': 'us-east-1', 'SAGEMAKER_METRICS_DIRECTORY': '/opt/ml/output/metrics/sagemaker', 'CUDA_VERSION': '11.1', 'HOME': '/root', 'SHLVL': '1', 'CUDA_COMPAT_NDRIVER_SUPPORTED_VERSION': '455.32.00', 'PROTOCOL_BUFFERS_PYTHON_IMPLEMENTATION_VERSION': '2', 'OMP_NUM_THREADS': '2', 'DMLC_INTERFACE': 'eth0', 'SAGEMAKER_HTTP_PORT': '8080', 'SAGEMAKER_DATA_PATH': '/opt/ml', 'KMP_DUPLICATE_LIB_OK': 'True', 'KMP_INIT_AT_FORK': 'FALSE', 'DMLC_ROLE': 'worker', 'DMLC_PS_ROOT_URI': '172.16.137.164', 'DMLC_PS_ROOT_PORT': '9000', 'DMLC_NUM_SERVER': '1', 'DMLC_NUM_WORKER': '1'}\u001b[0m\n",
      "\u001b[34mProcess 34 is a shell:scheduler.\u001b[0m\n",
      "\u001b[34mProcess 43 is a shell:server.\u001b[0m\n",
      "\u001b[34mProcess 7 is a worker.\u001b[0m\n",
      "\u001b[34m[06/16/2025 04:04:38 INFO 140657515337536] Using default worker.\u001b[0m\n",
      "\u001b[34m[06/16/2025 04:04:38 INFO 140657515337536] Loaded iterator creator application/x-recordio-protobuf for content type ('application/x-recordio-protobuf', '1.0')\u001b[0m\n",
      "\u001b[34m[06/16/2025 04:04:38 INFO 140657515337536] Checkpoint loading and saving are disabled.\u001b[0m\n",
      "\u001b[34m[06/16/2025 04:04:38 INFO 140657515337536] The channel 'train' is in pipe input mode under /opt/ml/input/data/train.\u001b[0m\n",
      "\u001b[34m[06/16/2025 04:04:38 ERROR 140657515337536] Customer Error: Unable to read data channel 'train'. Requested content-type is 'text/csv'. Please verify the data matches the requested content-type. (caused by MXNetError)\u001b[0m\n",
      "\u001b[34mCaused by: [04:04:38] /opt/brazil-pkg-cache/packages/AIAlgorithmsCppLibs/AIAlgorithmsCppLibs-2.0.7138.0/AL2_x86_64/generic-flavor/src/src/aialgs/io/iterator_base.cpp:100: (Input Error) The field 0 of the feature 'label_values' of the text line 0 in the dataset cannot be parsed. The value '{\"Type\":\"memory\"' is invalid for the data type 'float32'.\u001b[0m\n",
      "\u001b[34mStack trace returned 10 entries:\u001b[0m\n",
      "\u001b[34m[bt] (0) /opt/amazon/lib/libaialgs.so(+0x9d1b) [0x7fed5f91ad1b]\u001b[0m\n",
      "\u001b[34m[bt] (1) /opt/amazon/lib/libaialgs.so(+0xa549) [0x7fed5f91b549]\u001b[0m\n",
      "\u001b[34m[bt] (2) /opt/amazon/lib/libaialgs.so(aialgs::iterator_base::Next()+0x448) [0x7fed5f928128]\u001b[0m\n",
      "\u001b[34m[bt] (3) /opt/amazon/lib/libmxnet.so(MXDataIterNext+0x21) [0x7fed45e99901]\u001b[0m\n",
      "\u001b[34m[bt] (4) /opt/amazon/lib/libffi.so.6(ffi_call_unix64+0x4c) [0x7fed5fb9c078]\u001b[0m\n",
      "\u001b[34m[bt] (5) /opt/amazon/lib/libffi.so.6(ffi_call+0x186) [0x7fed5fb9b206]\u001b[0m\n",
      "\u001b[34m[bt] (6) /opt/amazon/python3.8/lib/python3.8/lib-dynload/_ctypes.cpython-38-x86_64-linux-gnu.so(_ctypes_callproc+0x87d) [0x7fed5f9ea8ed]\u001b[0m\n",
      "\u001b[34m[bt] (7) /opt/amazon/python3.8/lib/python3.8/lib-dynload/_ctypes.cpython-38-x86_64-linux-gnu.so(+0x10172) [0x7fed5f9e6172]\u001b[0m\n",
      "\u001b[34m[bt] (8) /opt/amazon/python3.8/lib/libpython3.8.so.1.0(_PyObject_MakeTpCall+0x22f) [0x7fed60d3ef2f]\u001b[0m\n",
      "\u001b[34m[bt] (9) /opt/amazon/python3.8/lib/libpython3.8.so.1.0(_PyEval_EvalFrameDefault+0x4cc2) [0x7fed60dc6f52]\u001b[0m\n",
      "\n",
      "2025-06-16 04:04:45 Training - Training image download completed. Training in progress.\n",
      "2025-06-16 04:04:45 Uploading - Uploading generated training model\n",
      "2025-06-16 04:04:45 Failed - Training job failed\n"
     ]
    },
    {
     "data": {
      "text/html": [
       "<pre style=\"white-space:pre;overflow-x:auto;line-height:normal;font-family:Menlo,'DejaVu Sans Mono',consolas,'Courier New',monospace\"><span style=\"color: #ff0000; text-decoration-color: #ff0000\">╭─────────────────────────────── </span><span style=\"color: #ff0000; text-decoration-color: #ff0000; font-weight: bold\">Traceback </span><span style=\"color: #ff7f7f; text-decoration-color: #ff7f7f; font-weight: bold\">(most recent call last)</span><span style=\"color: #ff0000; text-decoration-color: #ff0000\"> ────────────────────────────────╮</span>\n",
       "<span style=\"color: #ff0000; text-decoration-color: #ff0000\">│</span> in &lt;module&gt;:1                                                                                    <span style=\"color: #ff0000; text-decoration-color: #ff0000\">│</span>\n",
       "<span style=\"color: #ff0000; text-decoration-color: #ff0000\">│</span>                                                                                                  <span style=\"color: #ff0000; text-decoration-color: #ff0000\">│</span>\n",
       "<span style=\"color: #ff0000; text-decoration-color: #ff0000\">│</span> <span style=\"color: #800000; text-decoration-color: #800000\">❱ </span>1 rcf_estimator = <span style=\"font-weight: bold; text-decoration: underline\">training_model(</span>                                                              <span style=\"color: #ff0000; text-decoration-color: #ff0000\">│</span>\n",
       "<span style=\"color: #ff0000; text-decoration-color: #ff0000\">│</span>   <span style=\"color: #7f7f7f; text-decoration-color: #7f7f7f\">2 </span><span style=\"color: #7f7f7f; text-decoration-color: #7f7f7f\">│   </span><span style=\"font-weight: bold; text-decoration: underline\">s3_input_train=s3_input_train, </span>                                                          <span style=\"color: #ff0000; text-decoration-color: #ff0000\">│</span>\n",
       "<span style=\"color: #ff0000; text-decoration-color: #ff0000\">│</span>   <span style=\"color: #7f7f7f; text-decoration-color: #7f7f7f\">3 </span><span style=\"color: #7f7f7f; text-decoration-color: #7f7f7f\">│   </span><span style=\"font-weight: bold; text-decoration: underline\">output_path=output_path, </span>                                                                <span style=\"color: #ff0000; text-decoration-color: #ff0000\">│</span>\n",
       "<span style=\"color: #ff0000; text-decoration-color: #ff0000\">│</span>   <span style=\"color: #7f7f7f; text-decoration-color: #7f7f7f\">4 </span><span style=\"color: #7f7f7f; text-decoration-color: #7f7f7f\">│   </span><span style=\"font-weight: bold; text-decoration: underline\">feature_dim=num_columns, </span>                                                                <span style=\"color: #ff0000; text-decoration-color: #ff0000\">│</span>\n",
       "<span style=\"color: #ff0000; text-decoration-color: #ff0000\">│</span>                                                                                                  <span style=\"color: #ff0000; text-decoration-color: #ff0000\">│</span>\n",
       "<span style=\"color: #ff0000; text-decoration-color: #ff0000\">│</span> in training_model:33                                                                             <span style=\"color: #ff0000; text-decoration-color: #ff0000\">│</span>\n",
       "<span style=\"color: #ff0000; text-decoration-color: #ff0000\">│</span>                                                                                                  <span style=\"color: #ff0000; text-decoration-color: #ff0000\">│</span>\n",
       "<span style=\"color: #ff0000; text-decoration-color: #ff0000\">│</span>   <span style=\"color: #7f7f7f; text-decoration-color: #7f7f7f\">30 </span><span style=\"color: #7f7f7f; text-decoration-color: #7f7f7f\">│   </span>)                                                                                       <span style=\"color: #ff0000; text-decoration-color: #ff0000\">│</span>\n",
       "<span style=\"color: #ff0000; text-decoration-color: #ff0000\">│</span>   <span style=\"color: #7f7f7f; text-decoration-color: #7f7f7f\">31 </span><span style=\"color: #7f7f7f; text-decoration-color: #7f7f7f\">│   </span>                                                                                        <span style=\"color: #ff0000; text-decoration-color: #ff0000\">│</span>\n",
       "<span style=\"color: #ff0000; text-decoration-color: #ff0000\">│</span>   <span style=\"color: #7f7f7f; text-decoration-color: #7f7f7f\">32 </span><span style=\"color: #7f7f7f; text-decoration-color: #7f7f7f\">│   </span><span style=\"color: #7f7f7f; text-decoration-color: #7f7f7f\"># Train model</span>                                                                           <span style=\"color: #ff0000; text-decoration-color: #ff0000\">│</span>\n",
       "<span style=\"color: #ff0000; text-decoration-color: #ff0000\">│</span> <span style=\"color: #800000; text-decoration-color: #800000\">❱ </span>33 <span style=\"color: #7f7f7f; text-decoration-color: #7f7f7f\">│   </span><span style=\"font-weight: bold; text-decoration: underline\">rcf_estimator.fit({</span><span style=\"color: #808000; text-decoration-color: #808000; font-weight: bold; text-decoration: underline\">\"train\"</span><span style=\"font-weight: bold; text-decoration: underline\">: train_input}, wait=</span><span style=\"color: #0000ff; text-decoration-color: #0000ff; font-weight: bold; text-decoration: underline\">True</span><span style=\"font-weight: bold; text-decoration: underline\">)</span>                                    <span style=\"color: #ff0000; text-decoration-color: #ff0000\">│</span>\n",
       "<span style=\"color: #ff0000; text-decoration-color: #ff0000\">│</span>   <span style=\"color: #7f7f7f; text-decoration-color: #7f7f7f\">34 </span><span style=\"color: #7f7f7f; text-decoration-color: #7f7f7f\">│   </span><span style=\"color: #0000ff; text-decoration-color: #0000ff\">return</span> rcf_estimator                                                                    <span style=\"color: #ff0000; text-decoration-color: #ff0000\">│</span>\n",
       "<span style=\"color: #ff0000; text-decoration-color: #ff0000\">│</span>   <span style=\"color: #7f7f7f; text-decoration-color: #7f7f7f\">35 </span>                                                                                            <span style=\"color: #ff0000; text-decoration-color: #ff0000\">│</span>\n",
       "<span style=\"color: #ff0000; text-decoration-color: #ff0000\">│</span>                                                                                                  <span style=\"color: #ff0000; text-decoration-color: #ff0000\">│</span>\n",
       "<span style=\"color: #ff0000; text-decoration-color: #ff0000\">│</span> <span style=\"color: #7f7f7f; text-decoration-color: #7f7f7f\">/opt/conda/lib/python3.12/site-packages/sagemaker/telemetry/</span><span style=\"font-weight: bold\">telemetry_logging.py</span>:167 in wrapper  <span style=\"color: #ff0000; text-decoration-color: #ff0000\">│</span>\n",
       "<span style=\"color: #ff0000; text-decoration-color: #ff0000\">│</span>                                                                                                  <span style=\"color: #ff0000; text-decoration-color: #ff0000\">│</span>\n",
       "<span style=\"color: #ff0000; text-decoration-color: #ff0000\">│</span>   <span style=\"color: #7f7f7f; text-decoration-color: #7f7f7f\">164 </span><span style=\"color: #7f7f7f; text-decoration-color: #7f7f7f\">│   │   │   │   │   </span>caught_ex = e                                                          <span style=\"color: #ff0000; text-decoration-color: #ff0000\">│</span>\n",
       "<span style=\"color: #ff0000; text-decoration-color: #ff0000\">│</span>   <span style=\"color: #7f7f7f; text-decoration-color: #7f7f7f\">165 </span><span style=\"color: #7f7f7f; text-decoration-color: #7f7f7f\">│   │   │   │   </span><span style=\"color: #0000ff; text-decoration-color: #0000ff\">finally</span>:                                                                   <span style=\"color: #ff0000; text-decoration-color: #ff0000\">│</span>\n",
       "<span style=\"color: #ff0000; text-decoration-color: #ff0000\">│</span>   <span style=\"color: #7f7f7f; text-decoration-color: #7f7f7f\">166 </span><span style=\"color: #7f7f7f; text-decoration-color: #7f7f7f\">│   │   │   │   │   </span><span style=\"color: #0000ff; text-decoration-color: #0000ff\">if</span> caught_ex:                                                          <span style=\"color: #ff0000; text-decoration-color: #ff0000\">│</span>\n",
       "<span style=\"color: #ff0000; text-decoration-color: #ff0000\">│</span> <span style=\"color: #800000; text-decoration-color: #800000\">❱ </span>167 <span style=\"color: #7f7f7f; text-decoration-color: #7f7f7f\">│   │   │   │   │   │   </span><span style=\"color: #0000ff; text-decoration-color: #0000ff; font-weight: bold; text-decoration: underline\">raise</span><span style=\"font-weight: bold; text-decoration: underline\"> caught_ex</span>                                                    <span style=\"color: #ff0000; text-decoration-color: #ff0000\">│</span>\n",
       "<span style=\"color: #ff0000; text-decoration-color: #ff0000\">│</span>   <span style=\"color: #7f7f7f; text-decoration-color: #7f7f7f\">168 </span><span style=\"color: #7f7f7f; text-decoration-color: #7f7f7f\">│   │   │   │   │   </span><span style=\"color: #0000ff; text-decoration-color: #0000ff\">return</span> response  <span style=\"color: #7f7f7f; text-decoration-color: #7f7f7f\"># pylint: disable=W0150</span>                               <span style=\"color: #ff0000; text-decoration-color: #ff0000\">│</span>\n",
       "<span style=\"color: #ff0000; text-decoration-color: #ff0000\">│</span>   <span style=\"color: #7f7f7f; text-decoration-color: #7f7f7f\">169 </span><span style=\"color: #7f7f7f; text-decoration-color: #7f7f7f\">│   │   │   </span><span style=\"color: #0000ff; text-decoration-color: #0000ff\">else</span>:                                                                          <span style=\"color: #ff0000; text-decoration-color: #ff0000\">│</span>\n",
       "<span style=\"color: #ff0000; text-decoration-color: #ff0000\">│</span>   <span style=\"color: #7f7f7f; text-decoration-color: #7f7f7f\">170 </span><span style=\"color: #7f7f7f; text-decoration-color: #7f7f7f\">│   │   │   │   </span>logger.debug(                                                              <span style=\"color: #ff0000; text-decoration-color: #ff0000\">│</span>\n",
       "<span style=\"color: #ff0000; text-decoration-color: #ff0000\">│</span>                                                                                                  <span style=\"color: #ff0000; text-decoration-color: #ff0000\">│</span>\n",
       "<span style=\"color: #ff0000; text-decoration-color: #ff0000\">│</span> <span style=\"color: #7f7f7f; text-decoration-color: #7f7f7f\">/opt/conda/lib/python3.12/site-packages/sagemaker/telemetry/</span><span style=\"font-weight: bold\">telemetry_logging.py</span>:138 in wrapper  <span style=\"color: #ff0000; text-decoration-color: #ff0000\">│</span>\n",
       "<span style=\"color: #ff0000; text-decoration-color: #ff0000\">│</span>                                                                                                  <span style=\"color: #ff0000; text-decoration-color: #ff0000\">│</span>\n",
       "<span style=\"color: #ff0000; text-decoration-color: #ff0000\">│</span>   <span style=\"color: #7f7f7f; text-decoration-color: #7f7f7f\">135 </span><span style=\"color: #7f7f7f; text-decoration-color: #7f7f7f\">│   │   │   │   </span>start_timer = perf_counter()                                               <span style=\"color: #ff0000; text-decoration-color: #ff0000\">│</span>\n",
       "<span style=\"color: #ff0000; text-decoration-color: #ff0000\">│</span>   <span style=\"color: #7f7f7f; text-decoration-color: #7f7f7f\">136 </span><span style=\"color: #7f7f7f; text-decoration-color: #7f7f7f\">│   │   │   │   </span><span style=\"color: #0000ff; text-decoration-color: #0000ff\">try</span>:                                                                       <span style=\"color: #ff0000; text-decoration-color: #ff0000\">│</span>\n",
       "<span style=\"color: #ff0000; text-decoration-color: #ff0000\">│</span>   <span style=\"color: #7f7f7f; text-decoration-color: #7f7f7f\">137 </span><span style=\"color: #7f7f7f; text-decoration-color: #7f7f7f\">│   │   │   │   │   </span><span style=\"color: #7f7f7f; text-decoration-color: #7f7f7f\"># Call the original function</span>                                           <span style=\"color: #ff0000; text-decoration-color: #ff0000\">│</span>\n",
       "<span style=\"color: #ff0000; text-decoration-color: #ff0000\">│</span> <span style=\"color: #800000; text-decoration-color: #800000\">❱ </span>138 <span style=\"color: #7f7f7f; text-decoration-color: #7f7f7f\">│   │   │   │   │   </span>response = func(*args, **kwargs)                                       <span style=\"color: #ff0000; text-decoration-color: #ff0000\">│</span>\n",
       "<span style=\"color: #ff0000; text-decoration-color: #ff0000\">│</span>   <span style=\"color: #7f7f7f; text-decoration-color: #7f7f7f\">139 </span><span style=\"color: #7f7f7f; text-decoration-color: #7f7f7f\">│   │   │   │   │   </span>stop_timer = perf_counter()                                            <span style=\"color: #ff0000; text-decoration-color: #ff0000\">│</span>\n",
       "<span style=\"color: #ff0000; text-decoration-color: #ff0000\">│</span>   <span style=\"color: #7f7f7f; text-decoration-color: #7f7f7f\">140 </span><span style=\"color: #7f7f7f; text-decoration-color: #7f7f7f\">│   │   │   │   │   </span>elapsed = stop_timer - start_timer                                     <span style=\"color: #ff0000; text-decoration-color: #ff0000\">│</span>\n",
       "<span style=\"color: #ff0000; text-decoration-color: #ff0000\">│</span>   <span style=\"color: #7f7f7f; text-decoration-color: #7f7f7f\">141 </span><span style=\"color: #7f7f7f; text-decoration-color: #7f7f7f\">│   │   │   │   │   </span>extra += <span style=\"color: #808000; text-decoration-color: #808000\">f\"&amp;x-latency={</span><span style=\"color: #00ffff; text-decoration-color: #00ffff\">round</span>(elapsed,<span style=\"color: #808080; text-decoration-color: #808080\"> </span><span style=\"color: #0000ff; text-decoration-color: #0000ff\">2</span>)<span style=\"color: #808000; text-decoration-color: #808000\">}\"</span>                             <span style=\"color: #ff0000; text-decoration-color: #ff0000\">│</span>\n",
       "<span style=\"color: #ff0000; text-decoration-color: #ff0000\">│</span>                                                                                                  <span style=\"color: #ff0000; text-decoration-color: #ff0000\">│</span>\n",
       "<span style=\"color: #ff0000; text-decoration-color: #ff0000\">│</span> <span style=\"color: #7f7f7f; text-decoration-color: #7f7f7f\">/opt/conda/lib/python3.12/site-packages/sagemaker/workflow/</span><span style=\"font-weight: bold\">pipeline_context.py</span>:346 in wrapper    <span style=\"color: #ff0000; text-decoration-color: #ff0000\">│</span>\n",
       "<span style=\"color: #ff0000; text-decoration-color: #ff0000\">│</span>                                                                                                  <span style=\"color: #ff0000; text-decoration-color: #ff0000\">│</span>\n",
       "<span style=\"color: #ff0000; text-decoration-color: #ff0000\">│</span>   <span style=\"color: #7f7f7f; text-decoration-color: #7f7f7f\">343 </span><span style=\"color: #7f7f7f; text-decoration-color: #7f7f7f\">│   │   │   </span>                                                                               <span style=\"color: #ff0000; text-decoration-color: #ff0000\">│</span>\n",
       "<span style=\"color: #ff0000; text-decoration-color: #ff0000\">│</span>   <span style=\"color: #7f7f7f; text-decoration-color: #7f7f7f\">344 </span><span style=\"color: #7f7f7f; text-decoration-color: #7f7f7f\">│   │   │   </span><span style=\"color: #0000ff; text-decoration-color: #0000ff\">return</span> _StepArguments(retrieve_caller_name(self_instance), run_func, *args,    <span style=\"color: #ff0000; text-decoration-color: #ff0000\">│</span>\n",
       "<span style=\"color: #ff0000; text-decoration-color: #ff0000\">│</span>   <span style=\"color: #7f7f7f; text-decoration-color: #7f7f7f\">345 </span><span style=\"color: #7f7f7f; text-decoration-color: #7f7f7f\">│   │   </span>                                                                                   <span style=\"color: #ff0000; text-decoration-color: #ff0000\">│</span>\n",
       "<span style=\"color: #ff0000; text-decoration-color: #ff0000\">│</span> <span style=\"color: #800000; text-decoration-color: #800000\">❱ </span>346 <span style=\"color: #7f7f7f; text-decoration-color: #7f7f7f\">│   │   </span><span style=\"color: #0000ff; text-decoration-color: #0000ff\">return</span> <span style=\"font-weight: bold; text-decoration: underline\">run_func(*args, **kwargs)</span>                                                   <span style=\"color: #ff0000; text-decoration-color: #ff0000\">│</span>\n",
       "<span style=\"color: #ff0000; text-decoration-color: #ff0000\">│</span>   <span style=\"color: #7f7f7f; text-decoration-color: #7f7f7f\">347 </span><span style=\"color: #7f7f7f; text-decoration-color: #7f7f7f\">│   </span>                                                                                       <span style=\"color: #ff0000; text-decoration-color: #ff0000\">│</span>\n",
       "<span style=\"color: #ff0000; text-decoration-color: #ff0000\">│</span>   <span style=\"color: #7f7f7f; text-decoration-color: #7f7f7f\">348 </span><span style=\"color: #7f7f7f; text-decoration-color: #7f7f7f\">│   </span><span style=\"color: #0000ff; text-decoration-color: #0000ff\">return</span> wrapper                                                                         <span style=\"color: #ff0000; text-decoration-color: #ff0000\">│</span>\n",
       "<span style=\"color: #ff0000; text-decoration-color: #ff0000\">│</span>   <span style=\"color: #7f7f7f; text-decoration-color: #7f7f7f\">349 </span>                                                                                           <span style=\"color: #ff0000; text-decoration-color: #ff0000\">│</span>\n",
       "<span style=\"color: #ff0000; text-decoration-color: #ff0000\">│</span>                                                                                                  <span style=\"color: #ff0000; text-decoration-color: #ff0000\">│</span>\n",
       "<span style=\"color: #ff0000; text-decoration-color: #ff0000\">│</span> <span style=\"color: #7f7f7f; text-decoration-color: #7f7f7f\">/opt/conda/lib/python3.12/site-packages/sagemaker/</span><span style=\"font-weight: bold\">estimator.py</span>:1380 in fit                       <span style=\"color: #ff0000; text-decoration-color: #ff0000\">│</span>\n",
       "<span style=\"color: #ff0000; text-decoration-color: #ff0000\">│</span>                                                                                                  <span style=\"color: #ff0000; text-decoration-color: #ff0000\">│</span>\n",
       "<span style=\"color: #ff0000; text-decoration-color: #ff0000\">│</span>   <span style=\"color: #7f7f7f; text-decoration-color: #7f7f7f\">1377 </span><span style=\"color: #7f7f7f; text-decoration-color: #7f7f7f\">│   │   │   </span>wait = <span style=\"color: #0000ff; text-decoration-color: #0000ff\">True</span>                                                                   <span style=\"color: #ff0000; text-decoration-color: #ff0000\">│</span>\n",
       "<span style=\"color: #ff0000; text-decoration-color: #ff0000\">│</span>   <span style=\"color: #7f7f7f; text-decoration-color: #7f7f7f\">1378 </span><span style=\"color: #7f7f7f; text-decoration-color: #7f7f7f\">│   │   │   </span>forward_to_mlflow_tracking_server = <span style=\"color: #0000ff; text-decoration-color: #0000ff\">True</span>                                      <span style=\"color: #ff0000; text-decoration-color: #ff0000\">│</span>\n",
       "<span style=\"color: #ff0000; text-decoration-color: #ff0000\">│</span>   <span style=\"color: #7f7f7f; text-decoration-color: #7f7f7f\">1379 </span><span style=\"color: #7f7f7f; text-decoration-color: #7f7f7f\">│   │   </span><span style=\"color: #0000ff; text-decoration-color: #0000ff\">if</span> wait:                                                                          <span style=\"color: #ff0000; text-decoration-color: #ff0000\">│</span>\n",
       "<span style=\"color: #ff0000; text-decoration-color: #ff0000\">│</span> <span style=\"color: #800000; text-decoration-color: #800000\">❱ </span>1380 <span style=\"color: #7f7f7f; text-decoration-color: #7f7f7f\">│   │   │   </span><span style=\"color: #00ffff; text-decoration-color: #00ffff; font-weight: bold; text-decoration: underline\">self</span><span style=\"font-weight: bold; text-decoration: underline\">.latest_training_job.wait(logs=logs)</span>                                      <span style=\"color: #ff0000; text-decoration-color: #ff0000\">│</span>\n",
       "<span style=\"color: #ff0000; text-decoration-color: #ff0000\">│</span>   <span style=\"color: #7f7f7f; text-decoration-color: #7f7f7f\">1381 </span><span style=\"color: #7f7f7f; text-decoration-color: #7f7f7f\">│   │   </span><span style=\"color: #0000ff; text-decoration-color: #0000ff\">try</span>:                                                                              <span style=\"color: #ff0000; text-decoration-color: #ff0000\">│</span>\n",
       "<span style=\"color: #ff0000; text-decoration-color: #ff0000\">│</span>   <span style=\"color: #7f7f7f; text-decoration-color: #7f7f7f\">1382 </span><span style=\"color: #7f7f7f; text-decoration-color: #7f7f7f\">│   │   │   </span><span style=\"color: #0000ff; text-decoration-color: #0000ff\">if</span> forward_to_mlflow_tracking_server:                                         <span style=\"color: #ff0000; text-decoration-color: #ff0000\">│</span>\n",
       "<span style=\"color: #ff0000; text-decoration-color: #ff0000\">│</span>   <span style=\"color: #7f7f7f; text-decoration-color: #7f7f7f\">1383 </span><span style=\"color: #7f7f7f; text-decoration-color: #7f7f7f\">│   │   │   │   </span><span style=\"color: #0000ff; text-decoration-color: #0000ff\">from</span><span style=\"color: #808080; text-decoration-color: #808080\"> </span><span style=\"color: #00ffff; text-decoration-color: #00ffff; text-decoration: underline\">sagemaker.mlflow.forward_sagemaker_metrics</span><span style=\"color: #808080; text-decoration-color: #808080\"> </span><span style=\"color: #0000ff; text-decoration-color: #0000ff\">import</span> log_sagemaker_job  <span style=\"color: #ff0000; text-decoration-color: #ff0000\">│</span>\n",
       "<span style=\"color: #ff0000; text-decoration-color: #ff0000\">│</span>                                                                                                  <span style=\"color: #ff0000; text-decoration-color: #ff0000\">│</span>\n",
       "<span style=\"color: #ff0000; text-decoration-color: #ff0000\">│</span> <span style=\"color: #7f7f7f; text-decoration-color: #7f7f7f\">/opt/conda/lib/python3.12/site-packages/sagemaker/</span><span style=\"font-weight: bold\">estimator.py</span>:2765 in wait                      <span style=\"color: #ff0000; text-decoration-color: #ff0000\">│</span>\n",
       "<span style=\"color: #ff0000; text-decoration-color: #ff0000\">│</span>                                                                                                  <span style=\"color: #ff0000; text-decoration-color: #ff0000\">│</span>\n",
       "<span style=\"color: #ff0000; text-decoration-color: #ff0000\">│</span>   <span style=\"color: #7f7f7f; text-decoration-color: #7f7f7f\">2762 </span><span style=\"color: #7f7f7f; text-decoration-color: #7f7f7f\">│   │   │   </span>logs = log_string_map[logs]                                                   <span style=\"color: #ff0000; text-decoration-color: #ff0000\">│</span>\n",
       "<span style=\"color: #ff0000; text-decoration-color: #ff0000\">│</span>   <span style=\"color: #7f7f7f; text-decoration-color: #7f7f7f\">2763 </span><span style=\"color: #7f7f7f; text-decoration-color: #7f7f7f\">│   │   </span><span style=\"color: #7f7f7f; text-decoration-color: #7f7f7f\"># If logs are requested, call logs_for_jobs.</span>                                      <span style=\"color: #ff0000; text-decoration-color: #ff0000\">│</span>\n",
       "<span style=\"color: #ff0000; text-decoration-color: #ff0000\">│</span>   <span style=\"color: #7f7f7f; text-decoration-color: #7f7f7f\">2764 </span><span style=\"color: #7f7f7f; text-decoration-color: #7f7f7f\">│   │   </span><span style=\"color: #0000ff; text-decoration-color: #0000ff\">if</span> logs != <span style=\"color: #808000; text-decoration-color: #808000\">\"None\"</span>:                                                                <span style=\"color: #ff0000; text-decoration-color: #ff0000\">│</span>\n",
       "<span style=\"color: #ff0000; text-decoration-color: #ff0000\">│</span> <span style=\"color: #800000; text-decoration-color: #800000\">❱ </span>2765 <span style=\"color: #7f7f7f; text-decoration-color: #7f7f7f\">│   │   │   </span><span style=\"color: #00ffff; text-decoration-color: #00ffff; font-weight: bold; text-decoration: underline\">self</span><span style=\"font-weight: bold; text-decoration: underline\">.sagemaker_session.logs_for_job(</span><span style=\"color: #00ffff; text-decoration-color: #00ffff; font-weight: bold; text-decoration: underline\">self</span><span style=\"font-weight: bold; text-decoration: underline\">.job_name, wait=</span><span style=\"color: #0000ff; text-decoration-color: #0000ff; font-weight: bold; text-decoration: underline\">True</span><span style=\"font-weight: bold; text-decoration: underline\">, log_type=logs)</span>  <span style=\"color: #ff0000; text-decoration-color: #ff0000\">│</span>\n",
       "<span style=\"color: #ff0000; text-decoration-color: #ff0000\">│</span>   <span style=\"color: #7f7f7f; text-decoration-color: #7f7f7f\">2766 </span><span style=\"color: #7f7f7f; text-decoration-color: #7f7f7f\">│   │   </span><span style=\"color: #0000ff; text-decoration-color: #0000ff\">else</span>:                                                                             <span style=\"color: #ff0000; text-decoration-color: #ff0000\">│</span>\n",
       "<span style=\"color: #ff0000; text-decoration-color: #ff0000\">│</span>   <span style=\"color: #7f7f7f; text-decoration-color: #7f7f7f\">2767 </span><span style=\"color: #7f7f7f; text-decoration-color: #7f7f7f\">│   │   │   </span><span style=\"color: #00ffff; text-decoration-color: #00ffff\">self</span>.sagemaker_session.wait_for_job(<span style=\"color: #00ffff; text-decoration-color: #00ffff\">self</span>.job_name)                            <span style=\"color: #ff0000; text-decoration-color: #ff0000\">│</span>\n",
       "<span style=\"color: #ff0000; text-decoration-color: #ff0000\">│</span>   <span style=\"color: #7f7f7f; text-decoration-color: #7f7f7f\">2768 </span>                                                                                          <span style=\"color: #ff0000; text-decoration-color: #ff0000\">│</span>\n",
       "<span style=\"color: #ff0000; text-decoration-color: #ff0000\">│</span>                                                                                                  <span style=\"color: #ff0000; text-decoration-color: #ff0000\">│</span>\n",
       "<span style=\"color: #ff0000; text-decoration-color: #ff0000\">│</span> <span style=\"color: #7f7f7f; text-decoration-color: #7f7f7f\">/opt/conda/lib/python3.12/site-packages/sagemaker/</span><span style=\"font-weight: bold\">session.py</span>:6065 in logs_for_job                <span style=\"color: #ff0000; text-decoration-color: #ff0000\">│</span>\n",
       "<span style=\"color: #ff0000; text-decoration-color: #ff0000\">│</span>                                                                                                  <span style=\"color: #ff0000; text-decoration-color: #ff0000\">│</span>\n",
       "<span style=\"color: #ff0000; text-decoration-color: #ff0000\">│</span>   <span style=\"color: #7f7f7f; text-decoration-color: #7f7f7f\">6062 </span><span style=\"color: #bfbf7f; text-decoration-color: #bfbf7f\">│   │   │   </span><span style=\"color: #808000; text-decoration-color: #808000\">exceptions.CapacityError: If the training job fails with CapacityError.</span>       <span style=\"color: #ff0000; text-decoration-color: #ff0000\">│</span>\n",
       "<span style=\"color: #ff0000; text-decoration-color: #ff0000\">│</span>   <span style=\"color: #7f7f7f; text-decoration-color: #7f7f7f\">6063 </span><span style=\"color: #bfbf7f; text-decoration-color: #bfbf7f\">│   │   │   </span><span style=\"color: #808000; text-decoration-color: #808000\">exceptions.UnexpectedStatusException: If waiting and the training job fails.</span>  <span style=\"color: #ff0000; text-decoration-color: #ff0000\">│</span>\n",
       "<span style=\"color: #ff0000; text-decoration-color: #ff0000\">│</span>   <span style=\"color: #7f7f7f; text-decoration-color: #7f7f7f\">6064 </span><span style=\"color: #bfbf7f; text-decoration-color: #bfbf7f\">│   │   </span><span style=\"color: #808000; text-decoration-color: #808000\">\"\"\"</span>                                                                               <span style=\"color: #ff0000; text-decoration-color: #ff0000\">│</span>\n",
       "<span style=\"color: #ff0000; text-decoration-color: #ff0000\">│</span> <span style=\"color: #800000; text-decoration-color: #800000\">❱ </span>6065 <span style=\"color: #7f7f7f; text-decoration-color: #7f7f7f\">│   │   </span><span style=\"font-weight: bold; text-decoration: underline\">_logs_for_job(</span><span style=\"color: #00ffff; text-decoration-color: #00ffff; font-weight: bold; text-decoration: underline\">self</span><span style=\"font-weight: bold; text-decoration: underline\">, job_name, wait, poll, log_type, timeout)</span>                      <span style=\"color: #ff0000; text-decoration-color: #ff0000\">│</span>\n",
       "<span style=\"color: #ff0000; text-decoration-color: #ff0000\">│</span>   <span style=\"color: #7f7f7f; text-decoration-color: #7f7f7f\">6066 </span><span style=\"color: #7f7f7f; text-decoration-color: #7f7f7f\">│   </span>                                                                                      <span style=\"color: #ff0000; text-decoration-color: #ff0000\">│</span>\n",
       "<span style=\"color: #ff0000; text-decoration-color: #ff0000\">│</span>   <span style=\"color: #7f7f7f; text-decoration-color: #7f7f7f\">6067 </span><span style=\"color: #7f7f7f; text-decoration-color: #7f7f7f\">│   </span><span style=\"color: #0000ff; text-decoration-color: #0000ff\">def</span><span style=\"color: #808080; text-decoration-color: #808080\"> </span><span style=\"color: #00ff00; text-decoration-color: #00ff00\">logs_for_processing_job</span>(<span style=\"color: #00ffff; text-decoration-color: #00ffff\">self</span>, job_name, wait=<span style=\"color: #0000ff; text-decoration-color: #0000ff\">False</span>, poll=<span style=\"color: #0000ff; text-decoration-color: #0000ff\">10</span>):                     <span style=\"color: #ff0000; text-decoration-color: #ff0000\">│</span>\n",
       "<span style=\"color: #ff0000; text-decoration-color: #ff0000\">│</span>   <span style=\"color: #7f7f7f; text-decoration-color: #7f7f7f\">6068 </span><span style=\"color: #bfbfbf; text-decoration-color: #bfbfbf\">│   │   </span><span style=\"color: #808000; text-decoration-color: #808000\">\"\"\"Display logs for a given processing job, optionally tailing them until the is</span>  <span style=\"color: #ff0000; text-decoration-color: #ff0000\">│</span>\n",
       "<span style=\"color: #ff0000; text-decoration-color: #ff0000\">│</span>                                                                                                  <span style=\"color: #ff0000; text-decoration-color: #ff0000\">│</span>\n",
       "<span style=\"color: #ff0000; text-decoration-color: #ff0000\">│</span> <span style=\"color: #7f7f7f; text-decoration-color: #7f7f7f\">/opt/conda/lib/python3.12/site-packages/sagemaker/</span><span style=\"font-weight: bold\">session.py</span>:8678 in _logs_for_job               <span style=\"color: #ff0000; text-decoration-color: #ff0000\">│</span>\n",
       "<span style=\"color: #ff0000; text-decoration-color: #ff0000\">│</span>                                                                                                  <span style=\"color: #ff0000; text-decoration-color: #ff0000\">│</span>\n",
       "<span style=\"color: #ff0000; text-decoration-color: #ff0000\">│</span>   <span style=\"color: #7f7f7f; text-decoration-color: #7f7f7f\">8675 </span><span style=\"color: #7f7f7f; text-decoration-color: #7f7f7f\">│   │   │   │   </span>last_profiler_rule_statuses = profiler_rule_statuses                      <span style=\"color: #ff0000; text-decoration-color: #ff0000\">│</span>\n",
       "<span style=\"color: #ff0000; text-decoration-color: #ff0000\">│</span>   <span style=\"color: #7f7f7f; text-decoration-color: #7f7f7f\">8676 </span><span style=\"color: #7f7f7f; text-decoration-color: #7f7f7f\">│   </span>                                                                                      <span style=\"color: #ff0000; text-decoration-color: #ff0000\">│</span>\n",
       "<span style=\"color: #ff0000; text-decoration-color: #ff0000\">│</span>   <span style=\"color: #7f7f7f; text-decoration-color: #7f7f7f\">8677 </span><span style=\"color: #7f7f7f; text-decoration-color: #7f7f7f\">│   </span><span style=\"color: #0000ff; text-decoration-color: #0000ff\">if</span> wait:                                                                              <span style=\"color: #ff0000; text-decoration-color: #ff0000\">│</span>\n",
       "<span style=\"color: #ff0000; text-decoration-color: #ff0000\">│</span> <span style=\"color: #800000; text-decoration-color: #800000\">❱ </span>8678 <span style=\"color: #7f7f7f; text-decoration-color: #7f7f7f\">│   │   </span><span style=\"font-weight: bold; text-decoration: underline\">_check_job_status(job_name, description, </span><span style=\"color: #808000; text-decoration-color: #808000; font-weight: bold; text-decoration: underline\">\"TrainingJobStatus\"</span><span style=\"font-weight: bold; text-decoration: underline\">)</span>                     <span style=\"color: #ff0000; text-decoration-color: #ff0000\">│</span>\n",
       "<span style=\"color: #ff0000; text-decoration-color: #ff0000\">│</span>   <span style=\"color: #7f7f7f; text-decoration-color: #7f7f7f\">8679 </span><span style=\"color: #7f7f7f; text-decoration-color: #7f7f7f\">│   │   </span><span style=\"color: #0000ff; text-decoration-color: #0000ff\">if</span> dot:                                                                           <span style=\"color: #ff0000; text-decoration-color: #ff0000\">│</span>\n",
       "<span style=\"color: #ff0000; text-decoration-color: #ff0000\">│</span>   <span style=\"color: #7f7f7f; text-decoration-color: #7f7f7f\">8680 </span><span style=\"color: #7f7f7f; text-decoration-color: #7f7f7f\">│   │   │   </span><span style=\"color: #00ffff; text-decoration-color: #00ffff\">print</span>()                                                                       <span style=\"color: #ff0000; text-decoration-color: #ff0000\">│</span>\n",
       "<span style=\"color: #ff0000; text-decoration-color: #ff0000\">│</span>   <span style=\"color: #7f7f7f; text-decoration-color: #7f7f7f\">8681 </span><span style=\"color: #7f7f7f; text-decoration-color: #7f7f7f\">│   │   </span><span style=\"color: #7f7f7f; text-decoration-color: #7f7f7f\"># Customers are not billed for hardware provisioning, so billable time is less t</span>  <span style=\"color: #ff0000; text-decoration-color: #ff0000\">│</span>\n",
       "<span style=\"color: #ff0000; text-decoration-color: #ff0000\">│</span>                                                                                                  <span style=\"color: #ff0000; text-decoration-color: #ff0000\">│</span>\n",
       "<span style=\"color: #ff0000; text-decoration-color: #ff0000\">│</span> <span style=\"color: #7f7f7f; text-decoration-color: #7f7f7f\">/opt/conda/lib/python3.12/site-packages/sagemaker/</span><span style=\"font-weight: bold\">session.py</span>:8742 in _check_job_status           <span style=\"color: #ff0000; text-decoration-color: #ff0000\">│</span>\n",
       "<span style=\"color: #ff0000; text-decoration-color: #ff0000\">│</span>                                                                                                  <span style=\"color: #ff0000; text-decoration-color: #ff0000\">│</span>\n",
       "<span style=\"color: #ff0000; text-decoration-color: #ff0000\">│</span>   <span style=\"color: #7f7f7f; text-decoration-color: #7f7f7f\">8739 </span><span style=\"color: #7f7f7f; text-decoration-color: #7f7f7f\">│   │   │   │   </span>allowed_statuses=[<span style=\"color: #808000; text-decoration-color: #808000\">\"Completed\"</span>, <span style=\"color: #808000; text-decoration-color: #808000\">\"Stopped\"</span>],                                <span style=\"color: #ff0000; text-decoration-color: #ff0000\">│</span>\n",
       "<span style=\"color: #ff0000; text-decoration-color: #ff0000\">│</span>   <span style=\"color: #7f7f7f; text-decoration-color: #7f7f7f\">8740 </span><span style=\"color: #7f7f7f; text-decoration-color: #7f7f7f\">│   │   │   │   </span>actual_status=status,                                                     <span style=\"color: #ff0000; text-decoration-color: #ff0000\">│</span>\n",
       "<span style=\"color: #ff0000; text-decoration-color: #ff0000\">│</span>   <span style=\"color: #7f7f7f; text-decoration-color: #7f7f7f\">8741 </span><span style=\"color: #7f7f7f; text-decoration-color: #7f7f7f\">│   │   │   </span>)                                                                             <span style=\"color: #ff0000; text-decoration-color: #ff0000\">│</span>\n",
       "<span style=\"color: #ff0000; text-decoration-color: #ff0000\">│</span> <span style=\"color: #800000; text-decoration-color: #800000\">❱ </span>8742 <span style=\"color: #7f7f7f; text-decoration-color: #7f7f7f\">│   │   </span><span style=\"color: #0000ff; text-decoration-color: #0000ff; font-weight: bold; text-decoration: underline\">raise</span><span style=\"font-weight: bold; text-decoration: underline\"> exceptions.UnexpectedStatusException(</span>                                       <span style=\"color: #ff0000; text-decoration-color: #ff0000\">│</span>\n",
       "<span style=\"color: #ff0000; text-decoration-color: #ff0000\">│</span>   <span style=\"color: #7f7f7f; text-decoration-color: #7f7f7f\">8743 </span><span style=\"color: #7f7f7f; text-decoration-color: #7f7f7f\">│   │   │   </span><span style=\"font-weight: bold; text-decoration: underline\">message=message,</span>                                                              <span style=\"color: #ff0000; text-decoration-color: #ff0000\">│</span>\n",
       "<span style=\"color: #ff0000; text-decoration-color: #ff0000\">│</span>   <span style=\"color: #7f7f7f; text-decoration-color: #7f7f7f\">8744 </span><span style=\"color: #7f7f7f; text-decoration-color: #7f7f7f\">│   │   │   </span><span style=\"font-weight: bold; text-decoration: underline\">allowed_statuses=[</span><span style=\"color: #808000; text-decoration-color: #808000; font-weight: bold; text-decoration: underline\">\"Completed\"</span><span style=\"font-weight: bold; text-decoration: underline\">, </span><span style=\"color: #808000; text-decoration-color: #808000; font-weight: bold; text-decoration: underline\">\"Stopped\"</span><span style=\"font-weight: bold; text-decoration: underline\">],</span>                                    <span style=\"color: #ff0000; text-decoration-color: #ff0000\">│</span>\n",
       "<span style=\"color: #ff0000; text-decoration-color: #ff0000\">│</span>   <span style=\"color: #7f7f7f; text-decoration-color: #7f7f7f\">8745 </span><span style=\"color: #7f7f7f; text-decoration-color: #7f7f7f\">│   │   │   </span><span style=\"font-weight: bold; text-decoration: underline\">actual_status=status,</span>                                                         <span style=\"color: #ff0000; text-decoration-color: #ff0000\">│</span>\n",
       "<span style=\"color: #ff0000; text-decoration-color: #ff0000\">╰──────────────────────────────────────────────────────────────────────────────────────────────────╯</span>\n",
       "<span style=\"color: #ff0000; text-decoration-color: #ff0000; font-weight: bold\">UnexpectedStatusException: </span>Error for Training job randomcutforest-<span style=\"color: #008080; text-decoration-color: #008080; font-weight: bold\">2025</span>-06-16-04-01-49-756: Failed. Reason: \n",
       "ClientError: Unable to read data channel <span style=\"color: #008700; text-decoration-color: #008700\">'train'</span>. Requested content-type is <span style=\"color: #008700; text-decoration-color: #008700\">'text/csv'</span>. Please verify the data \n",
       "matches the requested content-type. <span style=\"font-weight: bold\">(</span>caused by MXNetError<span style=\"font-weight: bold\">)</span>\n",
       "\n",
       "Caused by: <span style=\"font-weight: bold\">[</span>04:04:38<span style=\"font-weight: bold\">]</span> \n",
       "<span style=\"color: #e100e1; text-decoration-color: #e100e1\">/opt/brazil-pkg-cache/packages/AIAlgorithmsCppLibs/AIAlgorithmsCppLibs-2.0.7138.0/AL2_x86_64/generic-flavor/src/src</span>\n",
       "<span style=\"color: #e100e1; text-decoration-color: #e100e1\">/aialgs/io/iterator_base.cpp</span>:<span style=\"color: #008080; text-decoration-color: #008080; font-weight: bold\">100</span>: <span style=\"font-weight: bold\">(</span>Input Error<span style=\"font-weight: bold\">)</span> The field <span style=\"color: #008080; text-decoration-color: #008080; font-weight: bold\">0</span> of the feature <span style=\"color: #008700; text-decoration-color: #008700\">'label_values'</span> of the text line <span style=\"color: #008080; text-decoration-color: #008080; font-weight: bold\">0</span> in the\n",
       "dataset cannot be parsed. The value <span style=\"color: #008700; text-decoration-color: #008700\">'</span><span style=\"color: #008700; text-decoration-color: #008700; font-weight: bold\">{</span><span style=\"color: #008700; text-decoration-color: #008700\">\"Type\":\"memory\"'</span> is invalid for the data type <span style=\"color: #008700; text-decoration-color: #008700\">'float32'</span>.\n",
       "\n",
       "Stack trace returned <span style=\"color: #008080; text-decoration-color: #008080; font-weight: bold\">10</span> entries:\n",
       "<span style=\"font-weight: bold\">[</span>bt<span style=\"font-weight: bold\">]</span> <span style=\"font-weight: bold\">(</span><span style=\"color: #008080; text-decoration-color: #008080; font-weight: bold\">0</span><span style=\"font-weight: bold\">)</span> <span style=\"color: #e100e1; text-decoration-color: #e100e1\">/opt/amazon/lib/libaialgs.so</span><span style=\"font-weight: bold\">(</span>+<span style=\"color: #008080; text-decoration-color: #008080; font-weight: bold\">0x9d1b</span><span style=\"font-weight: bold\">)</span> <span style=\"font-weight: bold\">[</span><span style=\"color: #008080; text-decoration-color: #008080; font-weight: bold\">0x7fed5f91ad1b</span><span style=\"font-weight: bold\">]</span>\n",
       "<span style=\"font-weight: bold\">[</span>bt<span style=\"font-weight: bold\">]</span> <span style=\"font-weight: bold\">(</span><span style=\"color: #008080; text-decoration-color: #008080; font-weight: bold\">1</span><span style=\"font-weight: bold\">)</span> <span style=\"color: #e100e1; text-decoration-color: #e100e1\">/opt/amazon/lib/libaialgs.so</span><span style=\"font-weight: bold\">(</span>+<span style=\"color: #008080; text-decoration-color: #008080; font-weight: bold\">0xa549</span><span style=\"font-weight: bold\">)</span> <span style=\"font-weight: bold\">[</span><span style=\"color: #008080; text-decoration-color: #008080; font-weight: bold\">0x7fed5f91b549</span><span style=\"font-weight: bold\">]</span>\n",
       "<span style=\"font-weight: bold\">[</span>bt<span style=\"font-weight: bold\">]</span> <span style=\"font-weight: bold\">(</span><span style=\"color: #008080; text-decoration-color: #008080; font-weight: bold\">2</span><span style=\"font-weight: bold\">)</span> <span style=\"color: #e100e1; text-decoration-color: #e100e1\">/opt/amazon/lib/libaialgs.so</span><span style=\"font-weight: bold\">(</span>aialgs::iterator_base::<span style=\"color: #e100e1; text-decoration-color: #e100e1; font-weight: bold\">Next</span><span style=\"font-weight: bold\">()</span>+<span style=\"color: #008080; text-decoration-color: #008080; font-weight: bold\">0x448</span><span style=\"font-weight: bold\">)</span> <span style=\"font-weight: bold\">[</span><span style=\"color: #008080; text-decoration-color: #008080; font-weight: bold\">0x7fed5f928128</span><span style=\"font-weight: bold\">]</span>\n",
       "<span style=\"font-weight: bold\">[</span>bt<span style=\"font-weight: bold\">]</span> <span style=\"font-weight: bold\">(</span><span style=\"color: #008080; text-decoration-color: #008080; font-weight: bold\">3</span><span style=\"font-weight: bold\">)</span> <span style=\"color: #e100e1; text-decoration-color: #e100e1\">/opt/amazon/lib/libmxnet.so</span><span style=\"font-weight: bold\">(</span>MXDataIterNext+<span style=\"color: #008080; text-decoration-color: #008080; font-weight: bold\">0x21</span><span style=\"font-weight: bold\">)</span> <span style=\"font-weight: bold\">[</span><span style=\"color: #008080; text-decoration-color: #008080; font-weight: bold\">0x7fed45e99901</span><span style=\"font-weight: bold\">]</span>\n",
       "<span style=\"font-weight: bold\">[</span>bt<span style=\"font-weight: bold\">]</span> <span style=\"font-weight: bold\">(</span><span style=\"color: #008080; text-decoration-color: #008080; font-weight: bold\">4</span><span style=\"font-weight: bold\">)</span> <span style=\"color: #e100e1; text-decoration-color: #e100e1\">/opt/amazon/lib/libffi.so.6</span><span style=\"font-weight: bold\">(</span>ffi_call_unix64+<span style=\"color: #008080; text-decoration-color: #008080; font-weight: bold\">0x4c</span><span style=\"font-weight: bold\">)</span> <span style=\"font-weight: bold\">[</span><span style=\"color: #008080; text-decoration-color: #008080; font-weight: bold\">0x7fed5fb9c078</span><span style=\"font-weight: bold\">]</span>\n",
       "<span style=\"font-weight: bold\">[</span>bt<span style=\"font-weight: bold\">]</span> <span style=\"font-weight: bold\">(</span><span style=\"color: #008080; text-decoration-color: #008080; font-weight: bold\">5</span><span style=\"font-weight: bold\">)</span> <span style=\"color: #e100e1; text-decoration-color: #e100e1\">/opt/amazon/lib/libffi.so.6</span><span style=\"font-weight: bold\">(</span>ffi_call+<span style=\"color: #008080; text-decoration-color: #008080; font-weight: bold\">0x186</span><span style=\"font-weight: bold\">)</span> <span style=\"font-weight: bold\">[</span><span style=\"color: #008080; text-decoration-color: #008080; font-weight: bold\">0x7fed5fb9b206</span><span style=\"font-weight: bold\">]</span>\n",
       "<span style=\"font-weight: bold\">[</span>bt<span style=\"font-weight: bold\">]</span> <span style=\"font-weight: bold\">(</span><span style=\"color: #008080; text-decoration-color: #008080; font-weight: bold\">6</span><span style=\"font-weight: bold\">)</span> <span style=\"color: #e100e1; text-decoration-color: #e100e1\">/opt/amazon/python</span>, e. Check troubleshooting guide for common errors: \n",
       "<span style=\"color: #0069ff; text-decoration-color: #0069ff; text-decoration: underline\">https://docs.aws.amazon.com/sagemaker/latest/dg/sagemaker-python-sdk-troubleshooting.html</span>\n",
       "</pre>\n"
      ],
      "text/plain": [
       "\u001b[38;2;255;0;0m╭─\u001b[0m\u001b[38;2;255;0;0m──────────────────────────────\u001b[0m\u001b[38;2;255;0;0m \u001b[0m\u001b[1;38;2;255;0;0mTraceback \u001b[0m\u001b[1;2;38;2;255;0;0m(most recent call last)\u001b[0m\u001b[38;2;255;0;0m \u001b[0m\u001b[38;2;255;0;0m───────────────────────────────\u001b[0m\u001b[38;2;255;0;0m─╮\u001b[0m\n",
       "\u001b[38;2;255;0;0m│\u001b[0m in <module>:1                                                                                    \u001b[38;2;255;0;0m│\u001b[0m\n",
       "\u001b[38;2;255;0;0m│\u001b[0m                                                                                                  \u001b[38;2;255;0;0m│\u001b[0m\n",
       "\u001b[38;2;255;0;0m│\u001b[0m \u001b[31m❱ \u001b[0m1 rcf_estimator = \u001b[1;4mtraining_model(\u001b[0m                                                              \u001b[38;2;255;0;0m│\u001b[0m\n",
       "\u001b[38;2;255;0;0m│\u001b[0m   \u001b[2m2 \u001b[0m\u001b[2m│   \u001b[0m\u001b[1;4ms3_input_train=s3_input_train, \u001b[0m                                                          \u001b[38;2;255;0;0m│\u001b[0m\n",
       "\u001b[38;2;255;0;0m│\u001b[0m   \u001b[2m3 \u001b[0m\u001b[2m│   \u001b[0m\u001b[1;4moutput_path=output_path, \u001b[0m                                                                \u001b[38;2;255;0;0m│\u001b[0m\n",
       "\u001b[38;2;255;0;0m│\u001b[0m   \u001b[2m4 \u001b[0m\u001b[2m│   \u001b[0m\u001b[1;4mfeature_dim=num_columns, \u001b[0m                                                                \u001b[38;2;255;0;0m│\u001b[0m\n",
       "\u001b[38;2;255;0;0m│\u001b[0m                                                                                                  \u001b[38;2;255;0;0m│\u001b[0m\n",
       "\u001b[38;2;255;0;0m│\u001b[0m in training_model:33                                                                             \u001b[38;2;255;0;0m│\u001b[0m\n",
       "\u001b[38;2;255;0;0m│\u001b[0m                                                                                                  \u001b[38;2;255;0;0m│\u001b[0m\n",
       "\u001b[38;2;255;0;0m│\u001b[0m   \u001b[2m30 \u001b[0m\u001b[2m│   \u001b[0m)                                                                                       \u001b[38;2;255;0;0m│\u001b[0m\n",
       "\u001b[38;2;255;0;0m│\u001b[0m   \u001b[2m31 \u001b[0m\u001b[2m│   \u001b[0m                                                                                        \u001b[38;2;255;0;0m│\u001b[0m\n",
       "\u001b[38;2;255;0;0m│\u001b[0m   \u001b[2m32 \u001b[0m\u001b[2m│   \u001b[0m\u001b[2m# Train model\u001b[0m                                                                           \u001b[38;2;255;0;0m│\u001b[0m\n",
       "\u001b[38;2;255;0;0m│\u001b[0m \u001b[31m❱ \u001b[0m33 \u001b[2m│   \u001b[0m\u001b[1;4mrcf_estimator.fit({\u001b[0m\u001b[1;4;33m\"\u001b[0m\u001b[1;4;33mtrain\u001b[0m\u001b[1;4;33m\"\u001b[0m\u001b[1;4m: train_input}, wait=\u001b[0m\u001b[1;4;94mTrue\u001b[0m\u001b[1;4m)\u001b[0m                                    \u001b[38;2;255;0;0m│\u001b[0m\n",
       "\u001b[38;2;255;0;0m│\u001b[0m   \u001b[2m34 \u001b[0m\u001b[2m│   \u001b[0m\u001b[94mreturn\u001b[0m rcf_estimator                                                                    \u001b[38;2;255;0;0m│\u001b[0m\n",
       "\u001b[38;2;255;0;0m│\u001b[0m   \u001b[2m35 \u001b[0m                                                                                            \u001b[38;2;255;0;0m│\u001b[0m\n",
       "\u001b[38;2;255;0;0m│\u001b[0m                                                                                                  \u001b[38;2;255;0;0m│\u001b[0m\n",
       "\u001b[38;2;255;0;0m│\u001b[0m \u001b[2m/opt/conda/lib/python3.12/site-packages/sagemaker/telemetry/\u001b[0m\u001b[1mtelemetry_logging.py\u001b[0m:167 in wrapper  \u001b[38;2;255;0;0m│\u001b[0m\n",
       "\u001b[38;2;255;0;0m│\u001b[0m                                                                                                  \u001b[38;2;255;0;0m│\u001b[0m\n",
       "\u001b[38;2;255;0;0m│\u001b[0m   \u001b[2m164 \u001b[0m\u001b[2m│   │   │   │   │   \u001b[0mcaught_ex = e                                                          \u001b[38;2;255;0;0m│\u001b[0m\n",
       "\u001b[38;2;255;0;0m│\u001b[0m   \u001b[2m165 \u001b[0m\u001b[2m│   │   │   │   \u001b[0m\u001b[94mfinally\u001b[0m:                                                                   \u001b[38;2;255;0;0m│\u001b[0m\n",
       "\u001b[38;2;255;0;0m│\u001b[0m   \u001b[2m166 \u001b[0m\u001b[2m│   │   │   │   │   \u001b[0m\u001b[94mif\u001b[0m caught_ex:                                                          \u001b[38;2;255;0;0m│\u001b[0m\n",
       "\u001b[38;2;255;0;0m│\u001b[0m \u001b[31m❱ \u001b[0m167 \u001b[2m│   │   │   │   │   │   \u001b[0m\u001b[1;4;94mraise\u001b[0m\u001b[1;4m caught_ex\u001b[0m                                                    \u001b[38;2;255;0;0m│\u001b[0m\n",
       "\u001b[38;2;255;0;0m│\u001b[0m   \u001b[2m168 \u001b[0m\u001b[2m│   │   │   │   │   \u001b[0m\u001b[94mreturn\u001b[0m response  \u001b[2m# pylint: disable=W0150\u001b[0m                               \u001b[38;2;255;0;0m│\u001b[0m\n",
       "\u001b[38;2;255;0;0m│\u001b[0m   \u001b[2m169 \u001b[0m\u001b[2m│   │   │   \u001b[0m\u001b[94melse\u001b[0m:                                                                          \u001b[38;2;255;0;0m│\u001b[0m\n",
       "\u001b[38;2;255;0;0m│\u001b[0m   \u001b[2m170 \u001b[0m\u001b[2m│   │   │   │   \u001b[0mlogger.debug(                                                              \u001b[38;2;255;0;0m│\u001b[0m\n",
       "\u001b[38;2;255;0;0m│\u001b[0m                                                                                                  \u001b[38;2;255;0;0m│\u001b[0m\n",
       "\u001b[38;2;255;0;0m│\u001b[0m \u001b[2m/opt/conda/lib/python3.12/site-packages/sagemaker/telemetry/\u001b[0m\u001b[1mtelemetry_logging.py\u001b[0m:138 in wrapper  \u001b[38;2;255;0;0m│\u001b[0m\n",
       "\u001b[38;2;255;0;0m│\u001b[0m                                                                                                  \u001b[38;2;255;0;0m│\u001b[0m\n",
       "\u001b[38;2;255;0;0m│\u001b[0m   \u001b[2m135 \u001b[0m\u001b[2m│   │   │   │   \u001b[0mstart_timer = perf_counter()                                               \u001b[38;2;255;0;0m│\u001b[0m\n",
       "\u001b[38;2;255;0;0m│\u001b[0m   \u001b[2m136 \u001b[0m\u001b[2m│   │   │   │   \u001b[0m\u001b[94mtry\u001b[0m:                                                                       \u001b[38;2;255;0;0m│\u001b[0m\n",
       "\u001b[38;2;255;0;0m│\u001b[0m   \u001b[2m137 \u001b[0m\u001b[2m│   │   │   │   │   \u001b[0m\u001b[2m# Call the original function\u001b[0m                                           \u001b[38;2;255;0;0m│\u001b[0m\n",
       "\u001b[38;2;255;0;0m│\u001b[0m \u001b[31m❱ \u001b[0m138 \u001b[2m│   │   │   │   │   \u001b[0mresponse = func(*args, **kwargs)                                       \u001b[38;2;255;0;0m│\u001b[0m\n",
       "\u001b[38;2;255;0;0m│\u001b[0m   \u001b[2m139 \u001b[0m\u001b[2m│   │   │   │   │   \u001b[0mstop_timer = perf_counter()                                            \u001b[38;2;255;0;0m│\u001b[0m\n",
       "\u001b[38;2;255;0;0m│\u001b[0m   \u001b[2m140 \u001b[0m\u001b[2m│   │   │   │   │   \u001b[0melapsed = stop_timer - start_timer                                     \u001b[38;2;255;0;0m│\u001b[0m\n",
       "\u001b[38;2;255;0;0m│\u001b[0m   \u001b[2m141 \u001b[0m\u001b[2m│   │   │   │   │   \u001b[0mextra += \u001b[33mf\u001b[0m\u001b[33m\"\u001b[0m\u001b[33m&x-latency=\u001b[0m\u001b[33m{\u001b[0m\u001b[96mround\u001b[0m(elapsed,\u001b[90m \u001b[0m\u001b[94m2\u001b[0m)\u001b[33m}\u001b[0m\u001b[33m\"\u001b[0m                             \u001b[38;2;255;0;0m│\u001b[0m\n",
       "\u001b[38;2;255;0;0m│\u001b[0m                                                                                                  \u001b[38;2;255;0;0m│\u001b[0m\n",
       "\u001b[38;2;255;0;0m│\u001b[0m \u001b[2m/opt/conda/lib/python3.12/site-packages/sagemaker/workflow/\u001b[0m\u001b[1mpipeline_context.py\u001b[0m:346 in wrapper    \u001b[38;2;255;0;0m│\u001b[0m\n",
       "\u001b[38;2;255;0;0m│\u001b[0m                                                                                                  \u001b[38;2;255;0;0m│\u001b[0m\n",
       "\u001b[38;2;255;0;0m│\u001b[0m   \u001b[2m343 \u001b[0m\u001b[2m│   │   │   \u001b[0m                                                                               \u001b[38;2;255;0;0m│\u001b[0m\n",
       "\u001b[38;2;255;0;0m│\u001b[0m   \u001b[2m344 \u001b[0m\u001b[2m│   │   │   \u001b[0m\u001b[94mreturn\u001b[0m _StepArguments(retrieve_caller_name(self_instance), run_func, *args,    \u001b[38;2;255;0;0m│\u001b[0m\n",
       "\u001b[38;2;255;0;0m│\u001b[0m   \u001b[2m345 \u001b[0m\u001b[2m│   │   \u001b[0m                                                                                   \u001b[38;2;255;0;0m│\u001b[0m\n",
       "\u001b[38;2;255;0;0m│\u001b[0m \u001b[31m❱ \u001b[0m346 \u001b[2m│   │   \u001b[0m\u001b[94mreturn\u001b[0m \u001b[1;4mrun_func(*args, **kwargs)\u001b[0m                                                   \u001b[38;2;255;0;0m│\u001b[0m\n",
       "\u001b[38;2;255;0;0m│\u001b[0m   \u001b[2m347 \u001b[0m\u001b[2m│   \u001b[0m                                                                                       \u001b[38;2;255;0;0m│\u001b[0m\n",
       "\u001b[38;2;255;0;0m│\u001b[0m   \u001b[2m348 \u001b[0m\u001b[2m│   \u001b[0m\u001b[94mreturn\u001b[0m wrapper                                                                         \u001b[38;2;255;0;0m│\u001b[0m\n",
       "\u001b[38;2;255;0;0m│\u001b[0m   \u001b[2m349 \u001b[0m                                                                                           \u001b[38;2;255;0;0m│\u001b[0m\n",
       "\u001b[38;2;255;0;0m│\u001b[0m                                                                                                  \u001b[38;2;255;0;0m│\u001b[0m\n",
       "\u001b[38;2;255;0;0m│\u001b[0m \u001b[2m/opt/conda/lib/python3.12/site-packages/sagemaker/\u001b[0m\u001b[1mestimator.py\u001b[0m:1380 in fit                       \u001b[38;2;255;0;0m│\u001b[0m\n",
       "\u001b[38;2;255;0;0m│\u001b[0m                                                                                                  \u001b[38;2;255;0;0m│\u001b[0m\n",
       "\u001b[38;2;255;0;0m│\u001b[0m   \u001b[2m1377 \u001b[0m\u001b[2m│   │   │   \u001b[0mwait = \u001b[94mTrue\u001b[0m                                                                   \u001b[38;2;255;0;0m│\u001b[0m\n",
       "\u001b[38;2;255;0;0m│\u001b[0m   \u001b[2m1378 \u001b[0m\u001b[2m│   │   │   \u001b[0mforward_to_mlflow_tracking_server = \u001b[94mTrue\u001b[0m                                      \u001b[38;2;255;0;0m│\u001b[0m\n",
       "\u001b[38;2;255;0;0m│\u001b[0m   \u001b[2m1379 \u001b[0m\u001b[2m│   │   \u001b[0m\u001b[94mif\u001b[0m wait:                                                                          \u001b[38;2;255;0;0m│\u001b[0m\n",
       "\u001b[38;2;255;0;0m│\u001b[0m \u001b[31m❱ \u001b[0m1380 \u001b[2m│   │   │   \u001b[0m\u001b[1;4;96mself\u001b[0m\u001b[1;4m.latest_training_job.wait(logs=logs)\u001b[0m                                      \u001b[38;2;255;0;0m│\u001b[0m\n",
       "\u001b[38;2;255;0;0m│\u001b[0m   \u001b[2m1381 \u001b[0m\u001b[2m│   │   \u001b[0m\u001b[94mtry\u001b[0m:                                                                              \u001b[38;2;255;0;0m│\u001b[0m\n",
       "\u001b[38;2;255;0;0m│\u001b[0m   \u001b[2m1382 \u001b[0m\u001b[2m│   │   │   \u001b[0m\u001b[94mif\u001b[0m forward_to_mlflow_tracking_server:                                         \u001b[38;2;255;0;0m│\u001b[0m\n",
       "\u001b[38;2;255;0;0m│\u001b[0m   \u001b[2m1383 \u001b[0m\u001b[2m│   │   │   │   \u001b[0m\u001b[94mfrom\u001b[0m\u001b[90m \u001b[0m\u001b[4;96msagemaker\u001b[0m\u001b[4;96m.\u001b[0m\u001b[4;96mmlflow\u001b[0m\u001b[4;96m.\u001b[0m\u001b[4;96mforward_sagemaker_metrics\u001b[0m\u001b[90m \u001b[0m\u001b[94mimport\u001b[0m log_sagemaker_job  \u001b[38;2;255;0;0m│\u001b[0m\n",
       "\u001b[38;2;255;0;0m│\u001b[0m                                                                                                  \u001b[38;2;255;0;0m│\u001b[0m\n",
       "\u001b[38;2;255;0;0m│\u001b[0m \u001b[2m/opt/conda/lib/python3.12/site-packages/sagemaker/\u001b[0m\u001b[1mestimator.py\u001b[0m:2765 in wait                      \u001b[38;2;255;0;0m│\u001b[0m\n",
       "\u001b[38;2;255;0;0m│\u001b[0m                                                                                                  \u001b[38;2;255;0;0m│\u001b[0m\n",
       "\u001b[38;2;255;0;0m│\u001b[0m   \u001b[2m2762 \u001b[0m\u001b[2m│   │   │   \u001b[0mlogs = log_string_map[logs]                                                   \u001b[38;2;255;0;0m│\u001b[0m\n",
       "\u001b[38;2;255;0;0m│\u001b[0m   \u001b[2m2763 \u001b[0m\u001b[2m│   │   \u001b[0m\u001b[2m# If logs are requested, call logs_for_jobs.\u001b[0m                                      \u001b[38;2;255;0;0m│\u001b[0m\n",
       "\u001b[38;2;255;0;0m│\u001b[0m   \u001b[2m2764 \u001b[0m\u001b[2m│   │   \u001b[0m\u001b[94mif\u001b[0m logs != \u001b[33m\"\u001b[0m\u001b[33mNone\u001b[0m\u001b[33m\"\u001b[0m:                                                                \u001b[38;2;255;0;0m│\u001b[0m\n",
       "\u001b[38;2;255;0;0m│\u001b[0m \u001b[31m❱ \u001b[0m2765 \u001b[2m│   │   │   \u001b[0m\u001b[1;4;96mself\u001b[0m\u001b[1;4m.sagemaker_session.logs_for_job(\u001b[0m\u001b[1;4;96mself\u001b[0m\u001b[1;4m.job_name, wait=\u001b[0m\u001b[1;4;94mTrue\u001b[0m\u001b[1;4m, log_type=logs)\u001b[0m  \u001b[38;2;255;0;0m│\u001b[0m\n",
       "\u001b[38;2;255;0;0m│\u001b[0m   \u001b[2m2766 \u001b[0m\u001b[2m│   │   \u001b[0m\u001b[94melse\u001b[0m:                                                                             \u001b[38;2;255;0;0m│\u001b[0m\n",
       "\u001b[38;2;255;0;0m│\u001b[0m   \u001b[2m2767 \u001b[0m\u001b[2m│   │   │   \u001b[0m\u001b[96mself\u001b[0m.sagemaker_session.wait_for_job(\u001b[96mself\u001b[0m.job_name)                            \u001b[38;2;255;0;0m│\u001b[0m\n",
       "\u001b[38;2;255;0;0m│\u001b[0m   \u001b[2m2768 \u001b[0m                                                                                          \u001b[38;2;255;0;0m│\u001b[0m\n",
       "\u001b[38;2;255;0;0m│\u001b[0m                                                                                                  \u001b[38;2;255;0;0m│\u001b[0m\n",
       "\u001b[38;2;255;0;0m│\u001b[0m \u001b[2m/opt/conda/lib/python3.12/site-packages/sagemaker/\u001b[0m\u001b[1msession.py\u001b[0m:6065 in logs_for_job                \u001b[38;2;255;0;0m│\u001b[0m\n",
       "\u001b[38;2;255;0;0m│\u001b[0m                                                                                                  \u001b[38;2;255;0;0m│\u001b[0m\n",
       "\u001b[38;2;255;0;0m│\u001b[0m   \u001b[2m6062 \u001b[0m\u001b[2;33m│   │   │   \u001b[0m\u001b[33mexceptions.CapacityError: If the training job fails with CapacityError.\u001b[0m       \u001b[38;2;255;0;0m│\u001b[0m\n",
       "\u001b[38;2;255;0;0m│\u001b[0m   \u001b[2m6063 \u001b[0m\u001b[2;33m│   │   │   \u001b[0m\u001b[33mexceptions.UnexpectedStatusException: If waiting and the training job fails.\u001b[0m  \u001b[38;2;255;0;0m│\u001b[0m\n",
       "\u001b[38;2;255;0;0m│\u001b[0m   \u001b[2m6064 \u001b[0m\u001b[2;33m│   │   \u001b[0m\u001b[33m\"\"\"\u001b[0m                                                                               \u001b[38;2;255;0;0m│\u001b[0m\n",
       "\u001b[38;2;255;0;0m│\u001b[0m \u001b[31m❱ \u001b[0m6065 \u001b[2m│   │   \u001b[0m\u001b[1;4m_logs_for_job(\u001b[0m\u001b[1;4;96mself\u001b[0m\u001b[1;4m, job_name, wait, poll, log_type, timeout)\u001b[0m                      \u001b[38;2;255;0;0m│\u001b[0m\n",
       "\u001b[38;2;255;0;0m│\u001b[0m   \u001b[2m6066 \u001b[0m\u001b[2m│   \u001b[0m                                                                                      \u001b[38;2;255;0;0m│\u001b[0m\n",
       "\u001b[38;2;255;0;0m│\u001b[0m   \u001b[2m6067 \u001b[0m\u001b[2m│   \u001b[0m\u001b[94mdef\u001b[0m\u001b[90m \u001b[0m\u001b[92mlogs_for_processing_job\u001b[0m(\u001b[96mself\u001b[0m, job_name, wait=\u001b[94mFalse\u001b[0m, poll=\u001b[94m10\u001b[0m):                     \u001b[38;2;255;0;0m│\u001b[0m\n",
       "\u001b[38;2;255;0;0m│\u001b[0m   \u001b[2m6068 \u001b[0m\u001b[2;90m│   │   \u001b[0m\u001b[33m\"\"\"Display logs for a given processing job, optionally tailing them until the is\u001b[0m  \u001b[38;2;255;0;0m│\u001b[0m\n",
       "\u001b[38;2;255;0;0m│\u001b[0m                                                                                                  \u001b[38;2;255;0;0m│\u001b[0m\n",
       "\u001b[38;2;255;0;0m│\u001b[0m \u001b[2m/opt/conda/lib/python3.12/site-packages/sagemaker/\u001b[0m\u001b[1msession.py\u001b[0m:8678 in _logs_for_job               \u001b[38;2;255;0;0m│\u001b[0m\n",
       "\u001b[38;2;255;0;0m│\u001b[0m                                                                                                  \u001b[38;2;255;0;0m│\u001b[0m\n",
       "\u001b[38;2;255;0;0m│\u001b[0m   \u001b[2m8675 \u001b[0m\u001b[2m│   │   │   │   \u001b[0mlast_profiler_rule_statuses = profiler_rule_statuses                      \u001b[38;2;255;0;0m│\u001b[0m\n",
       "\u001b[38;2;255;0;0m│\u001b[0m   \u001b[2m8676 \u001b[0m\u001b[2m│   \u001b[0m                                                                                      \u001b[38;2;255;0;0m│\u001b[0m\n",
       "\u001b[38;2;255;0;0m│\u001b[0m   \u001b[2m8677 \u001b[0m\u001b[2m│   \u001b[0m\u001b[94mif\u001b[0m wait:                                                                              \u001b[38;2;255;0;0m│\u001b[0m\n",
       "\u001b[38;2;255;0;0m│\u001b[0m \u001b[31m❱ \u001b[0m8678 \u001b[2m│   │   \u001b[0m\u001b[1;4m_check_job_status(job_name, description, \u001b[0m\u001b[1;4;33m\"\u001b[0m\u001b[1;4;33mTrainingJobStatus\u001b[0m\u001b[1;4;33m\"\u001b[0m\u001b[1;4m)\u001b[0m                     \u001b[38;2;255;0;0m│\u001b[0m\n",
       "\u001b[38;2;255;0;0m│\u001b[0m   \u001b[2m8679 \u001b[0m\u001b[2m│   │   \u001b[0m\u001b[94mif\u001b[0m dot:                                                                           \u001b[38;2;255;0;0m│\u001b[0m\n",
       "\u001b[38;2;255;0;0m│\u001b[0m   \u001b[2m8680 \u001b[0m\u001b[2m│   │   │   \u001b[0m\u001b[96mprint\u001b[0m()                                                                       \u001b[38;2;255;0;0m│\u001b[0m\n",
       "\u001b[38;2;255;0;0m│\u001b[0m   \u001b[2m8681 \u001b[0m\u001b[2m│   │   \u001b[0m\u001b[2m# Customers are not billed for hardware provisioning, so billable time is less t\u001b[0m  \u001b[38;2;255;0;0m│\u001b[0m\n",
       "\u001b[38;2;255;0;0m│\u001b[0m                                                                                                  \u001b[38;2;255;0;0m│\u001b[0m\n",
       "\u001b[38;2;255;0;0m│\u001b[0m \u001b[2m/opt/conda/lib/python3.12/site-packages/sagemaker/\u001b[0m\u001b[1msession.py\u001b[0m:8742 in _check_job_status           \u001b[38;2;255;0;0m│\u001b[0m\n",
       "\u001b[38;2;255;0;0m│\u001b[0m                                                                                                  \u001b[38;2;255;0;0m│\u001b[0m\n",
       "\u001b[38;2;255;0;0m│\u001b[0m   \u001b[2m8739 \u001b[0m\u001b[2m│   │   │   │   \u001b[0mallowed_statuses=[\u001b[33m\"\u001b[0m\u001b[33mCompleted\u001b[0m\u001b[33m\"\u001b[0m, \u001b[33m\"\u001b[0m\u001b[33mStopped\u001b[0m\u001b[33m\"\u001b[0m],                                \u001b[38;2;255;0;0m│\u001b[0m\n",
       "\u001b[38;2;255;0;0m│\u001b[0m   \u001b[2m8740 \u001b[0m\u001b[2m│   │   │   │   \u001b[0mactual_status=status,                                                     \u001b[38;2;255;0;0m│\u001b[0m\n",
       "\u001b[38;2;255;0;0m│\u001b[0m   \u001b[2m8741 \u001b[0m\u001b[2m│   │   │   \u001b[0m)                                                                             \u001b[38;2;255;0;0m│\u001b[0m\n",
       "\u001b[38;2;255;0;0m│\u001b[0m \u001b[31m❱ \u001b[0m8742 \u001b[2m│   │   \u001b[0m\u001b[1;4;94mraise\u001b[0m\u001b[1;4m exceptions.UnexpectedStatusException(\u001b[0m                                       \u001b[38;2;255;0;0m│\u001b[0m\n",
       "\u001b[38;2;255;0;0m│\u001b[0m   \u001b[2m8743 \u001b[0m\u001b[2m│   │   │   \u001b[0m\u001b[1;4mmessage=message,\u001b[0m                                                              \u001b[38;2;255;0;0m│\u001b[0m\n",
       "\u001b[38;2;255;0;0m│\u001b[0m   \u001b[2m8744 \u001b[0m\u001b[2m│   │   │   \u001b[0m\u001b[1;4mallowed_statuses=[\u001b[0m\u001b[1;4;33m\"\u001b[0m\u001b[1;4;33mCompleted\u001b[0m\u001b[1;4;33m\"\u001b[0m\u001b[1;4m, \u001b[0m\u001b[1;4;33m\"\u001b[0m\u001b[1;4;33mStopped\u001b[0m\u001b[1;4;33m\"\u001b[0m\u001b[1;4m],\u001b[0m                                    \u001b[38;2;255;0;0m│\u001b[0m\n",
       "\u001b[38;2;255;0;0m│\u001b[0m   \u001b[2m8745 \u001b[0m\u001b[2m│   │   │   \u001b[0m\u001b[1;4mactual_status=status,\u001b[0m                                                         \u001b[38;2;255;0;0m│\u001b[0m\n",
       "\u001b[38;2;255;0;0m╰──────────────────────────────────────────────────────────────────────────────────────────────────╯\u001b[0m\n",
       "\u001b[1;91mUnexpectedStatusException: \u001b[0mError for Training job randomcutforest-\u001b[1;36m2025\u001b[0m-06-16-04-01-49-756: Failed. Reason: \n",
       "ClientError: Unable to read data channel \u001b[38;2;0;135;0m'train'\u001b[0m. Requested content-type is \u001b[38;2;0;135;0m'text/csv'\u001b[0m. Please verify the data \n",
       "matches the requested content-type. \u001b[1m(\u001b[0mcaused by MXNetError\u001b[1m)\u001b[0m\n",
       "\n",
       "Caused by: \u001b[1m[\u001b[0m04:04:38\u001b[1m]\u001b[0m \n",
       "\u001b[38;2;225;0;225m/opt/brazil-pkg-cache/packages/AIAlgorithmsCppLibs/AIAlgorithmsCppLibs-2.0.7138.0/AL2_x86_64/generic-flavor/src/src\u001b[0m\n",
       "\u001b[38;2;225;0;225m/aialgs/io/\u001b[0m\u001b[38;2;225;0;225miterator_base.cpp\u001b[0m:\u001b[1;36m100\u001b[0m: \u001b[1m(\u001b[0mInput Error\u001b[1m)\u001b[0m The field \u001b[1;36m0\u001b[0m of the feature \u001b[38;2;0;135;0m'label_values'\u001b[0m of the text line \u001b[1;36m0\u001b[0m in the\n",
       "dataset cannot be parsed. The value \u001b[38;2;0;135;0m'\u001b[0m\u001b[1;38;2;0;135;0m{\u001b[0m\u001b[38;2;0;135;0m\"Type\":\"memory\"'\u001b[0m is invalid for the data type \u001b[38;2;0;135;0m'float32'\u001b[0m.\n",
       "\n",
       "Stack trace returned \u001b[1;36m10\u001b[0m entries:\n",
       "\u001b[1m[\u001b[0mbt\u001b[1m]\u001b[0m \u001b[1m(\u001b[0m\u001b[1;36m0\u001b[0m\u001b[1m)\u001b[0m \u001b[38;2;225;0;225m/opt/amazon/lib/\u001b[0m\u001b[38;2;225;0;225mlibaialgs.so\u001b[0m\u001b[1m(\u001b[0m+\u001b[1;36m0x9d1b\u001b[0m\u001b[1m)\u001b[0m \u001b[1m[\u001b[0m\u001b[1;36m0x7fed5f91ad1b\u001b[0m\u001b[1m]\u001b[0m\n",
       "\u001b[1m[\u001b[0mbt\u001b[1m]\u001b[0m \u001b[1m(\u001b[0m\u001b[1;36m1\u001b[0m\u001b[1m)\u001b[0m \u001b[38;2;225;0;225m/opt/amazon/lib/\u001b[0m\u001b[38;2;225;0;225mlibaialgs.so\u001b[0m\u001b[1m(\u001b[0m+\u001b[1;36m0xa549\u001b[0m\u001b[1m)\u001b[0m \u001b[1m[\u001b[0m\u001b[1;36m0x7fed5f91b549\u001b[0m\u001b[1m]\u001b[0m\n",
       "\u001b[1m[\u001b[0mbt\u001b[1m]\u001b[0m \u001b[1m(\u001b[0m\u001b[1;36m2\u001b[0m\u001b[1m)\u001b[0m \u001b[38;2;225;0;225m/opt/amazon/lib/\u001b[0m\u001b[38;2;225;0;225mlibaialgs.so\u001b[0m\u001b[1m(\u001b[0maialgs::iterator_base::\u001b[1;38;2;225;0;225mNext\u001b[0m\u001b[1m(\u001b[0m\u001b[1m)\u001b[0m+\u001b[1;36m0x448\u001b[0m\u001b[1m)\u001b[0m \u001b[1m[\u001b[0m\u001b[1;36m0x7fed5f928128\u001b[0m\u001b[1m]\u001b[0m\n",
       "\u001b[1m[\u001b[0mbt\u001b[1m]\u001b[0m \u001b[1m(\u001b[0m\u001b[1;36m3\u001b[0m\u001b[1m)\u001b[0m \u001b[38;2;225;0;225m/opt/amazon/lib/\u001b[0m\u001b[38;2;225;0;225mlibmxnet.so\u001b[0m\u001b[1m(\u001b[0mMXDataIterNext+\u001b[1;36m0x21\u001b[0m\u001b[1m)\u001b[0m \u001b[1m[\u001b[0m\u001b[1;36m0x7fed45e99901\u001b[0m\u001b[1m]\u001b[0m\n",
       "\u001b[1m[\u001b[0mbt\u001b[1m]\u001b[0m \u001b[1m(\u001b[0m\u001b[1;36m4\u001b[0m\u001b[1m)\u001b[0m \u001b[38;2;225;0;225m/opt/amazon/lib/\u001b[0m\u001b[38;2;225;0;225mlibffi.so.6\u001b[0m\u001b[1m(\u001b[0mffi_call_unix64+\u001b[1;36m0x4c\u001b[0m\u001b[1m)\u001b[0m \u001b[1m[\u001b[0m\u001b[1;36m0x7fed5fb9c078\u001b[0m\u001b[1m]\u001b[0m\n",
       "\u001b[1m[\u001b[0mbt\u001b[1m]\u001b[0m \u001b[1m(\u001b[0m\u001b[1;36m5\u001b[0m\u001b[1m)\u001b[0m \u001b[38;2;225;0;225m/opt/amazon/lib/\u001b[0m\u001b[38;2;225;0;225mlibffi.so.6\u001b[0m\u001b[1m(\u001b[0mffi_call+\u001b[1;36m0x186\u001b[0m\u001b[1m)\u001b[0m \u001b[1m[\u001b[0m\u001b[1;36m0x7fed5fb9b206\u001b[0m\u001b[1m]\u001b[0m\n",
       "\u001b[1m[\u001b[0mbt\u001b[1m]\u001b[0m \u001b[1m(\u001b[0m\u001b[1;36m6\u001b[0m\u001b[1m)\u001b[0m \u001b[38;2;225;0;225m/opt/amazon/\u001b[0m\u001b[38;2;225;0;225mpython\u001b[0m, e. Check troubleshooting guide for common errors: \n",
       "\u001b[4;38;2;0;105;255mhttps://docs.aws.amazon.com/sagemaker/latest/dg/sagemaker-python-sdk-troubleshooting.html\u001b[0m\n"
      ]
     },
     "metadata": {},
     "output_type": "display_data"
    }
   ],
   "source": [
    "rcf_estimator = training_model(\n",
    "    s3_input_train=s3_input_train, \n",
    "    output_path=output_path, \n",
    "    feature_dim=num_columns, \n",
    "    num_samples_per_tree=1024, \n",
    "    num_trees=300\n",
    ")"
   ]
  },
  {
   "cell_type": "code",
   "execution_count": null,
   "id": "8968c15f-e829-4441-b59e-0e70fd9135c3",
   "metadata": {},
   "outputs": [],
   "source": [
    "rcf_predictor = rcf_estimator.deploy(\n",
    "    initial_instance_count=1,  # instance runs endpoint\n",
    "    instance_type=\"ml.m5.large\"  # instance type\n",
    ")"
   ]
  },
  {
   "cell_type": "code",
   "execution_count": null,
   "id": "9e9f365b-ec95-4069-bc70-851b0f897b45",
   "metadata": {},
   "outputs": [],
   "source": []
  },
  {
   "cell_type": "code",
   "execution_count": 30,
   "id": "a03d4367-7ca8-419b-aa94-339c53e23622",
   "metadata": {},
   "outputs": [
    {
     "data": {
      "text/plain": [
       "'s3://swo-ngoctran-public/mlops/raw_data/2024-01/'"
      ]
     },
     "execution_count": 30,
     "metadata": {},
     "output_type": "execute_result"
    }
   ],
   "source": [
    "output_path"
   ]
  },
  {
   "cell_type": "code",
   "execution_count": null,
   "id": "8ede8d7d-b5c4-41b4-8d48-a6f625bda471",
   "metadata": {},
   "outputs": [],
   "source": []
  },
  {
   "cell_type": "code",
   "execution_count": 56,
   "id": "a4f723ec-90c7-463f-a244-7dc69513065c",
   "metadata": {},
   "outputs": [],
   "source": [
    "def get_model_path(tag_name_speed, cluster, unit, tag_name):\n",
    "    s3 = boto3.client(\"s3\")\n",
    "\n",
    "    bucket = \"s3-assetcare-bucket\"\n",
    "    prefix = f\"features_store2/result/{tag_name_speed}_cluster{cluster}_{unit}_{tag_name}/\"\n",
    "    \n",
    "    # List all \"folders\" (S3 prefixes) trong thư mục đó\n",
    "    response = s3.list_objects_v2(Bucket=bucket, Prefix=prefix, Delimiter=\"/\")\n",
    "    \n",
    "    # Lọc ra folder có tên bắt đầu bằng \"randomcutforest-\"\n",
    "    candidates = [\n",
    "        cp['Prefix'] for cp in response.get('CommonPrefixes', [])\n",
    "        if cp['Prefix'].startswith(prefix + \"randomcutforest-\")\n",
    "    ]\n",
    "    return \"s3://\" + bucket + \"/\" + candidates[0] + \"output/model.tar.gz\""
   ]
  },
  {
   "cell_type": "code",
   "execution_count": 57,
   "id": "7a99c058-5b55-4b5f-999b-2ad7c0a1877b",
   "metadata": {},
   "outputs": [],
   "source": [
    "# s3://s3-assetcare-bucket/features_store2/result/DWA_ACTUAL_MOTOR_SPEED_cluster2_DegC_DW_AMBIENT_TEMP/randomcutforest-2025-03-28-04-57-48-276/output/model.tar.gz"
   ]
  },
  {
   "cell_type": "code",
   "execution_count": null,
   "id": "d21a99c0-a6f7-40b1-a171-38c3ed61049c",
   "metadata": {},
   "outputs": [],
   "source": []
  },
  {
   "cell_type": "code",
   "execution_count": 74,
   "id": "aaec06cf-410b-4f4d-9c9d-231fb870d16b",
   "metadata": {},
   "outputs": [
    {
     "data": {
      "text/plain": [
       "'s3://s3-assetcare-bucket/features_store2/result/DWA_ACTUAL_MOTOR_SPEED_cluster2_DegC_DW_GEARBOX1_LO_PRESS/randomcutforest-2025-03-28-06-19-04-447/output/model.tar.gz'"
      ]
     },
     "execution_count": 74,
     "metadata": {},
     "output_type": "execute_result"
    }
   ],
   "source": [
    "model_path = get_model_path(tag_name_speed=tag_name_speed, cluster=cluster, unit=unit, tag_name=tag_name)\n",
    "model_path"
   ]
  },
  {
   "cell_type": "code",
   "execution_count": null,
   "id": "9de51ee2-e27c-44d0-9bf5-76335494f1e4",
   "metadata": {},
   "outputs": [],
   "source": []
  },
  {
   "cell_type": "code",
   "execution_count": 59,
   "id": "4ff9c57e-7cea-4f60-8584-d33f93c8ed99",
   "metadata": {},
   "outputs": [],
   "source": [
    "def get_prediction(model_path, feature_s3_path, output_path):\n",
    "    # Lấy container mới nhất của Random Cut Forest trên SageMaker\n",
    "    rcf_container = sagemaker.image_uris.retrieve(\"randomcutforest\", region)\n",
    "\n",
    "    # Load model từ S3\n",
    "    rcf_model = Model(\n",
    "        image_uri=rcf_container,  # Dùng container SageMaker Random Cut Forest\n",
    "        model_data=model_path,  # Đường dẫn model trên S3\n",
    "        role=role,\n",
    "        sagemaker_session=sagemaker_session\n",
    "    )\n",
    "\n",
    "    nr_of_files = 1\n",
    "    # predict anomaly scores\n",
    "    for idx in range(nr_of_files):\n",
    "        # test input\n",
    "        print(idx)\n",
    "        print(feature_s3_path)\n",
    "    \n",
    "        # test output\n",
    "        # output_path = f\"s3://s3-assetcare-bucket/features_store2/DWA/quicktrain/results_set/\"\n",
    "        print(output_path)\n",
    "    \n",
    "        transformer = rcf_model.transformer(\n",
    "            instance_count=1,\n",
    "            instance_type=\"ml.m5.xlarge\",\n",
    "            output_path=output_path,\n",
    "            assemble_with=\"Line\",\n",
    "            accept=\"text/csv\"\n",
    "        )\n",
    "        \n",
    "        # Chạy dự đoán trên dữ liệu S3\n",
    "        transformer.transform(feature_s3_path, content_type=\"text/csv\", split_type=\"Line\", wait=True)"
   ]
  },
  {
   "cell_type": "code",
   "execution_count": null,
   "id": "4a5d293a-7e20-4d4d-86fe-6ea424cf978b",
   "metadata": {},
   "outputs": [],
   "source": []
  },
  {
   "cell_type": "code",
   "execution_count": 75,
   "id": "cca52a18-fb1b-413f-9691-b3f58f3f9380",
   "metadata": {},
   "outputs": [],
   "source": [
    "feature_s3_path = f\"s3://s3-assetcare-bucket/features_store2/training/get_scores/{tag_name_speed}_cluster{cluster}_{unit}_{tag_name}/\"\n",
    "\n",
    "output_path = f\"s3://s3-assetcare-bucket/features_store2/training/results/\""
   ]
  },
  {
   "cell_type": "code",
   "execution_count": 76,
   "id": "9a682771-5af5-43de-9be5-22a685b728e4",
   "metadata": {
    "scrolled": true
   },
   "outputs": [
    {
     "name": "stderr",
     "output_type": "stream",
     "text": [
      "INFO:sagemaker.image_uris:Same images used for training and inference. Defaulting to image scope: inference.\n",
      "INFO:sagemaker.image_uris:Defaulting to the only supported framework/algorithm version: 1.\n",
      "INFO:sagemaker.image_uris:Ignoring unnecessary instance type: None.\n",
      "INFO:sagemaker:Creating model with name: randomcutforest-2025-03-28-06-23-23-017\n"
     ]
    },
    {
     "name": "stdout",
     "output_type": "stream",
     "text": [
      "0\n",
      "s3://s3-assetcare-bucket/features_store2/training/get_scores/DWA_ACTUAL_MOTOR_SPEED_cluster2_DegC_DW_GEARBOX1_LO_PRESS/\n",
      "s3://s3-assetcare-bucket/features_store2/training/results/\n"
     ]
    },
    {
     "name": "stderr",
     "output_type": "stream",
     "text": [
      "INFO:sagemaker:Creating transform job with name: randomcutforest-2025-03-28-06-23-23-673\n"
     ]
    },
    {
     "name": "stdout",
     "output_type": "stream",
     "text": [
      "...................................\u001b[34mDocker entrypoint called with argument(s): serve\u001b[0m\n",
      "\u001b[34mRunning default environment configuration script\u001b[0m\n",
      "\u001b[34m/opt/amazon/lib/python3.8/site-packages/mxnet/model.py:97: SyntaxWarning: \"is\" with a literal. Did you mean \"==\"?\n",
      "  if num_device is 1 and 'dist' not in kvstore:\u001b[0m\n",
      "\u001b[34m/opt/amazon/lib/python3.8/site-packages/scipy/optimize/_shgo.py:495: SyntaxWarning: \"is\" with a literal. Did you mean \"==\"?\n",
      "  if cons['type'] is 'ineq':\u001b[0m\n",
      "\u001b[34m/opt/amazon/lib/python3.8/site-packages/scipy/optimize/_shgo.py:743: SyntaxWarning: \"is not\" with a literal. Did you mean \"!=\"?\n",
      "  if len(self.X_min) is not 0:\u001b[0m\n",
      "\u001b[34m[03/28/2025 06:29:17 INFO 139722077046592] loaded entry point class algorithm.serve.server_config:config_api\u001b[0m\n",
      "\u001b[34m[03/28/2025 06:29:17 INFO 139722077046592] loading entry points\u001b[0m\n",
      "\u001b[34m[03/28/2025 06:29:17 INFO 139722077046592] Loaded iterator creator application/x-recordio-protobuf for content type ('application/x-recordio-protobuf', '1.0')\u001b[0m\n",
      "\u001b[34m[03/28/2025 06:29:17 INFO 139722077046592] loaded request iterator application/json\u001b[0m\n",
      "\u001b[34m[03/28/2025 06:29:17 INFO 139722077046592] loaded request iterator application/jsonlines\u001b[0m\n",
      "\u001b[34m[03/28/2025 06:29:17 INFO 139722077046592] loaded request iterator application/x-recordio-protobuf\u001b[0m\n",
      "\u001b[34m[03/28/2025 06:29:17 INFO 139722077046592] loaded request iterator text/csv\u001b[0m\n",
      "\u001b[34m[03/28/2025 06:29:17 INFO 139722077046592] loaded response encoder application/json\u001b[0m\n",
      "\u001b[34m[03/28/2025 06:29:17 INFO 139722077046592] loaded response encoder application/jsonlines\u001b[0m\n",
      "\u001b[34m[03/28/2025 06:29:17 INFO 139722077046592] loaded response encoder application/x-recordio-protobuf\u001b[0m\n",
      "\u001b[34m[03/28/2025 06:29:17 INFO 139722077046592] loaded response encoder text/csv\u001b[0m\n",
      "\u001b[34m[03/28/2025 06:29:17 INFO 139722077046592] loaded entry point class algorithm:model\u001b[0m\n",
      "\u001b[34m[03/28/2025 06:29:17 INFO 139722077046592] Loaded iterator creator application/x-recordio-protobuf for content type ('application/x-recordio-protobuf', '1.0')\u001b[0m\n",
      "\u001b[34m[03/28/2025 06:29:17 INFO 139722077046592] Number of server workers: 1\u001b[0m\n",
      "\u001b[34m[03/28/2025 06:29:17 INFO 139722077046592] loading model...\u001b[0m\n",
      "\u001b[34m[03/28/2025 06:29:18 INFO 139722077046592] Random Cut Forest model loaded.\u001b[0m\n",
      "\u001b[34mForestInfo{num_trees: 300, num_samples_in_forest: 307200, num_samples_per_tree: 1024, sample_dim: 5, shingle_size: 1, trees_num_nodes: [1149, 1119, 1147, 1169, 1123, 1143, 1129, 1089, 1113, 1123, 1195, 1129, 1121, 1169, 1121, 1121, 1159, 1065, 1113, 1093, 1143, 1145, 1173, 1145, 1133, 1211, 1153, 1087, 1177, 1143, 1137, 1163, 1181, 1125, 1133, 1143, 1149, 1181, 1163, 1169, 1157, 1167, 1173, 1137, 1121, 1161, 1153, 1119, 1165, 1137, 1107, 1151, 1191, 1229, 1155, 1163, 1141, 1159, 1115, 1123, 1163, 1137, 1127, 1135, 1145, 1163, 1133, 1149, 1119, 1139, 1145, 1193, 1143, 1143, 1171, 1145, 1097, 1139, 1129, 1187, 1213, 1115, 1125, 1153, 1167, 1169, 1117, 1125, 1147, 1119, 1173, 1153, 1099, 1139, 1193, 1143, 1145, 1157, 1151, 1127, 1155, 1153, 1133, 1165, 1175, 1131, 1125, 1163, 1121, 1165, 1191, 1175, 1165, 1185, 1121, 1205, 1175, 1151, 1131, 1161, 1151, 1193, 1133, 1107, 1119, 1155, 1133, 1105, 1113, 1097, 1149, 1165, 1159, 1133, 1125, 1169, 1185, 1121, 1149, 1141, 1127, 1161, 1225, 1145, 1177, 1163, 1149, 1137, 1163, 1115, 1147, 1185, 1157, 1171, 1209, 1117, 1183, 1173, 1123, 1189, 1109, 1141, 1145, 1087, 1137, 1187, 1115, 1165, 1117, 1117, 1143, 1185, 1113, 1161, 1187, 1151, 1261, 1183, 1141, 1125, 1153, 1155, 1181, 1171, 1139, 1155, 1155, 1065, 1173, 1147, 1121, 1159, 1177, 1109, 1201, 1161, 1155, 1163, 1145, 1125, 1141, 1139, 1115, 1103, 1145, 1181, 1151, 1087, 1147, 1167, 1117, 1139, 1177, 1177, 1133, 1177, 1101, 1129, 1171, 1163, 1141, 1113, 1147, 1147, 1143, 1101, 1163, 1139, 1175, 1179, 1153, 1175, 1143, 1125, 1157, 1173, 1087, 1113, 1131, 1221, 1149, 1107, 1153, 1161, 1131, 1159, 1159, 1221, 1079, 1083, 1149, 1109, 1179, 1179, 1151, 1193, 1115, 1161, 1155, 1193, 1123, 1141, 1151, 1139, 1173, 1141, 1141, 1163, 1131, 1113, 1163, 1139, 1133, 1101, 1171, 1169, 1139, 1123, 1173, 1083, 1167, 1175, 1171, 1179, 1157, 1205, 1157, 1143, 1113, 1113, 1131, 1139, 1161, 1185, 1145, 1153, 1139, 1175, 1171, 1099, ], trees_depth: [34, 33, 34, 23, 28, 25, 24, 26, 24, 28, 25, 29, 26, 26, 25, 28, 25, 25, 28, 27, 26, 29, 23, 26, 31, 35, 24, 24, 31, 28, 31, 34, 26, 25, 27, 28, 26, 29, 26, 28, 27, 28, 28, 26, 29, 35, 27, 25, 26, 27, 30, 31, 33, 28, 28, 32, 28, 32, 27, 23, 30, 30, 27, 29, 27, 33, 30, 26, 28, 26, 27, 30, 33, 29, 25, 26, 24, 22, 26, 27, 31, 22, 26, 30, 28, 26, 24, 29, 26, 26, 31, 26, 28, 27, 28, 28, 27, 28, 31, 30, 25, 23, 29, 24, 27, 23, 28, 31, 23, 28, 25, 35, 27, 35, 24, 35, 23, 26, 25, 31, 22, 32, 28, 25, 27, 24, 29, 27, 27, 30, 30, 26, 25, 27, 24, 31, 24, 26, 28, 27, 26, 29, 28, 24, 28, 27, 27, 28, 26, 31, 24, 33, 30, 31, 27, 27, 28, 36, 22, 26, 33, 26, 31, 28, 27, 31, 27, 35, 23, 30, 28, 28, 29, 35, 29, 25, 25, 30, 28, 28, 27, 30, 33, 27, 27, 32, 25, 26, 25, 27, 27, 28, 25, 26, 25, 31, 28, 29, 31, 23, 24, 28, 26, 32, 24, 30, 31, 24, 27, 27, 24, 27, 23, 31, 30, 27, 26, 24, 26, 29, 25, 31, 29, 31, 27, 28, 33, 33, 24, 38, 28, 30, 28, 24, 25, 31, 27, 29, 27, 28, 25, 29, 28, 24, 26, 28, 29, 28, 29, 28, 22, 29, 28, 36, 27, 29, 25, 28, 24, 27, 29, 23, 33, 29, 31, 29, 35, 27, 34, 27, 26, 25, 30, 27, 33, 30, 24, 24, 26, 27, 28, 27, 29, 30, 29, 30, 27, 24, 26, 27, 29, 26, 25, 28, 33, 31, 32, 27, 29, 25, ], max_num_nodes: 1261, min_num_nodes: 1065, avg_num_nodes: 1147, max_tree_depth: 38, min_tree_depth: 22, avg_tree_depth: 27, mem_size: 57845520}\u001b[0m\n",
      "\u001b[34m#metrics {\"StartTime\": 1743143357.3311744, \"EndTime\": 1743143359.103645, \"Dimensions\": {}, \"Metrics\": {\"model.bytes\": {\"sum\": 57845520.0, \"count\": 1, \"min\": 57845520, \"max\": 57845520}, \"deserialize_model.time\": {\"sum\": 1302.2828102111816, \"count\": 1, \"min\": 1302.2828102111816, \"max\": 1302.2828102111816}}}\u001b[0m\n",
      "\u001b[34m[03/28/2025 06:29:19 INFO 139722077046592] ...model loaded.\u001b[0m\n",
      "\u001b[34m[2025-03-28 06:29:19 +0000] [1] [INFO] Starting gunicorn 20.1.0\u001b[0m\n",
      "\u001b[34m[2025-03-28 06:29:19 +0000] [1] [INFO] Listening at: http://0.0.0.0:8080 (1)\u001b[0m\n",
      "\u001b[34m[2025-03-28 06:29:19 +0000] [1] [INFO] Using worker: sync\u001b[0m\n",
      "\u001b[34m[2025-03-28 06:29:19 +0000] [42] [INFO] Booting worker with pid: 42\u001b[0m\n",
      "\u001b[34m#metrics {\"StartTime\": 1743143359.1046271, \"EndTime\": 1743143359.2723851, \"Dimensions\": {\"Algorithm\": \"RandomCutForestModel\", \"Host\": \"UNKNOWN\", \"Operation\": \"scoring\"}, \"Metrics\": {\"execution_parameters.count\": {\"sum\": 1.0, \"count\": 1, \"min\": 1, \"max\": 1}}}\u001b[0m\n",
      "\u001b[32m2025-03-28T06:29:19.277:[sagemaker logs]: MaxConcurrentTransforms=1, MaxPayloadInMB=6, BatchStrategy=MULTI_RECORD\u001b[0m\n",
      "\u001b[34m#metrics {\"StartTime\": 1743143359.2725117, \"EndTime\": 1743143392.8523428, \"Dimensions\": {\"Algorithm\": \"RandomCutForestModel\", \"Host\": \"UNKNOWN\", \"Operation\": \"scoring\"}, \"Metrics\": {\"evaluate.time\": {\"sum\": 31963.608503341675, \"count\": 1, \"min\": 31963.608503341675, \"max\": 31963.608503341675}}}\u001b[0m\n",
      "\u001b[35m#metrics {\"StartTime\": 1743143359.2725117, \"EndTime\": 1743143392.8523428, \"Dimensions\": {\"Algorithm\": \"RandomCutForestModel\", \"Host\": \"UNKNOWN\", \"Operation\": \"scoring\"}, \"Metrics\": {\"evaluate.time\": {\"sum\": 31963.608503341675, \"count\": 1, \"min\": 31963.608503341675, \"max\": 31963.608503341675}}}\u001b[0m\n",
      "\u001b[34m#metrics {\"StartTime\": 1743143392.8524275, \"EndTime\": 1743143392.9617527, \"Dimensions\": {\"Algorithm\": \"RandomCutForestModel\", \"Host\": \"UNKNOWN\", \"Operation\": \"scoring\"}, \"Metrics\": {\"csv.encoder.time\": {\"sum\": 108.63637924194336, \"count\": 1, \"min\": 108.63637924194336, \"max\": 108.63637924194336}, \"invocations.count\": {\"sum\": 1.0, \"count\": 1, \"min\": 1, \"max\": 1}}}\u001b[0m\n",
      "\u001b[35m#metrics {\"StartTime\": 1743143392.8524275, \"EndTime\": 1743143392.9617527, \"Dimensions\": {\"Algorithm\": \"RandomCutForestModel\", \"Host\": \"UNKNOWN\", \"Operation\": \"scoring\"}, \"Metrics\": {\"csv.encoder.time\": {\"sum\": 108.63637924194336, \"count\": 1, \"min\": 108.63637924194336, \"max\": 108.63637924194336}, \"invocations.count\": {\"sum\": 1.0, \"count\": 1, \"min\": 1, \"max\": 1}}}\u001b[0m\n",
      "\u001b[34m#metrics {\"StartTime\": 1743143408.9736648, \"EndTime\": 1743143409.0879612, \"Dimensions\": {\"Algorithm\": \"RandomCutForestModel\", \"Host\": \"UNKNOWN\", \"Operation\": \"scoring\"}, \"Metrics\": {\"csv.encoder.time\": {\"sum\": 113.65818977355957, \"count\": 1, \"min\": 113.65818977355957, \"max\": 113.65818977355957}, \"invocations.count\": {\"sum\": 1.0, \"count\": 1, \"min\": 1, \"max\": 1}}}\u001b[0m\n",
      "\u001b[35m#metrics {\"StartTime\": 1743143408.9736648, \"EndTime\": 1743143409.0879612, \"Dimensions\": {\"Algorithm\": \"RandomCutForestModel\", \"Host\": \"UNKNOWN\", \"Operation\": \"scoring\"}, \"Metrics\": {\"csv.encoder.time\": {\"sum\": 113.65818977355957, \"count\": 1, \"min\": 113.65818977355957, \"max\": 113.65818977355957}, \"invocations.count\": {\"sum\": 1.0, \"count\": 1, \"min\": 1, \"max\": 1}}}\u001b[0m\n",
      "\u001b[34m#metrics {\"StartTime\": 1743143409.0880384, \"EndTime\": 1743143448.7391276, \"Dimensions\": {\"Algorithm\": \"RandomCutForestModel\", \"Host\": \"UNKNOWN\", \"Operation\": \"scoring\"}, \"Metrics\": {\"evaluate.time\": {\"sum\": 39291.49317741394, \"count\": 1, \"min\": 39291.49317741394, \"max\": 39291.49317741394}}}\u001b[0m\n",
      "\u001b[34m#metrics {\"StartTime\": 1743143448.7392108, \"EndTime\": 1743143448.8502166, \"Dimensions\": {\"Algorithm\": \"RandomCutForestModel\", \"Host\": \"UNKNOWN\", \"Operation\": \"scoring\"}, \"Metrics\": {\"csv.encoder.time\": {\"sum\": 110.23974418640137, \"count\": 1, \"min\": 110.23974418640137, \"max\": 110.23974418640137}, \"invocations.count\": {\"sum\": 1.0, \"count\": 1, \"min\": 1, \"max\": 1}}}\u001b[0m\n",
      "\u001b[35m#metrics {\"StartTime\": 1743143409.0880384, \"EndTime\": 1743143448.7391276, \"Dimensions\": {\"Algorithm\": \"RandomCutForestModel\", \"Host\": \"UNKNOWN\", \"Operation\": \"scoring\"}, \"Metrics\": {\"evaluate.time\": {\"sum\": 39291.49317741394, \"count\": 1, \"min\": 39291.49317741394, \"max\": 39291.49317741394}}}\u001b[0m\n",
      "\u001b[35m#metrics {\"StartTime\": 1743143448.7392108, \"EndTime\": 1743143448.8502166, \"Dimensions\": {\"Algorithm\": \"RandomCutForestModel\", \"Host\": \"UNKNOWN\", \"Operation\": \"scoring\"}, \"Metrics\": {\"csv.encoder.time\": {\"sum\": 110.23974418640137, \"count\": 1, \"min\": 110.23974418640137, \"max\": 110.23974418640137}, \"invocations.count\": {\"sum\": 1.0, \"count\": 1, \"min\": 1, \"max\": 1}}}\u001b[0m\n",
      "\u001b[34m#metrics {\"StartTime\": 1743143490.5251396, \"EndTime\": 1743143516.0989203, \"Dimensions\": {\"Algorithm\": \"RandomCutForestModel\", \"Host\": \"UNKNOWN\", \"Operation\": \"scoring\"}, \"Metrics\": {\"evaluate.time\": {\"sum\": 25223.849534988403, \"count\": 1, \"min\": 25223.849534988403, \"max\": 25223.849534988403}}}\u001b[0m\n",
      "\u001b[34m#metrics {\"StartTime\": 1743143516.0990038, \"EndTime\": 1743143516.2092247, \"Dimensions\": {\"Algorithm\": \"RandomCutForestModel\", \"Host\": \"UNKNOWN\", \"Operation\": \"scoring\"}, \"Metrics\": {\"csv.encoder.time\": {\"sum\": 109.49850082397461, \"count\": 1, \"min\": 109.49850082397461, \"max\": 109.49850082397461}, \"invocations.count\": {\"sum\": 1.0, \"count\": 1, \"min\": 1, \"max\": 1}}}\u001b[0m\n",
      "\u001b[35m#metrics {\"StartTime\": 1743143490.5251396, \"EndTime\": 1743143516.0989203, \"Dimensions\": {\"Algorithm\": \"RandomCutForestModel\", \"Host\": \"UNKNOWN\", \"Operation\": \"scoring\"}, \"Metrics\": {\"evaluate.time\": {\"sum\": 25223.849534988403, \"count\": 1, \"min\": 25223.849534988403, \"max\": 25223.849534988403}}}\u001b[0m\n",
      "\u001b[35m#metrics {\"StartTime\": 1743143516.0990038, \"EndTime\": 1743143516.2092247, \"Dimensions\": {\"Algorithm\": \"RandomCutForestModel\", \"Host\": \"UNKNOWN\", \"Operation\": \"scoring\"}, \"Metrics\": {\"csv.encoder.time\": {\"sum\": 109.49850082397461, \"count\": 1, \"min\": 109.49850082397461, \"max\": 109.49850082397461}, \"invocations.count\": {\"sum\": 1.0, \"count\": 1, \"min\": 1, \"max\": 1}}}\u001b[0m\n",
      "\u001b[34m#metrics {\"StartTime\": 1743143532.4426355, \"EndTime\": 1743143550.680156, \"Dimensions\": {\"Algorithm\": \"RandomCutForestModel\", \"Host\": \"UNKNOWN\", \"Operation\": \"scoring\"}, \"Metrics\": {\"evaluate.time\": {\"sum\": 17874.112367630005, \"count\": 1, \"min\": 17874.112367630005, \"max\": 17874.112367630005}}}\u001b[0m\n",
      "\u001b[34m#metrics {\"StartTime\": 1743143550.6802375, \"EndTime\": 1743143550.7889888, \"Dimensions\": {\"Algorithm\": \"RandomCutForestModel\", \"Host\": \"UNKNOWN\", \"Operation\": \"scoring\"}, \"Metrics\": {\"csv.encoder.time\": {\"sum\": 108.0772876739502, \"count\": 1, \"min\": 108.0772876739502, \"max\": 108.0772876739502}, \"invocations.count\": {\"sum\": 1.0, \"count\": 1, \"min\": 1, \"max\": 1}}}\u001b[0m\n",
      "\u001b[35m#metrics {\"StartTime\": 1743143532.4426355, \"EndTime\": 1743143550.680156, \"Dimensions\": {\"Algorithm\": \"RandomCutForestModel\", \"Host\": \"UNKNOWN\", \"Operation\": \"scoring\"}, \"Metrics\": {\"evaluate.time\": {\"sum\": 17874.112367630005, \"count\": 1, \"min\": 17874.112367630005, \"max\": 17874.112367630005}}}\u001b[0m\n",
      "\u001b[35m#metrics {\"StartTime\": 1743143550.6802375, \"EndTime\": 1743143550.7889888, \"Dimensions\": {\"Algorithm\": \"RandomCutForestModel\", \"Host\": \"UNKNOWN\", \"Operation\": \"scoring\"}, \"Metrics\": {\"csv.encoder.time\": {\"sum\": 108.0772876739502, \"count\": 1, \"min\": 108.0772876739502, \"max\": 108.0772876739502}, \"invocations.count\": {\"sum\": 1.0, \"count\": 1, \"min\": 1, \"max\": 1}}}\u001b[0m\n",
      "\u001b[34m#metrics {\"StartTime\": 1743143576.43722, \"EndTime\": 1743143613.680497, \"Dimensions\": {\"Algorithm\": \"RandomCutForestModel\", \"Host\": \"UNKNOWN\", \"Operation\": \"scoring\"}, \"Metrics\": {\"evaluate.time\": {\"sum\": 36887.82501220703, \"count\": 1, \"min\": 36887.82501220703, \"max\": 36887.82501220703}}}\u001b[0m\n",
      "\u001b[34m#metrics {\"StartTime\": 1743143613.680582, \"EndTime\": 1743143613.79419, \"Dimensions\": {\"Algorithm\": \"RandomCutForestModel\", \"Host\": \"UNKNOWN\", \"Operation\": \"scoring\"}, \"Metrics\": {\"csv.encoder.time\": {\"sum\": 112.91122436523438, \"count\": 1, \"min\": 112.91122436523438, \"max\": 112.91122436523438}, \"invocations.count\": {\"sum\": 1.0, \"count\": 1, \"min\": 1, \"max\": 1}}}\u001b[0m\n",
      "\u001b[35m#metrics {\"StartTime\": 1743143576.43722, \"EndTime\": 1743143613.680497, \"Dimensions\": {\"Algorithm\": \"RandomCutForestModel\", \"Host\": \"UNKNOWN\", \"Operation\": \"scoring\"}, \"Metrics\": {\"evaluate.time\": {\"sum\": 36887.82501220703, \"count\": 1, \"min\": 36887.82501220703, \"max\": 36887.82501220703}}}\u001b[0m\n",
      "\u001b[35m#metrics {\"StartTime\": 1743143613.680582, \"EndTime\": 1743143613.79419, \"Dimensions\": {\"Algorithm\": \"RandomCutForestModel\", \"Host\": \"UNKNOWN\", \"Operation\": \"scoring\"}, \"Metrics\": {\"csv.encoder.time\": {\"sum\": 112.91122436523438, \"count\": 1, \"min\": 112.91122436523438, \"max\": 112.91122436523438}, \"invocations.count\": {\"sum\": 1.0, \"count\": 1, \"min\": 1, \"max\": 1}}}\u001b[0m\n",
      "\u001b[34m#metrics {\"StartTime\": 1743143649.1324587, \"EndTime\": 1743143686.068745, \"Dimensions\": {\"Algorithm\": \"RandomCutForestModel\", \"Host\": \"UNKNOWN\", \"Operation\": \"scoring\"}, \"Metrics\": {\"evaluate.time\": {\"sum\": 36579.293966293335, \"count\": 1, \"min\": 36579.293966293335, \"max\": 36579.293966293335}}}\u001b[0m\n",
      "\u001b[34m#metrics {\"StartTime\": 1743143686.068822, \"EndTime\": 1743143686.180784, \"Dimensions\": {\"Algorithm\": \"RandomCutForestModel\", \"Host\": \"UNKNOWN\", \"Operation\": \"scoring\"}, \"Metrics\": {\"csv.encoder.time\": {\"sum\": 111.33146286010742, \"count\": 1, \"min\": 111.33146286010742, \"max\": 111.33146286010742}, \"invocations.count\": {\"sum\": 1.0, \"count\": 1, \"min\": 1, \"max\": 1}}}\u001b[0m\n",
      "\u001b[35m#metrics {\"StartTime\": 1743143649.1324587, \"EndTime\": 1743143686.068745, \"Dimensions\": {\"Algorithm\": \"RandomCutForestModel\", \"Host\": \"UNKNOWN\", \"Operation\": \"scoring\"}, \"Metrics\": {\"evaluate.time\": {\"sum\": 36579.293966293335, \"count\": 1, \"min\": 36579.293966293335, \"max\": 36579.293966293335}}}\u001b[0m\n",
      "\u001b[35m#metrics {\"StartTime\": 1743143686.068822, \"EndTime\": 1743143686.180784, \"Dimensions\": {\"Algorithm\": \"RandomCutForestModel\", \"Host\": \"UNKNOWN\", \"Operation\": \"scoring\"}, \"Metrics\": {\"csv.encoder.time\": {\"sum\": 111.33146286010742, \"count\": 1, \"min\": 111.33146286010742, \"max\": 111.33146286010742}, \"invocations.count\": {\"sum\": 1.0, \"count\": 1, \"min\": 1, \"max\": 1}}}\u001b[0m\n",
      "\u001b[34m#metrics {\"StartTime\": 1743143686.1808505, \"EndTime\": 1743143687.62685, \"Dimensions\": {\"Algorithm\": \"RandomCutForestModel\", \"Host\": \"UNKNOWN\", \"Operation\": \"scoring\"}, \"Metrics\": {\"evaluate.time\": {\"sum\": 1423.8581657409668, \"count\": 1, \"min\": 1423.8581657409668, \"max\": 1423.8581657409668}}}\u001b[0m\n",
      "\u001b[34m#metrics {\"StartTime\": 1743143687.6269314, \"EndTime\": 1743143687.6317515, \"Dimensions\": {\"Algorithm\": \"RandomCutForestModel\", \"Host\": \"UNKNOWN\", \"Operation\": \"scoring\"}, \"Metrics\": {\"csv.encoder.time\": {\"sum\": 4.653215408325195, \"count\": 1, \"min\": 4.653215408325195, \"max\": 4.653215408325195}, \"invocations.count\": {\"sum\": 1.0, \"count\": 1, \"min\": 1, \"max\": 1}}}\u001b[0m\n",
      "\u001b[35m#metrics {\"StartTime\": 1743143686.1808505, \"EndTime\": 1743143687.62685, \"Dimensions\": {\"Algorithm\": \"RandomCutForestModel\", \"Host\": \"UNKNOWN\", \"Operation\": \"scoring\"}, \"Metrics\": {\"evaluate.time\": {\"sum\": 1423.8581657409668, \"count\": 1, \"min\": 1423.8581657409668, \"max\": 1423.8581657409668}}}\u001b[0m\n",
      "\u001b[35m#metrics {\"StartTime\": 1743143687.6269314, \"EndTime\": 1743143687.6317515, \"Dimensions\": {\"Algorithm\": \"RandomCutForestModel\", \"Host\": \"UNKNOWN\", \"Operation\": \"scoring\"}, \"Metrics\": {\"csv.encoder.time\": {\"sum\": 4.653215408325195, \"count\": 1, \"min\": 4.653215408325195, \"max\": 4.653215408325195}, \"invocations.count\": {\"sum\": 1.0, \"count\": 1, \"min\": 1, \"max\": 1}}}\u001b[0m\n",
      "\n"
     ]
    }
   ],
   "source": [
    "get_prediction(model_path=model_path, feature_s3_path=feature_s3_path, output_path=output_path)"
   ]
  },
  {
   "cell_type": "code",
   "execution_count": null,
   "id": "1ba7ccef-830e-473e-abe3-58c89d252834",
   "metadata": {},
   "outputs": [],
   "source": []
  },
  {
   "cell_type": "code",
   "execution_count": null,
   "id": "8511f899-0a52-4b69-93e3-ca87edbb93ec",
   "metadata": {},
   "outputs": [],
   "source": []
  },
  {
   "cell_type": "code",
   "execution_count": null,
   "id": "4bd5e7e4-b185-406a-9a8d-dee02b97174e",
   "metadata": {},
   "outputs": [],
   "source": []
  },
  {
   "cell_type": "code",
   "execution_count": null,
   "id": "51abed91-e5db-46ca-a6bc-31232825cfd4",
   "metadata": {},
   "outputs": [],
   "source": []
  }
 ],
 "metadata": {
  "kernelspec": {
   "display_name": "Python 3 (ipykernel)",
   "language": "python",
   "name": "python3"
  },
  "language_info": {
   "codemirror_mode": {
    "name": "ipython",
    "version": 3
   },
   "file_extension": ".py",
   "mimetype": "text/x-python",
   "name": "python",
   "nbconvert_exporter": "python",
   "pygments_lexer": "ipython3",
   "version": "3.12.9"
  }
 },
 "nbformat": 4,
 "nbformat_minor": 5
}
