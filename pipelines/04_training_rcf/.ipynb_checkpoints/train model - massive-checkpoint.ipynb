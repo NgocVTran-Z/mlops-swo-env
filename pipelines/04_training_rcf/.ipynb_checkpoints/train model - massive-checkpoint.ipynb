{
 "cells": [
  {
   "cell_type": "code",
   "execution_count": 1,
   "id": "dc02c4c7-ac76-46f9-8a9d-cdec4a0c310c",
   "metadata": {},
   "outputs": [
    {
     "name": "stdout",
     "output_type": "stream",
     "text": [
      "sagemaker.config INFO - Not applying SDK defaults from location: /etc/xdg/sagemaker/config.yaml\n",
      "sagemaker.config INFO - Not applying SDK defaults from location: /home/sagemaker-user/.config/sagemaker/config.yaml\n"
     ]
    }
   ],
   "source": [
    "import sagemaker\n",
    "import boto3\n",
    "from sagemaker.estimator import Estimator\n",
    "from sagemaker.inputs import TrainingInput"
   ]
  },
  {
   "cell_type": "code",
   "execution_count": 2,
   "id": "99ed2cb5-e5ec-4d8b-b138-ab6b703b7e7c",
   "metadata": {},
   "outputs": [],
   "source": [
    "import pandas as pd\n",
    "import numpy as np"
   ]
  },
  {
   "cell_type": "code",
   "execution_count": 3,
   "id": "2099dcd0-57a5-4907-9494-1d3975a71ceb",
   "metadata": {},
   "outputs": [],
   "source": [
    "from io import StringIO"
   ]
  },
  {
   "cell_type": "code",
   "execution_count": 4,
   "id": "f854f34a-e8fc-4356-b3d7-923e3d30690d",
   "metadata": {},
   "outputs": [],
   "source": [
    "import matplotlib.pyplot as plt\n",
    "import seaborn as sns"
   ]
  },
  {
   "cell_type": "code",
   "execution_count": 5,
   "id": "543c0023-7b99-4f3a-aea4-8d8baee418b4",
   "metadata": {},
   "outputs": [],
   "source": [
    "from sagemaker.model import Model\n",
    "from sagemaker.transformer import Transformer"
   ]
  },
  {
   "cell_type": "code",
   "execution_count": null,
   "id": "33aaeae9-ed82-4665-949c-4b5ce40374a9",
   "metadata": {},
   "outputs": [],
   "source": []
  },
  {
   "cell_type": "code",
   "execution_count": null,
   "id": "89be065d-48e3-4fbb-b423-3485eb156cc8",
   "metadata": {},
   "outputs": [],
   "source": []
  },
  {
   "cell_type": "code",
   "execution_count": 6,
   "id": "a4433dde-2652-43ab-bccc-67284d666c53",
   "metadata": {},
   "outputs": [],
   "source": [
    "# Khởi tạo session\n",
    "sagemaker_session = sagemaker.Session()\n",
    "role = sagemaker.get_execution_role()\n",
    "region = boto3.Session().region_name"
   ]
  },
  {
   "cell_type": "code",
   "execution_count": null,
   "id": "d6268f7d-7a72-4ab9-8cfd-4c86f80683eb",
   "metadata": {},
   "outputs": [],
   "source": []
  },
  {
   "cell_type": "code",
   "execution_count": null,
   "id": "d3e83f35-48a0-4619-aa5c-6b13d1db296c",
   "metadata": {},
   "outputs": [],
   "source": []
  },
  {
   "cell_type": "code",
   "execution_count": 10,
   "id": "0b093beb-7ee9-4dc4-b81d-7f765237e904",
   "metadata": {},
   "outputs": [],
   "source": [
    "tag_name_speed = \"DWA_ACTUAL_MOTOR_SPEED\"\n",
    "# tag_name_speed = \"DWB_ACTUAL_MOTOR_SPEED\"\n",
    "# tag_name_speed = \"DWC_ACTUAL_MOTOR_SPEED\""
   ]
  },
  {
   "cell_type": "code",
   "execution_count": 11,
   "id": "100906e1-68ac-4365-a0f1-21198dbffd13",
   "metadata": {},
   "outputs": [],
   "source": [
    "cluster = 2"
   ]
  },
  {
   "cell_type": "code",
   "execution_count": 12,
   "id": "63135011-17c2-4f3f-beab-4602b856a21c",
   "metadata": {},
   "outputs": [],
   "source": [
    "unit = \"DegC\""
   ]
  },
  {
   "cell_type": "code",
   "execution_count": 64,
   "id": "f8acaca8-75ec-4056-a470-af5a5c088aa0",
   "metadata": {},
   "outputs": [],
   "source": [
    "# tag_name = \"DW_AMBIENT_TEMP\"\n",
    "\n",
    "tag_name = \"DW_GEARBOX1_LO_PRESS\""
   ]
  },
  {
   "cell_type": "code",
   "execution_count": 65,
   "id": "e1ce2575-e52d-4f73-a139-1f4a1b905401",
   "metadata": {},
   "outputs": [],
   "source": [
    "# # DegC\n",
    "# tag_name_units = [\n",
    "#     'DWC_RTD1_TEMP', \n",
    "#     'DWB_EXHAUST_TEMP', \n",
    "#     'DW_GEARBOX1_LO_TEMP',\n",
    "#     'DWB_RTD2_TEMP', \n",
    "#     'DW_GEARBOX2_LO_TEMP', \n",
    "#     'DWA_RTD2_TEMP',\n",
    "#     # 'TD_RTD2_TEMP', \n",
    "#     'DWA_RTD3_TEMP', \n",
    "#     # 'TD_RTD3_TEMP', \n",
    "#     'DWB_RTD3_TEMP',\n",
    "#     'DWA_RTD1_TEMP', \n",
    "#     'DWA_EXHAUST_TEMP', \n",
    "#     'DW_GEARBOX2_LO_PRESS',\n",
    "#     # 'TD_RTD1_TEMP', \n",
    "#     'DWC_RTD3_TEMP', \n",
    "#     'DW_GEARBOX1_LO_PRESS',\n",
    "#     'DWC_RTD2_TEMP', \n",
    "#     'DW_AMBIENT_TEMP', \n",
    "#     'DWB_RTD1_TEMP',\n",
    "#     'DWC_EXHAUST_TEMP'\n",
    "# ]\n",
    "# tag_name_units"
   ]
  },
  {
   "cell_type": "code",
   "execution_count": 66,
   "id": "43d9073e-3bde-4564-8238-4f60c46928c0",
   "metadata": {},
   "outputs": [],
   "source": [
    "# filename = \"\""
   ]
  },
  {
   "cell_type": "code",
   "execution_count": 67,
   "id": "7e97e1e3-88b2-4e44-9829-3e88a2621c01",
   "metadata": {},
   "outputs": [
    {
     "data": {
      "text/plain": [
       "'s3://s3-assetcare-bucket/features_store2/training/ready/DWA_ACTUAL_MOTOR_SPEED_cluster2_DegC_DW_GEARBOX1_LO_PRESS'"
      ]
     },
     "execution_count": 67,
     "metadata": {},
     "output_type": "execute_result"
    }
   ],
   "source": [
    "s3_input_train = f\"s3://s3-assetcare-bucket/features_store2/training/ready/{tag_name_speed}_cluster{cluster}_{unit}_{tag_name}\"\n",
    "s3_input_train"
   ]
  },
  {
   "cell_type": "code",
   "execution_count": 68,
   "id": "e8f1abee-a05c-401e-a8b7-6369f58f481e",
   "metadata": {},
   "outputs": [],
   "source": [
    "output_path = f\"s3://s3-assetcare-bucket/features_store2/result/{tag_name_speed}_cluster{cluster}_{unit}_{tag_name}/\""
   ]
  },
  {
   "cell_type": "code",
   "execution_count": 71,
   "id": "f78b17a1-64c9-412a-9eba-41dce61518d6",
   "metadata": {},
   "outputs": [
    {
     "data": {
      "text/plain": [
       "'DWA_ACTUAL_MOTOR_SPEED_cluster2_DegC_DW_GEARBOX1_LO_PRESS_origin.csv'"
      ]
     },
     "execution_count": 71,
     "metadata": {},
     "output_type": "execute_result"
    }
   ],
   "source": [
    "filename = f\"{tag_name_speed}_cluster{str(cluster)}_{unit}_{tag_name}_origin.csv\"\n",
    "filename"
   ]
  },
  {
   "cell_type": "code",
   "execution_count": 72,
   "id": "a85502a2-9fb3-49cd-a0ee-fdbeed2f2dea",
   "metadata": {},
   "outputs": [
    {
     "name": "stderr",
     "output_type": "stream",
     "text": [
      "INFO:botocore.httpchecksum:Skipping checksum validation. Response did not contain one of the following algorithms: ['crc32', 'sha1', 'sha256'].\n"
     ]
    },
    {
     "data": {
      "text/plain": [
       "6"
      ]
     },
     "execution_count": 72,
     "metadata": {},
     "output_type": "execute_result"
    }
   ],
   "source": [
    "df = pd.read_csv(s3_input_train + \"/\" + filename, nrows=1, header=None)\n",
    "num_columns = df.shape[1]\n",
    "num_columns"
   ]
  },
  {
   "cell_type": "code",
   "execution_count": null,
   "id": "f2f46eca-bfde-4d01-b2f8-204e649c4928",
   "metadata": {},
   "outputs": [],
   "source": []
  },
  {
   "cell_type": "code",
   "execution_count": null,
   "id": "2a54a7f9-4d78-4fde-a806-11454f5d7bb1",
   "metadata": {},
   "outputs": [],
   "source": []
  },
  {
   "cell_type": "code",
   "execution_count": 30,
   "id": "2a893732-8158-4a17-8761-fbdb57dfac08",
   "metadata": {},
   "outputs": [],
   "source": [
    "def training_model(s3_input_train, output_path, feature_dim, num_samples_per_tree, num_trees):\n",
    "    # Lấy container mới nhất của Random Cut Forest trên SageMaker\n",
    "    rcf_container = sagemaker.image_uris.retrieve(\"randomcutforest\", region)\n",
    "\n",
    "    # Cấu hình SageMaker Estimator\n",
    "    rcf_estimator = Estimator(\n",
    "        image_uri=rcf_container,\n",
    "        role=role,\n",
    "        instance_count=1,  # Nếu dữ liệu lớn, có thể tăng lên 2-3 instance\n",
    "        instance_type=\"ml.m5.xlarge\",\n",
    "        output_path=output_path,\n",
    "        sagemaker_session=sagemaker_session,\n",
    "        enable_network_isolation=True,\n",
    "    )\n",
    "\n",
    "    # **Thêm thông số training: feature_dim = 4**\n",
    "    rcf_estimator.set_hyperparameters(\n",
    "        # shingle_size=10,\n",
    "        feature_dim=feature_dim-1,  # Số lượng cột đặc trưng\n",
    "        num_samples_per_tree=num_samples_per_tree,  \n",
    "        num_trees=num_trees  \n",
    "    )\n",
    "\n",
    "    # Định nghĩa dữ liệu đầu vào với \"ShardedByS3Key\"\n",
    "    train_input = TrainingInput(\n",
    "        s3_input_train,\n",
    "        distribution=\"ShardedByS3Key\",  # Chia dữ liệu theo file S3\n",
    "        content_type=\"text/csv\",\n",
    "        input_mode=\"Pipe\",  # Dùng Pipe Mode để stream data từ S3\n",
    "    )\n",
    "\n",
    "    # Train model\n",
    "    rcf_estimator.fit({\"train\": train_input}, wait=True)\n",
    "    return"
   ]
  },
  {
   "cell_type": "code",
   "execution_count": 73,
   "id": "0eb67796-137e-41a2-93c7-eca7266e397f",
   "metadata": {
    "scrolled": true
   },
   "outputs": [
    {
     "name": "stderr",
     "output_type": "stream",
     "text": [
      "INFO:sagemaker.image_uris:Same images used for training and inference. Defaulting to image scope: inference.\n",
      "INFO:sagemaker.image_uris:Defaulting to the only supported framework/algorithm version: 1.\n",
      "INFO:sagemaker.image_uris:Ignoring unnecessary instance type: None.\n",
      "INFO:sagemaker:Creating training-job with name: randomcutforest-2025-03-28-06-19-04-447\n"
     ]
    },
    {
     "name": "stdout",
     "output_type": "stream",
     "text": [
      "2025-03-28 06:19:05 Starting - Starting the training job...\n",
      "2025-03-28 06:19:37 Downloading - Downloading input data...\n",
      "2025-03-28 06:19:57 Downloading - Downloading the training image...............\n",
      "2025-03-28 06:22:34 Training - Training image download completed. Training in progress.\n",
      "2025-03-28 06:22:34 Uploading - Uploading generated training model\u001b[34mDocker entrypoint called with argument(s): train\u001b[0m\n",
      "\u001b[34mRunning default environment configuration script\u001b[0m\n",
      "\u001b[34m/opt/amazon/lib/python3.8/site-packages/mxnet/model.py:97: SyntaxWarning: \"is\" with a literal. Did you mean \"==\"?\n",
      "  if num_device is 1 and 'dist' not in kvstore:\u001b[0m\n",
      "\u001b[34m/opt/amazon/lib/python3.8/site-packages/scipy/optimize/_shgo.py:495: SyntaxWarning: \"is\" with a literal. Did you mean \"==\"?\n",
      "  if cons['type'] is 'ineq':\u001b[0m\n",
      "\u001b[34m/opt/amazon/lib/python3.8/site-packages/scipy/optimize/_shgo.py:743: SyntaxWarning: \"is not\" with a literal. Did you mean \"!=\"?\n",
      "  if len(self.X_min) is not 0:\u001b[0m\n",
      "\u001b[34m[03/28/2025 06:22:27 INFO 139744247506752] Reading default configuration from /opt/amazon/lib/python3.8/site-packages/algorithm/resources/default-conf.json: {'num_samples_per_tree': 256, 'num_trees': 100, 'force_dense': 'true', 'eval_metrics': ['accuracy', 'precision_recall_fscore'], 'epochs': 1, 'mini_batch_size': 1000, '_log_level': 'info', '_kvstore': 'dist_async', '_num_kv_servers': 'auto', '_num_gpus': 'auto', '_tuning_objective_metric': '', '_ftp_port': 8999}\u001b[0m\n",
      "\u001b[34m[03/28/2025 06:22:27 INFO 139744247506752] Merging with provided configuration from /opt/ml/input/config/hyperparameters.json: {'feature_dim': '5', 'num_samples_per_tree': '1024', 'num_trees': '300'}\u001b[0m\n",
      "\u001b[34m[03/28/2025 06:22:27 INFO 139744247506752] Final configuration: {'num_samples_per_tree': '1024', 'num_trees': '300', 'force_dense': 'true', 'eval_metrics': ['accuracy', 'precision_recall_fscore'], 'epochs': 1, 'mini_batch_size': 1000, '_log_level': 'info', '_kvstore': 'dist_async', '_num_kv_servers': 'auto', '_num_gpus': 'auto', '_tuning_objective_metric': '', '_ftp_port': 8999, 'feature_dim': '5'}\u001b[0m\n",
      "\u001b[34m[03/28/2025 06:22:27 WARNING 139744247506752] Loggers have already been setup.\u001b[0m\n",
      "\u001b[34m[03/28/2025 06:22:27 INFO 139744247506752] Launching parameter server for role scheduler\u001b[0m\n",
      "\u001b[34m[03/28/2025 06:22:27 INFO 139744247506752] {'ENVROOT': '/opt/amazon', 'PROTOCOL_BUFFERS_PYTHON_IMPLEMENTATION': 'cpp', 'HOSTNAME': 'algo-1', 'TRAINING_JOB_NAME': 'randomcutforest-2025-03-28-06-19-04-447', 'NVIDIA_REQUIRE_CUDA': 'cuda>=9.0', 'TRAINING_JOB_ARN': 'arn:aws:sagemaker:ap-southeast-1:771463264346:training-job/randomcutforest-2025-03-28-06-19-04-447', 'CANONICAL_ENVROOT': '/opt/amazon', 'PYTHONUNBUFFERED': 'TRUE', 'NVIDIA_VISIBLE_DEVICES': 'all', 'LD_LIBRARY_PATH': '/opt/amazon/lib/python3.8/site-packages/cv2/../../../../lib:/usr/local/nvidia/lib64:/opt/amazon/lib', 'MXNET_KVSTORE_BIGARRAY_BOUND': '400000000', 'NVIDIA_DRIVER_CAPABILITIES': 'compute,utility', 'SAGEMAKER_MANAGED_WARMPOOL_CACHE_DIRECTORY': '/opt/ml/sagemaker/warmpoolcache', 'PATH': '/opt/amazon/bin:/usr/local/nvidia/bin:/usr/local/sbin:/usr/local/bin:/usr/sbin:/usr/bin:/sbin:/bin', 'PWD': '/', 'LANG': 'en_US.utf8', 'AWS_REGION': 'ap-southeast-1', 'SAGEMAKER_METRICS_DIRECTORY': '/opt/ml/output/metrics/sagemaker', 'CUDA_VERSION': '11.1', 'HOME': '/root', 'SHLVL': '1', 'CUDA_COMPAT_NDRIVER_SUPPORTED_VERSION': '455.32.00', 'PROTOCOL_BUFFERS_PYTHON_IMPLEMENTATION_VERSION': '2', 'OMP_NUM_THREADS': '2', 'DMLC_INTERFACE': 'eth0', 'SAGEMAKER_HTTP_PORT': '8080', 'SAGEMAKER_DATA_PATH': '/opt/ml', 'KMP_DUPLICATE_LIB_OK': 'True', 'KMP_INIT_AT_FORK': 'FALSE'}\u001b[0m\n",
      "\u001b[34m[03/28/2025 06:22:27 INFO 139744247506752] envs={'ENVROOT': '/opt/amazon', 'PROTOCOL_BUFFERS_PYTHON_IMPLEMENTATION': 'cpp', 'HOSTNAME': 'algo-1', 'TRAINING_JOB_NAME': 'randomcutforest-2025-03-28-06-19-04-447', 'NVIDIA_REQUIRE_CUDA': 'cuda>=9.0', 'TRAINING_JOB_ARN': 'arn:aws:sagemaker:ap-southeast-1:771463264346:training-job/randomcutforest-2025-03-28-06-19-04-447', 'CANONICAL_ENVROOT': '/opt/amazon', 'PYTHONUNBUFFERED': 'TRUE', 'NVIDIA_VISIBLE_DEVICES': 'all', 'LD_LIBRARY_PATH': '/opt/amazon/lib/python3.8/site-packages/cv2/../../../../lib:/usr/local/nvidia/lib64:/opt/amazon/lib', 'MXNET_KVSTORE_BIGARRAY_BOUND': '400000000', 'NVIDIA_DRIVER_CAPABILITIES': 'compute,utility', 'SAGEMAKER_MANAGED_WARMPOOL_CACHE_DIRECTORY': '/opt/ml/sagemaker/warmpoolcache', 'PATH': '/opt/amazon/bin:/usr/local/nvidia/bin:/usr/local/sbin:/usr/local/bin:/usr/sbin:/usr/bin:/sbin:/bin', 'PWD': '/', 'LANG': 'en_US.utf8', 'AWS_REGION': 'ap-southeast-1', 'SAGEMAKER_METRICS_DIRECTORY': '/opt/ml/output/metrics/sagemaker', 'CUDA_VERSION': '11.1', 'HOME': '/root', 'SHLVL': '1', 'CUDA_COMPAT_NDRIVER_SUPPORTED_VERSION': '455.32.00', 'PROTOCOL_BUFFERS_PYTHON_IMPLEMENTATION_VERSION': '2', 'OMP_NUM_THREADS': '2', 'DMLC_INTERFACE': 'eth0', 'SAGEMAKER_HTTP_PORT': '8080', 'SAGEMAKER_DATA_PATH': '/opt/ml', 'KMP_DUPLICATE_LIB_OK': 'True', 'KMP_INIT_AT_FORK': 'FALSE', 'DMLC_ROLE': 'scheduler', 'DMLC_PS_ROOT_URI': '172.16.105.207', 'DMLC_PS_ROOT_PORT': '9000', 'DMLC_NUM_SERVER': '1', 'DMLC_NUM_WORKER': '1'}\u001b[0m\n",
      "\u001b[34m[03/28/2025 06:22:27 INFO 139744247506752] Launching parameter server for role server\u001b[0m\n",
      "\u001b[34m[03/28/2025 06:22:27 INFO 139744247506752] {'ENVROOT': '/opt/amazon', 'PROTOCOL_BUFFERS_PYTHON_IMPLEMENTATION': 'cpp', 'HOSTNAME': 'algo-1', 'TRAINING_JOB_NAME': 'randomcutforest-2025-03-28-06-19-04-447', 'NVIDIA_REQUIRE_CUDA': 'cuda>=9.0', 'TRAINING_JOB_ARN': 'arn:aws:sagemaker:ap-southeast-1:771463264346:training-job/randomcutforest-2025-03-28-06-19-04-447', 'CANONICAL_ENVROOT': '/opt/amazon', 'PYTHONUNBUFFERED': 'TRUE', 'NVIDIA_VISIBLE_DEVICES': 'all', 'LD_LIBRARY_PATH': '/opt/amazon/lib/python3.8/site-packages/cv2/../../../../lib:/usr/local/nvidia/lib64:/opt/amazon/lib', 'MXNET_KVSTORE_BIGARRAY_BOUND': '400000000', 'NVIDIA_DRIVER_CAPABILITIES': 'compute,utility', 'SAGEMAKER_MANAGED_WARMPOOL_CACHE_DIRECTORY': '/opt/ml/sagemaker/warmpoolcache', 'PATH': '/opt/amazon/bin:/usr/local/nvidia/bin:/usr/local/sbin:/usr/local/bin:/usr/sbin:/usr/bin:/sbin:/bin', 'PWD': '/', 'LANG': 'en_US.utf8', 'AWS_REGION': 'ap-southeast-1', 'SAGEMAKER_METRICS_DIRECTORY': '/opt/ml/output/metrics/sagemaker', 'CUDA_VERSION': '11.1', 'HOME': '/root', 'SHLVL': '1', 'CUDA_COMPAT_NDRIVER_SUPPORTED_VERSION': '455.32.00', 'PROTOCOL_BUFFERS_PYTHON_IMPLEMENTATION_VERSION': '2', 'OMP_NUM_THREADS': '2', 'DMLC_INTERFACE': 'eth0', 'SAGEMAKER_HTTP_PORT': '8080', 'SAGEMAKER_DATA_PATH': '/opt/ml', 'KMP_DUPLICATE_LIB_OK': 'True', 'KMP_INIT_AT_FORK': 'FALSE'}\u001b[0m\n",
      "\u001b[34m[03/28/2025 06:22:27 INFO 139744247506752] envs={'ENVROOT': '/opt/amazon', 'PROTOCOL_BUFFERS_PYTHON_IMPLEMENTATION': 'cpp', 'HOSTNAME': 'algo-1', 'TRAINING_JOB_NAME': 'randomcutforest-2025-03-28-06-19-04-447', 'NVIDIA_REQUIRE_CUDA': 'cuda>=9.0', 'TRAINING_JOB_ARN': 'arn:aws:sagemaker:ap-southeast-1:771463264346:training-job/randomcutforest-2025-03-28-06-19-04-447', 'CANONICAL_ENVROOT': '/opt/amazon', 'PYTHONUNBUFFERED': 'TRUE', 'NVIDIA_VISIBLE_DEVICES': 'all', 'LD_LIBRARY_PATH': '/opt/amazon/lib/python3.8/site-packages/cv2/../../../../lib:/usr/local/nvidia/lib64:/opt/amazon/lib', 'MXNET_KVSTORE_BIGARRAY_BOUND': '400000000', 'NVIDIA_DRIVER_CAPABILITIES': 'compute,utility', 'SAGEMAKER_MANAGED_WARMPOOL_CACHE_DIRECTORY': '/opt/ml/sagemaker/warmpoolcache', 'PATH': '/opt/amazon/bin:/usr/local/nvidia/bin:/usr/local/sbin:/usr/local/bin:/usr/sbin:/usr/bin:/sbin:/bin', 'PWD': '/', 'LANG': 'en_US.utf8', 'AWS_REGION': 'ap-southeast-1', 'SAGEMAKER_METRICS_DIRECTORY': '/opt/ml/output/metrics/sagemaker', 'CUDA_VERSION': '11.1', 'HOME': '/root', 'SHLVL': '1', 'CUDA_COMPAT_NDRIVER_SUPPORTED_VERSION': '455.32.00', 'PROTOCOL_BUFFERS_PYTHON_IMPLEMENTATION_VERSION': '2', 'OMP_NUM_THREADS': '2', 'DMLC_INTERFACE': 'eth0', 'SAGEMAKER_HTTP_PORT': '8080', 'SAGEMAKER_DATA_PATH': '/opt/ml', 'KMP_DUPLICATE_LIB_OK': 'True', 'KMP_INIT_AT_FORK': 'FALSE', 'DMLC_ROLE': 'server', 'DMLC_PS_ROOT_URI': '172.16.105.207', 'DMLC_PS_ROOT_PORT': '9000', 'DMLC_NUM_SERVER': '1', 'DMLC_NUM_WORKER': '1'}\u001b[0m\n",
      "\u001b[34m[03/28/2025 06:22:27 INFO 139744247506752] Environment: {'ENVROOT': '/opt/amazon', 'PROTOCOL_BUFFERS_PYTHON_IMPLEMENTATION': 'cpp', 'HOSTNAME': 'algo-1', 'TRAINING_JOB_NAME': 'randomcutforest-2025-03-28-06-19-04-447', 'NVIDIA_REQUIRE_CUDA': 'cuda>=9.0', 'TRAINING_JOB_ARN': 'arn:aws:sagemaker:ap-southeast-1:771463264346:training-job/randomcutforest-2025-03-28-06-19-04-447', 'CANONICAL_ENVROOT': '/opt/amazon', 'PYTHONUNBUFFERED': 'TRUE', 'NVIDIA_VISIBLE_DEVICES': 'all', 'LD_LIBRARY_PATH': '/opt/amazon/lib/python3.8/site-packages/cv2/../../../../lib:/usr/local/nvidia/lib64:/opt/amazon/lib', 'MXNET_KVSTORE_BIGARRAY_BOUND': '400000000', 'NVIDIA_DRIVER_CAPABILITIES': 'compute,utility', 'SAGEMAKER_MANAGED_WARMPOOL_CACHE_DIRECTORY': '/opt/ml/sagemaker/warmpoolcache', 'PATH': '/opt/amazon/bin:/usr/local/nvidia/bin:/usr/local/sbin:/usr/local/bin:/usr/sbin:/usr/bin:/sbin:/bin', 'PWD': '/', 'LANG': 'en_US.utf8', 'AWS_REGION': 'ap-southeast-1', 'SAGEMAKER_METRICS_DIRECTORY': '/opt/ml/output/metrics/sagemaker', 'CUDA_VERSION': '11.1', 'HOME': '/root', 'SHLVL': '1', 'CUDA_COMPAT_NDRIVER_SUPPORTED_VERSION': '455.32.00', 'PROTOCOL_BUFFERS_PYTHON_IMPLEMENTATION_VERSION': '2', 'OMP_NUM_THREADS': '2', 'DMLC_INTERFACE': 'eth0', 'SAGEMAKER_HTTP_PORT': '8080', 'SAGEMAKER_DATA_PATH': '/opt/ml', 'KMP_DUPLICATE_LIB_OK': 'True', 'KMP_INIT_AT_FORK': 'FALSE', 'DMLC_ROLE': 'worker', 'DMLC_PS_ROOT_URI': '172.16.105.207', 'DMLC_PS_ROOT_PORT': '9000', 'DMLC_NUM_SERVER': '1', 'DMLC_NUM_WORKER': '1'}\u001b[0m\n",
      "\u001b[34mProcess 34 is a shell:scheduler.\u001b[0m\n",
      "\u001b[34mProcess 43 is a shell:server.\u001b[0m\n",
      "\u001b[34mProcess 7 is a worker.\u001b[0m\n",
      "\u001b[34m[03/28/2025 06:22:27 INFO 139744247506752] Using default worker.\u001b[0m\n",
      "\u001b[34m[03/28/2025 06:22:27 INFO 139744247506752] Loaded iterator creator application/x-recordio-protobuf for content type ('application/x-recordio-protobuf', '1.0')\u001b[0m\n",
      "\u001b[34m[03/28/2025 06:22:27 INFO 139744247506752] Checkpoint loading and saving are disabled.\u001b[0m\n",
      "\u001b[34m[03/28/2025 06:22:27 INFO 139744247506752] The channel 'train' is in pipe input mode under /opt/ml/input/data/train.\u001b[0m\n",
      "\u001b[34m[03/28/2025 06:22:27 INFO 139744247506752] Verifying hyperparamemters...\u001b[0m\n",
      "\u001b[34m[03/28/2025 06:22:27 INFO 139744247506752] Hyperparameters are correct.\u001b[0m\n",
      "\u001b[34m[03/28/2025 06:22:27 INFO 139744247506752] Validating that feature_dim agrees with dimensions in training data...\u001b[0m\n",
      "\u001b[34m[03/28/2025 06:22:27 INFO 139744247506752] feature_dim is correct.\u001b[0m\n",
      "\u001b[34m[03/28/2025 06:22:27 INFO 139744247506752] Validating memory limits...\u001b[0m\n",
      "\u001b[34m[03/28/2025 06:22:27 INFO 139744247506752] Available memory in bytes: 14442213376\u001b[0m\n",
      "\u001b[34m[03/28/2025 06:22:27 INFO 139744247506752] Estimated sample size in bytes: 12288000\u001b[0m\n",
      "\u001b[34m[03/28/2025 06:22:27 INFO 139744247506752] Estimated memory needed to build the forest in bytes: 61440000\u001b[0m\n",
      "\u001b[34m[03/28/2025 06:22:27 INFO 139744247506752] Memory limits validated.\u001b[0m\n",
      "\u001b[34m[03/28/2025 06:22:27 INFO 139744247506752] Starting cluster sharing facilities...\u001b[0m\n",
      "\u001b[34m[03/28/2025 06:22:27 INFO 139741685069568] concurrency model: async\u001b[0m\n",
      "\u001b[34m[03/28/2025 06:22:27 INFO 139744247506752] Create Store: dist_async\u001b[0m\n",
      "\u001b[34m[03/28/2025 06:22:27 INFO 139741685069568] masquerade (NAT) address: None\u001b[0m\n",
      "\u001b[34m[03/28/2025 06:22:27 INFO 139741685069568] passive ports: None\u001b[0m\n",
      "\u001b[34m[03/28/2025 06:22:27 INFO 139741685069568] >>> starting FTP server on 0.0.0.0:8999, pid=7 <<<\u001b[0m\n",
      "\u001b[34m[03/28/2025 06:22:28 INFO 139744247506752] Cluster sharing facilities started.\u001b[0m\n",
      "\u001b[34m[03/28/2025 06:22:28 INFO 139744247506752] Verifying all workers are accessible...\u001b[0m\n",
      "\u001b[34m[03/28/2025 06:22:28 INFO 139744247506752] All workers accessible.\u001b[0m\n",
      "\u001b[34m[03/28/2025 06:22:28 INFO 139744247506752] Initializing Sampler...\u001b[0m\n",
      "\u001b[34m[03/28/2025 06:22:28 INFO 139744247506752] Sampler correctly initialized.\u001b[0m\n",
      "\u001b[34m#metrics {\"StartTime\": 1743142947.2907987, \"EndTime\": 1743142948.503308, \"Dimensions\": {\"Algorithm\": \"RandomCutForest\", \"Host\": \"algo-1\", \"Operation\": \"training\"}, \"Metrics\": {\"initialize.time\": {\"sum\": 1206.5362930297852, \"count\": 1, \"min\": 1206.5362930297852, \"max\": 1206.5362930297852}}}\u001b[0m\n",
      "\u001b[34m#metrics {\"StartTime\": 1743142948.5034578, \"EndTime\": 1743142948.5034919, \"Dimensions\": {\"Algorithm\": \"RandomCutForest\", \"Host\": \"algo-1\", \"Operation\": \"training\", \"Meta\": \"init_train_data_iter\"}, \"Metrics\": {\"Total Records Seen\": {\"sum\": 0.0, \"count\": 1, \"min\": 0, \"max\": 0}, \"Total Batches Seen\": {\"sum\": 0.0, \"count\": 1, \"min\": 0, \"max\": 0}, \"Max Records Seen Between Resets\": {\"sum\": 0.0, \"count\": 1, \"min\": 0, \"max\": 0}, \"Max Batches Seen Between Resets\": {\"sum\": 0.0, \"count\": 1, \"min\": 0, \"max\": 0}, \"Reset Count\": {\"sum\": 0.0, \"count\": 1, \"min\": 0, \"max\": 0}, \"Number of Records Since Last Reset\": {\"sum\": 0.0, \"count\": 1, \"min\": 0, \"max\": 0}, \"Number of Batches Since Last Reset\": {\"sum\": 0.0, \"count\": 1, \"min\": 0, \"max\": 0}}}\u001b[0m\n",
      "\u001b[34m[2025-03-28 06:22:28.509] [tensorio] [info] epoch_stats={\"data_pipeline\": \"/opt/ml/input/data/train\", \"epoch\": 0, \"duration\": 1218, \"num_examples\": 1, \"num_bytes\": 0}\u001b[0m\n",
      "\u001b[34m[03/28/2025 06:22:28 INFO 139744247506752] Sampling training data...\u001b[0m\n",
      "\u001b[34m[2025-03-28 06:22:31.464] [tensorio] [info] epoch_stats={\"data_pipeline\": \"/opt/ml/input/data/train\", \"epoch\": 1, \"duration\": 2953, \"num_examples\": 1459, \"num_bytes\": 0}\u001b[0m\n",
      "\u001b[34m[03/28/2025 06:22:31 INFO 139744247506752] Sampling training data completed.\u001b[0m\n",
      "\u001b[34m#metrics {\"StartTime\": 1743142948.5034146, \"EndTime\": 1743142951.531486, \"Dimensions\": {\"Algorithm\": \"RandomCutForest\", \"Host\": \"algo-1\", \"Operation\": \"training\"}, \"Metrics\": {\"epochs\": {\"sum\": 1.0, \"count\": 1, \"min\": 1, \"max\": 1}, \"update.time\": {\"sum\": 3021.580219268799, \"count\": 1, \"min\": 3021.580219268799, \"max\": 3021.580219268799}}}\u001b[0m\n",
      "\u001b[34m[03/28/2025 06:22:31 INFO 139744247506752] Early stop condition met. Stopping training.\u001b[0m\n",
      "\u001b[34m[03/28/2025 06:22:31 INFO 139744247506752] #progress_metric: host=algo-1, completed 100 % epochs\u001b[0m\n",
      "\u001b[34m#metrics {\"StartTime\": 1743142948.5098126, \"EndTime\": 1743142951.53188, \"Dimensions\": {\"Algorithm\": \"RandomCutForest\", \"Host\": \"algo-1\", \"Operation\": \"training\", \"epoch\": 0, \"Meta\": \"training_data_iter\"}, \"Metrics\": {\"Total Records Seen\": {\"sum\": 1458043.0, \"count\": 1, \"min\": 1458043, \"max\": 1458043}, \"Total Batches Seen\": {\"sum\": 1459.0, \"count\": 1, \"min\": 1459, \"max\": 1459}, \"Max Records Seen Between Resets\": {\"sum\": 1458043.0, \"count\": 1, \"min\": 1458043, \"max\": 1458043}, \"Max Batches Seen Between Resets\": {\"sum\": 1459.0, \"count\": 1, \"min\": 1459, \"max\": 1459}, \"Reset Count\": {\"sum\": 1.0, \"count\": 1, \"min\": 1, \"max\": 1}, \"Number of Records Since Last Reset\": {\"sum\": 1458043.0, \"count\": 1, \"min\": 1458043, \"max\": 1458043}, \"Number of Batches Since Last Reset\": {\"sum\": 1459.0, \"count\": 1, \"min\": 1459, \"max\": 1459}}}\u001b[0m\n",
      "\u001b[34m[03/28/2025 06:22:31 INFO 139744247506752] #throughput_metric: host=algo-1, train throughput=482443.7339670539 records/second\u001b[0m\n",
      "\u001b[34m[03/28/2025 06:22:31 INFO 139744247506752] Master node: building Random Cut Forest...\u001b[0m\n",
      "\u001b[34m[03/28/2025 06:22:31 INFO 139744247506752] Gathering samples...\u001b[0m\n",
      "\u001b[34m[03/28/2025 06:22:31 INFO 139744247506752] 307200 samples gathered\u001b[0m\n",
      "\u001b[34m[03/28/2025 06:22:31 INFO 139744247506752] Building Random Cut Forest...\u001b[0m\n",
      "\u001b[34m[03/28/2025 06:22:31 INFO 139744247506752] Random Cut Forest built: \u001b[0m\n",
      "\u001b[34mForestInfo{num_trees: 300, num_samples_in_forest: 307200, num_samples_per_tree: 1024, sample_dim: 5, shingle_size: 1, trees_num_nodes: [1149, 1119, 1147, 1169, 1123, 1143, 1129, 1089, 1113, 1123, 1195, 1129, 1121, 1169, 1121, 1121, 1159, 1065, 1113, 1093, 1143, 1145, 1173, 1145, 1133, 1211, 1153, 1087, 1177, 1143, 1137, 1163, 1181, 1125, 1133, 1143, 1149, 1181, 1163, 1169, 1157, 1167, 1173, 1137, 1121, 1161, 1153, 1119, 1165, 1137, 1107, 1151, 1191, 1229, 1155, 1163, 1141, 1159, 1115, 1123, 1163, 1137, 1127, 1135, 1145, 1163, 1133, 1149, 1119, 1139, 1145, 1193, 1143, 1143, 1171, 1145, 1097, 1139, 1129, 1187, 1213, 1115, 1125, 1153, 1167, 1169, 1117, 1125, 1147, 1119, 1173, 1153, 1099, 1139, 1193, 1143, 1145, 1157, 1151, 1127, 1155, 1153, 1133, 1165, 1175, 1131, 1125, 1163, 1121, 1165, 1191, 1175, 1165, 1185, 1121, 1205, 1175, 1151, 1131, 1161, 1151, 1193, 1133, 1107, 1119, 1155, 1133, 1105, 1113, 1097, 1149, 1165, 1159, 1133, 1125, 1169, 1185, 1121, 1149, 1141, 1127, 1161, 1225, 1145, 1177, 1163, 1149, 1137, 1163, 1115, 1147, 1185, 1157, 1171, 1209, 1117, 1183, 1173, 1123, 1189, 1109, 1141, 1145, 1087, 1137, 1187, 1115, 1165, 1117, 1117, 1143, 1185, 1113, 1161, 1187, 1151, 1261, 1183, 1141, 1125, 1153, 1155, 1181, 1171, 1139, 1155, 1155, 1065, 1173, 1147, 1121, 1159, 1177, 1109, 1201, 1161, 1155, 1163, 1145, 1125, 1141, 1139, 1115, 1103, 1145, 1181, 1151, 1087, 1147, 1167, 1117, 1139, 1177, 1177, 1133, 1177, 1101, 1129, 1171, 1163, 1141, 1113, 1147, 1147, 1143, 1101, 1163, 1139, 1175, 1179, 1153, 1175, 1143, 1125, 1157, 1173, 1087, 1113, 1131, 1221, 1149, 1107, 1153, 1161, 1131, 1159, 1159, 1221, 1079, 1083, 1149, 1109, 1179, 1179, 1151, 1193, 1115, 1161, 1155, 1193, 1123, 1141, 1151, 1139, 1173, 1141, 1141, 1163, 1131, 1113, 1163, 1139, 1133, 1101, 1171, 1169, 1139, 1123, 1173, 1083, 1167, 1175, 1171, 1179, 1157, 1205, 1157, 1143, 1113, 1113, 1131, 1139, 1161, 1185, 1145, 1153, 1139, 1175, 1171, 1099, ], trees_depth: [34, 33, 34, 23, 28, 25, 24, 26, 24, 28, 25, 29, 26, 26, 25, 28, 25, 25, 28, 27, 26, 29, 23, 26, 31, 35, 24, 24, 31, 28, 31, 34, 26, 25, 27, 28, 26, 29, 26, 28, 27, 28, 28, 26, 29, 35, 27, 25, 26, 27, 30, 31, 33, 28, 28, 32, 28, 32, 27, 23, 30, 30, 27, 29, 27, 33, 30, 26, 28, 26, 27, 30, 33, 29, 25, 26, 24, 22, 26, 27, 31, 22, 26, 30, 28, 26, 24, 29, 26, 26, 31, 26, 28, 27, 28, 28, 27, 28, 31, 30, 25, 23, 29, 24, 27, 23, 28, 31, 23, 28, 25, 35, 27, 35, 24, 35, 23, 26, 25, 31, 22, 32, 28, 25, 27, 24, 29, 27, 27, 30, 30, 26, 25, 27, 24, 31, 24, 26, 28, 27, 26, 29, 28, 24, 28, 27, 27, 28, 26, 31, 24, 33, 30, 31, 27, 27, 28, 36, 22, 26, 33, 26, 31, 28, 27, 31, 27, 35, 23, 30, 28, 28, 29, 35, 29, 25, 25, 30, 28, 28, 27, 30, 33, 27, 27, 32, 25, 26, 25, 27, 27, 28, 25, 26, 25, 31, 28, 29, 31, 23, 24, 28, 26, 32, 24, 30, 31, 24, 27, 27, 24, 27, 23, 31, 30, 27, 26, 24, 26, 29, 25, 31, 29, 31, 27, 28, 33, 33, 24, 38, 28, 30, 28, 24, 25, 31, 27, 29, 27, 28, 25, 29, 28, 24, 26, 28, 29, 28, 29, 28, 22, 29, 28, 36, 27, 29, 25, 28, 24, 27, 29, 23, 33, 29, 31, 29, 35, 27, 34, 27, 26, 25, 30, 27, 33, 30, 24, 24, 26, 27, 28, 27, 29, 30, 29, 30, 27, 24, 26, 27, 29, 26, 25, 28, 33, 31, 32, 27, 29, 25, ], max_num_nodes: 1261, min_num_nodes: 1065, avg_num_nodes: 1147, max_tree_depth: 38, min_tree_depth: 22, avg_tree_depth: 27, mem_size: 57845520}\u001b[0m\n",
      "\u001b[34m#metrics {\"StartTime\": 1743142951.5315554, \"EndTime\": 1743142951.8523157, \"Dimensions\": {\"Algorithm\": \"RandomCutForest\", \"Host\": \"algo-1\", \"Operation\": \"training\"}, \"Metrics\": {\"fit_model.time\": {\"sum\": 131.9286823272705, \"count\": 1, \"min\": 131.9286823272705, \"max\": 131.9286823272705}, \"model.bytes\": {\"sum\": 57845520.0, \"count\": 1, \"min\": 57845520, \"max\": 57845520}, \"finalize.time\": {\"sum\": 320.1098442077637, \"count\": 1, \"min\": 320.1098442077637, \"max\": 320.1098442077637}}}\u001b[0m\n",
      "\u001b[34m[03/28/2025 06:22:33 INFO 139744247506752] Master node: Serializing the RandomCutForest model\u001b[0m\n",
      "\u001b[34m#metrics {\"StartTime\": 1743142951.8524036, \"EndTime\": 1743142953.1137774, \"Dimensions\": {\"Algorithm\": \"RandomCutForest\", \"Host\": \"algo-1\", \"Operation\": \"training\"}, \"Metrics\": {\"serialize_model.time\": {\"sum\": 1261.3203525543213, \"count\": 1, \"min\": 1261.3203525543213, \"max\": 1261.3203525543213}}}\u001b[0m\n",
      "\u001b[34m[03/28/2025 06:22:33 INFO 139744247506752] Test data is not provided.\u001b[0m\n",
      "\u001b[34m#metrics {\"StartTime\": 1743142953.113849, \"EndTime\": 1743142953.148612, \"Dimensions\": {\"Algorithm\": \"RandomCutForest\", \"Host\": \"algo-1\", \"Operation\": \"training\"}, \"Metrics\": {\"setuptime\": {\"sum\": 21.564960479736328, \"count\": 1, \"min\": 21.564960479736328, \"max\": 21.564960479736328}, \"totaltime\": {\"sum\": 5885.074138641357, \"count\": 1, \"min\": 5885.074138641357, \"max\": 5885.074138641357}}}\u001b[0m\n",
      "\n",
      "2025-03-28 06:22:41 Completed - Training job completed\n",
      "Training seconds: 185\n",
      "Billable seconds: 185\n"
     ]
    }
   ],
   "source": [
    "training_model(\n",
    "    s3_input_train=s3_input_train, \n",
    "    output_path=output_path, \n",
    "    feature_dim=num_columns, \n",
    "    num_samples_per_tree=1024, \n",
    "    num_trees=300\n",
    ")"
   ]
  },
  {
   "cell_type": "code",
   "execution_count": null,
   "id": "a03d4367-7ca8-419b-aa94-339c53e23622",
   "metadata": {},
   "outputs": [],
   "source": []
  },
  {
   "cell_type": "code",
   "execution_count": null,
   "id": "8ede8d7d-b5c4-41b4-8d48-a6f625bda471",
   "metadata": {},
   "outputs": [],
   "source": []
  },
  {
   "cell_type": "code",
   "execution_count": 56,
   "id": "a4f723ec-90c7-463f-a244-7dc69513065c",
   "metadata": {},
   "outputs": [],
   "source": [
    "def get_model_path(tag_name_speed, cluster, unit, tag_name):\n",
    "    s3 = boto3.client(\"s3\")\n",
    "\n",
    "    bucket = \"s3-assetcare-bucket\"\n",
    "    prefix = f\"features_store2/result/{tag_name_speed}_cluster{cluster}_{unit}_{tag_name}/\"\n",
    "    \n",
    "    # List all \"folders\" (S3 prefixes) trong thư mục đó\n",
    "    response = s3.list_objects_v2(Bucket=bucket, Prefix=prefix, Delimiter=\"/\")\n",
    "    \n",
    "    # Lọc ra folder có tên bắt đầu bằng \"randomcutforest-\"\n",
    "    candidates = [\n",
    "        cp['Prefix'] for cp in response.get('CommonPrefixes', [])\n",
    "        if cp['Prefix'].startswith(prefix + \"randomcutforest-\")\n",
    "    ]\n",
    "    return \"s3://\" + bucket + \"/\" + candidates[0] + \"output/model.tar.gz\""
   ]
  },
  {
   "cell_type": "code",
   "execution_count": 57,
   "id": "7a99c058-5b55-4b5f-999b-2ad7c0a1877b",
   "metadata": {},
   "outputs": [],
   "source": [
    "# s3://s3-assetcare-bucket/features_store2/result/DWA_ACTUAL_MOTOR_SPEED_cluster2_DegC_DW_AMBIENT_TEMP/randomcutforest-2025-03-28-04-57-48-276/output/model.tar.gz"
   ]
  },
  {
   "cell_type": "code",
   "execution_count": null,
   "id": "d21a99c0-a6f7-40b1-a171-38c3ed61049c",
   "metadata": {},
   "outputs": [],
   "source": []
  },
  {
   "cell_type": "code",
   "execution_count": 74,
   "id": "aaec06cf-410b-4f4d-9c9d-231fb870d16b",
   "metadata": {},
   "outputs": [
    {
     "data": {
      "text/plain": [
       "'s3://s3-assetcare-bucket/features_store2/result/DWA_ACTUAL_MOTOR_SPEED_cluster2_DegC_DW_GEARBOX1_LO_PRESS/randomcutforest-2025-03-28-06-19-04-447/output/model.tar.gz'"
      ]
     },
     "execution_count": 74,
     "metadata": {},
     "output_type": "execute_result"
    }
   ],
   "source": [
    "model_path = get_model_path(tag_name_speed=tag_name_speed, cluster=cluster, unit=unit, tag_name=tag_name)\n",
    "model_path"
   ]
  },
  {
   "cell_type": "code",
   "execution_count": null,
   "id": "9de51ee2-e27c-44d0-9bf5-76335494f1e4",
   "metadata": {},
   "outputs": [],
   "source": []
  },
  {
   "cell_type": "code",
   "execution_count": 59,
   "id": "4ff9c57e-7cea-4f60-8584-d33f93c8ed99",
   "metadata": {},
   "outputs": [],
   "source": [
    "def get_prediction(model_path, feature_s3_path, output_path):\n",
    "    # Lấy container mới nhất của Random Cut Forest trên SageMaker\n",
    "    rcf_container = sagemaker.image_uris.retrieve(\"randomcutforest\", region)\n",
    "\n",
    "    # Load model từ S3\n",
    "    rcf_model = Model(\n",
    "        image_uri=rcf_container,  # Dùng container SageMaker Random Cut Forest\n",
    "        model_data=model_path,  # Đường dẫn model trên S3\n",
    "        role=role,\n",
    "        sagemaker_session=sagemaker_session\n",
    "    )\n",
    "\n",
    "    nr_of_files = 1\n",
    "    # predict anomaly scores\n",
    "    for idx in range(nr_of_files):\n",
    "        # test input\n",
    "        print(idx)\n",
    "        print(feature_s3_path)\n",
    "    \n",
    "        # test output\n",
    "        # output_path = f\"s3://s3-assetcare-bucket/features_store2/DWA/quicktrain/results_set/\"\n",
    "        print(output_path)\n",
    "    \n",
    "        transformer = rcf_model.transformer(\n",
    "            instance_count=1,\n",
    "            instance_type=\"ml.m5.xlarge\",\n",
    "            output_path=output_path,\n",
    "            assemble_with=\"Line\",\n",
    "            accept=\"text/csv\"\n",
    "        )\n",
    "        \n",
    "        # Chạy dự đoán trên dữ liệu S3\n",
    "        transformer.transform(feature_s3_path, content_type=\"text/csv\", split_type=\"Line\", wait=True)"
   ]
  },
  {
   "cell_type": "code",
   "execution_count": null,
   "id": "4a5d293a-7e20-4d4d-86fe-6ea424cf978b",
   "metadata": {},
   "outputs": [],
   "source": []
  },
  {
   "cell_type": "code",
   "execution_count": 75,
   "id": "cca52a18-fb1b-413f-9691-b3f58f3f9380",
   "metadata": {},
   "outputs": [],
   "source": [
    "feature_s3_path = f\"s3://s3-assetcare-bucket/features_store2/training/get_scores/{tag_name_speed}_cluster{cluster}_{unit}_{tag_name}/\"\n",
    "\n",
    "output_path = f\"s3://s3-assetcare-bucket/features_store2/training/results/\""
   ]
  },
  {
   "cell_type": "code",
   "execution_count": 76,
   "id": "9a682771-5af5-43de-9be5-22a685b728e4",
   "metadata": {
    "scrolled": true
   },
   "outputs": [
    {
     "name": "stderr",
     "output_type": "stream",
     "text": [
      "INFO:sagemaker.image_uris:Same images used for training and inference. Defaulting to image scope: inference.\n",
      "INFO:sagemaker.image_uris:Defaulting to the only supported framework/algorithm version: 1.\n",
      "INFO:sagemaker.image_uris:Ignoring unnecessary instance type: None.\n",
      "INFO:sagemaker:Creating model with name: randomcutforest-2025-03-28-06-23-23-017\n"
     ]
    },
    {
     "name": "stdout",
     "output_type": "stream",
     "text": [
      "0\n",
      "s3://s3-assetcare-bucket/features_store2/training/get_scores/DWA_ACTUAL_MOTOR_SPEED_cluster2_DegC_DW_GEARBOX1_LO_PRESS/\n",
      "s3://s3-assetcare-bucket/features_store2/training/results/\n"
     ]
    },
    {
     "name": "stderr",
     "output_type": "stream",
     "text": [
      "INFO:sagemaker:Creating transform job with name: randomcutforest-2025-03-28-06-23-23-673\n"
     ]
    },
    {
     "name": "stdout",
     "output_type": "stream",
     "text": [
      "...................................\u001b[34mDocker entrypoint called with argument(s): serve\u001b[0m\n",
      "\u001b[34mRunning default environment configuration script\u001b[0m\n",
      "\u001b[34m/opt/amazon/lib/python3.8/site-packages/mxnet/model.py:97: SyntaxWarning: \"is\" with a literal. Did you mean \"==\"?\n",
      "  if num_device is 1 and 'dist' not in kvstore:\u001b[0m\n",
      "\u001b[34m/opt/amazon/lib/python3.8/site-packages/scipy/optimize/_shgo.py:495: SyntaxWarning: \"is\" with a literal. Did you mean \"==\"?\n",
      "  if cons['type'] is 'ineq':\u001b[0m\n",
      "\u001b[34m/opt/amazon/lib/python3.8/site-packages/scipy/optimize/_shgo.py:743: SyntaxWarning: \"is not\" with a literal. Did you mean \"!=\"?\n",
      "  if len(self.X_min) is not 0:\u001b[0m\n",
      "\u001b[34m[03/28/2025 06:29:17 INFO 139722077046592] loaded entry point class algorithm.serve.server_config:config_api\u001b[0m\n",
      "\u001b[34m[03/28/2025 06:29:17 INFO 139722077046592] loading entry points\u001b[0m\n",
      "\u001b[34m[03/28/2025 06:29:17 INFO 139722077046592] Loaded iterator creator application/x-recordio-protobuf for content type ('application/x-recordio-protobuf', '1.0')\u001b[0m\n",
      "\u001b[34m[03/28/2025 06:29:17 INFO 139722077046592] loaded request iterator application/json\u001b[0m\n",
      "\u001b[34m[03/28/2025 06:29:17 INFO 139722077046592] loaded request iterator application/jsonlines\u001b[0m\n",
      "\u001b[34m[03/28/2025 06:29:17 INFO 139722077046592] loaded request iterator application/x-recordio-protobuf\u001b[0m\n",
      "\u001b[34m[03/28/2025 06:29:17 INFO 139722077046592] loaded request iterator text/csv\u001b[0m\n",
      "\u001b[34m[03/28/2025 06:29:17 INFO 139722077046592] loaded response encoder application/json\u001b[0m\n",
      "\u001b[34m[03/28/2025 06:29:17 INFO 139722077046592] loaded response encoder application/jsonlines\u001b[0m\n",
      "\u001b[34m[03/28/2025 06:29:17 INFO 139722077046592] loaded response encoder application/x-recordio-protobuf\u001b[0m\n",
      "\u001b[34m[03/28/2025 06:29:17 INFO 139722077046592] loaded response encoder text/csv\u001b[0m\n",
      "\u001b[34m[03/28/2025 06:29:17 INFO 139722077046592] loaded entry point class algorithm:model\u001b[0m\n",
      "\u001b[34m[03/28/2025 06:29:17 INFO 139722077046592] Loaded iterator creator application/x-recordio-protobuf for content type ('application/x-recordio-protobuf', '1.0')\u001b[0m\n",
      "\u001b[34m[03/28/2025 06:29:17 INFO 139722077046592] Number of server workers: 1\u001b[0m\n",
      "\u001b[34m[03/28/2025 06:29:17 INFO 139722077046592] loading model...\u001b[0m\n",
      "\u001b[34m[03/28/2025 06:29:18 INFO 139722077046592] Random Cut Forest model loaded.\u001b[0m\n",
      "\u001b[34mForestInfo{num_trees: 300, num_samples_in_forest: 307200, num_samples_per_tree: 1024, sample_dim: 5, shingle_size: 1, trees_num_nodes: [1149, 1119, 1147, 1169, 1123, 1143, 1129, 1089, 1113, 1123, 1195, 1129, 1121, 1169, 1121, 1121, 1159, 1065, 1113, 1093, 1143, 1145, 1173, 1145, 1133, 1211, 1153, 1087, 1177, 1143, 1137, 1163, 1181, 1125, 1133, 1143, 1149, 1181, 1163, 1169, 1157, 1167, 1173, 1137, 1121, 1161, 1153, 1119, 1165, 1137, 1107, 1151, 1191, 1229, 1155, 1163, 1141, 1159, 1115, 1123, 1163, 1137, 1127, 1135, 1145, 1163, 1133, 1149, 1119, 1139, 1145, 1193, 1143, 1143, 1171, 1145, 1097, 1139, 1129, 1187, 1213, 1115, 1125, 1153, 1167, 1169, 1117, 1125, 1147, 1119, 1173, 1153, 1099, 1139, 1193, 1143, 1145, 1157, 1151, 1127, 1155, 1153, 1133, 1165, 1175, 1131, 1125, 1163, 1121, 1165, 1191, 1175, 1165, 1185, 1121, 1205, 1175, 1151, 1131, 1161, 1151, 1193, 1133, 1107, 1119, 1155, 1133, 1105, 1113, 1097, 1149, 1165, 1159, 1133, 1125, 1169, 1185, 1121, 1149, 1141, 1127, 1161, 1225, 1145, 1177, 1163, 1149, 1137, 1163, 1115, 1147, 1185, 1157, 1171, 1209, 1117, 1183, 1173, 1123, 1189, 1109, 1141, 1145, 1087, 1137, 1187, 1115, 1165, 1117, 1117, 1143, 1185, 1113, 1161, 1187, 1151, 1261, 1183, 1141, 1125, 1153, 1155, 1181, 1171, 1139, 1155, 1155, 1065, 1173, 1147, 1121, 1159, 1177, 1109, 1201, 1161, 1155, 1163, 1145, 1125, 1141, 1139, 1115, 1103, 1145, 1181, 1151, 1087, 1147, 1167, 1117, 1139, 1177, 1177, 1133, 1177, 1101, 1129, 1171, 1163, 1141, 1113, 1147, 1147, 1143, 1101, 1163, 1139, 1175, 1179, 1153, 1175, 1143, 1125, 1157, 1173, 1087, 1113, 1131, 1221, 1149, 1107, 1153, 1161, 1131, 1159, 1159, 1221, 1079, 1083, 1149, 1109, 1179, 1179, 1151, 1193, 1115, 1161, 1155, 1193, 1123, 1141, 1151, 1139, 1173, 1141, 1141, 1163, 1131, 1113, 1163, 1139, 1133, 1101, 1171, 1169, 1139, 1123, 1173, 1083, 1167, 1175, 1171, 1179, 1157, 1205, 1157, 1143, 1113, 1113, 1131, 1139, 1161, 1185, 1145, 1153, 1139, 1175, 1171, 1099, ], trees_depth: [34, 33, 34, 23, 28, 25, 24, 26, 24, 28, 25, 29, 26, 26, 25, 28, 25, 25, 28, 27, 26, 29, 23, 26, 31, 35, 24, 24, 31, 28, 31, 34, 26, 25, 27, 28, 26, 29, 26, 28, 27, 28, 28, 26, 29, 35, 27, 25, 26, 27, 30, 31, 33, 28, 28, 32, 28, 32, 27, 23, 30, 30, 27, 29, 27, 33, 30, 26, 28, 26, 27, 30, 33, 29, 25, 26, 24, 22, 26, 27, 31, 22, 26, 30, 28, 26, 24, 29, 26, 26, 31, 26, 28, 27, 28, 28, 27, 28, 31, 30, 25, 23, 29, 24, 27, 23, 28, 31, 23, 28, 25, 35, 27, 35, 24, 35, 23, 26, 25, 31, 22, 32, 28, 25, 27, 24, 29, 27, 27, 30, 30, 26, 25, 27, 24, 31, 24, 26, 28, 27, 26, 29, 28, 24, 28, 27, 27, 28, 26, 31, 24, 33, 30, 31, 27, 27, 28, 36, 22, 26, 33, 26, 31, 28, 27, 31, 27, 35, 23, 30, 28, 28, 29, 35, 29, 25, 25, 30, 28, 28, 27, 30, 33, 27, 27, 32, 25, 26, 25, 27, 27, 28, 25, 26, 25, 31, 28, 29, 31, 23, 24, 28, 26, 32, 24, 30, 31, 24, 27, 27, 24, 27, 23, 31, 30, 27, 26, 24, 26, 29, 25, 31, 29, 31, 27, 28, 33, 33, 24, 38, 28, 30, 28, 24, 25, 31, 27, 29, 27, 28, 25, 29, 28, 24, 26, 28, 29, 28, 29, 28, 22, 29, 28, 36, 27, 29, 25, 28, 24, 27, 29, 23, 33, 29, 31, 29, 35, 27, 34, 27, 26, 25, 30, 27, 33, 30, 24, 24, 26, 27, 28, 27, 29, 30, 29, 30, 27, 24, 26, 27, 29, 26, 25, 28, 33, 31, 32, 27, 29, 25, ], max_num_nodes: 1261, min_num_nodes: 1065, avg_num_nodes: 1147, max_tree_depth: 38, min_tree_depth: 22, avg_tree_depth: 27, mem_size: 57845520}\u001b[0m\n",
      "\u001b[34m#metrics {\"StartTime\": 1743143357.3311744, \"EndTime\": 1743143359.103645, \"Dimensions\": {}, \"Metrics\": {\"model.bytes\": {\"sum\": 57845520.0, \"count\": 1, \"min\": 57845520, \"max\": 57845520}, \"deserialize_model.time\": {\"sum\": 1302.2828102111816, \"count\": 1, \"min\": 1302.2828102111816, \"max\": 1302.2828102111816}}}\u001b[0m\n",
      "\u001b[34m[03/28/2025 06:29:19 INFO 139722077046592] ...model loaded.\u001b[0m\n",
      "\u001b[34m[2025-03-28 06:29:19 +0000] [1] [INFO] Starting gunicorn 20.1.0\u001b[0m\n",
      "\u001b[34m[2025-03-28 06:29:19 +0000] [1] [INFO] Listening at: http://0.0.0.0:8080 (1)\u001b[0m\n",
      "\u001b[34m[2025-03-28 06:29:19 +0000] [1] [INFO] Using worker: sync\u001b[0m\n",
      "\u001b[34m[2025-03-28 06:29:19 +0000] [42] [INFO] Booting worker with pid: 42\u001b[0m\n",
      "\u001b[34m#metrics {\"StartTime\": 1743143359.1046271, \"EndTime\": 1743143359.2723851, \"Dimensions\": {\"Algorithm\": \"RandomCutForestModel\", \"Host\": \"UNKNOWN\", \"Operation\": \"scoring\"}, \"Metrics\": {\"execution_parameters.count\": {\"sum\": 1.0, \"count\": 1, \"min\": 1, \"max\": 1}}}\u001b[0m\n",
      "\u001b[32m2025-03-28T06:29:19.277:[sagemaker logs]: MaxConcurrentTransforms=1, MaxPayloadInMB=6, BatchStrategy=MULTI_RECORD\u001b[0m\n",
      "\u001b[34m#metrics {\"StartTime\": 1743143359.2725117, \"EndTime\": 1743143392.8523428, \"Dimensions\": {\"Algorithm\": \"RandomCutForestModel\", \"Host\": \"UNKNOWN\", \"Operation\": \"scoring\"}, \"Metrics\": {\"evaluate.time\": {\"sum\": 31963.608503341675, \"count\": 1, \"min\": 31963.608503341675, \"max\": 31963.608503341675}}}\u001b[0m\n",
      "\u001b[35m#metrics {\"StartTime\": 1743143359.2725117, \"EndTime\": 1743143392.8523428, \"Dimensions\": {\"Algorithm\": \"RandomCutForestModel\", \"Host\": \"UNKNOWN\", \"Operation\": \"scoring\"}, \"Metrics\": {\"evaluate.time\": {\"sum\": 31963.608503341675, \"count\": 1, \"min\": 31963.608503341675, \"max\": 31963.608503341675}}}\u001b[0m\n",
      "\u001b[34m#metrics {\"StartTime\": 1743143392.8524275, \"EndTime\": 1743143392.9617527, \"Dimensions\": {\"Algorithm\": \"RandomCutForestModel\", \"Host\": \"UNKNOWN\", \"Operation\": \"scoring\"}, \"Metrics\": {\"csv.encoder.time\": {\"sum\": 108.63637924194336, \"count\": 1, \"min\": 108.63637924194336, \"max\": 108.63637924194336}, \"invocations.count\": {\"sum\": 1.0, \"count\": 1, \"min\": 1, \"max\": 1}}}\u001b[0m\n",
      "\u001b[35m#metrics {\"StartTime\": 1743143392.8524275, \"EndTime\": 1743143392.9617527, \"Dimensions\": {\"Algorithm\": \"RandomCutForestModel\", \"Host\": \"UNKNOWN\", \"Operation\": \"scoring\"}, \"Metrics\": {\"csv.encoder.time\": {\"sum\": 108.63637924194336, \"count\": 1, \"min\": 108.63637924194336, \"max\": 108.63637924194336}, \"invocations.count\": {\"sum\": 1.0, \"count\": 1, \"min\": 1, \"max\": 1}}}\u001b[0m\n",
      "\u001b[34m#metrics {\"StartTime\": 1743143408.9736648, \"EndTime\": 1743143409.0879612, \"Dimensions\": {\"Algorithm\": \"RandomCutForestModel\", \"Host\": \"UNKNOWN\", \"Operation\": \"scoring\"}, \"Metrics\": {\"csv.encoder.time\": {\"sum\": 113.65818977355957, \"count\": 1, \"min\": 113.65818977355957, \"max\": 113.65818977355957}, \"invocations.count\": {\"sum\": 1.0, \"count\": 1, \"min\": 1, \"max\": 1}}}\u001b[0m\n",
      "\u001b[35m#metrics {\"StartTime\": 1743143408.9736648, \"EndTime\": 1743143409.0879612, \"Dimensions\": {\"Algorithm\": \"RandomCutForestModel\", \"Host\": \"UNKNOWN\", \"Operation\": \"scoring\"}, \"Metrics\": {\"csv.encoder.time\": {\"sum\": 113.65818977355957, \"count\": 1, \"min\": 113.65818977355957, \"max\": 113.65818977355957}, \"invocations.count\": {\"sum\": 1.0, \"count\": 1, \"min\": 1, \"max\": 1}}}\u001b[0m\n",
      "\u001b[34m#metrics {\"StartTime\": 1743143409.0880384, \"EndTime\": 1743143448.7391276, \"Dimensions\": {\"Algorithm\": \"RandomCutForestModel\", \"Host\": \"UNKNOWN\", \"Operation\": \"scoring\"}, \"Metrics\": {\"evaluate.time\": {\"sum\": 39291.49317741394, \"count\": 1, \"min\": 39291.49317741394, \"max\": 39291.49317741394}}}\u001b[0m\n",
      "\u001b[34m#metrics {\"StartTime\": 1743143448.7392108, \"EndTime\": 1743143448.8502166, \"Dimensions\": {\"Algorithm\": \"RandomCutForestModel\", \"Host\": \"UNKNOWN\", \"Operation\": \"scoring\"}, \"Metrics\": {\"csv.encoder.time\": {\"sum\": 110.23974418640137, \"count\": 1, \"min\": 110.23974418640137, \"max\": 110.23974418640137}, \"invocations.count\": {\"sum\": 1.0, \"count\": 1, \"min\": 1, \"max\": 1}}}\u001b[0m\n",
      "\u001b[35m#metrics {\"StartTime\": 1743143409.0880384, \"EndTime\": 1743143448.7391276, \"Dimensions\": {\"Algorithm\": \"RandomCutForestModel\", \"Host\": \"UNKNOWN\", \"Operation\": \"scoring\"}, \"Metrics\": {\"evaluate.time\": {\"sum\": 39291.49317741394, \"count\": 1, \"min\": 39291.49317741394, \"max\": 39291.49317741394}}}\u001b[0m\n",
      "\u001b[35m#metrics {\"StartTime\": 1743143448.7392108, \"EndTime\": 1743143448.8502166, \"Dimensions\": {\"Algorithm\": \"RandomCutForestModel\", \"Host\": \"UNKNOWN\", \"Operation\": \"scoring\"}, \"Metrics\": {\"csv.encoder.time\": {\"sum\": 110.23974418640137, \"count\": 1, \"min\": 110.23974418640137, \"max\": 110.23974418640137}, \"invocations.count\": {\"sum\": 1.0, \"count\": 1, \"min\": 1, \"max\": 1}}}\u001b[0m\n",
      "\u001b[34m#metrics {\"StartTime\": 1743143490.5251396, \"EndTime\": 1743143516.0989203, \"Dimensions\": {\"Algorithm\": \"RandomCutForestModel\", \"Host\": \"UNKNOWN\", \"Operation\": \"scoring\"}, \"Metrics\": {\"evaluate.time\": {\"sum\": 25223.849534988403, \"count\": 1, \"min\": 25223.849534988403, \"max\": 25223.849534988403}}}\u001b[0m\n",
      "\u001b[34m#metrics {\"StartTime\": 1743143516.0990038, \"EndTime\": 1743143516.2092247, \"Dimensions\": {\"Algorithm\": \"RandomCutForestModel\", \"Host\": \"UNKNOWN\", \"Operation\": \"scoring\"}, \"Metrics\": {\"csv.encoder.time\": {\"sum\": 109.49850082397461, \"count\": 1, \"min\": 109.49850082397461, \"max\": 109.49850082397461}, \"invocations.count\": {\"sum\": 1.0, \"count\": 1, \"min\": 1, \"max\": 1}}}\u001b[0m\n",
      "\u001b[35m#metrics {\"StartTime\": 1743143490.5251396, \"EndTime\": 1743143516.0989203, \"Dimensions\": {\"Algorithm\": \"RandomCutForestModel\", \"Host\": \"UNKNOWN\", \"Operation\": \"scoring\"}, \"Metrics\": {\"evaluate.time\": {\"sum\": 25223.849534988403, \"count\": 1, \"min\": 25223.849534988403, \"max\": 25223.849534988403}}}\u001b[0m\n",
      "\u001b[35m#metrics {\"StartTime\": 1743143516.0990038, \"EndTime\": 1743143516.2092247, \"Dimensions\": {\"Algorithm\": \"RandomCutForestModel\", \"Host\": \"UNKNOWN\", \"Operation\": \"scoring\"}, \"Metrics\": {\"csv.encoder.time\": {\"sum\": 109.49850082397461, \"count\": 1, \"min\": 109.49850082397461, \"max\": 109.49850082397461}, \"invocations.count\": {\"sum\": 1.0, \"count\": 1, \"min\": 1, \"max\": 1}}}\u001b[0m\n",
      "\u001b[34m#metrics {\"StartTime\": 1743143532.4426355, \"EndTime\": 1743143550.680156, \"Dimensions\": {\"Algorithm\": \"RandomCutForestModel\", \"Host\": \"UNKNOWN\", \"Operation\": \"scoring\"}, \"Metrics\": {\"evaluate.time\": {\"sum\": 17874.112367630005, \"count\": 1, \"min\": 17874.112367630005, \"max\": 17874.112367630005}}}\u001b[0m\n",
      "\u001b[34m#metrics {\"StartTime\": 1743143550.6802375, \"EndTime\": 1743143550.7889888, \"Dimensions\": {\"Algorithm\": \"RandomCutForestModel\", \"Host\": \"UNKNOWN\", \"Operation\": \"scoring\"}, \"Metrics\": {\"csv.encoder.time\": {\"sum\": 108.0772876739502, \"count\": 1, \"min\": 108.0772876739502, \"max\": 108.0772876739502}, \"invocations.count\": {\"sum\": 1.0, \"count\": 1, \"min\": 1, \"max\": 1}}}\u001b[0m\n",
      "\u001b[35m#metrics {\"StartTime\": 1743143532.4426355, \"EndTime\": 1743143550.680156, \"Dimensions\": {\"Algorithm\": \"RandomCutForestModel\", \"Host\": \"UNKNOWN\", \"Operation\": \"scoring\"}, \"Metrics\": {\"evaluate.time\": {\"sum\": 17874.112367630005, \"count\": 1, \"min\": 17874.112367630005, \"max\": 17874.112367630005}}}\u001b[0m\n",
      "\u001b[35m#metrics {\"StartTime\": 1743143550.6802375, \"EndTime\": 1743143550.7889888, \"Dimensions\": {\"Algorithm\": \"RandomCutForestModel\", \"Host\": \"UNKNOWN\", \"Operation\": \"scoring\"}, \"Metrics\": {\"csv.encoder.time\": {\"sum\": 108.0772876739502, \"count\": 1, \"min\": 108.0772876739502, \"max\": 108.0772876739502}, \"invocations.count\": {\"sum\": 1.0, \"count\": 1, \"min\": 1, \"max\": 1}}}\u001b[0m\n",
      "\u001b[34m#metrics {\"StartTime\": 1743143576.43722, \"EndTime\": 1743143613.680497, \"Dimensions\": {\"Algorithm\": \"RandomCutForestModel\", \"Host\": \"UNKNOWN\", \"Operation\": \"scoring\"}, \"Metrics\": {\"evaluate.time\": {\"sum\": 36887.82501220703, \"count\": 1, \"min\": 36887.82501220703, \"max\": 36887.82501220703}}}\u001b[0m\n",
      "\u001b[34m#metrics {\"StartTime\": 1743143613.680582, \"EndTime\": 1743143613.79419, \"Dimensions\": {\"Algorithm\": \"RandomCutForestModel\", \"Host\": \"UNKNOWN\", \"Operation\": \"scoring\"}, \"Metrics\": {\"csv.encoder.time\": {\"sum\": 112.91122436523438, \"count\": 1, \"min\": 112.91122436523438, \"max\": 112.91122436523438}, \"invocations.count\": {\"sum\": 1.0, \"count\": 1, \"min\": 1, \"max\": 1}}}\u001b[0m\n",
      "\u001b[35m#metrics {\"StartTime\": 1743143576.43722, \"EndTime\": 1743143613.680497, \"Dimensions\": {\"Algorithm\": \"RandomCutForestModel\", \"Host\": \"UNKNOWN\", \"Operation\": \"scoring\"}, \"Metrics\": {\"evaluate.time\": {\"sum\": 36887.82501220703, \"count\": 1, \"min\": 36887.82501220703, \"max\": 36887.82501220703}}}\u001b[0m\n",
      "\u001b[35m#metrics {\"StartTime\": 1743143613.680582, \"EndTime\": 1743143613.79419, \"Dimensions\": {\"Algorithm\": \"RandomCutForestModel\", \"Host\": \"UNKNOWN\", \"Operation\": \"scoring\"}, \"Metrics\": {\"csv.encoder.time\": {\"sum\": 112.91122436523438, \"count\": 1, \"min\": 112.91122436523438, \"max\": 112.91122436523438}, \"invocations.count\": {\"sum\": 1.0, \"count\": 1, \"min\": 1, \"max\": 1}}}\u001b[0m\n",
      "\u001b[34m#metrics {\"StartTime\": 1743143649.1324587, \"EndTime\": 1743143686.068745, \"Dimensions\": {\"Algorithm\": \"RandomCutForestModel\", \"Host\": \"UNKNOWN\", \"Operation\": \"scoring\"}, \"Metrics\": {\"evaluate.time\": {\"sum\": 36579.293966293335, \"count\": 1, \"min\": 36579.293966293335, \"max\": 36579.293966293335}}}\u001b[0m\n",
      "\u001b[34m#metrics {\"StartTime\": 1743143686.068822, \"EndTime\": 1743143686.180784, \"Dimensions\": {\"Algorithm\": \"RandomCutForestModel\", \"Host\": \"UNKNOWN\", \"Operation\": \"scoring\"}, \"Metrics\": {\"csv.encoder.time\": {\"sum\": 111.33146286010742, \"count\": 1, \"min\": 111.33146286010742, \"max\": 111.33146286010742}, \"invocations.count\": {\"sum\": 1.0, \"count\": 1, \"min\": 1, \"max\": 1}}}\u001b[0m\n",
      "\u001b[35m#metrics {\"StartTime\": 1743143649.1324587, \"EndTime\": 1743143686.068745, \"Dimensions\": {\"Algorithm\": \"RandomCutForestModel\", \"Host\": \"UNKNOWN\", \"Operation\": \"scoring\"}, \"Metrics\": {\"evaluate.time\": {\"sum\": 36579.293966293335, \"count\": 1, \"min\": 36579.293966293335, \"max\": 36579.293966293335}}}\u001b[0m\n",
      "\u001b[35m#metrics {\"StartTime\": 1743143686.068822, \"EndTime\": 1743143686.180784, \"Dimensions\": {\"Algorithm\": \"RandomCutForestModel\", \"Host\": \"UNKNOWN\", \"Operation\": \"scoring\"}, \"Metrics\": {\"csv.encoder.time\": {\"sum\": 111.33146286010742, \"count\": 1, \"min\": 111.33146286010742, \"max\": 111.33146286010742}, \"invocations.count\": {\"sum\": 1.0, \"count\": 1, \"min\": 1, \"max\": 1}}}\u001b[0m\n",
      "\u001b[34m#metrics {\"StartTime\": 1743143686.1808505, \"EndTime\": 1743143687.62685, \"Dimensions\": {\"Algorithm\": \"RandomCutForestModel\", \"Host\": \"UNKNOWN\", \"Operation\": \"scoring\"}, \"Metrics\": {\"evaluate.time\": {\"sum\": 1423.8581657409668, \"count\": 1, \"min\": 1423.8581657409668, \"max\": 1423.8581657409668}}}\u001b[0m\n",
      "\u001b[34m#metrics {\"StartTime\": 1743143687.6269314, \"EndTime\": 1743143687.6317515, \"Dimensions\": {\"Algorithm\": \"RandomCutForestModel\", \"Host\": \"UNKNOWN\", \"Operation\": \"scoring\"}, \"Metrics\": {\"csv.encoder.time\": {\"sum\": 4.653215408325195, \"count\": 1, \"min\": 4.653215408325195, \"max\": 4.653215408325195}, \"invocations.count\": {\"sum\": 1.0, \"count\": 1, \"min\": 1, \"max\": 1}}}\u001b[0m\n",
      "\u001b[35m#metrics {\"StartTime\": 1743143686.1808505, \"EndTime\": 1743143687.62685, \"Dimensions\": {\"Algorithm\": \"RandomCutForestModel\", \"Host\": \"UNKNOWN\", \"Operation\": \"scoring\"}, \"Metrics\": {\"evaluate.time\": {\"sum\": 1423.8581657409668, \"count\": 1, \"min\": 1423.8581657409668, \"max\": 1423.8581657409668}}}\u001b[0m\n",
      "\u001b[35m#metrics {\"StartTime\": 1743143687.6269314, \"EndTime\": 1743143687.6317515, \"Dimensions\": {\"Algorithm\": \"RandomCutForestModel\", \"Host\": \"UNKNOWN\", \"Operation\": \"scoring\"}, \"Metrics\": {\"csv.encoder.time\": {\"sum\": 4.653215408325195, \"count\": 1, \"min\": 4.653215408325195, \"max\": 4.653215408325195}, \"invocations.count\": {\"sum\": 1.0, \"count\": 1, \"min\": 1, \"max\": 1}}}\u001b[0m\n",
      "\n"
     ]
    }
   ],
   "source": [
    "get_prediction(model_path=model_path, feature_s3_path=feature_s3_path, output_path=output_path)"
   ]
  },
  {
   "cell_type": "code",
   "execution_count": null,
   "id": "1ba7ccef-830e-473e-abe3-58c89d252834",
   "metadata": {},
   "outputs": [],
   "source": []
  },
  {
   "cell_type": "code",
   "execution_count": null,
   "id": "8511f899-0a52-4b69-93e3-ca87edbb93ec",
   "metadata": {},
   "outputs": [],
   "source": []
  },
  {
   "cell_type": "code",
   "execution_count": null,
   "id": "4bd5e7e4-b185-406a-9a8d-dee02b97174e",
   "metadata": {},
   "outputs": [],
   "source": []
  },
  {
   "cell_type": "code",
   "execution_count": null,
   "id": "51abed91-e5db-46ca-a6bc-31232825cfd4",
   "metadata": {},
   "outputs": [],
   "source": []
  }
 ],
 "metadata": {
  "kernelspec": {
   "display_name": "Python 3 (ipykernel)",
   "language": "python",
   "name": "python3"
  },
  "language_info": {
   "codemirror_mode": {
    "name": "ipython",
    "version": 3
   },
   "file_extension": ".py",
   "mimetype": "text/x-python",
   "name": "python",
   "nbconvert_exporter": "python",
   "pygments_lexer": "ipython3",
   "version": "3.11.11"
  }
 },
 "nbformat": 4,
 "nbformat_minor": 5
}
